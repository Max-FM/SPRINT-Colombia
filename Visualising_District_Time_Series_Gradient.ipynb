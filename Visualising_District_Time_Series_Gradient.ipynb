{
  "nbformat": 4,
  "nbformat_minor": 0,
  "metadata": {
    "colab": {
      "name": "Visualising_District_Time_Series_Gradient.ipynb",
      "provenance": [],
      "mount_file_id": "1J1zUicGZ3rFjTMSWvoIREwE0q6wh9nVy",
      "authorship_tag": "ABX9TyOeBzDv8NQGZhMVU5ifq2Di",
      "include_colab_link": true
    },
    "kernelspec": {
      "name": "python3",
      "display_name": "Python 3"
    }
  },
  "cells": [
    {
      "cell_type": "markdown",
      "metadata": {
        "id": "view-in-github",
        "colab_type": "text"
      },
      "source": [
        "<a href=\"https://colab.research.google.com/github/Max-FM/SPRINT-Colombia/blob/main/Visualising_District_Time_Series_Gradient.ipynb\" target=\"_parent\"><img src=\"https://colab.research.google.com/assets/colab-badge.svg\" alt=\"Open In Colab\"/></a>"
      ]
    },
    {
      "cell_type": "markdown",
      "metadata": {
        "id": "vSbZMzk_GZFA"
      },
      "source": [
        "# Visualising the Gradient of Time Series Data for Each District"
      ]
    },
    {
      "cell_type": "markdown",
      "metadata": {
        "id": "95uhcVyOTaby"
      },
      "source": [
        "## Installing/Upgrading Packages"
      ]
    },
    {
      "cell_type": "code",
      "metadata": {
        "id": "iDureWO-w3Zx"
      },
      "source": [
        "%%capture\n",
        "\n",
        "!pip install plotly --upgrade\n",
        "\n",
        "# Installing Orca - required to save to png using Google Colab.\n",
        "!wget https://github.com/plotly/orca/releases/download/v1.2.1/orca-1.2.1-x86_64.AppImage -O /usr/local/bin/orca\n",
        "!chmod +x /usr/local/bin/orca\n",
        "!apt-get install xvfb libgtk2.0-0 libgconf-2-4"
      ],
      "execution_count": 1,
      "outputs": []
    },
    {
      "cell_type": "markdown",
      "metadata": {
        "id": "2-tmGMG6Tm1-"
      },
      "source": [
        "##Import Packages"
      ]
    },
    {
      "cell_type": "code",
      "metadata": {
        "id": "aboDmsOCumFK"
      },
      "source": [
        "import numpy as np\n",
        "import pandas as pd\n",
        "import plotly.graph_objs as go\n",
        "from plotly.subplots import make_subplots"
      ],
      "execution_count": 2,
      "outputs": []
    },
    {
      "cell_type": "markdown",
      "metadata": {
        "id": "euNNcpD3m56Y"
      },
      "source": [
        "##Importing Table of Extreme Weather Data"
      ]
    },
    {
      "cell_type": "code",
      "metadata": {
        "id": "NfFQ1PA_Atsl",
        "outputId": "45ed6d16-d494-44a7-d892-842bc3ad9b7f",
        "colab": {
          "base_uri": "https://localhost:8080/",
          "height": 1000
        }
      },
      "source": [
        "extreme_weather_table = pd.read_excel('/content/drive/Shared drives/Colombia SPRINT/Test Districts/Colombia extreme weather in test districts.xlsx')\n",
        "\n",
        "# Filling in empty values for dates.\n",
        "extreme_weather_table['Day'].fillna(1, inplace=True)\n",
        "extreme_weather_table['Month'].fillna(1, inplace=True)\n",
        "extreme_weather_table['End Day'].fillna(1, inplace=True)\n",
        "extreme_weather_table['End Month'].fillna(1, inplace=True)\n",
        "\n",
        "# Dealing with duplicate dates.\n",
        "extreme_weather_table.loc[0, 'End Year'] = 1999 # Assuming 1998 El Nino drought lasts about a year. \n",
        "extreme_weather_table.loc[0, 'End Day'] = 26 # Assuming 1998 El Nino drought lasts about a year. \n",
        "extreme_weather_table.loc[31, 'End Month'] = 7 # Assuming Jun 2020 El flood lasts about a month. \n",
        "\n",
        "# Converting date columns into a single datetime column.\n",
        "extreme_weather_table['Start_Datetime'] = pd.to_datetime(extreme_weather_table['Start Year'].astype(str) + '-' +\n",
        "                                          extreme_weather_table['Month'].astype(int).astype(str) + '-' +\n",
        "                                          extreme_weather_table['Day'].astype(int).astype(str))\n",
        "\n",
        "extreme_weather_table['End_Datetime'] = pd.to_datetime(extreme_weather_table['End Year'].astype(str) + '-' +\n",
        "                                        extreme_weather_table['End Month'].astype(int).astype(str) + '-' +\n",
        "                                        extreme_weather_table['End Day'].astype(int).astype(str))\n",
        "\n",
        "# Adding in missing events.\n",
        "extreme_weather_table = extreme_weather_table.append({'Disaster': 'Drought', \n",
        "                                                     'Start_Datetime': pd.to_datetime('2009-01-01'), \n",
        "                                                     'End_Datetime': pd.to_datetime('2010-01-01')},\n",
        "                                                     ignore_index=True) \\\n",
        "                                             .sort_values(by='Start_Datetime') \\\n",
        "                                             .reset_index() # 2009 El Nino drought.\n",
        "\n",
        "extreme_weather_table[['Disaster', 'Start_Datetime', 'End_Datetime']]"
      ],
      "execution_count": 3,
      "outputs": [
        {
          "output_type": "execute_result",
          "data": {
            "text/html": [
              "<div>\n",
              "<style scoped>\n",
              "    .dataframe tbody tr th:only-of-type {\n",
              "        vertical-align: middle;\n",
              "    }\n",
              "\n",
              "    .dataframe tbody tr th {\n",
              "        vertical-align: top;\n",
              "    }\n",
              "\n",
              "    .dataframe thead th {\n",
              "        text-align: right;\n",
              "    }\n",
              "</style>\n",
              "<table border=\"1\" class=\"dataframe\">\n",
              "  <thead>\n",
              "    <tr style=\"text-align: right;\">\n",
              "      <th></th>\n",
              "      <th>Disaster</th>\n",
              "      <th>Start_Datetime</th>\n",
              "      <th>End_Datetime</th>\n",
              "    </tr>\n",
              "  </thead>\n",
              "  <tbody>\n",
              "    <tr>\n",
              "      <th>0</th>\n",
              "      <td>Drought</td>\n",
              "      <td>1998-01-01</td>\n",
              "      <td>1999-01-26</td>\n",
              "    </tr>\n",
              "    <tr>\n",
              "      <th>1</th>\n",
              "      <td>Flood</td>\n",
              "      <td>1999-01-10</td>\n",
              "      <td>1999-05-19</td>\n",
              "    </tr>\n",
              "    <tr>\n",
              "      <th>2</th>\n",
              "      <td>Earthquake</td>\n",
              "      <td>1999-01-25</td>\n",
              "      <td>1999-01-25</td>\n",
              "    </tr>\n",
              "    <tr>\n",
              "      <th>3</th>\n",
              "      <td>Flood</td>\n",
              "      <td>1999-10-28</td>\n",
              "      <td>1999-12-31</td>\n",
              "    </tr>\n",
              "    <tr>\n",
              "      <th>4</th>\n",
              "      <td>Flood</td>\n",
              "      <td>2000-05-18</td>\n",
              "      <td>2000-05-24</td>\n",
              "    </tr>\n",
              "    <tr>\n",
              "      <th>5</th>\n",
              "      <td>Wildfire</td>\n",
              "      <td>2001-08-01</td>\n",
              "      <td>2001-08-01</td>\n",
              "    </tr>\n",
              "    <tr>\n",
              "      <th>6</th>\n",
              "      <td>Drought</td>\n",
              "      <td>2002-01-01</td>\n",
              "      <td>2003-01-01</td>\n",
              "    </tr>\n",
              "    <tr>\n",
              "      <th>7</th>\n",
              "      <td>Flood</td>\n",
              "      <td>2002-04-24</td>\n",
              "      <td>2002-04-29</td>\n",
              "    </tr>\n",
              "    <tr>\n",
              "      <th>8</th>\n",
              "      <td>Flood</td>\n",
              "      <td>2003-08-01</td>\n",
              "      <td>2003-12-01</td>\n",
              "    </tr>\n",
              "    <tr>\n",
              "      <th>9</th>\n",
              "      <td>Flood</td>\n",
              "      <td>2004-01-01</td>\n",
              "      <td>2004-06-28</td>\n",
              "    </tr>\n",
              "    <tr>\n",
              "      <th>10</th>\n",
              "      <td>Drought</td>\n",
              "      <td>2004-01-01</td>\n",
              "      <td>2005-01-01</td>\n",
              "    </tr>\n",
              "    <tr>\n",
              "      <th>11</th>\n",
              "      <td>Flood</td>\n",
              "      <td>2005-04-12</td>\n",
              "      <td>2005-05-07</td>\n",
              "    </tr>\n",
              "    <tr>\n",
              "      <th>12</th>\n",
              "      <td>Flood</td>\n",
              "      <td>2005-09-15</td>\n",
              "      <td>2005-11-17</td>\n",
              "    </tr>\n",
              "    <tr>\n",
              "      <th>13</th>\n",
              "      <td>Flood</td>\n",
              "      <td>2006-01-01</td>\n",
              "      <td>2006-04-27</td>\n",
              "    </tr>\n",
              "    <tr>\n",
              "      <th>14</th>\n",
              "      <td>Drought</td>\n",
              "      <td>2006-01-01</td>\n",
              "      <td>2007-01-01</td>\n",
              "    </tr>\n",
              "    <tr>\n",
              "      <th>15</th>\n",
              "      <td>Flood</td>\n",
              "      <td>2007-10-20</td>\n",
              "      <td>2007-10-26</td>\n",
              "    </tr>\n",
              "    <tr>\n",
              "      <th>16</th>\n",
              "      <td>Flood</td>\n",
              "      <td>2008-01-01</td>\n",
              "      <td>2008-05-19</td>\n",
              "    </tr>\n",
              "    <tr>\n",
              "      <th>17</th>\n",
              "      <td>Flood</td>\n",
              "      <td>2008-11-16</td>\n",
              "      <td>2009-01-12</td>\n",
              "    </tr>\n",
              "    <tr>\n",
              "      <th>18</th>\n",
              "      <td>Drought</td>\n",
              "      <td>2009-01-01</td>\n",
              "      <td>2010-01-01</td>\n",
              "    </tr>\n",
              "    <tr>\n",
              "      <th>19</th>\n",
              "      <td>Wildfire</td>\n",
              "      <td>2010-01-01</td>\n",
              "      <td>2010-04-06</td>\n",
              "    </tr>\n",
              "    <tr>\n",
              "      <th>20</th>\n",
              "      <td>Flood</td>\n",
              "      <td>2010-10-30</td>\n",
              "      <td>2011-01-12</td>\n",
              "    </tr>\n",
              "    <tr>\n",
              "      <th>21</th>\n",
              "      <td>Flood</td>\n",
              "      <td>2011-02-10</td>\n",
              "      <td>2011-06-05</td>\n",
              "    </tr>\n",
              "    <tr>\n",
              "      <th>22</th>\n",
              "      <td>Flood</td>\n",
              "      <td>2011-09-01</td>\n",
              "      <td>2011-12-31</td>\n",
              "    </tr>\n",
              "    <tr>\n",
              "      <th>23</th>\n",
              "      <td>Flood</td>\n",
              "      <td>2012-03-15</td>\n",
              "      <td>2012-05-14</td>\n",
              "    </tr>\n",
              "    <tr>\n",
              "      <th>24</th>\n",
              "      <td>Earthquake</td>\n",
              "      <td>2013-02-09</td>\n",
              "      <td>2013-02-09</td>\n",
              "    </tr>\n",
              "    <tr>\n",
              "      <th>25</th>\n",
              "      <td>Flood</td>\n",
              "      <td>2013-09-15</td>\n",
              "      <td>2013-12-01</td>\n",
              "    </tr>\n",
              "    <tr>\n",
              "      <th>26</th>\n",
              "      <td>Drought</td>\n",
              "      <td>2015-08-01</td>\n",
              "      <td>2016-02-01</td>\n",
              "    </tr>\n",
              "    <tr>\n",
              "      <th>27</th>\n",
              "      <td>Storm</td>\n",
              "      <td>2016-09-20</td>\n",
              "      <td>2016-09-23</td>\n",
              "    </tr>\n",
              "    <tr>\n",
              "      <th>28</th>\n",
              "      <td>Flood</td>\n",
              "      <td>2017-03-17</td>\n",
              "      <td>2017-05-16</td>\n",
              "    </tr>\n",
              "    <tr>\n",
              "      <th>29</th>\n",
              "      <td>Flood</td>\n",
              "      <td>2017-12-01</td>\n",
              "      <td>2018-01-07</td>\n",
              "    </tr>\n",
              "    <tr>\n",
              "      <th>30</th>\n",
              "      <td>Drought</td>\n",
              "      <td>2018-01-01</td>\n",
              "      <td>2020-01-01</td>\n",
              "    </tr>\n",
              "    <tr>\n",
              "      <th>31</th>\n",
              "      <td>Flood</td>\n",
              "      <td>2019-02-20</td>\n",
              "      <td>2019-02-26</td>\n",
              "    </tr>\n",
              "    <tr>\n",
              "      <th>32</th>\n",
              "      <td>Flood</td>\n",
              "      <td>2020-06-10</td>\n",
              "      <td>2020-07-10</td>\n",
              "    </tr>\n",
              "  </tbody>\n",
              "</table>\n",
              "</div>"
            ],
            "text/plain": [
              "      Disaster Start_Datetime End_Datetime\n",
              "0      Drought     1998-01-01   1999-01-26\n",
              "1        Flood     1999-01-10   1999-05-19\n",
              "2   Earthquake     1999-01-25   1999-01-25\n",
              "3        Flood     1999-10-28   1999-12-31\n",
              "4        Flood     2000-05-18   2000-05-24\n",
              "5     Wildfire     2001-08-01   2001-08-01\n",
              "6      Drought     2002-01-01   2003-01-01\n",
              "7        Flood     2002-04-24   2002-04-29\n",
              "8        Flood     2003-08-01   2003-12-01\n",
              "9        Flood     2004-01-01   2004-06-28\n",
              "10     Drought     2004-01-01   2005-01-01\n",
              "11       Flood     2005-04-12   2005-05-07\n",
              "12       Flood     2005-09-15   2005-11-17\n",
              "13       Flood     2006-01-01   2006-04-27\n",
              "14     Drought     2006-01-01   2007-01-01\n",
              "15       Flood     2007-10-20   2007-10-26\n",
              "16       Flood     2008-01-01   2008-05-19\n",
              "17       Flood     2008-11-16   2009-01-12\n",
              "18     Drought     2009-01-01   2010-01-01\n",
              "19    Wildfire     2010-01-01   2010-04-06\n",
              "20       Flood     2010-10-30   2011-01-12\n",
              "21       Flood     2011-02-10   2011-06-05\n",
              "22       Flood     2011-09-01   2011-12-31\n",
              "23       Flood     2012-03-15   2012-05-14\n",
              "24  Earthquake     2013-02-09   2013-02-09\n",
              "25       Flood     2013-09-15   2013-12-01\n",
              "26     Drought     2015-08-01   2016-02-01\n",
              "27       Storm     2016-09-20   2016-09-23\n",
              "28       Flood     2017-03-17   2017-05-16\n",
              "29       Flood     2017-12-01   2018-01-07\n",
              "30     Drought     2018-01-01   2020-01-01\n",
              "31       Flood     2019-02-20   2019-02-26\n",
              "32       Flood     2020-06-10   2020-07-10"
            ]
          },
          "metadata": {
            "tags": []
          },
          "execution_count": 3
        }
      ]
    },
    {
      "cell_type": "markdown",
      "metadata": {
        "id": "ZWdp81_IWnKE"
      },
      "source": [
        "## Define Import Functions for CSV Data\n",
        "\n",
        "A series of functions to import CSV data aquired from the [Colombia Farms Time Series Data](https://colab.research.google.com/drive/1-_YUqAHe102ILURNULWhR1eBCMyB050-?usp=sharing) IPython notebook. I haven't made a generalied import function as each the datasets are not formatted uniformly."
      ]
    },
    {
      "cell_type": "code",
      "metadata": {
        "id": "G7Lh7FTt7YfM"
      },
      "source": [
        "def import_MODIS_TERRA_AQUA(district):\n",
        "    directory = f'/content/drive/Shared drives/Colombia SPRINT/Test Districts/{district}/CSV Data'    \n",
        "    \n",
        "    # Imports and concatinates NDVI/EVI data for both the MODIS TERRA and AQUA\n",
        "    # satellites.\n",
        "    satellites = ['TERRA', 'AQUA']\n",
        "    df_list = [pd.read_csv(f'{directory}/{district}_MODIS_16D_{satellite}_VEG.csv', index_col=0) for satellite in satellites]\n",
        "    df = pd.concat(df_list)\n",
        "\n",
        "    # Convert timestap to datetime object.\n",
        "    df['Timestamp'] = df['Timestamp'].apply(pd.to_datetime)\n",
        "\n",
        "    # Rescaling data columns from large integers to correct floating point value.\n",
        "    columns_of_interest = ['EVI_median', 'EVI_stdDev','NDVI_median', 'NDVI_stdDev']\n",
        "    df[columns_of_interest] *= 0.0001\n",
        "\n",
        "    df = calculate_time_series_derivative(df, 'median')\n",
        "\n",
        "    return df\n",
        "\n",
        "def import_MODIS_COMBINED(district):\n",
        "    directory = f'/content/drive/Shared drives/Colombia SPRINT/Test Districts/{district}/CSV Data'\n",
        "    df = pd.read_csv(f'{directory}/{district}_MODIS_16D_COMBINED_NDVI.csv', index_col=0)\n",
        "    \n",
        "    df['Timestamp'] = df['Timestamp'].apply(pd.to_datetime)\n",
        "    df.index = df['Timestamp']\n",
        "\n",
        "    df = calculate_time_series_derivative(df, 'median')\n",
        "\n",
        "    return df\n",
        "\n",
        "\n",
        "def import_CHIRPS(district):\n",
        "    directory = f'/content/drive/Shared drives/Colombia SPRINT/Test Districts/{district}/CSV Data'\n",
        "\n",
        "    df = pd.read_csv(f'{directory}/{district}_CHIRPS_DAILY.csv', index_col=0)\n",
        "    df['Timestamp'] = df['Timestamp'].apply(pd.to_datetime)\n",
        "    df.index = df['Timestamp']\n",
        "\n",
        "    df = calculate_time_series_derivative(df, 'median')\n",
        "\n",
        "    return df\n",
        "\n",
        "def import_PERSIANN(district):\n",
        "    directory = f'/content/drive/Shared drives/Colombia SPRINT/Test Districts/{district}/CSV Data'\n",
        "\n",
        "    df = pd.read_csv(f'{directory}/{district}_PERSIANN_DAILY.csv', index_col=0)\n",
        "    df['Timestamp'] = df['Timestamp'].apply(pd.to_datetime)\n",
        "    df.index = df['Timestamp']\n",
        "    \n",
        "    df = calculate_time_series_derivative(df, 'median')\n",
        "\n",
        "    return df\n",
        "\n",
        "def import_TerraClimate(district):\n",
        "    directory = f'/content/drive/Shared drives/Colombia SPRINT/Test Districts/{district}/CSV Data'\n",
        "\n",
        "    df = pd.read_csv(f'{directory}/{district}_TERRA_CLIMATE_MONTHLY.csv', index_col=0)\n",
        "    df['Timestamp'] = df['Timestamp'].apply(pd.to_datetime)\n",
        "    df.index = df['Timestamp']\n",
        "\n",
        "    # Rescaling values from large integers into correct floating point values.\n",
        "    columns_1 = ['aet_median', 'aet_stdDev', \n",
        "                 'def_median', 'def_stdDev', \n",
        "                 'pet_median', 'pet_stdDev', \n",
        "                 'soil_median', 'soil_stdDev', \n",
        "                 'srad_median', 'srad_stdDev', \n",
        "                 'tmmn_median', 'tmmn_stdDev', \n",
        "                 'tmmx_median', 'tmmx_stdDev']\n",
        "    \n",
        "    df[columns_1] *= 0.1\n",
        "    \n",
        "    columns_2 = ['vpd_median', 'vpd_stdDev',\n",
        "                 'vs_median', 'vs_stdDev']\n",
        "    df[columns_2] *= 0.01\n",
        "\n",
        "    # In the documentation for TerraClimate monthly the pdsi scaling relation is\n",
        "    # given as 0.01, however this puts the min/max values to be between \n",
        "    # approximately -40 and 40 whereas is should be between -4 and 4. So have\n",
        "    # set the scaling factor to 0.001 instead.\n",
        "    columns_3 = ['pdsi_median', 'pdsi_stdDev',\n",
        "                 'vap_median', 'vap_stdDev']\n",
        "    df[columns_3] *= 0.001\n",
        "\n",
        "    df = calculate_time_series_derivative(df, 'median')\n",
        "    \n",
        "    return df\n",
        "\n",
        "def import_IMERG(district):\n",
        "    directory = f'/content/drive/Shared drives/Colombia SPRINT/Test Districts/{district}/CSV Data'\n",
        "\n",
        "    df = pd.read_csv(f'{directory}/{district}_IMERG_MONTHLY.csv', index_col=0)\n",
        "    df['Timestamp'] = df['Timestamp'].apply(pd.to_datetime)\n",
        "    df.index = df['Timestamp']\n",
        "\n",
        "    df = calculate_time_series_derivative(df, 'median')\n",
        "\n",
        "    return df\n",
        "\n",
        "# Calculates the time derivative for an aggregated quantity.\n",
        "def calculate_time_series_derivative(dataframe, aggregation):\n",
        "    filtered = dataframe.filter(like=f'{aggregation}', axis=1)\n",
        "\n",
        "    for column_name, column_data in filtered.iteritems():\n",
        "        dataframe[f'{column_name}_dt'] = pd.Series(np.gradient(column_data.values), column_data.index, name='slope')\n",
        "\n",
        "    return dataframe"
      ],
      "execution_count": 4,
      "outputs": []
    },
    {
      "cell_type": "markdown",
      "metadata": {
        "id": "yfBONrt__2QH"
      },
      "source": [
        "## Define Timeseries Plotting Function"
      ]
    },
    {
      "cell_type": "code",
      "metadata": {
        "id": "esWPNBW89oDE"
      },
      "source": [
        "def plot_interactive_time_series(district):\n",
        "    MODIS_AQUA_TERRA_df = import_MODIS_TERRA_AQUA(district)\n",
        "    CHIRPS_df = import_CHIRPS(district)\n",
        "    PERSIANN_df = import_PERSIANN(district)\n",
        "    TerraClimate_df = import_TerraClimate(district)\n",
        "\n",
        "    fig = make_subplots(rows=3, cols=1, \n",
        "                        shared_xaxes=True, \n",
        "                        vertical_spacing=0.02,\n",
        "                        y_title='$\\partial/\\partial t$')\n",
        "\n",
        "    ### Plotting MODIS 16D NDVI data ###\n",
        "    nameDict ={'MODIS_16D_AQUA_VEG': 'Modis Aqua 250m 16 Day NDVI',\n",
        "               'MODIS_16D_TERRA_VEG': 'Modis Terra 250m 16 Day NDVI'}\n",
        "\n",
        "    # Grouping NDVI data by satellitle (TERRA and AQUA) and plotting.\n",
        "    for collection_name, collection in MODIS_AQUA_TERRA_df.groupby('Image_Collection'):\n",
        "\n",
        "        # Create scatter plot.\n",
        "        NDVI_scatter = go.Scatter(\n",
        "                                  x=collection['Timestamp'], \n",
        "                                  y=collection['NDVI_median_dt'], \n",
        "                                  name=nameDict[collection_name], \n",
        "                                  mode='lines+markers'\n",
        "                                  )\n",
        "        # Add scatter plot to figure.\n",
        "        fig.add_trace(NDVI_scatter, row=1, col=1)\n",
        "\n",
        "    ### Plotting CHIRPS Precipitation data ###\n",
        "    CHIRPS_scatter = go.Scatter(\n",
        "                                x=CHIRPS_df['precipitation_median_dt'].resample('14D').median().index, \n",
        "                                y=CHIRPS_df['precipitation_median_dt'].resample('14D').median(), \n",
        "                                marker_color='green',\n",
        "                                name='CHIRPS Precipitation - 14 Day Rolling Median (mm)', \n",
        "                                mode='lines+markers'\n",
        "                                )\n",
        "\n",
        "    fig.add_trace(CHIRPS_scatter, row=2, col=1)\n",
        "\n",
        "    ### Plotting PERSIANN Precipitation data ###\n",
        "    PERSIANN_scatter = go.Scatter(\n",
        "                                  x=PERSIANN_df['precipitation_median_dt'].resample('14D').median().index, \n",
        "                                  y=PERSIANN_df['precipitation_median_dt'].resample('14D').median(), \n",
        "                                  marker_color='black',\n",
        "                                  name='PERSIANN Precipitation - 14 Day Rolling Median (mm)', \n",
        "                                  mode='lines+markers'\n",
        "                                  )\n",
        "  \n",
        "    fig.add_trace(PERSIANN_scatter, row=2, col=1)\n",
        "\n",
        "    ### Plotting TerraClimate PDSI data ###\n",
        "    TerraClimate_PDSI_Scatter = go.Scatter(\n",
        "                                           x=TerraClimate_df.index, \n",
        "                                           y=TerraClimate_df['pdsi_median_dt'], \n",
        "                                           marker_color='purple',\n",
        "                                           name='TerraClimate PDSI', \n",
        "                                           mode='lines+markers'\n",
        "                                          )\n",
        "  \n",
        "    fig.add_trace(TerraClimate_PDSI_Scatter, row=3, col=1)\n",
        "\n",
        "\n",
        "    ### Shading plot background to correspond to a disaster. ###\n",
        "    disasterColourDict = {'Drought': 'orange',\n",
        "                          'Earthquake': 'brown',\n",
        "                          'Flood': 'darkturquoise', \n",
        "                          'Wildfire': 'maroon',\n",
        "                          'Storm': 'grey'}\n",
        "    \n",
        "    # Generating a shape to be used as background shading for each disaster \n",
        "    # using list comprehension.\n",
        "    shapes=[\n",
        "            dict(type=\"rect\",\n",
        "                 yref=\"paper\",\n",
        "                 x0=disaster['Start_Datetime'].strftime('%Y-%m-%d'), \n",
        "                 y0=0,\n",
        "                 x1=disaster['End_Datetime'].strftime('%Y-%m-%d'),\n",
        "                 y1=1,\n",
        "                 fillcolor=disasterColourDict[disaster['Disaster']],\n",
        "                 opacity=1,\n",
        "                 layer=\"below\",\n",
        "                 line_width=0.2) \\\n",
        "                 for index, disaster in extreme_weather_table.iterrows()\n",
        "           ]\n",
        "    \n",
        "    # Add shapes to figure.\n",
        "    fig.update_layout(shapes=shapes)\n",
        "\n",
        "    ### Updating axes, title and legend. ###\n",
        "    # Fixing y-axis range.\n",
        "    fig.update_yaxes(fixedrange=True)  \n",
        "    # Adding title.\n",
        "    fig.update_layout(title=f'{district}')\n",
        "    # Updating legend layout.\n",
        "    fig.update_layout(legend=dict(\n",
        "                                  orientation=\"h\"\n",
        "                                 ))        \n",
        "\n",
        "    return fig"
      ],
      "execution_count": 5,
      "outputs": []
    },
    {
      "cell_type": "markdown",
      "metadata": {
        "id": "R4DXYt-MT1TG"
      },
      "source": [
        "## Creating a Test Interactive Plot using Plotly"
      ]
    },
    {
      "cell_type": "code",
      "metadata": {
        "id": "3KVFo6o9vfKO",
        "outputId": "31c352d2-55c2-48e0-db4b-d1732fbc542f",
        "colab": {
          "base_uri": "https://localhost:8080/",
          "height": 542
        }
      },
      "source": [
        "district = 'Dosquebradas'\n",
        "\n",
        "fig = plot_interactive_time_series(district)\n",
        "\n",
        "fig"
      ],
      "execution_count": 6,
      "outputs": [
        {
          "output_type": "display_data",
          "data": {
            "text/html": [
              "<html>\n",
              "<head><meta charset=\"utf-8\" /></head>\n",
              "<body>\n",
              "    <div>            <script src=\"https://cdnjs.cloudflare.com/ajax/libs/mathjax/2.7.5/MathJax.js?config=TeX-AMS-MML_SVG\"></script><script type=\"text/javascript\">if (window.MathJax) {MathJax.Hub.Config({SVG: {font: \"STIX-Web\"}});}</script>                <script type=\"text/javascript\">window.PlotlyConfig = {MathJaxConfig: 'local'};</script>\n",
              "        <script src=\"https://cdn.plot.ly/plotly-latest.min.js\"></script>                <div id=\"9b23c1eb-e796-4f5a-acf8-eb9e1bd5bdcf\" class=\"plotly-graph-div\" style=\"height:525px; width:100%;\"></div>            <script type=\"text/javascript\">                                    window.PLOTLYENV=window.PLOTLYENV || {};                                    if (document.getElementById(\"9b23c1eb-e796-4f5a-acf8-eb9e1bd5bdcf\")) {                    Plotly.newPlot(                        \"9b23c1eb-e796-4f5a-acf8-eb9e1bd5bdcf\",                        [{\"mode\": \"lines+markers\", \"name\": \"Modis Aqua 250m 16 Day NDVI\", \"type\": \"scatter\", \"x\": [\"2002-07-04T00:00:00\", \"2002-07-20T00:00:00\", \"2002-08-05T00:00:00\", \"2002-08-21T00:00:00\", \"2002-09-06T00:00:00\", \"2002-09-22T00:00:00\", \"2002-10-08T00:00:00\", \"2002-10-24T00:00:00\", \"2002-11-09T00:00:00\", \"2002-11-25T00:00:00\", \"2002-12-11T00:00:00\", \"2002-12-27T00:00:00\", \"2003-01-09T00:00:00\", \"2003-01-25T00:00:00\", \"2003-02-10T00:00:00\", \"2003-02-26T00:00:00\", \"2003-03-14T00:00:00\", \"2003-03-30T00:00:00\", \"2003-04-15T00:00:00\", \"2003-05-01T00:00:00\", \"2003-05-17T00:00:00\", \"2003-06-02T00:00:00\", \"2003-06-18T00:00:00\", \"2003-07-04T00:00:00\", \"2003-07-20T00:00:00\", \"2003-08-05T00:00:00\", \"2003-08-21T00:00:00\", \"2003-09-06T00:00:00\", \"2003-09-22T00:00:00\", \"2003-10-08T00:00:00\", \"2003-10-24T00:00:00\", \"2003-11-09T00:00:00\", \"2003-11-25T00:00:00\", \"2003-12-11T00:00:00\", \"2003-12-27T00:00:00\", \"2004-01-09T00:00:00\", \"2004-01-25T00:00:00\", \"2004-02-10T00:00:00\", \"2004-02-26T00:00:00\", \"2004-03-13T00:00:00\", \"2004-03-29T00:00:00\", \"2004-04-14T00:00:00\", \"2004-04-30T00:00:00\", \"2004-05-16T00:00:00\", \"2004-06-01T00:00:00\", \"2004-06-17T00:00:00\", \"2004-07-03T00:00:00\", \"2004-07-19T00:00:00\", \"2004-08-04T00:00:00\", \"2004-08-20T00:00:00\", \"2004-09-05T00:00:00\", \"2004-09-21T00:00:00\", \"2004-10-07T00:00:00\", \"2004-10-23T00:00:00\", \"2004-11-08T00:00:00\", \"2004-11-24T00:00:00\", \"2004-12-10T00:00:00\", \"2004-12-26T00:00:00\", \"2005-01-09T00:00:00\", \"2005-01-25T00:00:00\", \"2005-02-10T00:00:00\", \"2005-02-26T00:00:00\", \"2005-03-14T00:00:00\", \"2005-03-30T00:00:00\", \"2005-04-15T00:00:00\", \"2005-05-01T00:00:00\", \"2005-05-17T00:00:00\", \"2005-06-02T00:00:00\", \"2005-06-18T00:00:00\", \"2005-07-04T00:00:00\", \"2005-07-20T00:00:00\", \"2005-08-05T00:00:00\", \"2005-08-21T00:00:00\", \"2005-09-06T00:00:00\", \"2005-09-22T00:00:00\", \"2005-10-08T00:00:00\", \"2005-10-24T00:00:00\", \"2005-11-09T00:00:00\", \"2005-11-25T00:00:00\", \"2005-12-11T00:00:00\", \"2005-12-27T00:00:00\", \"2006-01-09T00:00:00\", \"2006-01-25T00:00:00\", \"2006-02-10T00:00:00\", \"2006-02-26T00:00:00\", \"2006-03-14T00:00:00\", \"2006-03-30T00:00:00\", \"2006-04-15T00:00:00\", \"2006-05-01T00:00:00\", \"2006-05-17T00:00:00\", \"2006-06-02T00:00:00\", \"2006-06-18T00:00:00\", \"2006-07-04T00:00:00\", \"2006-07-20T00:00:00\", \"2006-08-05T00:00:00\", \"2006-08-21T00:00:00\", \"2006-09-06T00:00:00\", \"2006-09-22T00:00:00\", \"2006-10-08T00:00:00\", \"2006-10-24T00:00:00\", \"2006-11-09T00:00:00\", \"2006-11-25T00:00:00\", \"2006-12-11T00:00:00\", \"2006-12-27T00:00:00\", \"2007-01-09T00:00:00\", \"2007-01-25T00:00:00\", \"2007-02-10T00:00:00\", \"2007-02-26T00:00:00\", \"2007-03-14T00:00:00\", \"2007-03-30T00:00:00\", \"2007-04-15T00:00:00\", \"2007-05-01T00:00:00\", \"2007-05-17T00:00:00\", \"2007-06-02T00:00:00\", \"2007-06-18T00:00:00\", \"2007-07-04T00:00:00\", \"2007-07-20T00:00:00\", \"2007-08-05T00:00:00\", \"2007-08-21T00:00:00\", \"2007-09-06T00:00:00\", \"2007-09-22T00:00:00\", \"2007-10-08T00:00:00\", \"2007-10-24T00:00:00\", \"2007-11-09T00:00:00\", \"2007-11-25T00:00:00\", \"2007-12-11T00:00:00\", \"2007-12-27T00:00:00\", \"2008-01-09T00:00:00\", \"2008-01-25T00:00:00\", \"2008-02-10T00:00:00\", \"2008-02-26T00:00:00\", \"2008-03-13T00:00:00\", \"2008-03-29T00:00:00\", \"2008-04-14T00:00:00\", \"2008-04-30T00:00:00\", \"2008-05-16T00:00:00\", \"2008-06-01T00:00:00\", \"2008-06-17T00:00:00\", \"2008-07-03T00:00:00\", \"2008-07-19T00:00:00\", \"2008-08-04T00:00:00\", \"2008-08-20T00:00:00\", \"2008-09-05T00:00:00\", \"2008-09-21T00:00:00\", \"2008-10-07T00:00:00\", \"2008-10-23T00:00:00\", \"2008-11-08T00:00:00\", \"2008-11-24T00:00:00\", \"2008-12-10T00:00:00\", \"2008-12-26T00:00:00\", \"2009-01-09T00:00:00\", \"2009-01-25T00:00:00\", \"2009-02-10T00:00:00\", \"2009-02-26T00:00:00\", \"2009-03-14T00:00:00\", \"2009-03-30T00:00:00\", \"2009-04-15T00:00:00\", \"2009-05-01T00:00:00\", \"2009-05-17T00:00:00\", \"2009-06-02T00:00:00\", \"2009-06-18T00:00:00\", \"2009-07-04T00:00:00\", \"2009-07-20T00:00:00\", \"2009-08-05T00:00:00\", \"2009-08-21T00:00:00\", \"2009-09-06T00:00:00\", \"2009-09-22T00:00:00\", \"2009-10-08T00:00:00\", \"2009-10-24T00:00:00\", \"2009-11-09T00:00:00\", \"2009-11-25T00:00:00\", \"2009-12-11T00:00:00\", \"2009-12-27T00:00:00\", \"2010-01-09T00:00:00\", \"2010-01-25T00:00:00\", \"2010-02-10T00:00:00\", \"2010-02-26T00:00:00\", \"2010-03-14T00:00:00\", \"2010-03-30T00:00:00\", \"2010-04-15T00:00:00\", \"2010-05-01T00:00:00\", \"2010-05-17T00:00:00\", \"2010-06-02T00:00:00\", \"2010-06-18T00:00:00\", \"2010-07-04T00:00:00\", \"2010-07-20T00:00:00\", \"2010-08-05T00:00:00\", \"2010-08-21T00:00:00\", \"2010-09-06T00:00:00\", \"2010-09-22T00:00:00\", \"2010-10-08T00:00:00\", \"2010-10-24T00:00:00\", \"2010-11-09T00:00:00\", \"2010-11-25T00:00:00\", \"2010-12-11T00:00:00\", \"2010-12-27T00:00:00\", \"2011-01-09T00:00:00\", \"2011-01-25T00:00:00\", \"2011-02-10T00:00:00\", \"2011-02-26T00:00:00\", \"2011-03-14T00:00:00\", \"2011-03-30T00:00:00\", \"2011-04-15T00:00:00\", \"2011-05-01T00:00:00\", \"2011-05-17T00:00:00\", \"2011-06-02T00:00:00\", \"2011-06-18T00:00:00\", \"2011-07-04T00:00:00\", \"2011-07-20T00:00:00\", \"2011-08-05T00:00:00\", \"2011-08-21T00:00:00\", \"2011-09-06T00:00:00\", \"2011-09-22T00:00:00\", \"2011-10-08T00:00:00\", \"2011-10-24T00:00:00\", \"2011-11-09T00:00:00\", \"2011-11-25T00:00:00\", \"2011-12-11T00:00:00\", \"2011-12-27T00:00:00\", \"2012-01-09T00:00:00\", \"2012-01-25T00:00:00\", \"2012-02-10T00:00:00\", \"2012-02-26T00:00:00\", \"2012-03-13T00:00:00\", \"2012-03-29T00:00:00\", \"2012-04-14T00:00:00\", \"2012-04-30T00:00:00\", \"2012-05-16T00:00:00\", \"2012-06-01T00:00:00\", \"2012-06-17T00:00:00\", \"2012-07-03T00:00:00\", \"2012-07-19T00:00:00\", \"2012-08-04T00:00:00\", \"2012-08-20T00:00:00\", \"2012-09-05T00:00:00\", \"2012-09-21T00:00:00\", \"2012-10-07T00:00:00\", \"2012-10-23T00:00:00\", \"2012-11-08T00:00:00\", \"2012-11-24T00:00:00\", \"2012-12-10T00:00:00\", \"2012-12-26T00:00:00\", \"2013-01-09T00:00:00\", \"2013-01-25T00:00:00\", \"2013-02-10T00:00:00\", \"2013-02-26T00:00:00\", \"2013-03-14T00:00:00\", \"2013-03-30T00:00:00\", \"2013-04-15T00:00:00\", \"2013-05-01T00:00:00\", \"2013-05-17T00:00:00\", \"2013-06-02T00:00:00\", \"2013-06-18T00:00:00\", \"2013-07-04T00:00:00\", \"2013-07-20T00:00:00\", \"2013-08-05T00:00:00\", \"2013-08-21T00:00:00\", \"2013-09-06T00:00:00\", \"2013-09-22T00:00:00\", \"2013-10-08T00:00:00\", \"2013-10-24T00:00:00\", \"2013-11-09T00:00:00\", \"2013-11-25T00:00:00\", \"2013-12-11T00:00:00\", \"2013-12-27T00:00:00\", \"2014-01-09T00:00:00\", \"2014-01-25T00:00:00\", \"2014-02-10T00:00:00\", \"2014-02-26T00:00:00\", \"2014-03-14T00:00:00\", \"2014-03-30T00:00:00\", \"2014-04-15T00:00:00\", \"2014-05-01T00:00:00\", \"2014-05-17T00:00:00\", \"2014-06-02T00:00:00\", \"2014-06-18T00:00:00\", \"2014-07-04T00:00:00\", \"2014-07-20T00:00:00\", \"2014-08-05T00:00:00\", \"2014-08-21T00:00:00\", \"2014-09-06T00:00:00\", \"2014-09-22T00:00:00\", \"2014-10-08T00:00:00\", \"2014-10-24T00:00:00\", \"2014-11-09T00:00:00\", \"2014-11-25T00:00:00\", \"2014-12-11T00:00:00\", \"2014-12-27T00:00:00\", \"2015-01-09T00:00:00\", \"2015-01-25T00:00:00\", \"2015-02-10T00:00:00\", \"2015-02-26T00:00:00\", \"2015-03-14T00:00:00\", \"2015-03-30T00:00:00\", \"2015-04-15T00:00:00\", \"2015-05-01T00:00:00\", \"2015-05-17T00:00:00\", \"2015-06-02T00:00:00\", \"2015-06-18T00:00:00\", \"2015-07-04T00:00:00\", \"2015-07-20T00:00:00\", \"2015-08-05T00:00:00\", \"2015-08-21T00:00:00\", \"2015-09-06T00:00:00\", \"2015-09-22T00:00:00\", \"2015-10-08T00:00:00\", \"2015-10-24T00:00:00\", \"2015-11-09T00:00:00\", \"2015-11-25T00:00:00\", \"2015-12-11T00:00:00\", \"2015-12-27T00:00:00\", \"2016-01-09T00:00:00\", \"2016-01-25T00:00:00\", \"2016-02-10T00:00:00\", \"2016-02-26T00:00:00\", \"2016-03-13T00:00:00\", \"2016-03-29T00:00:00\", \"2016-04-14T00:00:00\", \"2016-04-30T00:00:00\", \"2016-05-16T00:00:00\", \"2016-06-01T00:00:00\", \"2016-06-17T00:00:00\", \"2016-07-03T00:00:00\", \"2016-07-19T00:00:00\", \"2016-08-04T00:00:00\", \"2016-08-20T00:00:00\", \"2016-09-05T00:00:00\", \"2016-09-21T00:00:00\", \"2016-10-07T00:00:00\", \"2016-10-23T00:00:00\", \"2016-11-08T00:00:00\", \"2016-11-24T00:00:00\", \"2016-12-10T00:00:00\", \"2016-12-26T00:00:00\", \"2017-01-09T00:00:00\", \"2017-01-25T00:00:00\", \"2017-02-10T00:00:00\", \"2017-02-26T00:00:00\", \"2017-03-14T00:00:00\", \"2017-03-30T00:00:00\", \"2017-04-15T00:00:00\", \"2017-05-01T00:00:00\", \"2017-05-17T00:00:00\", \"2017-06-02T00:00:00\", \"2017-06-18T00:00:00\", \"2017-07-04T00:00:00\", \"2017-07-20T00:00:00\", \"2017-08-05T00:00:00\", \"2017-08-21T00:00:00\", \"2017-09-06T00:00:00\", \"2017-09-22T00:00:00\", \"2017-10-08T00:00:00\", \"2017-10-24T00:00:00\", \"2017-11-09T00:00:00\", \"2017-11-25T00:00:00\", \"2017-12-11T00:00:00\", \"2017-12-27T00:00:00\", \"2018-01-09T00:00:00\", \"2018-01-25T00:00:00\", \"2018-02-10T00:00:00\", \"2018-02-26T00:00:00\", \"2018-03-14T00:00:00\", \"2018-03-30T00:00:00\", \"2018-04-15T00:00:00\", \"2018-05-01T00:00:00\", \"2018-05-17T00:00:00\", \"2018-06-02T00:00:00\", \"2018-06-18T00:00:00\", \"2018-07-04T00:00:00\", \"2018-07-20T00:00:00\", \"2018-08-05T00:00:00\", \"2018-08-21T00:00:00\", \"2018-09-06T00:00:00\", \"2018-09-22T00:00:00\", \"2018-10-08T00:00:00\", \"2018-10-24T00:00:00\", \"2018-11-09T00:00:00\", \"2018-11-25T00:00:00\", \"2018-12-11T00:00:00\", \"2018-12-27T00:00:00\", \"2019-01-09T00:00:00\", \"2019-01-25T00:00:00\", \"2019-02-10T00:00:00\", \"2019-02-26T00:00:00\", \"2019-03-14T00:00:00\", \"2019-03-30T00:00:00\", \"2019-04-15T00:00:00\", \"2019-05-01T00:00:00\", \"2019-05-17T00:00:00\", \"2019-06-02T00:00:00\", \"2019-06-18T00:00:00\", \"2019-07-04T00:00:00\", \"2019-07-20T00:00:00\", \"2019-08-05T00:00:00\", \"2019-08-21T00:00:00\", \"2019-09-06T00:00:00\", \"2019-09-22T00:00:00\", \"2019-10-08T00:00:00\", \"2019-10-24T00:00:00\", \"2019-11-09T00:00:00\", \"2019-11-25T00:00:00\", \"2019-12-11T00:00:00\", \"2019-12-27T00:00:00\", \"2020-01-09T00:00:00\", \"2020-01-25T00:00:00\", \"2020-02-10T00:00:00\", \"2020-02-26T00:00:00\", \"2020-03-13T00:00:00\", \"2020-03-29T00:00:00\", \"2020-04-14T00:00:00\", \"2020-04-30T00:00:00\", \"2020-05-16T00:00:00\", \"2020-06-01T00:00:00\", \"2020-06-17T00:00:00\", \"2020-07-03T00:00:00\", \"2020-07-19T00:00:00\", \"2020-08-04T00:00:00\", \"2020-08-20T00:00:00\", \"2020-09-05T00:00:00\", \"2020-09-21T00:00:00\"], \"xaxis\": \"x\", \"y\": [0.03617107678662679, 0.054153913458732716, -0.1513277890052763, -0.14992689520426433, 0.0682024675887753, -0.07252473396963016, -0.10857201139906472, 0.002056058350041301, 0.1724823588709678, 0.018104913486823665, 0.1057075288332065, 0.20241447976580904, -0.10253794397565191, -0.015926793780508486, -0.013135068728522381, 0.012656377515174011, -0.07793087981146896, -0.2917318612005926, -0.1459822111668333, -0.008947595335082381, 0.1886002338354451, 0.287906147031091, 0.14050714285714294, -0.2775851015936853, -0.2705836359155509, 0.14859769230769232, 0.17560849101272097, 0.12318500000000004, 0.006444192521877556, -0.18574837638376382, 0.017216666666666602, 0.21683617342547093, 0.08088800000000002, -0.03968779704170711, -0.12447380786026196, -0.001899920237010022, 0.07648580786026193, -0.08245007976299001, 0.013551430429128763, 0.034566666666666634, -0.17324611191951336, -0.15603888888888884, -0.1048109139921616, 0.07902222222222222, 0.32515185978042893, -0.06325830564784057, -0.13223406917593156, 0.19423945966275924, -0.15846766921774783, -0.26758115401491867, 0.14370547409579668, 0.046039094387755095, 0.0970125312031952, 0.16163782868916796, -0.22161382672140248, -0.012743589743589634, 0.061076295518207285, -0.041583333333333417, 0.09926666666666661, -0.04224055441478439, -0.1504627192982456, 0.1599622738217328, 0.022886672325976215, -0.35695893944850926, -0.022687393887945634, 0.2763677739602409, 0.08955922924748366, -0.12451319793640536, -0.07920612613030328, -0.03521735598227471, 0.2354191605341993, 0.04815398463754203, -0.022017156124497894, -0.15425398463754206, -0.03193313492063499, 0.14465055225148687, 0.05789436732057163, 0.0192403897774987, -0.3427112323999367, 0.08948405797101444, 0.332900860979463, -0.021725568181818145, -0.02149761181132831, 0.08936723484848474, -0.2537508682157537, -0.1635166666666666, 0.0602529937509083, 0.202186445647271, 0.10600312510086274, -0.2971158818939604, 0.03538061373382512, -0.03943979336510721, 0.06445602846501247, 0.1765092296117966, -0.07162118234269232, -0.019763235563703047, 0.06826780608166655, 0.19603990223036974, -0.2696358961357833, -0.2853272341813438, 0.06254404313378463, 0.0581767088709331, 0.014534270314174202, 0.05561268612694045, 0.2090465342971789, 0.1420741628047572, -0.2626222902797022, -0.3415306944986366, 0.23324052561888597, 0.0697862221747548, -0.27227228602383535, -0.03560905679721939, 0.039889999999999995, 0.17657553883314753, 0.2708138533089357, 0.07675041208791217, -0.2630128707058429, -0.16318558157943758, 0.17008651739690722, -0.015711227458794358, -0.029498009554140114, 0.08527781142400404, -0.20148591901728846, 0.045293585526315766, -0.022343505349276316, -0.04463333333333336, 0.1061724051850727, 0.08618019140483923, -0.05088157730629139, 0.04510698808234026, 0.19153961926120816, -0.22135384615384615, -0.23434225537956335, -0.025202184466019406, 0.2019141077516766, 0.03775355116072082, -0.12193007937848335, -0.11066799513506839, 0.06217263802950976, 0.09190945102101211, 0.03824507575757574, 0.13438217741935488, -0.20590084974093265, 0.11828654201292699, 0.3372531719470285, -0.09310727485151704, -0.23155581057818883, -0.0508385792419469, 0.007033456406189992, -0.14439925853449723, 0.10537003196590305, 0.1738440790896104, 0.05428285024154583, 0.044259491525423744, -0.08896856452726012, -0.15317134680134678, -0.0029392857142857276, -0.05144541640137891, 0.17152023809523814, 0.23044390605986864, -0.11157367785824013, 0.053440399573271236, -0.037421560236998025, -0.1369875424304141, 0.12733170222634502, 0.08287857142857141, 0.009953178926368489, -0.06156798647035422, -0.2023848811527135, 0.06668941504178277, 0.1574, 0.0508830278505118, 0.03848845447389132, 0.002950466151201925, -0.15763734336278024, -0.2835001606683804, 0.05471075128509284, 0.036354166666666674, 0.0990390514419161, 0.05750932779456194, -0.1362145502017564, 0.17981291678582015, 0.027138636363636365, -0.3343836193357637, -0.012813428217821832, 0.31947387475538164, -0.07271647832423422, -0.3194804826117814, 0.17232308836023785, 0.06179727948678142, -0.06101253764640269, 0.035383203124999985, -0.15001018962632456, -0.0015827272727272634, 0.07413065480478312, 0.002082727272727264, -0.10984264717464408, 0.03443222003929275, 0.18977974537157627, -0.14111101164566034, 0.060736792452830146, 0.29493548266752806, -0.2431916666666667, -0.15048169106116047, 0.19836166666666666, 0.022758635187580895, 0.07667539019963698, -0.02950958399605394, -0.11238600481757716, -0.00974637416216595, 0.0352906146179402, 0.13857944506366235, -0.18542891061452516, -0.17275712209302335, 0.2364780619060381, -0.10519757680302283, -0.20711838206074373, 0.3388252079874307, 0.12609423076923076, -0.18911316277919224, 0.0036790346292062126, -0.026461249521095492, 0.06150310822793664, 0.04879678111587987, -0.028475324675324654, -0.1802092243720299, -0.10538336837866857, 0.3626370720997497, 0.0890265501968504, -0.05266118106105322, -0.15740500000000002, -0.009253601532566935, 0.1712917505551444, 0.03914239561675359, -0.2128085694784723, -0.1314558021772568, 0.11922758815409715, 0.009098922474984589, 0.14684423076923075, 0.00920141895141896, -0.06426697761194033, 0.04535, -0.21705906950847853, -0.07257691441441447, 0.07322197655243264, -0.03290086336336334, -0.005891680420156087, 0.006890044706138937, -0.10204769034785542, -0.008209894665587414, 0.3419695228406999, 0.19468109881160645, 0.0034165778717520356, -0.00037124469958044193, -0.15844265937645424, -0.2564052468607454, 0.17484277408637872, 0.10603270975148243, -0.2092553760439644, 0.15046809675141243, -0.12374787989472971, -0.02928278601694917, 0.2418354818523154, 0.041600088192571105, -0.15912676292813968, -0.1506226935888611, 0.10523129433905629, 0.01904832341195578, 0.0196778500546006, 0.05159563350717683, -0.13782444243003036, -0.00021102999441768855, -0.022082694792639662, -0.12397103581413924, 0.002866422423819459, -0.034891889880952404, 0.14947499999999997, 0.11390617559523813, 0.12290416666666681, 0.01941741209357073, -0.037866030819868446, -0.20040462758993877, -0.1060621373828966, 0.031318644067796594, -0.09301766513056839, 0.19491500000000003, 0.23092798059964734, -0.17933848314606746, -0.2545219946841544, 0.15971328748964006, 0.24771377194128183, -0.09308730434357262, -0.18875860184834195, 0.046137500000000026, -0.06794628398725017, 0.15538121693121704, 0.1734434613121507, -0.007925351467722386, 0.025274999999999992, -0.01743526082598368, 0.03590866211431459, -0.24638354879994753, -0.20946699544764796, 0.20909794416243652, -0.11431850475010327, -0.08335499999999996, 0.1947536164126342, -0.14113000000000003, 0.08295880951315376, 0.2719678123941755, 0.07206751431278019, -0.061180017118584895, -0.042348349122835804, -0.06065029527559057, -0.020259839612382313, 0.13509979395604405, -0.12418243130260301, -0.3137537753164103, -0.06701940416032115, 0.17633634891003513, 0.24590969982078856, 0.12440331729268, -0.03752111111111117, -0.02942841320773354, 0.044862895867278874, -0.09514477163461538, -0.007633774098359469, -0.07966058352402741, -0.12861912176891938, 0.21101370852402743, 0.08180873655913984, -0.09379194950331132, -0.15349873655913987, 0.006913107290196563, 0.1437318250950571, 0.06992621491602441, -0.11782254591885571, -0.3156159354909281, 0.04804560177617956, 0.20383165659799923, 0.09912954413472708, 0.12372128119001924, -0.12155124326892622, -0.21668750000000003, 0.17949253246753252, 0.025578117359413233, -0.25396929637526655, -0.05131145069274659, 0.10274608208955222, 0.08480833333333335, -0.14527674870466317, 0.06271500000000002, 0.12228924870466319, 0.015244107579462096, 0.16908059157212318, -0.03703216191132702, -0.2859555915721232, 0.0722855543318649, 0.19193474729241888, 0.004262784090909133, -0.14484450824859418, -0.012945614830208674, 0.03169249828573539, -0.14489216926070045, 0.0029064023037261855, -0.05011574675324679, 0.2016507202343666, 0.09830426497403993, -0.08624052838649299, 0.1276817134085998, 0.06385316851884015, 0.02967603777371164, -0.20452750000000003, -0.18535876940310458, 0.18198464550700733, -0.026433064516129007, -0.01591323223077601, 0.13136682758233117, 0.06511052009506724, 0.010020858782537334, -0.12213193337129852, -0.0068491944021703555, -0.04505700712589075, -0.2514498718910136, -0.08650965954077597, 0.306246034464014, 0.021719086021505407, -0.27532238705087, -0.14280156054019166, -0.0054611970163185725, 0.3825844102436489, 0.24537296263400643, -0.13953526905829594, -0.0500909685863874, 0.04147486462093869, 0.053709400544959096, -0.26506317698991144, -0.0036681334216713823, 0.35476164737398785, -0.05041269569471629, -0.25320642357257045, 0.10088275748466008, 0.24097528781567568, -0.010933200551811573, -0.022411165900160623, -0.17782812836141995, 0.0024306708562445434, 0.01602500000000001, -0.09041832920420417, -0.02117132957660675, -0.17553393880823773, 0.12531457281984998, 0.15477389714157105, 0.09866775387226745, -0.036658333333333376, -0.25742836999686664, -0.04197999999999999, 0.03317266134289443, -0.005370000000000014, -0.03856057692307696], \"yaxis\": \"y\"}, {\"mode\": \"lines+markers\", \"name\": \"Modis Terra 250m 16 Day NDVI\", \"type\": \"scatter\", \"x\": [\"2000-02-18T00:00:00\", \"2000-03-05T00:00:00\", \"2000-03-21T00:00:00\", \"2000-04-06T00:00:00\", \"2000-04-22T00:00:00\", \"2000-05-08T00:00:00\", \"2000-05-24T00:00:00\", \"2000-06-09T00:00:00\", \"2000-06-25T00:00:00\", \"2000-07-11T00:00:00\", \"2000-07-27T00:00:00\", \"2000-08-12T00:00:00\", \"2000-08-28T00:00:00\", \"2000-09-13T00:00:00\", \"2000-09-29T00:00:00\", \"2000-10-15T00:00:00\", \"2000-10-31T00:00:00\", \"2000-11-16T00:00:00\", \"2000-12-02T00:00:00\", \"2000-12-18T00:00:00\", \"2001-01-01T00:00:00\", \"2001-01-17T00:00:00\", \"2001-02-02T00:00:00\", \"2001-02-18T00:00:00\", \"2001-03-06T00:00:00\", \"2001-03-22T00:00:00\", \"2001-04-07T00:00:00\", \"2001-04-23T00:00:00\", \"2001-05-09T00:00:00\", \"2001-05-25T00:00:00\", \"2001-06-10T00:00:00\", \"2001-06-26T00:00:00\", \"2001-07-12T00:00:00\", \"2001-07-28T00:00:00\", \"2001-08-13T00:00:00\", \"2001-08-29T00:00:00\", \"2001-09-14T00:00:00\", \"2001-09-30T00:00:00\", \"2001-10-16T00:00:00\", \"2001-11-01T00:00:00\", \"2001-11-17T00:00:00\", \"2001-12-03T00:00:00\", \"2001-12-19T00:00:00\", \"2002-01-01T00:00:00\", \"2002-01-17T00:00:00\", \"2002-02-02T00:00:00\", \"2002-02-18T00:00:00\", \"2002-03-06T00:00:00\", \"2002-03-22T00:00:00\", \"2002-04-07T00:00:00\", \"2002-04-23T00:00:00\", \"2002-05-09T00:00:00\", \"2002-05-25T00:00:00\", \"2002-06-10T00:00:00\", \"2002-06-26T00:00:00\", \"2002-07-12T00:00:00\", \"2002-07-28T00:00:00\", \"2002-08-13T00:00:00\", \"2002-08-29T00:00:00\", \"2002-09-14T00:00:00\", \"2002-09-30T00:00:00\", \"2002-10-16T00:00:00\", \"2002-11-01T00:00:00\", \"2002-11-17T00:00:00\", \"2002-12-03T00:00:00\", \"2002-12-19T00:00:00\", \"2003-01-01T00:00:00\", \"2003-01-17T00:00:00\", \"2003-02-02T00:00:00\", \"2003-02-18T00:00:00\", \"2003-03-06T00:00:00\", \"2003-03-22T00:00:00\", \"2003-04-07T00:00:00\", \"2003-04-23T00:00:00\", \"2003-05-09T00:00:00\", \"2003-05-25T00:00:00\", \"2003-06-10T00:00:00\", \"2003-06-26T00:00:00\", \"2003-07-12T00:00:00\", \"2003-07-28T00:00:00\", \"2003-08-13T00:00:00\", \"2003-08-29T00:00:00\", \"2003-09-14T00:00:00\", \"2003-09-30T00:00:00\", \"2003-10-16T00:00:00\", \"2003-11-01T00:00:00\", \"2003-11-17T00:00:00\", \"2003-12-03T00:00:00\", \"2003-12-19T00:00:00\", \"2004-01-01T00:00:00\", \"2004-01-17T00:00:00\", \"2004-02-02T00:00:00\", \"2004-02-18T00:00:00\", \"2004-03-05T00:00:00\", \"2004-03-21T00:00:00\", \"2004-04-06T00:00:00\", \"2004-04-22T00:00:00\", \"2004-05-08T00:00:00\", \"2004-05-24T00:00:00\", \"2004-06-09T00:00:00\", \"2004-06-25T00:00:00\", \"2004-07-11T00:00:00\", \"2004-07-27T00:00:00\", \"2004-08-12T00:00:00\", \"2004-08-28T00:00:00\", \"2004-09-13T00:00:00\", \"2004-09-29T00:00:00\", \"2004-10-15T00:00:00\", \"2004-10-31T00:00:00\", \"2004-11-16T00:00:00\", \"2004-12-02T00:00:00\", \"2004-12-18T00:00:00\", \"2005-01-01T00:00:00\", \"2005-01-17T00:00:00\", \"2005-02-02T00:00:00\", \"2005-02-18T00:00:00\", \"2005-03-06T00:00:00\", \"2005-03-22T00:00:00\", \"2005-04-07T00:00:00\", \"2005-04-23T00:00:00\", \"2005-05-09T00:00:00\", \"2005-05-25T00:00:00\", \"2005-06-10T00:00:00\", \"2005-06-26T00:00:00\", \"2005-07-12T00:00:00\", \"2005-07-28T00:00:00\", \"2005-08-13T00:00:00\", \"2005-08-29T00:00:00\", \"2005-09-14T00:00:00\", \"2005-09-30T00:00:00\", \"2005-10-16T00:00:00\", \"2005-11-01T00:00:00\", \"2005-11-17T00:00:00\", \"2005-12-03T00:00:00\", \"2005-12-19T00:00:00\", \"2006-01-01T00:00:00\", \"2006-01-17T00:00:00\", \"2006-02-02T00:00:00\", \"2006-02-18T00:00:00\", \"2006-03-06T00:00:00\", \"2006-03-22T00:00:00\", \"2006-04-07T00:00:00\", \"2006-04-23T00:00:00\", \"2006-05-09T00:00:00\", \"2006-05-25T00:00:00\", \"2006-06-10T00:00:00\", \"2006-06-26T00:00:00\", \"2006-07-12T00:00:00\", \"2006-07-28T00:00:00\", \"2006-08-13T00:00:00\", \"2006-08-29T00:00:00\", \"2006-09-14T00:00:00\", \"2006-09-30T00:00:00\", \"2006-10-16T00:00:00\", \"2006-11-01T00:00:00\", \"2006-11-17T00:00:00\", \"2006-12-03T00:00:00\", \"2006-12-19T00:00:00\", \"2007-01-01T00:00:00\", \"2007-01-17T00:00:00\", \"2007-02-02T00:00:00\", \"2007-02-18T00:00:00\", \"2007-03-06T00:00:00\", \"2007-03-22T00:00:00\", \"2007-04-07T00:00:00\", \"2007-04-23T00:00:00\", \"2007-05-09T00:00:00\", \"2007-05-25T00:00:00\", \"2007-06-10T00:00:00\", \"2007-06-26T00:00:00\", \"2007-07-12T00:00:00\", \"2007-07-28T00:00:00\", \"2007-08-13T00:00:00\", \"2007-08-29T00:00:00\", \"2007-09-14T00:00:00\", \"2007-09-30T00:00:00\", \"2007-10-16T00:00:00\", \"2007-11-01T00:00:00\", \"2007-11-17T00:00:00\", \"2007-12-03T00:00:00\", \"2007-12-19T00:00:00\", \"2008-01-01T00:00:00\", \"2008-01-17T00:00:00\", \"2008-02-02T00:00:00\", \"2008-02-18T00:00:00\", \"2008-03-05T00:00:00\", \"2008-03-21T00:00:00\", \"2008-04-06T00:00:00\", \"2008-04-22T00:00:00\", \"2008-05-08T00:00:00\", \"2008-05-24T00:00:00\", \"2008-06-09T00:00:00\", \"2008-06-25T00:00:00\", \"2008-07-11T00:00:00\", \"2008-07-27T00:00:00\", \"2008-08-12T00:00:00\", \"2008-08-28T00:00:00\", \"2008-09-13T00:00:00\", \"2008-09-29T00:00:00\", \"2008-10-15T00:00:00\", \"2008-10-31T00:00:00\", \"2008-11-16T00:00:00\", \"2008-12-02T00:00:00\", \"2008-12-18T00:00:00\", \"2009-01-01T00:00:00\", \"2009-01-17T00:00:00\", \"2009-02-02T00:00:00\", \"2009-02-18T00:00:00\", \"2009-03-06T00:00:00\", \"2009-03-22T00:00:00\", \"2009-04-07T00:00:00\", \"2009-04-23T00:00:00\", \"2009-05-09T00:00:00\", \"2009-05-25T00:00:00\", \"2009-06-10T00:00:00\", \"2009-06-26T00:00:00\", \"2009-07-12T00:00:00\", \"2009-07-28T00:00:00\", \"2009-08-13T00:00:00\", \"2009-08-29T00:00:00\", \"2009-09-14T00:00:00\", \"2009-09-30T00:00:00\", \"2009-10-16T00:00:00\", \"2009-11-01T00:00:00\", \"2009-11-17T00:00:00\", \"2009-12-03T00:00:00\", \"2009-12-19T00:00:00\", \"2010-01-01T00:00:00\", \"2010-01-17T00:00:00\", \"2010-02-02T00:00:00\", \"2010-02-18T00:00:00\", \"2010-03-06T00:00:00\", \"2010-03-22T00:00:00\", \"2010-04-07T00:00:00\", \"2010-04-23T00:00:00\", \"2010-05-09T00:00:00\", \"2010-05-25T00:00:00\", \"2010-06-10T00:00:00\", \"2010-06-26T00:00:00\", \"2010-07-12T00:00:00\", \"2010-07-28T00:00:00\", \"2010-08-13T00:00:00\", \"2010-08-29T00:00:00\", \"2010-09-14T00:00:00\", \"2010-09-30T00:00:00\", \"2010-10-16T00:00:00\", \"2010-11-01T00:00:00\", \"2010-11-17T00:00:00\", \"2010-12-03T00:00:00\", \"2010-12-19T00:00:00\", \"2011-01-01T00:00:00\", \"2011-01-17T00:00:00\", \"2011-02-02T00:00:00\", \"2011-02-18T00:00:00\", \"2011-03-06T00:00:00\", \"2011-03-22T00:00:00\", \"2011-04-07T00:00:00\", \"2011-04-23T00:00:00\", \"2011-05-09T00:00:00\", \"2011-05-25T00:00:00\", \"2011-06-10T00:00:00\", \"2011-06-26T00:00:00\", \"2011-07-12T00:00:00\", \"2011-07-28T00:00:00\", \"2011-08-13T00:00:00\", \"2011-08-29T00:00:00\", \"2011-09-14T00:00:00\", \"2011-09-30T00:00:00\", \"2011-10-16T00:00:00\", \"2011-11-01T00:00:00\", \"2011-11-17T00:00:00\", \"2011-12-03T00:00:00\", \"2011-12-19T00:00:00\", \"2012-01-01T00:00:00\", \"2012-01-17T00:00:00\", \"2012-02-02T00:00:00\", \"2012-02-18T00:00:00\", \"2012-03-05T00:00:00\", \"2012-03-21T00:00:00\", \"2012-04-06T00:00:00\", \"2012-04-22T00:00:00\", \"2012-05-08T00:00:00\", \"2012-05-24T00:00:00\", \"2012-06-09T00:00:00\", \"2012-06-25T00:00:00\", \"2012-07-11T00:00:00\", \"2012-07-27T00:00:00\", \"2012-08-12T00:00:00\", \"2012-08-28T00:00:00\", \"2012-09-13T00:00:00\", \"2012-09-29T00:00:00\", \"2012-10-15T00:00:00\", \"2012-10-31T00:00:00\", \"2012-11-16T00:00:00\", \"2012-12-02T00:00:00\", \"2012-12-18T00:00:00\", \"2013-01-01T00:00:00\", \"2013-01-17T00:00:00\", \"2013-02-02T00:00:00\", \"2013-02-18T00:00:00\", \"2013-03-06T00:00:00\", \"2013-03-22T00:00:00\", \"2013-04-07T00:00:00\", \"2013-04-23T00:00:00\", \"2013-05-09T00:00:00\", \"2013-05-25T00:00:00\", \"2013-06-10T00:00:00\", \"2013-06-26T00:00:00\", \"2013-07-12T00:00:00\", \"2013-07-28T00:00:00\", \"2013-08-13T00:00:00\", \"2013-08-29T00:00:00\", \"2013-09-14T00:00:00\", \"2013-09-30T00:00:00\", \"2013-10-16T00:00:00\", \"2013-11-01T00:00:00\", \"2013-11-17T00:00:00\", \"2013-12-03T00:00:00\", \"2013-12-19T00:00:00\", \"2014-01-01T00:00:00\", \"2014-01-17T00:00:00\", \"2014-02-02T00:00:00\", \"2014-02-18T00:00:00\", \"2014-03-06T00:00:00\", \"2014-03-22T00:00:00\", \"2014-04-07T00:00:00\", \"2014-04-23T00:00:00\", \"2014-05-09T00:00:00\", \"2014-05-25T00:00:00\", \"2014-06-10T00:00:00\", \"2014-06-26T00:00:00\", \"2014-07-12T00:00:00\", \"2014-07-28T00:00:00\", \"2014-08-13T00:00:00\", \"2014-08-29T00:00:00\", \"2014-09-14T00:00:00\", \"2014-09-30T00:00:00\", \"2014-10-16T00:00:00\", \"2014-11-01T00:00:00\", \"2014-11-17T00:00:00\", \"2014-12-03T00:00:00\", \"2014-12-19T00:00:00\", \"2015-01-01T00:00:00\", \"2015-01-17T00:00:00\", \"2015-02-02T00:00:00\", \"2015-02-18T00:00:00\", \"2015-03-06T00:00:00\", \"2015-03-22T00:00:00\", \"2015-04-07T00:00:00\", \"2015-04-23T00:00:00\", \"2015-05-09T00:00:00\", \"2015-05-25T00:00:00\", \"2015-06-10T00:00:00\", \"2015-06-26T00:00:00\", \"2015-07-12T00:00:00\", \"2015-07-28T00:00:00\", \"2015-08-13T00:00:00\", \"2015-08-29T00:00:00\", \"2015-09-14T00:00:00\", \"2015-09-30T00:00:00\", \"2015-10-16T00:00:00\", \"2015-11-01T00:00:00\", \"2015-11-17T00:00:00\", \"2015-12-03T00:00:00\", \"2015-12-19T00:00:00\", \"2016-01-01T00:00:00\", \"2016-01-17T00:00:00\", \"2016-02-02T00:00:00\", \"2016-02-18T00:00:00\", \"2016-03-05T00:00:00\", \"2016-03-21T00:00:00\", \"2016-04-06T00:00:00\", \"2016-04-22T00:00:00\", \"2016-05-08T00:00:00\", \"2016-05-24T00:00:00\", \"2016-06-09T00:00:00\", \"2016-06-25T00:00:00\", \"2016-07-11T00:00:00\", \"2016-07-27T00:00:00\", \"2016-08-12T00:00:00\", \"2016-08-28T00:00:00\", \"2016-09-13T00:00:00\", \"2016-09-29T00:00:00\", \"2016-10-15T00:00:00\", \"2016-10-31T00:00:00\", \"2016-11-16T00:00:00\", \"2016-12-02T00:00:00\", \"2016-12-18T00:00:00\", \"2017-01-01T00:00:00\", \"2017-01-17T00:00:00\", \"2017-02-02T00:00:00\", \"2017-02-18T00:00:00\", \"2017-03-06T00:00:00\", \"2017-03-22T00:00:00\", \"2017-04-07T00:00:00\", \"2017-04-23T00:00:00\", \"2017-05-09T00:00:00\", \"2017-05-25T00:00:00\", \"2017-06-10T00:00:00\", \"2017-06-26T00:00:00\", \"2017-07-12T00:00:00\", \"2017-07-28T00:00:00\", \"2017-08-13T00:00:00\", \"2017-08-29T00:00:00\", \"2017-09-14T00:00:00\", \"2017-09-30T00:00:00\", \"2017-10-16T00:00:00\", \"2017-11-01T00:00:00\", \"2017-11-17T00:00:00\", \"2017-12-03T00:00:00\", \"2017-12-19T00:00:00\", \"2018-01-01T00:00:00\", \"2018-01-17T00:00:00\", \"2018-02-02T00:00:00\", \"2018-02-18T00:00:00\", \"2018-03-06T00:00:00\", \"2018-03-22T00:00:00\", \"2018-04-07T00:00:00\", \"2018-04-23T00:00:00\", \"2018-05-09T00:00:00\", \"2018-05-25T00:00:00\", \"2018-06-10T00:00:00\", \"2018-06-26T00:00:00\", \"2018-07-12T00:00:00\", \"2018-07-28T00:00:00\", \"2018-08-13T00:00:00\", \"2018-08-29T00:00:00\", \"2018-09-14T00:00:00\", \"2018-09-30T00:00:00\", \"2018-10-16T00:00:00\", \"2018-11-01T00:00:00\", \"2018-11-17T00:00:00\", \"2018-12-03T00:00:00\", \"2018-12-19T00:00:00\", \"2019-01-01T00:00:00\", \"2019-01-17T00:00:00\", \"2019-02-02T00:00:00\", \"2019-02-18T00:00:00\", \"2019-03-06T00:00:00\", \"2019-03-22T00:00:00\", \"2019-04-07T00:00:00\", \"2019-04-23T00:00:00\", \"2019-05-09T00:00:00\", \"2019-05-25T00:00:00\", \"2019-06-10T00:00:00\", \"2019-06-26T00:00:00\", \"2019-07-12T00:00:00\", \"2019-07-28T00:00:00\", \"2019-08-13T00:00:00\", \"2019-08-29T00:00:00\", \"2019-09-14T00:00:00\", \"2019-09-30T00:00:00\", \"2019-10-16T00:00:00\", \"2019-11-01T00:00:00\", \"2019-11-17T00:00:00\", \"2019-12-03T00:00:00\", \"2019-12-19T00:00:00\", \"2020-01-01T00:00:00\", \"2020-01-17T00:00:00\", \"2020-02-02T00:00:00\", \"2020-02-18T00:00:00\", \"2020-03-05T00:00:00\", \"2020-03-21T00:00:00\", \"2020-04-06T00:00:00\", \"2020-04-22T00:00:00\", \"2020-05-08T00:00:00\", \"2020-05-24T00:00:00\", \"2020-06-09T00:00:00\", \"2020-06-25T00:00:00\", \"2020-07-11T00:00:00\", \"2020-07-27T00:00:00\", \"2020-08-12T00:00:00\", \"2020-08-28T00:00:00\", \"2020-09-13T00:00:00\", \"2020-09-29T00:00:00\"], \"xaxis\": \"x\", \"y\": [0.31991881869908195, 0.1701847649154122, 0.06982200956937798, -0.08121621913082164, -0.18512234052111415, 0.09299620646766171, 0.15789734052111412, 0.17331190129112872, 0.13647647603611948, -0.0568917793399093, -0.010369333178976647, -0.17027194970834458, -0.12100345036319607, 0.22002286597572285, -0.17305943962038353, -0.1874517282398291, 0.26750574712643677, 0.06644581640353794, -0.026678571428571385, 0.0035301209573541104, 0.01302857142857139, 0.1221626857953444, 0.03755000000000003, -0.09104668471928895, -0.0064483300589391335, 0.005967953462218234, -0.13762591088131557, 0.03661246478873237, 0.18264424094025464, -0.16038888888888891, -0.10608956521739121, 0.1919235801868957, 0.09026796503186246, -0.015751940715256263, -0.04143507202283914, -0.09891279984383428, -0.06426969094392176, 0.1522295423486414, 0.03202636315228968, -0.18235088473765707, -0.034353379944067175, 0.10318775528646304, 0.08923344538909334, 0.07973781457607854, -0.04503884095523031, -0.09541741046096291, -0.047686224489795814, -0.01666294940397023, 0.03741934724091511, -0.09244830390250142, 0.09062951426875421, -0.07440801444500761, -0.022650013814278613, 0.22790669014084503, 0.024296444117632765, 0.01272296846512938, -0.031538274269163835, -0.012720309329789348, -0.04130201754385965, 0.05175315072381492, 0.0221080382775119, -0.2307142857142857, -0.038482440150649444, 0.139675246928451, 0.09012419028567764, 0.08411020521724749, -0.05069009606061364, -0.016630979515524946, -0.016799618822514795, -0.07011151558721651, 0.03852313885473335, 0.0257329344551947, 0.019403649678503943, -0.12070363598520831, -0.22146245865355807, -0.10945854146056051, 0.013305596590909075, 0.18639817729570568, -0.08902380466007019, 0.10887078415386142, 0.2947946202832753, -0.2918933897876643, -0.09096542474372626, 0.21139166666666662, 0.07388302108475175, -0.10370476744186041, -0.11472341196423058, 0.17920405657201427, 0.14617652113330237, -0.05344928913015384, -0.10475368223349879, 0.02967094693144856, -0.013295344322797109, 0.0022894648308280363, -0.007052494577006463, -0.006452078428943242, 0.022544122079879436, -0.022095903110047832, 0.09930889888189603, 0.018681688934393037, -0.1786409554404011, 0.034767570812314574, 0.1644717162645511, -0.24862835663665978, -0.0456241945438991, 0.09246739986868024, -0.13340030989827636, -0.057367399868680224, -0.007059277343750003, -0.08011669691470055, 0.14035, 0.20808299155755763, -0.09316249999999998, 0.0665666181184984, -0.021498933868974085, -0.002786220527414951, 0.023094767202307437, -0.03791097794822629, 0.10194419734151333, 0.05094355400696865, -0.014611210778877892, -0.12440149051490512, 0.06531531727217282, 0.10487055923879673, -0.06446000612724939, -0.18532551431050917, -0.11208413104089224, 0.14707717729393469, 0.14052701612903232, -0.079125, -0.18854784946236564, 0.024998110151187913, 0.0290241884402217, 0.1114413703204406, 0.09229414489311161, -0.10232299312985643, 0.1052833952671473, -0.025128987341772102, -0.2236253845144591, -0.08876250000000002, 0.11898198924731182, -0.05154508448540707, 0.09898815789473686, 0.13044862941533292, -0.0316312795082227, 0.12858326767422507, -0.030981878386514172, 0.003299224432886161, 0.0212149322571345, -0.11907990697307119, 0.01989802250591005, -0.08015613006396588, 0.012099322160032455, 0.04851489071038251, -0.15431641663847157, 0.011705109289617488, 0.11847087422466646, 0.07128895183277795, -0.09230466194880493, 0.022808790102705867, 0.047810239774500995, -0.13100545143269046, -0.27288560497922926, 0.01225238698733394, 0.30166235072903363, -0.07023967749012727, -0.06987905808477235, 0.18866249999999998, 0.12757236927144538, 0.057728228155339734, 0.009996220981639825, -0.08162844745358538, -0.06447396761157581, 0.02432275192467309, -0.013439622641509386, -0.12806628262642744, -0.08223309230769227, -0.0028937500000000005, -0.08936564869950195, 0.17858847325660113, -0.009509329493733454, -0.11307936343962943, 0.20759099638873005, -0.004732620788758468, -0.038187692651650784, 0.021373510971786802, -0.07022563360859108, -0.12515, -0.051376296406822064, 0.002956339712918671, 0.09629473096729574, 0.19037600564790608, 0.07996382954289499, 0.017645154639175264, -0.29776080485570955, -0.0017406578947368745, 0.24289240308729412, -0.1509479930554245, -0.047308461962513815, 0.0446513995161269, -0.138175, 0.07628475143403446, 0.0566416666666667, -0.225825, 0.04553293807641631, 0.19362246891651863, 0.060866956913082665, -0.13955104034509005, 0.02880745226494802, 0.023127558599401937, 0.0736068972081158, 0.13300934616250287, -0.0778523846808668, -0.1803583333333334, -0.04272852644836267, 0.14593173076923072, 0.07855999999999996, -0.03267667850442235, 0.032458237615081154, 0.04807695089599767, -0.10475157094841453, 0.009886598780941558, 0.07214578406783712, -0.05479263272852064, -0.065621340262697, 0.11837191501356487, 0.037558159601186025, -0.01652653531548004, 0.05127615533262653, -0.05452561278902701, -0.10195042540561927, -0.12477073612228476, 0.075951306352459, 0.10687500000000003, 0.054411250528131005, 0.07293092747559277, -0.24946632501799007, -0.2878307143695726, 0.007541268137400053, 0.1023270654153309, 0.04973035714285717, 0.04115843576436315, 0.17560116867521547, 0.13511198686371106, -0.3029538336378208, -0.2369901058631061, 0.09593855231314025, -0.010270095286319239, -0.004575792463871797, 0.17412361111111113, 0.017743972678857245, 0.05673566308243727, 0.07021485228391044, -0.0031267741935483984, 0.11162664800051364, -0.13422, -0.2227066021297738, 0.054851298701298734, 0.09415567713697218, 0.07286206336766682, 0.08969762658227837, -0.10816836206896557, 0.006467405362823475, -0.0001616666666666433, 0.02001621805489817, -0.05705757575757578, -0.04487458849184012, 0.21060549242424242, -0.06497749484149323, -0.09318125, -0.11073333333333335, -0.08360833333333334, 0.08215141480099505, 0.09678525817293004, 0.003368606498259541, -0.02578014121386568, 0.05192164536741209, 0.0003832163742690242, -0.2147333855799373, 0.05331999999999998, 0.029333279647733898, 0.007045019531249974, 0.27422593819852875, 0.06632875854008419, 0.0025323309989807585, -0.1716237780713342, -0.05323316326530608, 0.13665829493087564, 0.06330833333333341, -0.15643114493087557, -0.003630595967330341, 0.16017701666666656, -0.22612988425865843, -0.10569182213930345, 0.15768548022598877, 0.11777802593387332, -0.0650525756815522, -0.20047664907039145, 0.06103174234821879, 0.07365294527582159, 0.022657499999999997, -0.0258462033462033, -0.03626972253052163, -0.11185169255634372, 0.026072981789780958, 0.28849593511823335, 0.03863060555876496, -0.14183613445378157, -0.09350386481802425, 0.019820338743159138, 0.02819475235849067, 0.08926180411398366, -0.02746260950134788, -0.05156971733759619, 0.022060521124445176, -0.13750481923302632, -0.08621697705402764, 0.19522401331864736, 0.06969097973910626, -0.06683102436707244, -0.025545863746958608, -0.21254166666666663, 0.03231131496240991, 0.2700523670756647, 0.0379928821178821, -0.0921306801696457, 0.07733571120689653, -0.05230918690601899, -0.10469404454022996, 0.17724059741024129, 0.08211515151515153, -0.014021753334594822, 0.001275541405012126, -0.016598514063193126, -0.10518735958683023, -0.26169033001245334, -0.04625429118773944, 0.07104500000000001, 0.04623577129874773, 0.06722324120603015, 0.12367823127539124, 0.13977883474831848, -0.08396304471973293, -0.015545215228028875, 0.05613897992323591, 0.010481802640016913, -0.13906066667022382, -0.08387098226103423, 0.11246378714516769, -0.07045518110530244, -0.04539431041517983, 0.17688403503512076, 0.11976231176118612, -0.17329653503512077, -0.015826925736319775, 0.09933585343228196, 0.007367657325467014, 0.06393285344047545, -0.2546121947972142, -0.061272533688399744, 0.22047830788995454, -0.07579908266711632, -0.15059255397050597, 0.12410467774037798, 0.17619989621976684, -0.02293787936873043, -0.028394093039518065, -0.23905947014630288, -0.26275755594410155, 0.1554539145907474, 0.23417319364161848, -0.1818767652286315, -0.05525986710130393, 0.13433647825291395, 0.07168268308643405, 0.15986528697571753, -0.024057789545647135, -0.08585817111721167, 0.04467247356051701, -0.04903422648012523, -0.009547447340235604, -0.020690935735996507, -0.13742972657280791, -0.029373677042801527, 0.17117971763323417, 0.011768689282703582, -0.06420254372019063, -0.11441463116787527, -0.012904761904761919, 0.18846128559463982, -0.036003571428571524, -0.06407499999999994, -0.10860688865398158, -0.13044725998300769, 0.1627024716535366, 0.15378489506197693, -0.12157395506608495, 0.09171069825436412, 0.11468670539986334, -0.08630111111111116, -0.07853333333333334, 0.11551111111111112, 0.10847107336287543, -0.09563589981447129, -0.12805123914144256, -0.038704063593787974, 0.07707579495884392, 0.02374031718184416, -0.04947479584694342, 0.09762464622641515, 0.10360249999999999, -0.03110268595041321, -0.04861500000000002, -0.07761524222638239, 0.057317805911758335, 0.05127285095671835, -0.009337250356202809, -0.07994081989092128, -0.03440546979226217, 0.03256144656154791, -0.06210575298830728, 0.1135839763398, 0.08850566722501396, 0.027547301468761998, -0.0012383692052980178, -0.04212442725911142, 0.032333561243425346, -0.1690824, -0.10263803299870727, 0.05249986910994767, 0.019972607315720092, 0.04259555642196722, 0.09423489302974059, 0.11612717101697578, -0.02771804298179137, -0.1323217965488906, -0.301676004863065, -0.07329550061940818, 0.2211133944143256, 0.05155303395274144, -0.015717013630553667, -0.1288366666666667, -0.045092855845279084, 0.26630916465334215, 0.177385570053102, -0.0613932075576325, -0.010671484603954007, 0.007506037495230267, -0.07623609304389073, -0.10683921436885732, -0.038273452964794785, 0.10932501832412725, 0.012448794268413887, -0.0412944652128765, -0.0026990610964844897, -0.10867719367588932, 0.10561704545454548, 0.20844165969530684, -0.06014545454545456, -0.009724466019417455, -0.03875000000000001, -0.01726605981794538, -0.06574955516014239, -0.233054435408785, 0.009049555160142386, 0.24725799522673036, 0.129875, -0.052313406488549596, -0.06429315892557352, 0.028825906488549602, -0.06732522479776465, -0.06721048920863315, 0.019357669437623903, -0.010310129762427955, 0.08650411345411346], \"yaxis\": \"y\"}, {\"marker\": {\"color\": \"green\"}, \"mode\": \"lines+markers\", \"name\": \"CHIRPS Precipitation - 14 Day Rolling Median (mm)\", \"type\": \"scatter\", \"x\": [\"1997-01-01T00:00:00\", \"1997-01-15T00:00:00\", \"1997-01-29T00:00:00\", \"1997-02-12T00:00:00\", \"1997-02-26T00:00:00\", \"1997-03-12T00:00:00\", \"1997-03-26T00:00:00\", \"1997-04-09T00:00:00\", \"1997-04-23T00:00:00\", \"1997-05-07T00:00:00\", \"1997-05-21T00:00:00\", \"1997-06-04T00:00:00\", \"1997-06-18T00:00:00\", \"1997-07-02T00:00:00\", \"1997-07-16T00:00:00\", \"1997-07-30T00:00:00\", \"1997-08-13T00:00:00\", \"1997-08-27T00:00:00\", \"1997-09-10T00:00:00\", \"1997-09-24T00:00:00\", \"1997-10-08T00:00:00\", \"1997-10-22T00:00:00\", \"1997-11-05T00:00:00\", \"1997-11-19T00:00:00\", \"1997-12-03T00:00:00\", \"1997-12-17T00:00:00\", \"1997-12-31T00:00:00\", \"1998-01-14T00:00:00\", \"1998-01-28T00:00:00\", \"1998-02-11T00:00:00\", \"1998-02-25T00:00:00\", \"1998-03-11T00:00:00\", \"1998-03-25T00:00:00\", \"1998-04-08T00:00:00\", \"1998-04-22T00:00:00\", \"1998-05-06T00:00:00\", \"1998-05-20T00:00:00\", \"1998-06-03T00:00:00\", \"1998-06-17T00:00:00\", \"1998-07-01T00:00:00\", \"1998-07-15T00:00:00\", \"1998-07-29T00:00:00\", \"1998-08-12T00:00:00\", \"1998-08-26T00:00:00\", \"1998-09-09T00:00:00\", \"1998-09-23T00:00:00\", \"1998-10-07T00:00:00\", \"1998-10-21T00:00:00\", \"1998-11-04T00:00:00\", \"1998-11-18T00:00:00\", \"1998-12-02T00:00:00\", \"1998-12-16T00:00:00\", \"1998-12-30T00:00:00\", \"1999-01-13T00:00:00\", \"1999-01-27T00:00:00\", \"1999-02-10T00:00:00\", \"1999-02-24T00:00:00\", \"1999-03-10T00:00:00\", \"1999-03-24T00:00:00\", \"1999-04-07T00:00:00\", \"1999-04-21T00:00:00\", \"1999-05-05T00:00:00\", \"1999-05-19T00:00:00\", \"1999-06-02T00:00:00\", \"1999-06-16T00:00:00\", \"1999-06-30T00:00:00\", \"1999-07-14T00:00:00\", \"1999-07-28T00:00:00\", \"1999-08-11T00:00:00\", \"1999-08-25T00:00:00\", \"1999-09-08T00:00:00\", \"1999-09-22T00:00:00\", \"1999-10-06T00:00:00\", \"1999-10-20T00:00:00\", \"1999-11-03T00:00:00\", \"1999-11-17T00:00:00\", \"1999-12-01T00:00:00\", \"1999-12-15T00:00:00\", \"1999-12-29T00:00:00\", \"2000-01-12T00:00:00\", \"2000-01-26T00:00:00\", \"2000-02-09T00:00:00\", \"2000-02-23T00:00:00\", \"2000-03-08T00:00:00\", \"2000-03-22T00:00:00\", \"2000-04-05T00:00:00\", \"2000-04-19T00:00:00\", \"2000-05-03T00:00:00\", \"2000-05-17T00:00:00\", \"2000-05-31T00:00:00\", \"2000-06-14T00:00:00\", \"2000-06-28T00:00:00\", \"2000-07-12T00:00:00\", \"2000-07-26T00:00:00\", \"2000-08-09T00:00:00\", \"2000-08-23T00:00:00\", \"2000-09-06T00:00:00\", \"2000-09-20T00:00:00\", \"2000-10-04T00:00:00\", \"2000-10-18T00:00:00\", \"2000-11-01T00:00:00\", \"2000-11-15T00:00:00\", \"2000-11-29T00:00:00\", \"2000-12-13T00:00:00\", \"2000-12-27T00:00:00\", \"2001-01-10T00:00:00\", \"2001-01-24T00:00:00\", \"2001-02-07T00:00:00\", \"2001-02-21T00:00:00\", \"2001-03-07T00:00:00\", \"2001-03-21T00:00:00\", \"2001-04-04T00:00:00\", \"2001-04-18T00:00:00\", \"2001-05-02T00:00:00\", \"2001-05-16T00:00:00\", \"2001-05-30T00:00:00\", \"2001-06-13T00:00:00\", \"2001-06-27T00:00:00\", \"2001-07-11T00:00:00\", \"2001-07-25T00:00:00\", \"2001-08-08T00:00:00\", \"2001-08-22T00:00:00\", \"2001-09-05T00:00:00\", \"2001-09-19T00:00:00\", \"2001-10-03T00:00:00\", \"2001-10-17T00:00:00\", \"2001-10-31T00:00:00\", \"2001-11-14T00:00:00\", \"2001-11-28T00:00:00\", \"2001-12-12T00:00:00\", \"2001-12-26T00:00:00\", \"2002-01-09T00:00:00\", \"2002-01-23T00:00:00\", \"2002-02-06T00:00:00\", \"2002-02-20T00:00:00\", \"2002-03-06T00:00:00\", \"2002-03-20T00:00:00\", \"2002-04-03T00:00:00\", \"2002-04-17T00:00:00\", \"2002-05-01T00:00:00\", \"2002-05-15T00:00:00\", \"2002-05-29T00:00:00\", \"2002-06-12T00:00:00\", \"2002-06-26T00:00:00\", \"2002-07-10T00:00:00\", \"2002-07-24T00:00:00\", \"2002-08-07T00:00:00\", \"2002-08-21T00:00:00\", \"2002-09-04T00:00:00\", \"2002-09-18T00:00:00\", \"2002-10-02T00:00:00\", \"2002-10-16T00:00:00\", \"2002-10-30T00:00:00\", \"2002-11-13T00:00:00\", \"2002-11-27T00:00:00\", \"2002-12-11T00:00:00\", \"2002-12-25T00:00:00\", \"2003-01-08T00:00:00\", \"2003-01-22T00:00:00\", \"2003-02-05T00:00:00\", \"2003-02-19T00:00:00\", \"2003-03-05T00:00:00\", \"2003-03-19T00:00:00\", \"2003-04-02T00:00:00\", \"2003-04-16T00:00:00\", \"2003-04-30T00:00:00\", \"2003-05-14T00:00:00\", \"2003-05-28T00:00:00\", \"2003-06-11T00:00:00\", \"2003-06-25T00:00:00\", \"2003-07-09T00:00:00\", \"2003-07-23T00:00:00\", \"2003-08-06T00:00:00\", \"2003-08-20T00:00:00\", \"2003-09-03T00:00:00\", \"2003-09-17T00:00:00\", \"2003-10-01T00:00:00\", \"2003-10-15T00:00:00\", \"2003-10-29T00:00:00\", \"2003-11-12T00:00:00\", \"2003-11-26T00:00:00\", \"2003-12-10T00:00:00\", \"2003-12-24T00:00:00\", \"2004-01-07T00:00:00\", \"2004-01-21T00:00:00\", \"2004-02-04T00:00:00\", \"2004-02-18T00:00:00\", \"2004-03-03T00:00:00\", \"2004-03-17T00:00:00\", \"2004-03-31T00:00:00\", \"2004-04-14T00:00:00\", \"2004-04-28T00:00:00\", \"2004-05-12T00:00:00\", \"2004-05-26T00:00:00\", \"2004-06-09T00:00:00\", \"2004-06-23T00:00:00\", \"2004-07-07T00:00:00\", \"2004-07-21T00:00:00\", \"2004-08-04T00:00:00\", \"2004-08-18T00:00:00\", \"2004-09-01T00:00:00\", \"2004-09-15T00:00:00\", \"2004-09-29T00:00:00\", \"2004-10-13T00:00:00\", \"2004-10-27T00:00:00\", \"2004-11-10T00:00:00\", \"2004-11-24T00:00:00\", \"2004-12-08T00:00:00\", \"2004-12-22T00:00:00\", \"2005-01-05T00:00:00\", \"2005-01-19T00:00:00\", \"2005-02-02T00:00:00\", \"2005-02-16T00:00:00\", \"2005-03-02T00:00:00\", \"2005-03-16T00:00:00\", \"2005-03-30T00:00:00\", \"2005-04-13T00:00:00\", \"2005-04-27T00:00:00\", \"2005-05-11T00:00:00\", \"2005-05-25T00:00:00\", \"2005-06-08T00:00:00\", \"2005-06-22T00:00:00\", \"2005-07-06T00:00:00\", \"2005-07-20T00:00:00\", \"2005-08-03T00:00:00\", \"2005-08-17T00:00:00\", \"2005-08-31T00:00:00\", \"2005-09-14T00:00:00\", \"2005-09-28T00:00:00\", \"2005-10-12T00:00:00\", \"2005-10-26T00:00:00\", \"2005-11-09T00:00:00\", \"2005-11-23T00:00:00\", \"2005-12-07T00:00:00\", \"2005-12-21T00:00:00\", \"2006-01-04T00:00:00\", \"2006-01-18T00:00:00\", \"2006-02-01T00:00:00\", \"2006-02-15T00:00:00\", \"2006-03-01T00:00:00\", \"2006-03-15T00:00:00\", \"2006-03-29T00:00:00\", \"2006-04-12T00:00:00\", \"2006-04-26T00:00:00\", \"2006-05-10T00:00:00\", \"2006-05-24T00:00:00\", \"2006-06-07T00:00:00\", \"2006-06-21T00:00:00\", \"2006-07-05T00:00:00\", \"2006-07-19T00:00:00\", \"2006-08-02T00:00:00\", \"2006-08-16T00:00:00\", \"2006-08-30T00:00:00\", \"2006-09-13T00:00:00\", \"2006-09-27T00:00:00\", \"2006-10-11T00:00:00\", \"2006-10-25T00:00:00\", \"2006-11-08T00:00:00\", \"2006-11-22T00:00:00\", \"2006-12-06T00:00:00\", \"2006-12-20T00:00:00\", \"2007-01-03T00:00:00\", \"2007-01-17T00:00:00\", \"2007-01-31T00:00:00\", \"2007-02-14T00:00:00\", \"2007-02-28T00:00:00\", \"2007-03-14T00:00:00\", \"2007-03-28T00:00:00\", \"2007-04-11T00:00:00\", \"2007-04-25T00:00:00\", \"2007-05-09T00:00:00\", \"2007-05-23T00:00:00\", \"2007-06-06T00:00:00\", \"2007-06-20T00:00:00\", \"2007-07-04T00:00:00\", \"2007-07-18T00:00:00\", \"2007-08-01T00:00:00\", \"2007-08-15T00:00:00\", \"2007-08-29T00:00:00\", \"2007-09-12T00:00:00\", \"2007-09-26T00:00:00\", \"2007-10-10T00:00:00\", \"2007-10-24T00:00:00\", \"2007-11-07T00:00:00\", \"2007-11-21T00:00:00\", \"2007-12-05T00:00:00\", \"2007-12-19T00:00:00\", \"2008-01-02T00:00:00\", \"2008-01-16T00:00:00\", \"2008-01-30T00:00:00\", \"2008-02-13T00:00:00\", \"2008-02-27T00:00:00\", \"2008-03-12T00:00:00\", \"2008-03-26T00:00:00\", \"2008-04-09T00:00:00\", \"2008-04-23T00:00:00\", \"2008-05-07T00:00:00\", \"2008-05-21T00:00:00\", \"2008-06-04T00:00:00\", \"2008-06-18T00:00:00\", \"2008-07-02T00:00:00\", \"2008-07-16T00:00:00\", \"2008-07-30T00:00:00\", \"2008-08-13T00:00:00\", \"2008-08-27T00:00:00\", \"2008-09-10T00:00:00\", \"2008-09-24T00:00:00\", \"2008-10-08T00:00:00\", \"2008-10-22T00:00:00\", \"2008-11-05T00:00:00\", \"2008-11-19T00:00:00\", \"2008-12-03T00:00:00\", \"2008-12-17T00:00:00\", \"2008-12-31T00:00:00\", \"2009-01-14T00:00:00\", \"2009-01-28T00:00:00\", \"2009-02-11T00:00:00\", \"2009-02-25T00:00:00\", \"2009-03-11T00:00:00\", \"2009-03-25T00:00:00\", \"2009-04-08T00:00:00\", \"2009-04-22T00:00:00\", \"2009-05-06T00:00:00\", \"2009-05-20T00:00:00\", \"2009-06-03T00:00:00\", \"2009-06-17T00:00:00\", \"2009-07-01T00:00:00\", \"2009-07-15T00:00:00\", \"2009-07-29T00:00:00\", \"2009-08-12T00:00:00\", \"2009-08-26T00:00:00\", \"2009-09-09T00:00:00\", \"2009-09-23T00:00:00\", \"2009-10-07T00:00:00\", \"2009-10-21T00:00:00\", \"2009-11-04T00:00:00\", \"2009-11-18T00:00:00\", \"2009-12-02T00:00:00\", \"2009-12-16T00:00:00\", \"2009-12-30T00:00:00\", \"2010-01-13T00:00:00\", \"2010-01-27T00:00:00\", \"2010-02-10T00:00:00\", \"2010-02-24T00:00:00\", \"2010-03-10T00:00:00\", \"2010-03-24T00:00:00\", \"2010-04-07T00:00:00\", \"2010-04-21T00:00:00\", \"2010-05-05T00:00:00\", \"2010-05-19T00:00:00\", \"2010-06-02T00:00:00\", \"2010-06-16T00:00:00\", \"2010-06-30T00:00:00\", \"2010-07-14T00:00:00\", \"2010-07-28T00:00:00\", \"2010-08-11T00:00:00\", \"2010-08-25T00:00:00\", \"2010-09-08T00:00:00\", \"2010-09-22T00:00:00\", \"2010-10-06T00:00:00\", \"2010-10-20T00:00:00\", \"2010-11-03T00:00:00\", \"2010-11-17T00:00:00\", \"2010-12-01T00:00:00\", \"2010-12-15T00:00:00\", \"2010-12-29T00:00:00\", \"2011-01-12T00:00:00\", \"2011-01-26T00:00:00\", \"2011-02-09T00:00:00\", \"2011-02-23T00:00:00\", \"2011-03-09T00:00:00\", \"2011-03-23T00:00:00\", \"2011-04-06T00:00:00\", \"2011-04-20T00:00:00\", \"2011-05-04T00:00:00\", \"2011-05-18T00:00:00\", \"2011-06-01T00:00:00\", \"2011-06-15T00:00:00\", \"2011-06-29T00:00:00\", \"2011-07-13T00:00:00\", \"2011-07-27T00:00:00\", \"2011-08-10T00:00:00\", \"2011-08-24T00:00:00\", \"2011-09-07T00:00:00\", \"2011-09-21T00:00:00\", \"2011-10-05T00:00:00\", \"2011-10-19T00:00:00\", \"2011-11-02T00:00:00\", \"2011-11-16T00:00:00\", \"2011-11-30T00:00:00\", \"2011-12-14T00:00:00\", \"2011-12-28T00:00:00\", \"2012-01-11T00:00:00\", \"2012-01-25T00:00:00\", \"2012-02-08T00:00:00\", \"2012-02-22T00:00:00\", \"2012-03-07T00:00:00\", \"2012-03-21T00:00:00\", \"2012-04-04T00:00:00\", \"2012-04-18T00:00:00\", \"2012-05-02T00:00:00\", \"2012-05-16T00:00:00\", \"2012-05-30T00:00:00\", \"2012-06-13T00:00:00\", \"2012-06-27T00:00:00\", \"2012-07-11T00:00:00\", \"2012-07-25T00:00:00\", \"2012-08-08T00:00:00\", \"2012-08-22T00:00:00\", \"2012-09-05T00:00:00\", \"2012-09-19T00:00:00\", \"2012-10-03T00:00:00\", \"2012-10-17T00:00:00\", \"2012-10-31T00:00:00\", \"2012-11-14T00:00:00\", \"2012-11-28T00:00:00\", \"2012-12-12T00:00:00\", \"2012-12-26T00:00:00\", \"2013-01-09T00:00:00\", \"2013-01-23T00:00:00\", \"2013-02-06T00:00:00\", \"2013-02-20T00:00:00\", \"2013-03-06T00:00:00\", \"2013-03-20T00:00:00\", \"2013-04-03T00:00:00\", \"2013-04-17T00:00:00\", \"2013-05-01T00:00:00\", \"2013-05-15T00:00:00\", \"2013-05-29T00:00:00\", \"2013-06-12T00:00:00\", \"2013-06-26T00:00:00\", \"2013-07-10T00:00:00\", \"2013-07-24T00:00:00\", \"2013-08-07T00:00:00\", \"2013-08-21T00:00:00\", \"2013-09-04T00:00:00\", \"2013-09-18T00:00:00\", \"2013-10-02T00:00:00\", \"2013-10-16T00:00:00\", \"2013-10-30T00:00:00\", \"2013-11-13T00:00:00\", \"2013-11-27T00:00:00\", \"2013-12-11T00:00:00\", \"2013-12-25T00:00:00\", \"2014-01-08T00:00:00\", \"2014-01-22T00:00:00\", \"2014-02-05T00:00:00\", \"2014-02-19T00:00:00\", \"2014-03-05T00:00:00\", \"2014-03-19T00:00:00\", \"2014-04-02T00:00:00\", \"2014-04-16T00:00:00\", \"2014-04-30T00:00:00\", \"2014-05-14T00:00:00\", \"2014-05-28T00:00:00\", \"2014-06-11T00:00:00\", \"2014-06-25T00:00:00\", \"2014-07-09T00:00:00\", \"2014-07-23T00:00:00\", \"2014-08-06T00:00:00\", \"2014-08-20T00:00:00\", \"2014-09-03T00:00:00\", \"2014-09-17T00:00:00\", \"2014-10-01T00:00:00\", \"2014-10-15T00:00:00\", \"2014-10-29T00:00:00\", \"2014-11-12T00:00:00\", \"2014-11-26T00:00:00\", \"2014-12-10T00:00:00\", \"2014-12-24T00:00:00\", \"2015-01-07T00:00:00\", \"2015-01-21T00:00:00\", \"2015-02-04T00:00:00\", \"2015-02-18T00:00:00\", \"2015-03-04T00:00:00\", \"2015-03-18T00:00:00\", \"2015-04-01T00:00:00\", \"2015-04-15T00:00:00\", \"2015-04-29T00:00:00\", \"2015-05-13T00:00:00\", \"2015-05-27T00:00:00\", \"2015-06-10T00:00:00\", \"2015-06-24T00:00:00\", \"2015-07-08T00:00:00\", \"2015-07-22T00:00:00\", \"2015-08-05T00:00:00\", \"2015-08-19T00:00:00\", \"2015-09-02T00:00:00\", \"2015-09-16T00:00:00\", \"2015-09-30T00:00:00\", \"2015-10-14T00:00:00\", \"2015-10-28T00:00:00\", \"2015-11-11T00:00:00\", \"2015-11-25T00:00:00\", \"2015-12-09T00:00:00\", \"2015-12-23T00:00:00\", \"2016-01-06T00:00:00\", \"2016-01-20T00:00:00\", \"2016-02-03T00:00:00\", \"2016-02-17T00:00:00\", \"2016-03-02T00:00:00\", \"2016-03-16T00:00:00\", \"2016-03-30T00:00:00\", \"2016-04-13T00:00:00\", \"2016-04-27T00:00:00\", \"2016-05-11T00:00:00\", \"2016-05-25T00:00:00\", \"2016-06-08T00:00:00\", \"2016-06-22T00:00:00\", \"2016-07-06T00:00:00\", \"2016-07-20T00:00:00\", \"2016-08-03T00:00:00\", \"2016-08-17T00:00:00\", \"2016-08-31T00:00:00\", \"2016-09-14T00:00:00\", \"2016-09-28T00:00:00\", \"2016-10-12T00:00:00\", \"2016-10-26T00:00:00\", \"2016-11-09T00:00:00\", \"2016-11-23T00:00:00\", \"2016-12-07T00:00:00\", \"2016-12-21T00:00:00\", \"2017-01-04T00:00:00\", \"2017-01-18T00:00:00\", \"2017-02-01T00:00:00\", \"2017-02-15T00:00:00\", \"2017-03-01T00:00:00\", \"2017-03-15T00:00:00\", \"2017-03-29T00:00:00\", \"2017-04-12T00:00:00\", \"2017-04-26T00:00:00\", \"2017-05-10T00:00:00\", \"2017-05-24T00:00:00\", \"2017-06-07T00:00:00\", \"2017-06-21T00:00:00\", \"2017-07-05T00:00:00\", \"2017-07-19T00:00:00\", \"2017-08-02T00:00:00\", \"2017-08-16T00:00:00\", \"2017-08-30T00:00:00\", \"2017-09-13T00:00:00\", \"2017-09-27T00:00:00\", \"2017-10-11T00:00:00\", \"2017-10-25T00:00:00\", \"2017-11-08T00:00:00\", \"2017-11-22T00:00:00\", \"2017-12-06T00:00:00\", \"2017-12-20T00:00:00\", \"2018-01-03T00:00:00\", \"2018-01-17T00:00:00\", \"2018-01-31T00:00:00\", \"2018-02-14T00:00:00\", \"2018-02-28T00:00:00\", \"2018-03-14T00:00:00\", \"2018-03-28T00:00:00\", \"2018-04-11T00:00:00\", \"2018-04-25T00:00:00\", \"2018-05-09T00:00:00\", \"2018-05-23T00:00:00\", \"2018-06-06T00:00:00\", \"2018-06-20T00:00:00\", \"2018-07-04T00:00:00\", \"2018-07-18T00:00:00\", \"2018-08-01T00:00:00\", \"2018-08-15T00:00:00\", \"2018-08-29T00:00:00\", \"2018-09-12T00:00:00\", \"2018-09-26T00:00:00\", \"2018-10-10T00:00:00\", \"2018-10-24T00:00:00\", \"2018-11-07T00:00:00\", \"2018-11-21T00:00:00\", \"2018-12-05T00:00:00\", \"2018-12-19T00:00:00\", \"2019-01-02T00:00:00\", \"2019-01-16T00:00:00\", \"2019-01-30T00:00:00\", \"2019-02-13T00:00:00\", \"2019-02-27T00:00:00\", \"2019-03-13T00:00:00\", \"2019-03-27T00:00:00\", \"2019-04-10T00:00:00\", \"2019-04-24T00:00:00\", \"2019-05-08T00:00:00\", \"2019-05-22T00:00:00\", \"2019-06-05T00:00:00\", \"2019-06-19T00:00:00\", \"2019-07-03T00:00:00\", \"2019-07-17T00:00:00\", \"2019-07-31T00:00:00\", \"2019-08-14T00:00:00\", \"2019-08-28T00:00:00\", \"2019-09-11T00:00:00\", \"2019-09-25T00:00:00\", \"2019-10-09T00:00:00\", \"2019-10-23T00:00:00\", \"2019-11-06T00:00:00\", \"2019-11-20T00:00:00\", \"2019-12-04T00:00:00\", \"2019-12-18T00:00:00\", \"2020-01-01T00:00:00\", \"2020-01-15T00:00:00\", \"2020-01-29T00:00:00\", \"2020-02-12T00:00:00\", \"2020-02-26T00:00:00\", \"2020-03-11T00:00:00\", \"2020-03-25T00:00:00\", \"2020-04-08T00:00:00\", \"2020-04-22T00:00:00\", \"2020-05-06T00:00:00\", \"2020-05-20T00:00:00\", \"2020-06-03T00:00:00\", \"2020-06-17T00:00:00\", \"2020-07-01T00:00:00\", \"2020-07-15T00:00:00\", \"2020-07-29T00:00:00\", \"2020-08-12T00:00:00\", \"2020-08-26T00:00:00\"], \"xaxis\": \"x2\", \"y\": [0.0, 0.0, 0.0, 0.0, 0.0, 0.0, 0.0, -0.20169329643249512, 0.0, 0.0, -0.3618313074111936, -0.21735942363739014, 0.0, 0.0, 0.0, 0.0, 0.0, 0.0, -0.4163767099380491, 0.8186809420585632, 0.5795085430145261, 0.0, 0.0, 0.0, 0.0, 0.0, 0.0, 0.0, 0.0, 0.0, 0.0, 0.0, 0.410083532333374, -3.9252569675445557, 0.0, 0.0, -0.7025572061538696, 0.0, 0.0, 0.0, 0.0, 0.0, 0.0, 0.0, 0.0, 0.0, 0.0, 0.0, 0.0, 0.0, 0.0, -0.3172446489334111, 0.0, 0.0, 0.0, 0.0, 0.9270087480545046, -2.295713186264038, -0.2410428524017334, 0.0, 0.0, 0.0, 0.0, 0.0, 0.0, 0.0, 0.0, 0.0, 0.0, -0.15366029739379883, 0.0, 0.0, -0.14357638359069846, 0.0, 0.0, 0.0, -3.2571330070495605, 0.0, 0.0, 0.0, 0.0, 0.0, 0.0, 0.0, 0.0, 0.0, 0.0, 0.0, 0.0, -2.5298247337341304, 1.6745035648345947, 0.0, 0.0, 0.0, 0.0, 1.643462896347046, 0.0, 0.0, 0.0, 0.0, 0.0, 0.0, 0.0, 0.0, 0.0, 0.0, 0.0, 0.0, 0.0, 0.0, 0.0, 0.0, 0.0, -0.43407583236694336, -0.8900012969970699, 0.0, 0.0, 0.0, 0.0, 0.0, 0.0, 0.0, 0.0, 0.0, 0.0, 0.0, 0.0, 3.9398268461227413, 0.0, 0.0, 0.0, 0.0, 0.0, 0.0, 0.0, 0.0, -0.5050768852233887, 0.0, -1.3102943897247314, 0.0, -0.7829463481903076, 0.0, 0.0, 0.0, 0.0, 0.0, 0.0, 0.0, 0.0, 0.0, 0.0, 1.23839282989502, 0.0, 0.0, 0.0, 0.0, 0.0, 0.0, 0.0, 0.0, 0.0, 0.0, 0.0, 0.0, 0.0, 0.6730635166168217, 0.0, 0.0, 0.0, 0.0, 0.0, 0.0, 0.0, 0.0, 0.0, 0.0, 2.47394061088562, 0.0, -1.4101219177246094, 0.0, 0.0, 0.0, 0.0, 0.0, 0.0, 0.0, 0.0, 0.0, 0.0, 0.0, 0.8282651901245117, -0.4358403682708738, 0.0, 0.0, 0.0, 0.0, 0.261181116104126, 0.0, 0.0, 0.0, 0.38518214225769043, -0.1732020378112793, 0.0, 0.0, 0.0, 0.0, 0.0, 0.0, 0.0, 0.0, 0.0, 0.0, 0.0, 0.0, 0.0, 0.0, 0.0, 0.0, -1.250413119792938, 0.0, -0.929097592830658, 0.0, 0.0, 0.0, 0.0, 0.0, 0.0, 0.0, 0.0, 0.0, 0.0, 0.0, 0.0, 0.0, 0.0, 0.0, 0.0, 0.0, 0.0, 0.0, 0.0, 0.0, -0.18066811561584495, -1.649763822555542, -2.6513153314590454, 0.0, 0.0, 0.0, 0.0, 0.0, 0.0, 0.0, 0.0, 0.0, 0.0, 0.0, 0.0, 0.0, 0.0, 0.0, 0.0, 0.0, 0.0, 0.0, 0.0, 0.8444596529006958, 1.0902538299560547, 0.0, 0.0, 0.0, -0.1471858024597168, 0.0, 0.0, 0.0, 0.0, 0.0, 0.0, -1.6783199310302734, 0.0, 0.0, 0.0, 0.0, 0.0, 0.0, 0.0, 0.0, 0.0, 0.0, 0.0, 0.0, 0.0, 0.0, 0.0, 4.027819633483887, -1.3313486576080322, -2.194725275039673, 0.0, -3.7238035202026367, 0.0, 1.232601523399353, 0.0, 0.0, 0.0, 0.0, -1.0109810829162595, 0.3302590847015381, 0.0, 0.0, 0.0, 0.0, 0.0, 0.0, 0.0, 0.0, 0.0, 0.4952158927917485, -1.178494691848755, 0.0, 0.0, -1.583839297294617, 0.0, 0.0, 0.0, 0.0, 0.0, 0.0, 0.0, 0.0, 0.0, 0.0, 0.0, 0.0, 0.0, 0.0, 0.0, 0.0, 0.0, 0.0, -2.0371587872505192, 0.0, 0.0, 0.0, 0.0, 0.0, 0.0, 1.3646893501281747, -0.7175048589706421, 0.0, 0.0, 0.0, 0.0, 0.0, 2.2360682487487793, 0.0, 0.0, 0.0, 0.0, 0.0, 0.0, 0.0, 0.0, 0.0, 0.0, 0.0, 0.0, 0.0, 0.0, 0.0, 0.0, 0.0, 0.0, 0.0, 0.0, 0.5607514381408693, 0.4215888977050781, 0.0, 0.0, 0.0, 0.0, 0.0, 0.0, 0.0, 0.0, 0.0, 0.0, -2.2109286785125732, 0.0, 0.0, 0.0, 0.0, 0.0, 0.0, 0.0, 0.0, 0.0, 0.0, -0.7265362739562988, 0.0, -0.5578575134277344, 0.0, 0.0, -1.50190007686615, 0.0, 0.0, 0.0, 0.0, 0.0, 0.0, 0.0, 0.0, -1.163264393806458, 0.0, 0.0, 0.0, 0.0, 0.0, 0.0, 0.0, 0.0, 0.0, 0.0, 0.0, 0.0, -1.0145243406295779, 0.0, 0.0, 0.0, 0.6363693475723267, 0.0, 0.0, -0.8156817555427551, 0.0, 0.0, -1.2606531381607056, 0.0, 0.0, -2.5266789197921753, 0.0, 0.0, 0.0, 0.0, 0.0, 0.0, 0.0, 0.0, 0.0, 0.0, -0.03057694435119629, 1.985735893249512, 0.0, 0.0, 0.0, 0.0, 0.0, 0.0, 0.0, 0.0, 0.0, 0.0, 0.0, 0.0, 0.0, 0.0, 0.0, 0.0, 1.0184473991394043, 0.0, 0.0, 0.0, 0.0, 0.0, 0.0, 0.0, 0.0, 0.0, 0.0, 1.1099933385849, 0.0, 0.0, 0.067268967628479, 0.0, 0.0, 0.0, 0.0, 0.0, 0.0, 0.0, 0.0, 0.40015923976898193, 0.0, 0.0, -1.6817954778671265, 0.0, 0.0, 0.0, 0.0, 0.0, 0.0, 0.0, 0.0, -0.4659881591796875, 0.0, 0.0, 0.0, 0.0, 0.0, 0.0, 0.0, 0.0, 0.0, 0.0, 0.0, 0.0, 0.0, 0.5193536281585693, -1.9826093912124636, 0.0, -4.672920227050781, 0.0, 0.0, 0.0, 0.0, 0.0, 0.0, 0.0, 0.0, 0.0, 0.0, 0.0, 0.0, -3.53006386756897, 0.0, 0.0, 0.0, 0.0, 0.0, 0.0, 0.0, 0.0, 0.0, 0.532177209854126, 0.0, 0.0, 0.05017900466918945, 0.0, 0.0, 0.0, 0.0, 0.0, 0.0, 0.0, 0.0, 0.0, 0.0, 0.2948682308197026, 0.0, 0.33654356002807617, 0.0, 0.0, 0.0, 0.0, 0.0, 0.0, 0.0, -0.19297365844249725, 0.0, 0.0, 0.0, 1.0499596595764165, 0.0, 0.22320032119750977, 0.0, 0.0, 0.0, 0.0, 0.0, 0.0, 0.0, -0.6439476013183594, 0.0, 0.0, 0.040354013442993164, -1.3207889199256897, 0.0, 1.617342472076416, 0.0, 0.0, 0.0, 0.0, 0.0, 0.0, 0.0, 0.0, 0.0, 0.0, 0.0, 0.10564947128295898, 0.0, 0.0, 1.53918194770813, 0.0, 0.0, 0.0, 0.0, 0.0, 0.0, 0.0, 0.0, -3.4978339672088614, 0.0, 0.12611550092697144, -0.28118157386779785, 0.0, 1.8123395442962646, -0.02951371297240257, 0.0, 0.0, -3.8092923164367676], \"yaxis\": \"y2\"}, {\"marker\": {\"color\": \"black\"}, \"mode\": \"lines+markers\", \"name\": \"PERSIANN Precipitation - 14 Day Rolling Median (mm)\", \"type\": \"scatter\", \"x\": [\"1997-01-01T00:00:00\", \"1997-01-15T00:00:00\", \"1997-01-29T00:00:00\", \"1997-02-12T00:00:00\", \"1997-02-26T00:00:00\", \"1997-03-12T00:00:00\", \"1997-03-26T00:00:00\", \"1997-04-09T00:00:00\", \"1997-04-23T00:00:00\", \"1997-05-07T00:00:00\", \"1997-05-21T00:00:00\", \"1997-06-04T00:00:00\", \"1997-06-18T00:00:00\", \"1997-07-02T00:00:00\", \"1997-07-16T00:00:00\", \"1997-07-30T00:00:00\", \"1997-08-13T00:00:00\", \"1997-08-27T00:00:00\", \"1997-09-10T00:00:00\", \"1997-09-24T00:00:00\", \"1997-10-08T00:00:00\", \"1997-10-22T00:00:00\", \"1997-11-05T00:00:00\", \"1997-11-19T00:00:00\", \"1997-12-03T00:00:00\", \"1997-12-17T00:00:00\", \"1997-12-31T00:00:00\", \"1998-01-14T00:00:00\", \"1998-01-28T00:00:00\", \"1998-02-11T00:00:00\", \"1998-02-25T00:00:00\", \"1998-03-11T00:00:00\", \"1998-03-25T00:00:00\", \"1998-04-08T00:00:00\", \"1998-04-22T00:00:00\", \"1998-05-06T00:00:00\", \"1998-05-20T00:00:00\", \"1998-06-03T00:00:00\", \"1998-06-17T00:00:00\", \"1998-07-01T00:00:00\", \"1998-07-15T00:00:00\", \"1998-07-29T00:00:00\", \"1998-08-12T00:00:00\", \"1998-08-26T00:00:00\", \"1998-09-09T00:00:00\", \"1998-09-23T00:00:00\", \"1998-10-07T00:00:00\", \"1998-10-21T00:00:00\", \"1998-11-04T00:00:00\", \"1998-11-18T00:00:00\", \"1998-12-02T00:00:00\", \"1998-12-16T00:00:00\", \"1998-12-30T00:00:00\", \"1999-01-13T00:00:00\", \"1999-01-27T00:00:00\", \"1999-02-10T00:00:00\", \"1999-02-24T00:00:00\", \"1999-03-10T00:00:00\", \"1999-03-24T00:00:00\", \"1999-04-07T00:00:00\", \"1999-04-21T00:00:00\", \"1999-05-05T00:00:00\", \"1999-05-19T00:00:00\", \"1999-06-02T00:00:00\", \"1999-06-16T00:00:00\", \"1999-06-30T00:00:00\", \"1999-07-14T00:00:00\", \"1999-07-28T00:00:00\", \"1999-08-11T00:00:00\", \"1999-08-25T00:00:00\", \"1999-09-08T00:00:00\", \"1999-09-22T00:00:00\", \"1999-10-06T00:00:00\", \"1999-10-20T00:00:00\", \"1999-11-03T00:00:00\", \"1999-11-17T00:00:00\", \"1999-12-01T00:00:00\", \"1999-12-15T00:00:00\", \"1999-12-29T00:00:00\", \"2000-01-12T00:00:00\", \"2000-01-26T00:00:00\", \"2000-02-09T00:00:00\", \"2000-02-23T00:00:00\", \"2000-03-08T00:00:00\", \"2000-03-22T00:00:00\", \"2000-04-05T00:00:00\", \"2000-04-19T00:00:00\", \"2000-05-03T00:00:00\", \"2000-05-17T00:00:00\", \"2000-05-31T00:00:00\", \"2000-06-14T00:00:00\", \"2000-06-28T00:00:00\", \"2000-07-12T00:00:00\", \"2000-07-26T00:00:00\", \"2000-08-09T00:00:00\", \"2000-08-23T00:00:00\", \"2000-09-06T00:00:00\", \"2000-09-20T00:00:00\", \"2000-10-04T00:00:00\", \"2000-10-18T00:00:00\", \"2000-11-01T00:00:00\", \"2000-11-15T00:00:00\", \"2000-11-29T00:00:00\", \"2000-12-13T00:00:00\", \"2000-12-27T00:00:00\", \"2001-01-10T00:00:00\", \"2001-01-24T00:00:00\", \"2001-02-07T00:00:00\", \"2001-02-21T00:00:00\", \"2001-03-07T00:00:00\", \"2001-03-21T00:00:00\", \"2001-04-04T00:00:00\", \"2001-04-18T00:00:00\", \"2001-05-02T00:00:00\", \"2001-05-16T00:00:00\", \"2001-05-30T00:00:00\", \"2001-06-13T00:00:00\", \"2001-06-27T00:00:00\", \"2001-07-11T00:00:00\", \"2001-07-25T00:00:00\", \"2001-08-08T00:00:00\", \"2001-08-22T00:00:00\", \"2001-09-05T00:00:00\", \"2001-09-19T00:00:00\", \"2001-10-03T00:00:00\", \"2001-10-17T00:00:00\", \"2001-10-31T00:00:00\", \"2001-11-14T00:00:00\", \"2001-11-28T00:00:00\", \"2001-12-12T00:00:00\", \"2001-12-26T00:00:00\", \"2002-01-09T00:00:00\", \"2002-01-23T00:00:00\", \"2002-02-06T00:00:00\", \"2002-02-20T00:00:00\", \"2002-03-06T00:00:00\", \"2002-03-20T00:00:00\", \"2002-04-03T00:00:00\", \"2002-04-17T00:00:00\", \"2002-05-01T00:00:00\", \"2002-05-15T00:00:00\", \"2002-05-29T00:00:00\", \"2002-06-12T00:00:00\", \"2002-06-26T00:00:00\", \"2002-07-10T00:00:00\", \"2002-07-24T00:00:00\", \"2002-08-07T00:00:00\", \"2002-08-21T00:00:00\", \"2002-09-04T00:00:00\", \"2002-09-18T00:00:00\", \"2002-10-02T00:00:00\", \"2002-10-16T00:00:00\", \"2002-10-30T00:00:00\", \"2002-11-13T00:00:00\", \"2002-11-27T00:00:00\", \"2002-12-11T00:00:00\", \"2002-12-25T00:00:00\", \"2003-01-08T00:00:00\", \"2003-01-22T00:00:00\", \"2003-02-05T00:00:00\", \"2003-02-19T00:00:00\", \"2003-03-05T00:00:00\", \"2003-03-19T00:00:00\", \"2003-04-02T00:00:00\", \"2003-04-16T00:00:00\", \"2003-04-30T00:00:00\", \"2003-05-14T00:00:00\", \"2003-05-28T00:00:00\", \"2003-06-11T00:00:00\", \"2003-06-25T00:00:00\", \"2003-07-09T00:00:00\", \"2003-07-23T00:00:00\", \"2003-08-06T00:00:00\", \"2003-08-20T00:00:00\", \"2003-09-03T00:00:00\", \"2003-09-17T00:00:00\", \"2003-10-01T00:00:00\", \"2003-10-15T00:00:00\", \"2003-10-29T00:00:00\", \"2003-11-12T00:00:00\", \"2003-11-26T00:00:00\", \"2003-12-10T00:00:00\", \"2003-12-24T00:00:00\", \"2004-01-07T00:00:00\", \"2004-01-21T00:00:00\", \"2004-02-04T00:00:00\", \"2004-02-18T00:00:00\", \"2004-03-03T00:00:00\", \"2004-03-17T00:00:00\", \"2004-03-31T00:00:00\", \"2004-04-14T00:00:00\", \"2004-04-28T00:00:00\", \"2004-05-12T00:00:00\", \"2004-05-26T00:00:00\", \"2004-06-09T00:00:00\", \"2004-06-23T00:00:00\", \"2004-07-07T00:00:00\", \"2004-07-21T00:00:00\", \"2004-08-04T00:00:00\", \"2004-08-18T00:00:00\", \"2004-09-01T00:00:00\", \"2004-09-15T00:00:00\", \"2004-09-29T00:00:00\", \"2004-10-13T00:00:00\", \"2004-10-27T00:00:00\", \"2004-11-10T00:00:00\", \"2004-11-24T00:00:00\", \"2004-12-08T00:00:00\", \"2004-12-22T00:00:00\", \"2005-01-05T00:00:00\", \"2005-01-19T00:00:00\", \"2005-02-02T00:00:00\", \"2005-02-16T00:00:00\", \"2005-03-02T00:00:00\", \"2005-03-16T00:00:00\", \"2005-03-30T00:00:00\", \"2005-04-13T00:00:00\", \"2005-04-27T00:00:00\", \"2005-05-11T00:00:00\", \"2005-05-25T00:00:00\", \"2005-06-08T00:00:00\", \"2005-06-22T00:00:00\", \"2005-07-06T00:00:00\", \"2005-07-20T00:00:00\", \"2005-08-03T00:00:00\", \"2005-08-17T00:00:00\", \"2005-08-31T00:00:00\", \"2005-09-14T00:00:00\", \"2005-09-28T00:00:00\", \"2005-10-12T00:00:00\", \"2005-10-26T00:00:00\", \"2005-11-09T00:00:00\", \"2005-11-23T00:00:00\", \"2005-12-07T00:00:00\", \"2005-12-21T00:00:00\", \"2006-01-04T00:00:00\", \"2006-01-18T00:00:00\", \"2006-02-01T00:00:00\", \"2006-02-15T00:00:00\", \"2006-03-01T00:00:00\", \"2006-03-15T00:00:00\", \"2006-03-29T00:00:00\", \"2006-04-12T00:00:00\", \"2006-04-26T00:00:00\", \"2006-05-10T00:00:00\", \"2006-05-24T00:00:00\", \"2006-06-07T00:00:00\", \"2006-06-21T00:00:00\", \"2006-07-05T00:00:00\", \"2006-07-19T00:00:00\", \"2006-08-02T00:00:00\", \"2006-08-16T00:00:00\", \"2006-08-30T00:00:00\", \"2006-09-13T00:00:00\", \"2006-09-27T00:00:00\", \"2006-10-11T00:00:00\", \"2006-10-25T00:00:00\", \"2006-11-08T00:00:00\", \"2006-11-22T00:00:00\", \"2006-12-06T00:00:00\", \"2006-12-20T00:00:00\", \"2007-01-03T00:00:00\", \"2007-01-17T00:00:00\", \"2007-01-31T00:00:00\", \"2007-02-14T00:00:00\", \"2007-02-28T00:00:00\", \"2007-03-14T00:00:00\", \"2007-03-28T00:00:00\", \"2007-04-11T00:00:00\", \"2007-04-25T00:00:00\", \"2007-05-09T00:00:00\", \"2007-05-23T00:00:00\", \"2007-06-06T00:00:00\", \"2007-06-20T00:00:00\", \"2007-07-04T00:00:00\", \"2007-07-18T00:00:00\", \"2007-08-01T00:00:00\", \"2007-08-15T00:00:00\", \"2007-08-29T00:00:00\", \"2007-09-12T00:00:00\", \"2007-09-26T00:00:00\", \"2007-10-10T00:00:00\", \"2007-10-24T00:00:00\", \"2007-11-07T00:00:00\", \"2007-11-21T00:00:00\", \"2007-12-05T00:00:00\", \"2007-12-19T00:00:00\", \"2008-01-02T00:00:00\", \"2008-01-16T00:00:00\", \"2008-01-30T00:00:00\", \"2008-02-13T00:00:00\", \"2008-02-27T00:00:00\", \"2008-03-12T00:00:00\", \"2008-03-26T00:00:00\", \"2008-04-09T00:00:00\", \"2008-04-23T00:00:00\", \"2008-05-07T00:00:00\", \"2008-05-21T00:00:00\", \"2008-06-04T00:00:00\", \"2008-06-18T00:00:00\", \"2008-07-02T00:00:00\", \"2008-07-16T00:00:00\", \"2008-07-30T00:00:00\", \"2008-08-13T00:00:00\", \"2008-08-27T00:00:00\", \"2008-09-10T00:00:00\", \"2008-09-24T00:00:00\", \"2008-10-08T00:00:00\", \"2008-10-22T00:00:00\", \"2008-11-05T00:00:00\", \"2008-11-19T00:00:00\", \"2008-12-03T00:00:00\", \"2008-12-17T00:00:00\", \"2008-12-31T00:00:00\", \"2009-01-14T00:00:00\", \"2009-01-28T00:00:00\", \"2009-02-11T00:00:00\", \"2009-02-25T00:00:00\", \"2009-03-11T00:00:00\", \"2009-03-25T00:00:00\", \"2009-04-08T00:00:00\", \"2009-04-22T00:00:00\", \"2009-05-06T00:00:00\", \"2009-05-20T00:00:00\", \"2009-06-03T00:00:00\", \"2009-06-17T00:00:00\", \"2009-07-01T00:00:00\", \"2009-07-15T00:00:00\", \"2009-07-29T00:00:00\", \"2009-08-12T00:00:00\", \"2009-08-26T00:00:00\", \"2009-09-09T00:00:00\", \"2009-09-23T00:00:00\", \"2009-10-07T00:00:00\", \"2009-10-21T00:00:00\", \"2009-11-04T00:00:00\", \"2009-11-18T00:00:00\", \"2009-12-02T00:00:00\", \"2009-12-16T00:00:00\", \"2009-12-30T00:00:00\", \"2010-01-13T00:00:00\", \"2010-01-27T00:00:00\", \"2010-02-10T00:00:00\", \"2010-02-24T00:00:00\", \"2010-03-10T00:00:00\", \"2010-03-24T00:00:00\", \"2010-04-07T00:00:00\", \"2010-04-21T00:00:00\", \"2010-05-05T00:00:00\", \"2010-05-19T00:00:00\", \"2010-06-02T00:00:00\", \"2010-06-16T00:00:00\", \"2010-06-30T00:00:00\", \"2010-07-14T00:00:00\", \"2010-07-28T00:00:00\", \"2010-08-11T00:00:00\", \"2010-08-25T00:00:00\", \"2010-09-08T00:00:00\", \"2010-09-22T00:00:00\", \"2010-10-06T00:00:00\", \"2010-10-20T00:00:00\", \"2010-11-03T00:00:00\", \"2010-11-17T00:00:00\", \"2010-12-01T00:00:00\", \"2010-12-15T00:00:00\", \"2010-12-29T00:00:00\", \"2011-01-12T00:00:00\", \"2011-01-26T00:00:00\", \"2011-02-09T00:00:00\", \"2011-02-23T00:00:00\", \"2011-03-09T00:00:00\", \"2011-03-23T00:00:00\", \"2011-04-06T00:00:00\", \"2011-04-20T00:00:00\", \"2011-05-04T00:00:00\", \"2011-05-18T00:00:00\", \"2011-06-01T00:00:00\", \"2011-06-15T00:00:00\", \"2011-06-29T00:00:00\", \"2011-07-13T00:00:00\", \"2011-07-27T00:00:00\", \"2011-08-10T00:00:00\", \"2011-08-24T00:00:00\", \"2011-09-07T00:00:00\", \"2011-09-21T00:00:00\", \"2011-10-05T00:00:00\", \"2011-10-19T00:00:00\", \"2011-11-02T00:00:00\", \"2011-11-16T00:00:00\", \"2011-11-30T00:00:00\", \"2011-12-14T00:00:00\", \"2011-12-28T00:00:00\", \"2012-01-11T00:00:00\", \"2012-01-25T00:00:00\", \"2012-02-08T00:00:00\", \"2012-02-22T00:00:00\", \"2012-03-07T00:00:00\", \"2012-03-21T00:00:00\", \"2012-04-04T00:00:00\", \"2012-04-18T00:00:00\", \"2012-05-02T00:00:00\", \"2012-05-16T00:00:00\", \"2012-05-30T00:00:00\", \"2012-06-13T00:00:00\", \"2012-06-27T00:00:00\", \"2012-07-11T00:00:00\", \"2012-07-25T00:00:00\", \"2012-08-08T00:00:00\", \"2012-08-22T00:00:00\", \"2012-09-05T00:00:00\", \"2012-09-19T00:00:00\", \"2012-10-03T00:00:00\", \"2012-10-17T00:00:00\", \"2012-10-31T00:00:00\", \"2012-11-14T00:00:00\", \"2012-11-28T00:00:00\", \"2012-12-12T00:00:00\", \"2012-12-26T00:00:00\", \"2013-01-09T00:00:00\", \"2013-01-23T00:00:00\", \"2013-02-06T00:00:00\", \"2013-02-20T00:00:00\", \"2013-03-06T00:00:00\", \"2013-03-20T00:00:00\", \"2013-04-03T00:00:00\", \"2013-04-17T00:00:00\", \"2013-05-01T00:00:00\", \"2013-05-15T00:00:00\", \"2013-05-29T00:00:00\", \"2013-06-12T00:00:00\", \"2013-06-26T00:00:00\", \"2013-07-10T00:00:00\", \"2013-07-24T00:00:00\", \"2013-08-07T00:00:00\", \"2013-08-21T00:00:00\", \"2013-09-04T00:00:00\", \"2013-09-18T00:00:00\", \"2013-10-02T00:00:00\", \"2013-10-16T00:00:00\", \"2013-10-30T00:00:00\", \"2013-11-13T00:00:00\", \"2013-11-27T00:00:00\", \"2013-12-11T00:00:00\", \"2013-12-25T00:00:00\", \"2014-01-08T00:00:00\", \"2014-01-22T00:00:00\", \"2014-02-05T00:00:00\", \"2014-02-19T00:00:00\", \"2014-03-05T00:00:00\", \"2014-03-19T00:00:00\", \"2014-04-02T00:00:00\", \"2014-04-16T00:00:00\", \"2014-04-30T00:00:00\", \"2014-05-14T00:00:00\", \"2014-05-28T00:00:00\", \"2014-06-11T00:00:00\", \"2014-06-25T00:00:00\", \"2014-07-09T00:00:00\", \"2014-07-23T00:00:00\", \"2014-08-06T00:00:00\", \"2014-08-20T00:00:00\", \"2014-09-03T00:00:00\", \"2014-09-17T00:00:00\", \"2014-10-01T00:00:00\", \"2014-10-15T00:00:00\", \"2014-10-29T00:00:00\", \"2014-11-12T00:00:00\", \"2014-11-26T00:00:00\", \"2014-12-10T00:00:00\", \"2014-12-24T00:00:00\", \"2015-01-07T00:00:00\", \"2015-01-21T00:00:00\", \"2015-02-04T00:00:00\", \"2015-02-18T00:00:00\", \"2015-03-04T00:00:00\", \"2015-03-18T00:00:00\", \"2015-04-01T00:00:00\", \"2015-04-15T00:00:00\", \"2015-04-29T00:00:00\", \"2015-05-13T00:00:00\", \"2015-05-27T00:00:00\", \"2015-06-10T00:00:00\", \"2015-06-24T00:00:00\", \"2015-07-08T00:00:00\", \"2015-07-22T00:00:00\", \"2015-08-05T00:00:00\", \"2015-08-19T00:00:00\", \"2015-09-02T00:00:00\", \"2015-09-16T00:00:00\", \"2015-09-30T00:00:00\", \"2015-10-14T00:00:00\", \"2015-10-28T00:00:00\", \"2015-11-11T00:00:00\", \"2015-11-25T00:00:00\", \"2015-12-09T00:00:00\", \"2015-12-23T00:00:00\", \"2016-01-06T00:00:00\", \"2016-01-20T00:00:00\", \"2016-02-03T00:00:00\", \"2016-02-17T00:00:00\", \"2016-03-02T00:00:00\", \"2016-03-16T00:00:00\", \"2016-03-30T00:00:00\", \"2016-04-13T00:00:00\", \"2016-04-27T00:00:00\", \"2016-05-11T00:00:00\", \"2016-05-25T00:00:00\", \"2016-06-08T00:00:00\", \"2016-06-22T00:00:00\", \"2016-07-06T00:00:00\", \"2016-07-20T00:00:00\", \"2016-08-03T00:00:00\", \"2016-08-17T00:00:00\", \"2016-08-31T00:00:00\", \"2016-09-14T00:00:00\", \"2016-09-28T00:00:00\", \"2016-10-12T00:00:00\", \"2016-10-26T00:00:00\", \"2016-11-09T00:00:00\", \"2016-11-23T00:00:00\", \"2016-12-07T00:00:00\", \"2016-12-21T00:00:00\", \"2017-01-04T00:00:00\", \"2017-01-18T00:00:00\", \"2017-02-01T00:00:00\", \"2017-02-15T00:00:00\", \"2017-03-01T00:00:00\", \"2017-03-15T00:00:00\", \"2017-03-29T00:00:00\", \"2017-04-12T00:00:00\", \"2017-04-26T00:00:00\", \"2017-05-10T00:00:00\", \"2017-05-24T00:00:00\", \"2017-06-07T00:00:00\", \"2017-06-21T00:00:00\", \"2017-07-05T00:00:00\", \"2017-07-19T00:00:00\", \"2017-08-02T00:00:00\", \"2017-08-16T00:00:00\", \"2017-08-30T00:00:00\", \"2017-09-13T00:00:00\", \"2017-09-27T00:00:00\", \"2017-10-11T00:00:00\", \"2017-10-25T00:00:00\", \"2017-11-08T00:00:00\", \"2017-11-22T00:00:00\", \"2017-12-06T00:00:00\", \"2017-12-20T00:00:00\", \"2018-01-03T00:00:00\", \"2018-01-17T00:00:00\", \"2018-01-31T00:00:00\", \"2018-02-14T00:00:00\", \"2018-02-28T00:00:00\", \"2018-03-14T00:00:00\", \"2018-03-28T00:00:00\", \"2018-04-11T00:00:00\", \"2018-04-25T00:00:00\", \"2018-05-09T00:00:00\", \"2018-05-23T00:00:00\", \"2018-06-06T00:00:00\", \"2018-06-20T00:00:00\", \"2018-07-04T00:00:00\", \"2018-07-18T00:00:00\", \"2018-08-01T00:00:00\", \"2018-08-15T00:00:00\", \"2018-08-29T00:00:00\", \"2018-09-12T00:00:00\", \"2018-09-26T00:00:00\", \"2018-10-10T00:00:00\", \"2018-10-24T00:00:00\", \"2018-11-07T00:00:00\", \"2018-11-21T00:00:00\", \"2018-12-05T00:00:00\", \"2018-12-19T00:00:00\", \"2019-01-02T00:00:00\", \"2019-01-16T00:00:00\", \"2019-01-30T00:00:00\", \"2019-02-13T00:00:00\", \"2019-02-27T00:00:00\", \"2019-03-13T00:00:00\", \"2019-03-27T00:00:00\", \"2019-04-10T00:00:00\", \"2019-04-24T00:00:00\", \"2019-05-08T00:00:00\", \"2019-05-22T00:00:00\", \"2019-06-05T00:00:00\", \"2019-06-19T00:00:00\"], \"xaxis\": \"x2\", \"y\": [0.4561354517936706, 0.6600753664970396, 0.9284676313400266, -0.7380894720554352, 0.48968416452407837, -0.2357128411531448, 0.0, -0.712361097335815, 0.16117048263549805, -0.8766141682863235, 0.3409457206726074, 1.1329843997955322, -0.34810352325439464, 0.012154877185821533, -0.18480928242206573, -0.409488320350647, -0.0095244571566582, -0.3939487636089324, -0.5758193135261536, 1.2108640372753143, -1.2694001048803334, 0.47010213136672974, -0.20455873012542725, -0.4060679078102112, 0.0, 0.0, 0.0, 0.0, -0.03331789374351496, -0.3841090649366378, -0.14943309128284465, 0.8415367603302002, -0.41924309730529796, 0.07337415218353271, 0.6265847682952878, -0.11432445049285889, -1.7958397567272186, -0.4761250019073485, -0.4693581461906432, -0.8526495099067679, 0.3795932084321978, -1.8125431537628174, -0.22175607085227922, -0.560952231287956, 0.2606368064880369, 0.38482582569122314, -1.114589661359787, -0.18659019470214866, 1.3578639030456543, -1.391903042793274, 1.0920365452766416, -0.2881997823715208, -0.8898947238922118, 0.0, 0.3933091163635254, -0.49338078498840376, -0.5653367266058917, -0.4001206159591677, 0.833979606628418, -0.3167066574096684, -1.3601461052894592, -0.5818665027618408, 0.23528099060058616, -0.1331652104854587, 0.7618114948272705, -0.6431611180305481, 0.7173585891723633, 0.21295431256294262, 2.2209392786026, -1.1230387091636658, -0.6139958798885345, 0.4821230173110962, -1.2358026504516606, -0.253185510635376, -3.152840316295624, -1.3070502281188965, -0.6682461500167848, -0.48910430073738104, 0.0, 0.936253011226654, 0.07208728790283203, 0.3016042709350585, 1.1965429186820984, 0.23618030548095714, -0.7584447562694558, -0.9079980850219722, -0.10787093639373779, 0.4480547308921814, 0.639575183391571, -0.480823397636414, 0.46376585960388206, 0.5867082998156545, 0.5894035100936887, -0.9912552833557124, -0.40537983179092424, 1.8814855217933655, 0.9535971879959103, -0.6634619235992432, -1.0283487439155579, 0.8999636173248287, 0.17858044803142548, 0.14992517232894897, -0.21145796775817882, -0.08275574445724487, -0.13027819991111733, 0.2408885359764099, -0.32469260692596436, 3.2055690586566925, 0.05193181335926034, -0.10650011897087097, -0.40747135877609253, 1.17314875125885, -1.0577406883239746, -0.1811174154281625, -1.7071373462676993, 0.6646262407302855, -0.295275092124939, 0.12978321313858032, -0.685588002204895, -0.11378228664398193, 0.06404846906661987, -0.9529831409454347, 0.058391928672790305, -0.5356968641281128, 0.011899709701537975, -0.7030738592147827, -0.1273107528686523, -1.4611022472381594, -0.08543062210083008, 0.04370296001434282, 0.22834642231464386, -0.24182137846946722, 0.24582737684249878, -0.14838354289531708, -0.2657723426818848, 1.5668976306915283, -1.4532415270805357, 0.18485961854457855, 0.17574939131736755, 0.06610620021820113, -1.403335452079773, 0.7610679268836973, -0.2829791903495788, 0.658845588564873, -0.9405876696109772, 0.2245831191539765, -0.02168129384517667, 1.4965356141328812, -0.1322897896170614, -0.21541327238082897, 0.1925349533557883, 1.9063715934753427, -1.2185791432857513, 0.4093965291976929, 0.7112503051757812, -1.2464878559112549, -0.28229500353336334, 0.0, 0.0, 1.2256163656711578, 0.3938662111759186, 0.07965168356895447, -0.15496206283569336, 1.037166565656662, -1.0165398120880127, 1.0506921112537384, -1.4887033700942993, -0.5762130618095399, 0.49875742197036743, -0.12296700477600109, 0.6772617995738983, -0.9255319237709045, 1.1058973670005798, -0.4241259098052978, 0.4568384885787964, -0.9610879421234149, -0.3545548915863037, 0.4198939651250835, -0.20133808255195595, 0.59530246257782, -1.5762913227081299, -0.27596235275268555, 0.0, -0.2828105688095093, 0.0, 0.07982096076011658, 0.21316534280776978, -0.17474520206451416, -0.3957779109477997, 0.5391739010810852, 0.3142352104187016, 1.1030699014663687, -1.1153839826583865, -1.812486410140992, -0.3313254714012147, -0.06884813308715831, 0.5051591619849205, -1.8997893035411835, 0.47489888966083527, -0.020167410373687633, -0.10756790637969882, -0.4835050106048585, 0.6425634324550629, -0.042472660541534424, -0.16227293014526367, 0.7624512314796448, 0.6840837001800537, -0.6403732895851126, -0.24760505557060242, -0.3279738426208494, 0.5730688571929932, -0.3315398693084717, 0.0, 0.3129906952381136, -0.042230039834976196, -0.7883965522050858, 0.4162418842315676, -1.7339226007461546, -1.5003990530967712, 0.683370947837829, -1.9220438003540035, 0.5582452267408371, 0.0840984582901001, -0.1668565273284912, 0.4791249334812165, 0.375841647386551, -0.4999103546142578, 0.3606112599372864, -0.8174667358398438, -0.7425951957702636, 1.0909349918365479, 0.9824570417404175, -0.10332933068275452, -0.6526343822479248, 0.0, 0.10311156511306763, 0.0, 0.20546460151672363, 0.20666617155075073, 0.9820618629455566, -0.3883245587348937, -0.4358158707618711, 0.355529487133026, -0.4141290187835689, -3.5092418193817148, 2.0902339220046997, 0.5684555172920227, -0.46477800607681274, 0.3074224591255188, -0.7259181216359138, 0.35573160648345953, -1.1684351563453677, 0.29529741406440735, -0.9865863174200058, 1.4163702726364136, -0.4938817620277405, 0.8786829710006713, 0.02058506011962913, 0.28832072019577015, -0.18186569213867182, -1.2437567710876458, 0.22147759795188887, 0.0, 0.0, 0.0, 1.4772939980030062, -0.32016137242317244, 0.4573089182376857, -0.9100303649902326, -0.5181419253349306, -0.6936570405960083, 0.16906756162643455, 0.4921534210443494, -0.20410016179084778, 0.21306903660297372, 0.8051320910453795, -0.6865858137607574, -0.7680585384368899, -0.4793813228607178, 1.3237903118133538, -0.16942799091339134, -0.6028738021850586, -0.07946050167083751, 0.8909636586904526, -0.6186191141605359, 0.11833775043487549, -0.7705219984054565, 0.0, 0.2582458853721619, 0.0, -0.5954422354698181, 0.0, 0.45421874523162864, 0.3480397090315819, 0.10640645027160656, -0.7433419227600095, 1.2001224160194397, -1.9754328131675716, -0.20648813247680708, 0.27122402191162065, 1.0971035957336426, -1.4763338565826416, -0.4633802026510239, -0.8409325182437897, -1.2510754466056824, 0.3554675877094269, 0.8315032720565796, -0.3255279064178471, -0.28252774477005005, 1.151601791381836, 1.765167474746705, -2.1973944902420044, 0.0, 0.0, -0.37590938806533813, 1.9656834602355957, -1.2255914211273193, -0.6851503849029542, 0.38819167017936684, -0.50556480884552, 0.5177188515663148, -0.2491307258605957, 0.28983843326568604, 0.13692593574523948, 0.06154286861419678, -0.8204731941223145, 0.3215951323509215, 0.6220472455024719, 0.2649032771587372, -1.0458547472953796, 1.03334940969944, 0.06934440135955777, 0.13850416243076324, -0.07992005348205566, -0.09133490920066833, 0.12628126144409202, -0.24996215105056796, 0.05708244442939758, -0.04017770290374745, 0.0, 0.0, -0.12420579046010972, -0.2164435088634491, 0.7251819074153898, -0.5087938606739044, 0.37243640422821045, -1.6892893314361572, 0.3565121591091156, 0.42317192256450653, 0.09412467479705855, 0.14021605253219593, -0.2795417159795761, -0.20418095588684104, -0.44715860486030584, -1.662455141544342, 0.22588732838630665, 1.98801851272583, -0.39512367546558375, 0.2794610857963561, -0.4208906292915345, -0.3324698805809022, 0.49815833568572987, 0.3334532827138901, 0.526043266057968, -0.012476831674575473, 0.42216753959655773, 0.1889767348766327, 0.3960483148694039, 0.10005748271942139, 0.1237167790532112, 0.0, -0.04073715209960915, 1.5265070199966433, 1.1471201181411745, -0.3408063054084779, -0.4004962444305421, 0.24467733502388006, 0.21707409620285023, 0.3273952603340149, -0.5692011117935181, -0.015568122267723541, 1.6182640194892886, -0.13896751403808594, 1.079899251461029, 0.009743452072143999, -0.25056999921798717, -0.7463481724262238, 0.7431393861770627, -0.8184938430786142, 0.6764422655105593, 0.0, 0.4684795439243317, 0.5321071147918705, 0.17071843147277832, 0.0, 0.12160611152648881, -1.293597221374511, -0.13452875614166282, -1.1356216669082646, 0.037628769874572754, -1.015282869338989, -0.8445965498685836, 0.10645246505737305, -0.20527933537960052, 0.4580504596233368, 0.8331038355827333, -0.27132327854633354, -0.5564929842948914, -0.11641250550746918, 0.08585967123508452, 0.7846732139587403, -0.04432773590087846, -1.3792096227407455, 0.7544618844985962, -0.010390356183052035, 0.2618779689073562, 0.06630018353462219, -0.3518667668104172, 0.0, 0.0, -0.29247927665710494, -0.15108288824558233, -0.006588667631149292, 0.788423664867878, -1.1787142753601074, 0.8483821153640749, 0.07789069414138788, 0.2682852745056148, -0.3850933238863945, -0.723153829574585, -0.6055127680301664, 0.719586610794068, -0.30869127810001373, 0.07944965362548762, 0.490431398153305, 2.0845914483070374, -0.8773975521326067, 0.46450111269950956, -0.04215615987777699, -0.8109157383441923, -0.1587628126144408, -1.0381901860237122, 0.0, 0.14678213000297546, 0.548162430524826, -0.1381145715713501, 0.5774598717689513, -0.6979610919952393, -0.519599974155426, -0.8154187500476839, 0.23836946487426736, 0.2962557077407839, 1.1900195479393005, -1.0304912924766536, 0.10347795486450195, 0.8823250532150269, -0.7233439683914181, -0.9282262176275253, 0.15792614221572876, -0.1114673987030983, 0.2720886170864105, -0.1581689715385437, -0.5949594974517822, 0.258534133434296, -0.3352004289627075, 1.5795930624008179, -0.05401849746704129, 1.4215551018714905, -1.1652625799179077, 0.0, 0.0, -0.08184877038002014, 0.30316877365112305, -0.25421349704265594, 0.1643762141466141, 0.5401450991630554, 0.48263418674468916, -1.6469159126281736, 0.2348954677581787, -0.5932913124561311, 0.220892071723938, -0.07835245132446289, 0.4052409529685974, -0.4333747327327728, -0.4262959063053132, -0.21417450904846191, -0.12811180949211126, 0.11947059631347651, 0.9311096668243408, -0.2301366925239563, -0.15792779624462128, -0.44648666679859167, 1.1278098970651627, -0.4354958534240722, 1.1788423657417297, 0.0, -0.46477746963501, 0.0, 0.541872799396515, 1.5471493005752563, -1.8083565235137937, 0.2162747085094452, 2.3776804208755493, 3.0309624671936035, -1.2608399391174316, 0.4293454289436341, 0.08603166043758395, -0.28188955783843983, -0.8023003339767457, -0.9684369564056395, -0.49375170469284085, 0.19820207357406616, 0.2599648535251615, -0.21515297889709517, 0.5302142500877381, -0.3540138006210326, -0.7311974763870235, -2.968102872371674, 1.1754867732524872, 0.34999150037765514, -0.7239420413970948, -0.0017516613006591797, -0.8771539926528936, 0.0, -0.552883207798004, 0.2703344821929935, -0.07653033733367942, 0.991576761007309, -0.6849727630615234, -1.8666159510612483, -4.652743339538572, -1.972677350044251, 0.5889706015586853, 0.6511893272399898, 0.0031233131885528564, 0.6302022337913511, -0.10270889103412623, 0.42558562755584717, 0.022398948669433705, -0.2820336818695066, -1.7905632257461548, 2.106998085975648, 0.119294211268425, -1.7923324257135391, -1.7038041800260544, 0.40406332910060927, 0.0, 0.3105543851852417, -0.09384748339653026, 0.5646410286426544, 0.0, 0.3095593452453613, 0.0, -0.20806321501731884, 0.13171708583831787, 0.9228494763374329, -0.6312870979309089, 0.7524408698081967, -1.0225559771060944, -0.4947989583015443, -0.1350182294845581, -0.22301176190376276, 0.14205554127693176, 0.003379642963409424, -0.40409304946660995, 0.39006006717681885, -0.4195480942726135, -0.42053520679473877, -0.10347497463226302, -0.968576490879059, 0.4967479109764099, -0.1528691053390503, -0.3258336782455447, -0.2622792720794678, 0.23322921991348272, -0.34504902362823486, 0.19523730874061562, 0.5228343009948739, 0.13165885210037187, 0.3680799007415772, 0.8305506408214571, 0.6570626497268679, 1.0536240935325623, 0.06031221151351929, 2.122933030128479, -0.8667553067207338, 0.09865665435790971], \"yaxis\": \"y2\"}, {\"marker\": {\"color\": \"purple\"}, \"mode\": \"lines+markers\", \"name\": \"TerraClimate PDSI\", \"type\": \"scatter\", \"x\": [\"1997-01-01T00:00:00\", \"1997-02-01T00:00:00\", \"1997-03-01T00:00:00\", \"1997-04-01T00:00:00\", \"1997-05-01T00:00:00\", \"1997-06-01T00:00:00\", \"1997-07-01T00:00:00\", \"1997-08-01T00:00:00\", \"1997-09-01T00:00:00\", \"1997-10-01T00:00:00\", \"1997-11-01T00:00:00\", \"1997-12-01T00:00:00\", \"1998-01-01T00:00:00\", \"1998-02-01T00:00:00\", \"1998-03-01T00:00:00\", \"1998-04-01T00:00:00\", \"1998-05-01T00:00:00\", \"1998-06-01T00:00:00\", \"1998-07-01T00:00:00\", \"1998-08-01T00:00:00\", \"1998-09-01T00:00:00\", \"1998-10-01T00:00:00\", \"1998-11-01T00:00:00\", \"1998-12-01T00:00:00\", \"1999-01-01T00:00:00\", \"1999-02-01T00:00:00\", \"1999-03-01T00:00:00\", \"1999-04-01T00:00:00\", \"1999-05-01T00:00:00\", \"1999-06-01T00:00:00\", \"1999-07-01T00:00:00\", \"1999-08-01T00:00:00\", \"1999-09-01T00:00:00\", \"1999-10-01T00:00:00\", \"1999-11-01T00:00:00\", \"1999-12-01T00:00:00\", \"2000-01-01T00:00:00\", \"2000-02-01T00:00:00\", \"2000-03-01T00:00:00\", \"2000-04-01T00:00:00\", \"2000-05-01T00:00:00\", \"2000-06-01T00:00:00\", \"2000-07-01T00:00:00\", \"2000-08-01T00:00:00\", \"2000-09-01T00:00:00\", \"2000-10-01T00:00:00\", \"2000-11-01T00:00:00\", \"2000-12-01T00:00:00\", \"2001-01-01T00:00:00\", \"2001-02-01T00:00:00\", \"2001-03-01T00:00:00\", \"2001-04-01T00:00:00\", \"2001-05-01T00:00:00\", \"2001-06-01T00:00:00\", \"2001-07-01T00:00:00\", \"2001-08-01T00:00:00\", \"2001-09-01T00:00:00\", \"2001-10-01T00:00:00\", \"2001-11-01T00:00:00\", \"2001-12-01T00:00:00\", \"2002-01-01T00:00:00\", \"2002-02-01T00:00:00\", \"2002-03-01T00:00:00\", \"2002-04-01T00:00:00\", \"2002-05-01T00:00:00\", \"2002-06-01T00:00:00\", \"2002-07-01T00:00:00\", \"2002-08-01T00:00:00\", \"2002-09-01T00:00:00\", \"2002-10-01T00:00:00\", \"2002-11-01T00:00:00\", \"2002-12-01T00:00:00\", \"2003-01-01T00:00:00\", \"2003-02-01T00:00:00\", \"2003-03-01T00:00:00\", \"2003-04-01T00:00:00\", \"2003-05-01T00:00:00\", \"2003-06-01T00:00:00\", \"2003-07-01T00:00:00\", \"2003-08-01T00:00:00\", \"2003-09-01T00:00:00\", \"2003-10-01T00:00:00\", \"2003-11-01T00:00:00\", \"2003-12-01T00:00:00\", \"2004-01-01T00:00:00\", \"2004-02-01T00:00:00\", \"2004-03-01T00:00:00\", \"2004-04-01T00:00:00\", \"2004-05-01T00:00:00\", \"2004-06-01T00:00:00\", \"2004-07-01T00:00:00\", \"2004-08-01T00:00:00\", \"2004-09-01T00:00:00\", \"2004-10-01T00:00:00\", \"2004-11-01T00:00:00\", \"2004-12-01T00:00:00\", \"2005-01-01T00:00:00\", \"2005-02-01T00:00:00\", \"2005-03-01T00:00:00\", \"2005-04-01T00:00:00\", \"2005-05-01T00:00:00\", \"2005-06-01T00:00:00\", \"2005-07-01T00:00:00\", \"2005-08-01T00:00:00\", \"2005-09-01T00:00:00\", \"2005-10-01T00:00:00\", \"2005-11-01T00:00:00\", \"2005-12-01T00:00:00\", \"2006-01-01T00:00:00\", \"2006-02-01T00:00:00\", \"2006-03-01T00:00:00\", \"2006-04-01T00:00:00\", \"2006-05-01T00:00:00\", \"2006-06-01T00:00:00\", \"2006-07-01T00:00:00\", \"2006-08-01T00:00:00\", \"2006-09-01T00:00:00\", \"2006-10-01T00:00:00\", \"2006-11-01T00:00:00\", \"2006-12-01T00:00:00\", \"2007-01-01T00:00:00\", \"2007-02-01T00:00:00\", \"2007-03-01T00:00:00\", \"2007-04-01T00:00:00\", \"2007-05-01T00:00:00\", \"2007-06-01T00:00:00\", \"2007-07-01T00:00:00\", \"2007-08-01T00:00:00\", \"2007-09-01T00:00:00\", \"2007-10-01T00:00:00\", \"2007-11-01T00:00:00\", \"2007-12-01T00:00:00\", \"2008-01-01T00:00:00\", \"2008-02-01T00:00:00\", \"2008-03-01T00:00:00\", \"2008-04-01T00:00:00\", \"2008-05-01T00:00:00\", \"2008-06-01T00:00:00\", \"2008-07-01T00:00:00\", \"2008-08-01T00:00:00\", \"2008-09-01T00:00:00\", \"2008-10-01T00:00:00\", \"2008-11-01T00:00:00\", \"2008-12-01T00:00:00\", \"2009-01-01T00:00:00\", \"2009-02-01T00:00:00\", \"2009-03-01T00:00:00\", \"2009-04-01T00:00:00\", \"2009-05-01T00:00:00\", \"2009-06-01T00:00:00\", \"2009-07-01T00:00:00\", \"2009-08-01T00:00:00\", \"2009-09-01T00:00:00\", \"2009-10-01T00:00:00\", \"2009-11-01T00:00:00\", \"2009-12-01T00:00:00\", \"2010-01-01T00:00:00\", \"2010-02-01T00:00:00\", \"2010-03-01T00:00:00\", \"2010-04-01T00:00:00\", \"2010-05-01T00:00:00\", \"2010-06-01T00:00:00\", \"2010-07-01T00:00:00\", \"2010-08-01T00:00:00\", \"2010-09-01T00:00:00\", \"2010-10-01T00:00:00\", \"2010-11-01T00:00:00\", \"2010-12-01T00:00:00\", \"2011-01-01T00:00:00\", \"2011-02-01T00:00:00\", \"2011-03-01T00:00:00\", \"2011-04-01T00:00:00\", \"2011-05-01T00:00:00\", \"2011-06-01T00:00:00\", \"2011-07-01T00:00:00\", \"2011-08-01T00:00:00\", \"2011-09-01T00:00:00\", \"2011-10-01T00:00:00\", \"2011-11-01T00:00:00\", \"2011-12-01T00:00:00\", \"2012-01-01T00:00:00\", \"2012-02-01T00:00:00\", \"2012-03-01T00:00:00\", \"2012-04-01T00:00:00\", \"2012-05-01T00:00:00\", \"2012-06-01T00:00:00\", \"2012-07-01T00:00:00\", \"2012-08-01T00:00:00\", \"2012-09-01T00:00:00\", \"2012-10-01T00:00:00\", \"2012-11-01T00:00:00\", \"2012-12-01T00:00:00\", \"2013-01-01T00:00:00\", \"2013-02-01T00:00:00\", \"2013-03-01T00:00:00\", \"2013-04-01T00:00:00\", \"2013-05-01T00:00:00\", \"2013-06-01T00:00:00\", \"2013-07-01T00:00:00\", \"2013-08-01T00:00:00\", \"2013-09-01T00:00:00\", \"2013-10-01T00:00:00\", \"2013-11-01T00:00:00\", \"2013-12-01T00:00:00\", \"2014-01-01T00:00:00\", \"2014-02-01T00:00:00\", \"2014-03-01T00:00:00\", \"2014-04-01T00:00:00\", \"2014-05-01T00:00:00\", \"2014-06-01T00:00:00\", \"2014-07-01T00:00:00\", \"2014-08-01T00:00:00\", \"2014-09-01T00:00:00\", \"2014-10-01T00:00:00\", \"2014-11-01T00:00:00\", \"2014-12-01T00:00:00\", \"2015-01-01T00:00:00\", \"2015-02-01T00:00:00\", \"2015-03-01T00:00:00\", \"2015-04-01T00:00:00\", \"2015-05-01T00:00:00\", \"2015-06-01T00:00:00\", \"2015-07-01T00:00:00\", \"2015-08-01T00:00:00\", \"2015-09-01T00:00:00\", \"2015-10-01T00:00:00\", \"2015-11-01T00:00:00\", \"2015-12-01T00:00:00\", \"2016-01-01T00:00:00\", \"2016-02-01T00:00:00\", \"2016-03-01T00:00:00\", \"2016-04-01T00:00:00\", \"2016-05-01T00:00:00\", \"2016-06-01T00:00:00\", \"2016-07-01T00:00:00\", \"2016-08-01T00:00:00\", \"2016-09-01T00:00:00\", \"2016-10-01T00:00:00\", \"2016-11-01T00:00:00\", \"2016-12-01T00:00:00\", \"2017-01-01T00:00:00\", \"2017-02-01T00:00:00\", \"2017-03-01T00:00:00\", \"2017-04-01T00:00:00\", \"2017-05-01T00:00:00\", \"2017-06-01T00:00:00\", \"2017-07-01T00:00:00\", \"2017-08-01T00:00:00\", \"2017-09-01T00:00:00\", \"2017-10-01T00:00:00\", \"2017-11-01T00:00:00\", \"2017-12-01T00:00:00\", \"2018-01-01T00:00:00\", \"2018-02-01T00:00:00\", \"2018-03-01T00:00:00\", \"2018-04-01T00:00:00\", \"2018-05-01T00:00:00\", \"2018-06-01T00:00:00\", \"2018-07-01T00:00:00\", \"2018-08-01T00:00:00\", \"2018-09-01T00:00:00\", \"2018-10-01T00:00:00\", \"2018-11-01T00:00:00\", \"2018-12-01T00:00:00\", \"2019-01-01T00:00:00\", \"2019-02-01T00:00:00\", \"2019-03-01T00:00:00\", \"2019-04-01T00:00:00\", \"2019-05-01T00:00:00\", \"2019-06-01T00:00:00\", \"2019-07-01T00:00:00\", \"2019-08-01T00:00:00\", \"2019-09-01T00:00:00\", \"2019-10-01T00:00:00\", \"2019-11-01T00:00:00\", \"2019-12-01T00:00:00\"], \"xaxis\": \"x3\", \"y\": [-0.06699999999999998, -0.04349999999999998, -0.012499999999999997, -0.04850000000000001, -0.013499999999999998, -0.108, -0.21350000000000002, -0.091, -0.088, -0.05550000000000002, -0.0030000000000000027, -0.055499999999999994, -0.017500000000000016, 0.025999999999999995, 0.03900000000000001, 0.093, 0.05349999999999999, 0.0675, 0.09850000000000002, 0.1945, 0.1815, 0.028999999999999998, 0.05199999999999999, 0.057999999999999996, 0.1195, 0.07999999999999999, -0.03149999999999997, -0.07949999999999999, -0.046500000000000014, -0.016999999999999987, -0.059, 0.07450000000000001, 0.096, 0.019499999999999962, 0.04999999999999999, 0.0040000000000000036, 0.03999999999999998, 0.07850000000000001, -0.024999999999999967, -0.02999999999999997, 0.009500000000000008, 0.026499999999999968, -0.01150000000000001, -0.008500000000000008, -0.039000000000000035, -0.09999999999999998, -0.05649999999999997, -0.049500000000000016, -0.05700000000000002, 0.01100000000000001, 0.009500000000000008, -0.058499999999999996, -0.04350000000000001, -0.027499999999999997, -0.06349999999999999, -0.0665, -0.011499999999999996, -0.016500000000000008, 0.026999999999999996, 0.011500000000000003, -0.159, -0.1245, 0.109, 0.1045, 0.036500000000000005, 0.0335, -0.0335, -0.014499999999999999, -0.0075, -0.122, -0.0785, -0.016999999999999994, -0.0405, -0.005500000000000005, 0.011499999999999996, -0.026499999999999996, 0.162, 0.178, -0.05, -0.02550000000000001, 0.009500000000000001, 0.043, 0.011500000000000003, -0.025499999999999995, -0.011500000000000003, -0.0905, -0.0465, -0.0034999999999999996, -0.074, -0.0165, -0.007500000000000007, -0.012499999999999997, 0.023000000000000007, 0.093, 0.0945, 0.010000000000000002, 0.006000000000000005, 0.0355, -0.009500000000000001, -0.0235, -0.0020000000000000018, -0.0255, 0.004499999999999997, 0.007000000000000003, 0.033, 0.040499999999999994, 0.022500000000000006, 0.0805, 0.066, 0.08499999999999999, 0.08149999999999999, 0.030500000000000027, 0.0645, 0.03749999999999998, -0.062, -0.12, -0.0905, -0.021999999999999992, 0.04400000000000001, 0.0015000000000000013, -0.08150000000000002, -0.038000000000000006, 0.066, 0.056499999999999995, -0.03950000000000001, 0.006500000000000006, 0.05400000000000002, -0.02149999999999999, -0.04000000000000001, 0.0010000000000000009, 0.05199999999999999, 0.022999999999999993, -0.0010000000000000009, 0.009000000000000008, -0.0040000000000000036, 0.1975, 0.17900000000000002, 0.044999999999999984, 0.07, -0.03799999999999998, -0.10050000000000003, -0.03650000000000003, 0.051000000000000045, 0.026500000000000024, -0.029000000000000026, 0.023499999999999965, -0.024500000000000022, -0.13, -0.08449999999999996, -0.07299999999999998, -0.037000000000000005, -0.04300000000000001, -0.064, -0.059999999999999984, -0.0675, -0.07650000000000001, -0.21100000000000002, -0.162, 0.056999999999999995, 0.214, 0.1655, 0.05449999999999999, 0.008499999999999994, -0.023999999999999994, -0.01899999999999999, 0.087, 0.1685, 0.038500000000000006, 0.04049999999999998, 0.07400000000000001, 0.118, 0.05349999999999999, -0.055499999999999994, -0.0020000000000000018, -0.05099999999999999, -0.07750000000000001, 0.020000000000000018, 0.08350000000000002, 0.126, 0.08600000000000002, -0.049500000000000044, -0.04300000000000004, -0.00599999999999995, -0.057999999999999996, -0.11900000000000005, -0.11199999999999999, -0.08499999999999999, -0.10800000000000001, -0.07049999999999998, -0.024499999999999994, 0.0025000000000000022, -0.023499999999999993, 0.005999999999999978, 0.069, -0.030499999999999985, 0.0005000000000000004, 0.013499999999999998, -0.081, -0.033, 0.007999999999999993, 0.007499999999999993, 0.011499999999999996, 0.02700000000000001, 0.004500000000000004, 0.0020000000000000018, 0.051000000000000004, 0.031, -0.0315, -0.084, -0.093, -0.177, -0.154, -0.008500000000000008, 0.04350000000000001, 0.04250000000000001, 0.005499999999999991, -0.0010000000000000009, 0.10900000000000001, 0.03, -0.1345, -0.101, -0.035, 0.004500000000000004, -0.021999999999999992, -0.038000000000000006, -0.0335, -0.03900000000000001, -0.020500000000000018, 0.012500000000000011, 0.014000000000000012, 0.015000000000000013, 0.008000000000000007, -0.012500000000000011, 0.04849999999999999, 0.0645, 0.006500000000000006, 0.0015000000000000013, -0.015500000000000014, 0.006999999999999992, 0.046500000000000014, 0.01200000000000001, 0.016, 0.007999999999999993, -0.018000000000000002, 0.0415, 0.0555, 0.07150000000000001, 0.08650000000000001, -0.0535, -0.098, -0.029000000000000005, 0.10450000000000001, 0.117, -0.0050000000000000044, 0.0049999999999999975, 0.05, 0.034999999999999996, -0.0050000000000000044, -0.015, 0.0050000000000000044, 0.0050000000000000044, 0.0050000000000000044, -0.03, -0.07, -0.020000000000000004, 0.0, 0.020000000000000004, 0.06, 0.05, 0.0050000000000000044, -0.035, -0.15, 0.0050000000000000044, 0.1, 0.039999999999999994, 0.13], \"yaxis\": \"y3\"}],                        {\"annotations\": [{\"font\": {\"size\": 16}, \"showarrow\": false, \"text\": \"$\\\\partial/\\\\partial t$\", \"textangle\": -90, \"x\": 0, \"xanchor\": \"right\", \"xref\": \"paper\", \"xshift\": -40, \"y\": 0.5, \"yanchor\": \"middle\", \"yref\": \"paper\"}], \"legend\": {\"orientation\": \"h\"}, \"shapes\": [{\"fillcolor\": \"orange\", \"layer\": \"below\", \"line\": {\"width\": 0.2}, \"opacity\": 1, \"type\": \"rect\", \"x0\": \"1998-01-01\", \"x1\": \"1999-01-26\", \"y0\": 0, \"y1\": 1, \"yref\": \"paper\"}, {\"fillcolor\": \"darkturquoise\", \"layer\": \"below\", \"line\": {\"width\": 0.2}, \"opacity\": 1, \"type\": \"rect\", \"x0\": \"1999-01-10\", \"x1\": \"1999-05-19\", \"y0\": 0, \"y1\": 1, \"yref\": \"paper\"}, {\"fillcolor\": \"brown\", \"layer\": \"below\", \"line\": {\"width\": 0.2}, \"opacity\": 1, \"type\": \"rect\", \"x0\": \"1999-01-25\", \"x1\": \"1999-01-25\", \"y0\": 0, \"y1\": 1, \"yref\": \"paper\"}, {\"fillcolor\": \"darkturquoise\", \"layer\": \"below\", \"line\": {\"width\": 0.2}, \"opacity\": 1, \"type\": \"rect\", \"x0\": \"1999-10-28\", \"x1\": \"1999-12-31\", \"y0\": 0, \"y1\": 1, \"yref\": \"paper\"}, {\"fillcolor\": \"darkturquoise\", \"layer\": \"below\", \"line\": {\"width\": 0.2}, \"opacity\": 1, \"type\": \"rect\", \"x0\": \"2000-05-18\", \"x1\": \"2000-05-24\", \"y0\": 0, \"y1\": 1, \"yref\": \"paper\"}, {\"fillcolor\": \"maroon\", \"layer\": \"below\", \"line\": {\"width\": 0.2}, \"opacity\": 1, \"type\": \"rect\", \"x0\": \"2001-08-01\", \"x1\": \"2001-08-01\", \"y0\": 0, \"y1\": 1, \"yref\": \"paper\"}, {\"fillcolor\": \"orange\", \"layer\": \"below\", \"line\": {\"width\": 0.2}, \"opacity\": 1, \"type\": \"rect\", \"x0\": \"2002-01-01\", \"x1\": \"2003-01-01\", \"y0\": 0, \"y1\": 1, \"yref\": \"paper\"}, {\"fillcolor\": \"darkturquoise\", \"layer\": \"below\", \"line\": {\"width\": 0.2}, \"opacity\": 1, \"type\": \"rect\", \"x0\": \"2002-04-24\", \"x1\": \"2002-04-29\", \"y0\": 0, \"y1\": 1, \"yref\": \"paper\"}, {\"fillcolor\": \"darkturquoise\", \"layer\": \"below\", \"line\": {\"width\": 0.2}, \"opacity\": 1, \"type\": \"rect\", \"x0\": \"2003-08-01\", \"x1\": \"2003-12-01\", \"y0\": 0, \"y1\": 1, \"yref\": \"paper\"}, {\"fillcolor\": \"darkturquoise\", \"layer\": \"below\", \"line\": {\"width\": 0.2}, \"opacity\": 1, \"type\": \"rect\", \"x0\": \"2004-01-01\", \"x1\": \"2004-06-28\", \"y0\": 0, \"y1\": 1, \"yref\": \"paper\"}, {\"fillcolor\": \"orange\", \"layer\": \"below\", \"line\": {\"width\": 0.2}, \"opacity\": 1, \"type\": \"rect\", \"x0\": \"2004-01-01\", \"x1\": \"2005-01-01\", \"y0\": 0, \"y1\": 1, \"yref\": \"paper\"}, {\"fillcolor\": \"darkturquoise\", \"layer\": \"below\", \"line\": {\"width\": 0.2}, \"opacity\": 1, \"type\": \"rect\", \"x0\": \"2005-04-12\", \"x1\": \"2005-05-07\", \"y0\": 0, \"y1\": 1, \"yref\": \"paper\"}, {\"fillcolor\": \"darkturquoise\", \"layer\": \"below\", \"line\": {\"width\": 0.2}, \"opacity\": 1, \"type\": \"rect\", \"x0\": \"2005-09-15\", \"x1\": \"2005-11-17\", \"y0\": 0, \"y1\": 1, \"yref\": \"paper\"}, {\"fillcolor\": \"darkturquoise\", \"layer\": \"below\", \"line\": {\"width\": 0.2}, \"opacity\": 1, \"type\": \"rect\", \"x0\": \"2006-01-01\", \"x1\": \"2006-04-27\", \"y0\": 0, \"y1\": 1, \"yref\": \"paper\"}, {\"fillcolor\": \"orange\", \"layer\": \"below\", \"line\": {\"width\": 0.2}, \"opacity\": 1, \"type\": \"rect\", \"x0\": \"2006-01-01\", \"x1\": \"2007-01-01\", \"y0\": 0, \"y1\": 1, \"yref\": \"paper\"}, {\"fillcolor\": \"darkturquoise\", \"layer\": \"below\", \"line\": {\"width\": 0.2}, \"opacity\": 1, \"type\": \"rect\", \"x0\": \"2007-10-20\", \"x1\": \"2007-10-26\", \"y0\": 0, \"y1\": 1, \"yref\": \"paper\"}, {\"fillcolor\": \"darkturquoise\", \"layer\": \"below\", \"line\": {\"width\": 0.2}, \"opacity\": 1, \"type\": \"rect\", \"x0\": \"2008-01-01\", \"x1\": \"2008-05-19\", \"y0\": 0, \"y1\": 1, \"yref\": \"paper\"}, {\"fillcolor\": \"darkturquoise\", \"layer\": \"below\", \"line\": {\"width\": 0.2}, \"opacity\": 1, \"type\": \"rect\", \"x0\": \"2008-11-16\", \"x1\": \"2009-01-12\", \"y0\": 0, \"y1\": 1, \"yref\": \"paper\"}, {\"fillcolor\": \"orange\", \"layer\": \"below\", \"line\": {\"width\": 0.2}, \"opacity\": 1, \"type\": \"rect\", \"x0\": \"2009-01-01\", \"x1\": \"2010-01-01\", \"y0\": 0, \"y1\": 1, \"yref\": \"paper\"}, {\"fillcolor\": \"maroon\", \"layer\": \"below\", \"line\": {\"width\": 0.2}, \"opacity\": 1, \"type\": \"rect\", \"x0\": \"2010-01-01\", \"x1\": \"2010-04-06\", \"y0\": 0, \"y1\": 1, \"yref\": \"paper\"}, {\"fillcolor\": \"darkturquoise\", \"layer\": \"below\", \"line\": {\"width\": 0.2}, \"opacity\": 1, \"type\": \"rect\", \"x0\": \"2010-10-30\", \"x1\": \"2011-01-12\", \"y0\": 0, \"y1\": 1, \"yref\": \"paper\"}, {\"fillcolor\": \"darkturquoise\", \"layer\": \"below\", \"line\": {\"width\": 0.2}, \"opacity\": 1, \"type\": \"rect\", \"x0\": \"2011-02-10\", \"x1\": \"2011-06-05\", \"y0\": 0, \"y1\": 1, \"yref\": \"paper\"}, {\"fillcolor\": \"darkturquoise\", \"layer\": \"below\", \"line\": {\"width\": 0.2}, \"opacity\": 1, \"type\": \"rect\", \"x0\": \"2011-09-01\", \"x1\": \"2011-12-31\", \"y0\": 0, \"y1\": 1, \"yref\": \"paper\"}, {\"fillcolor\": \"darkturquoise\", \"layer\": \"below\", \"line\": {\"width\": 0.2}, \"opacity\": 1, \"type\": \"rect\", \"x0\": \"2012-03-15\", \"x1\": \"2012-05-14\", \"y0\": 0, \"y1\": 1, \"yref\": \"paper\"}, {\"fillcolor\": \"brown\", \"layer\": \"below\", \"line\": {\"width\": 0.2}, \"opacity\": 1, \"type\": \"rect\", \"x0\": \"2013-02-09\", \"x1\": \"2013-02-09\", \"y0\": 0, \"y1\": 1, \"yref\": \"paper\"}, {\"fillcolor\": \"darkturquoise\", \"layer\": \"below\", \"line\": {\"width\": 0.2}, \"opacity\": 1, \"type\": \"rect\", \"x0\": \"2013-09-15\", \"x1\": \"2013-12-01\", \"y0\": 0, \"y1\": 1, \"yref\": \"paper\"}, {\"fillcolor\": \"orange\", \"layer\": \"below\", \"line\": {\"width\": 0.2}, \"opacity\": 1, \"type\": \"rect\", \"x0\": \"2015-08-01\", \"x1\": \"2016-02-01\", \"y0\": 0, \"y1\": 1, \"yref\": \"paper\"}, {\"fillcolor\": \"grey\", \"layer\": \"below\", \"line\": {\"width\": 0.2}, \"opacity\": 1, \"type\": \"rect\", \"x0\": \"2016-09-20\", \"x1\": \"2016-09-23\", \"y0\": 0, \"y1\": 1, \"yref\": \"paper\"}, {\"fillcolor\": \"darkturquoise\", \"layer\": \"below\", \"line\": {\"width\": 0.2}, \"opacity\": 1, \"type\": \"rect\", \"x0\": \"2017-03-17\", \"x1\": \"2017-05-16\", \"y0\": 0, \"y1\": 1, \"yref\": \"paper\"}, {\"fillcolor\": \"darkturquoise\", \"layer\": \"below\", \"line\": {\"width\": 0.2}, \"opacity\": 1, \"type\": \"rect\", \"x0\": \"2017-12-01\", \"x1\": \"2018-01-07\", \"y0\": 0, \"y1\": 1, \"yref\": \"paper\"}, {\"fillcolor\": \"orange\", \"layer\": \"below\", \"line\": {\"width\": 0.2}, \"opacity\": 1, \"type\": \"rect\", \"x0\": \"2018-01-01\", \"x1\": \"2020-01-01\", \"y0\": 0, \"y1\": 1, \"yref\": \"paper\"}, {\"fillcolor\": \"darkturquoise\", \"layer\": \"below\", \"line\": {\"width\": 0.2}, \"opacity\": 1, \"type\": \"rect\", \"x0\": \"2019-02-20\", \"x1\": \"2019-02-26\", \"y0\": 0, \"y1\": 1, \"yref\": \"paper\"}, {\"fillcolor\": \"darkturquoise\", \"layer\": \"below\", \"line\": {\"width\": 0.2}, \"opacity\": 1, \"type\": \"rect\", \"x0\": \"2020-06-10\", \"x1\": \"2020-07-10\", \"y0\": 0, \"y1\": 1, \"yref\": \"paper\"}], \"template\": {\"data\": {\"bar\": [{\"error_x\": {\"color\": \"#2a3f5f\"}, \"error_y\": {\"color\": \"#2a3f5f\"}, \"marker\": {\"line\": {\"color\": \"#E5ECF6\", \"width\": 0.5}}, \"type\": \"bar\"}], \"barpolar\": [{\"marker\": {\"line\": {\"color\": \"#E5ECF6\", \"width\": 0.5}}, \"type\": \"barpolar\"}], \"carpet\": [{\"aaxis\": {\"endlinecolor\": \"#2a3f5f\", \"gridcolor\": \"white\", \"linecolor\": \"white\", \"minorgridcolor\": \"white\", \"startlinecolor\": \"#2a3f5f\"}, \"baxis\": {\"endlinecolor\": \"#2a3f5f\", \"gridcolor\": \"white\", \"linecolor\": \"white\", \"minorgridcolor\": \"white\", \"startlinecolor\": \"#2a3f5f\"}, \"type\": \"carpet\"}], \"choropleth\": [{\"colorbar\": {\"outlinewidth\": 0, \"ticks\": \"\"}, \"type\": \"choropleth\"}], \"contour\": [{\"colorbar\": {\"outlinewidth\": 0, \"ticks\": \"\"}, \"colorscale\": [[0.0, \"#0d0887\"], [0.1111111111111111, \"#46039f\"], [0.2222222222222222, \"#7201a8\"], [0.3333333333333333, \"#9c179e\"], [0.4444444444444444, \"#bd3786\"], [0.5555555555555556, \"#d8576b\"], [0.6666666666666666, \"#ed7953\"], [0.7777777777777778, \"#fb9f3a\"], [0.8888888888888888, \"#fdca26\"], [1.0, \"#f0f921\"]], \"type\": \"contour\"}], \"contourcarpet\": [{\"colorbar\": {\"outlinewidth\": 0, \"ticks\": \"\"}, \"type\": \"contourcarpet\"}], \"heatmap\": [{\"colorbar\": {\"outlinewidth\": 0, \"ticks\": \"\"}, \"colorscale\": [[0.0, \"#0d0887\"], [0.1111111111111111, \"#46039f\"], [0.2222222222222222, \"#7201a8\"], [0.3333333333333333, \"#9c179e\"], [0.4444444444444444, \"#bd3786\"], [0.5555555555555556, \"#d8576b\"], [0.6666666666666666, \"#ed7953\"], [0.7777777777777778, \"#fb9f3a\"], [0.8888888888888888, \"#fdca26\"], [1.0, \"#f0f921\"]], \"type\": \"heatmap\"}], \"heatmapgl\": [{\"colorbar\": {\"outlinewidth\": 0, \"ticks\": \"\"}, \"colorscale\": [[0.0, \"#0d0887\"], [0.1111111111111111, \"#46039f\"], [0.2222222222222222, \"#7201a8\"], [0.3333333333333333, \"#9c179e\"], [0.4444444444444444, \"#bd3786\"], [0.5555555555555556, \"#d8576b\"], [0.6666666666666666, \"#ed7953\"], [0.7777777777777778, \"#fb9f3a\"], [0.8888888888888888, \"#fdca26\"], [1.0, \"#f0f921\"]], \"type\": \"heatmapgl\"}], \"histogram\": [{\"marker\": {\"colorbar\": {\"outlinewidth\": 0, \"ticks\": \"\"}}, \"type\": \"histogram\"}], \"histogram2d\": [{\"colorbar\": {\"outlinewidth\": 0, \"ticks\": \"\"}, \"colorscale\": [[0.0, \"#0d0887\"], [0.1111111111111111, \"#46039f\"], [0.2222222222222222, \"#7201a8\"], [0.3333333333333333, \"#9c179e\"], [0.4444444444444444, \"#bd3786\"], [0.5555555555555556, \"#d8576b\"], [0.6666666666666666, \"#ed7953\"], [0.7777777777777778, \"#fb9f3a\"], [0.8888888888888888, \"#fdca26\"], [1.0, \"#f0f921\"]], \"type\": \"histogram2d\"}], \"histogram2dcontour\": [{\"colorbar\": {\"outlinewidth\": 0, \"ticks\": \"\"}, \"colorscale\": [[0.0, \"#0d0887\"], [0.1111111111111111, \"#46039f\"], [0.2222222222222222, \"#7201a8\"], [0.3333333333333333, \"#9c179e\"], [0.4444444444444444, \"#bd3786\"], [0.5555555555555556, \"#d8576b\"], [0.6666666666666666, \"#ed7953\"], [0.7777777777777778, \"#fb9f3a\"], [0.8888888888888888, \"#fdca26\"], [1.0, \"#f0f921\"]], \"type\": \"histogram2dcontour\"}], \"mesh3d\": [{\"colorbar\": {\"outlinewidth\": 0, \"ticks\": \"\"}, \"type\": \"mesh3d\"}], \"parcoords\": [{\"line\": {\"colorbar\": {\"outlinewidth\": 0, \"ticks\": \"\"}}, \"type\": \"parcoords\"}], \"pie\": [{\"automargin\": true, \"type\": \"pie\"}], \"scatter\": [{\"marker\": {\"colorbar\": {\"outlinewidth\": 0, \"ticks\": \"\"}}, \"type\": \"scatter\"}], \"scatter3d\": [{\"line\": {\"colorbar\": {\"outlinewidth\": 0, \"ticks\": \"\"}}, \"marker\": {\"colorbar\": {\"outlinewidth\": 0, \"ticks\": \"\"}}, \"type\": \"scatter3d\"}], \"scattercarpet\": [{\"marker\": {\"colorbar\": {\"outlinewidth\": 0, \"ticks\": \"\"}}, \"type\": \"scattercarpet\"}], \"scattergeo\": [{\"marker\": {\"colorbar\": {\"outlinewidth\": 0, \"ticks\": \"\"}}, \"type\": \"scattergeo\"}], \"scattergl\": [{\"marker\": {\"colorbar\": {\"outlinewidth\": 0, \"ticks\": \"\"}}, \"type\": \"scattergl\"}], \"scattermapbox\": [{\"marker\": {\"colorbar\": {\"outlinewidth\": 0, \"ticks\": \"\"}}, \"type\": \"scattermapbox\"}], \"scatterpolar\": [{\"marker\": {\"colorbar\": {\"outlinewidth\": 0, \"ticks\": \"\"}}, \"type\": \"scatterpolar\"}], \"scatterpolargl\": [{\"marker\": {\"colorbar\": {\"outlinewidth\": 0, \"ticks\": \"\"}}, \"type\": \"scatterpolargl\"}], \"scatterternary\": [{\"marker\": {\"colorbar\": {\"outlinewidth\": 0, \"ticks\": \"\"}}, \"type\": \"scatterternary\"}], \"surface\": [{\"colorbar\": {\"outlinewidth\": 0, \"ticks\": \"\"}, \"colorscale\": [[0.0, \"#0d0887\"], [0.1111111111111111, \"#46039f\"], [0.2222222222222222, \"#7201a8\"], [0.3333333333333333, \"#9c179e\"], [0.4444444444444444, \"#bd3786\"], [0.5555555555555556, \"#d8576b\"], [0.6666666666666666, \"#ed7953\"], [0.7777777777777778, \"#fb9f3a\"], [0.8888888888888888, \"#fdca26\"], [1.0, \"#f0f921\"]], \"type\": \"surface\"}], \"table\": [{\"cells\": {\"fill\": {\"color\": \"#EBF0F8\"}, \"line\": {\"color\": \"white\"}}, \"header\": {\"fill\": {\"color\": \"#C8D4E3\"}, \"line\": {\"color\": \"white\"}}, \"type\": \"table\"}]}, \"layout\": {\"annotationdefaults\": {\"arrowcolor\": \"#2a3f5f\", \"arrowhead\": 0, \"arrowwidth\": 1}, \"coloraxis\": {\"colorbar\": {\"outlinewidth\": 0, \"ticks\": \"\"}}, \"colorscale\": {\"diverging\": [[0, \"#8e0152\"], [0.1, \"#c51b7d\"], [0.2, \"#de77ae\"], [0.3, \"#f1b6da\"], [0.4, \"#fde0ef\"], [0.5, \"#f7f7f7\"], [0.6, \"#e6f5d0\"], [0.7, \"#b8e186\"], [0.8, \"#7fbc41\"], [0.9, \"#4d9221\"], [1, \"#276419\"]], \"sequential\": [[0.0, \"#0d0887\"], [0.1111111111111111, \"#46039f\"], [0.2222222222222222, \"#7201a8\"], [0.3333333333333333, \"#9c179e\"], [0.4444444444444444, \"#bd3786\"], [0.5555555555555556, \"#d8576b\"], [0.6666666666666666, \"#ed7953\"], [0.7777777777777778, \"#fb9f3a\"], [0.8888888888888888, \"#fdca26\"], [1.0, \"#f0f921\"]], \"sequentialminus\": [[0.0, \"#0d0887\"], [0.1111111111111111, \"#46039f\"], [0.2222222222222222, \"#7201a8\"], [0.3333333333333333, \"#9c179e\"], [0.4444444444444444, \"#bd3786\"], [0.5555555555555556, \"#d8576b\"], [0.6666666666666666, \"#ed7953\"], [0.7777777777777778, \"#fb9f3a\"], [0.8888888888888888, \"#fdca26\"], [1.0, \"#f0f921\"]]}, \"colorway\": [\"#636efa\", \"#EF553B\", \"#00cc96\", \"#ab63fa\", \"#FFA15A\", \"#19d3f3\", \"#FF6692\", \"#B6E880\", \"#FF97FF\", \"#FECB52\"], \"font\": {\"color\": \"#2a3f5f\"}, \"geo\": {\"bgcolor\": \"white\", \"lakecolor\": \"white\", \"landcolor\": \"#E5ECF6\", \"showlakes\": true, \"showland\": true, \"subunitcolor\": \"white\"}, \"hoverlabel\": {\"align\": \"left\"}, \"hovermode\": \"closest\", \"mapbox\": {\"style\": \"light\"}, \"paper_bgcolor\": \"white\", \"plot_bgcolor\": \"#E5ECF6\", \"polar\": {\"angularaxis\": {\"gridcolor\": \"white\", \"linecolor\": \"white\", \"ticks\": \"\"}, \"bgcolor\": \"#E5ECF6\", \"radialaxis\": {\"gridcolor\": \"white\", \"linecolor\": \"white\", \"ticks\": \"\"}}, \"scene\": {\"xaxis\": {\"backgroundcolor\": \"#E5ECF6\", \"gridcolor\": \"white\", \"gridwidth\": 2, \"linecolor\": \"white\", \"showbackground\": true, \"ticks\": \"\", \"zerolinecolor\": \"white\"}, \"yaxis\": {\"backgroundcolor\": \"#E5ECF6\", \"gridcolor\": \"white\", \"gridwidth\": 2, \"linecolor\": \"white\", \"showbackground\": true, \"ticks\": \"\", \"zerolinecolor\": \"white\"}, \"zaxis\": {\"backgroundcolor\": \"#E5ECF6\", \"gridcolor\": \"white\", \"gridwidth\": 2, \"linecolor\": \"white\", \"showbackground\": true, \"ticks\": \"\", \"zerolinecolor\": \"white\"}}, \"shapedefaults\": {\"line\": {\"color\": \"#2a3f5f\"}}, \"ternary\": {\"aaxis\": {\"gridcolor\": \"white\", \"linecolor\": \"white\", \"ticks\": \"\"}, \"baxis\": {\"gridcolor\": \"white\", \"linecolor\": \"white\", \"ticks\": \"\"}, \"bgcolor\": \"#E5ECF6\", \"caxis\": {\"gridcolor\": \"white\", \"linecolor\": \"white\", \"ticks\": \"\"}}, \"title\": {\"x\": 0.05}, \"xaxis\": {\"automargin\": true, \"gridcolor\": \"white\", \"linecolor\": \"white\", \"ticks\": \"\", \"title\": {\"standoff\": 15}, \"zerolinecolor\": \"white\", \"zerolinewidth\": 2}, \"yaxis\": {\"automargin\": true, \"gridcolor\": \"white\", \"linecolor\": \"white\", \"ticks\": \"\", \"title\": {\"standoff\": 15}, \"zerolinecolor\": \"white\", \"zerolinewidth\": 2}}}, \"title\": {\"text\": \"Dosquebradas\"}, \"xaxis\": {\"anchor\": \"y\", \"domain\": [0.0, 1.0], \"matches\": \"x3\", \"showticklabels\": false}, \"xaxis2\": {\"anchor\": \"y2\", \"domain\": [0.0, 1.0], \"matches\": \"x3\", \"showticklabels\": false}, \"xaxis3\": {\"anchor\": \"y3\", \"domain\": [0.0, 1.0]}, \"yaxis\": {\"anchor\": \"x\", \"domain\": [0.68, 1.0], \"fixedrange\": true}, \"yaxis2\": {\"anchor\": \"x2\", \"domain\": [0.34, 0.66], \"fixedrange\": true}, \"yaxis3\": {\"anchor\": \"x3\", \"domain\": [0.0, 0.32], \"fixedrange\": true}},                        {\"responsive\": true}                    ).then(function(){\n",
              "                            \n",
              "var gd = document.getElementById('9b23c1eb-e796-4f5a-acf8-eb9e1bd5bdcf');\n",
              "var x = new MutationObserver(function (mutations, observer) {{\n",
              "        var display = window.getComputedStyle(gd).display;\n",
              "        if (!display || display === 'none') {{\n",
              "            console.log([gd, 'removed!']);\n",
              "            Plotly.purge(gd);\n",
              "            observer.disconnect();\n",
              "        }}\n",
              "}});\n",
              "\n",
              "// Listen for the removal of the full notebook cells\n",
              "var notebookContainer = gd.closest('#notebook-container');\n",
              "if (notebookContainer) {{\n",
              "    x.observe(notebookContainer, {childList: true});\n",
              "}}\n",
              "\n",
              "// Listen for the clearing of the current output cell\n",
              "var outputEl = gd.closest('.output');\n",
              "if (outputEl) {{\n",
              "    x.observe(outputEl, {childList: true});\n",
              "}}\n",
              "\n",
              "                        })                };                            </script>        </div>\n",
              "</body>\n",
              "</html>"
            ]
          },
          "metadata": {
            "tags": []
          }
        }
      ]
    },
    {
      "cell_type": "markdown",
      "metadata": {
        "id": "S2ybqpnmT4HO"
      },
      "source": [
        "## Creating Interactive Time Series Visualisations for Each District\n"
      ]
    },
    {
      "cell_type": "code",
      "metadata": {
        "id": "N3oVwDja-LBd"
      },
      "source": [
        "for district_name in ['Dosquebradas', 'Versailles']:\n",
        "\n",
        "    fig = plot_interactive_time_series(district_name)\n",
        "\n",
        "    fig.write_html(f'/content/drive/Shared drives/Colombia SPRINT/Test Districts/{district_name}/{district_name}_time_series_gradient.html')"
      ],
      "execution_count": 7,
      "outputs": []
    },
    {
      "cell_type": "markdown",
      "metadata": {
        "id": "0_gJj2lB5B1q"
      },
      "source": [
        "## Creating Static Plots for Each Farm By Year"
      ]
    },
    {
      "cell_type": "code",
      "metadata": {
        "id": "E1uoJC7x5fTp",
        "outputId": "3e27e3f1-ddb6-4e6e-fcb4-3b7f60d31e0b",
        "colab": {
          "base_uri": "https://localhost:8080/",
          "height": 53
        }
      },
      "source": [
        "years = np.arange(2000, 2021)\n",
        "\n",
        "for district_name in ['Dosquebradas', 'Versailles']:\n",
        "    display(district_name)\n",
        "    \n",
        "    fig = plot_interactive_time_series(district_name)\n",
        "\n",
        "    for year in years:\n",
        "        fig.update_xaxes(\n",
        "                         range=[f'{year}-01-01',f'{year+1}-01-01'],  # sets the range of xaxis\n",
        "                         constrain=\"domain\",  # meanwhile compresses the xaxis by decreasing its \"domain\"\n",
        "                        )\n",
        "\n",
        "        filepath = f'/content/drive/Shared drives/Colombia SPRINT/Test Districts/{district_name}/Yearly Static Plots/{district_name}_{year}_gradient.png'\n",
        "\n",
        "        fig.write_image(filepath)"
      ],
      "execution_count": 8,
      "outputs": [
        {
          "output_type": "display_data",
          "data": {
            "application/vnd.google.colaboratory.intrinsic+json": {
              "type": "string"
            },
            "text/plain": [
              "'Dosquebradas'"
            ]
          },
          "metadata": {
            "tags": []
          }
        },
        {
          "output_type": "display_data",
          "data": {
            "application/vnd.google.colaboratory.intrinsic+json": {
              "type": "string"
            },
            "text/plain": [
              "'Versailles'"
            ]
          },
          "metadata": {
            "tags": []
          }
        }
      ]
    }
  ]
}