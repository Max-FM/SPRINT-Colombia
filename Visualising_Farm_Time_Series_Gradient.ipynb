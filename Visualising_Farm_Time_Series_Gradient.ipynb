{
  "nbformat": 4,
  "nbformat_minor": 0,
  "metadata": {
    "colab": {
      "name": "Visualising_Farm_Time_Series_Gradient.ipynb",
      "provenance": [],
      "mount_file_id": "1PAgbdNN75ydLwflu3V05BVfXT_bo0ctn",
      "authorship_tag": "ABX9TyPEEvyPlyqHR/Bq5p0fSJBQ",
      "include_colab_link": true
    },
    "kernelspec": {
      "name": "python3",
      "display_name": "Python 3"
    }
  },
  "cells": [
    {
      "cell_type": "markdown",
      "metadata": {
        "id": "view-in-github",
        "colab_type": "text"
      },
      "source": [
        "<a href=\"https://colab.research.google.com/github/Max-FM/SPRINT-Colombia/blob/main/Visualising_Farm_Time_Series_Gradient.ipynb\" target=\"_parent\"><img src=\"https://colab.research.google.com/assets/colab-badge.svg\" alt=\"Open In Colab\"/></a>"
      ]
    },
    {
      "cell_type": "markdown",
      "metadata": {
        "id": "vSbZMzk_GZFA"
      },
      "source": [
        "# Visualising the Gradient of Time Series Data for Each Farm"
      ]
    },
    {
      "cell_type": "markdown",
      "metadata": {
        "id": "95uhcVyOTaby"
      },
      "source": [
        "## Installing/Upgrading Packages"
      ]
    },
    {
      "cell_type": "code",
      "metadata": {
        "id": "iDureWO-w3Zx"
      },
      "source": [
        "%%capture\n",
        "\n",
        "!pip install plotly --upgrade\n",
        "\n",
        "# Installing Orca - required to save to png using Google Colab.\n",
        "!wget https://github.com/plotly/orca/releases/download/v1.2.1/orca-1.2.1-x86_64.AppImage -O /usr/local/bin/orca\n",
        "!chmod +x /usr/local/bin/orca\n",
        "!apt-get install xvfb libgtk2.0-0 libgconf-2-4"
      ],
      "execution_count": 1,
      "outputs": []
    },
    {
      "cell_type": "markdown",
      "metadata": {
        "id": "2-tmGMG6Tm1-"
      },
      "source": [
        "##Import Packages"
      ]
    },
    {
      "cell_type": "code",
      "metadata": {
        "id": "aboDmsOCumFK"
      },
      "source": [
        "import numpy as np\n",
        "import pandas as pd\n",
        "import plotly.graph_objs as go\n",
        "from plotly.subplots import make_subplots"
      ],
      "execution_count": 2,
      "outputs": []
    },
    {
      "cell_type": "markdown",
      "metadata": {
        "id": "euNNcpD3m56Y"
      },
      "source": [
        "##Importing Table of Extreme Weather Data"
      ]
    },
    {
      "cell_type": "code",
      "metadata": {
        "id": "NfFQ1PA_Atsl",
        "outputId": "adae2a75-7a46-4572-9fe6-16c5a94551d0",
        "colab": {
          "base_uri": "https://localhost:8080/",
          "height": 1000
        }
      },
      "source": [
        "extreme_weather_table = pd.read_excel('/content/drive/Shared drives/Colombia SPRINT/Test Districts/Colombia extreme weather in test districts.xlsx')\n",
        "\n",
        "# Filling in empty values for dates.\n",
        "extreme_weather_table['Day'].fillna(1, inplace=True)\n",
        "extreme_weather_table['Month'].fillna(1, inplace=True)\n",
        "extreme_weather_table['End Day'].fillna(1, inplace=True)\n",
        "extreme_weather_table['End Month'].fillna(1, inplace=True)\n",
        "\n",
        "# Dealing with duplicate dates\n",
        "extreme_weather_table.loc[0, 'End Year'] = 1999 # Assuming 1998 El Nino drought lasts about a year. \n",
        "extreme_weather_table.loc[0, 'End Day'] = 26 # Assuming 1998 El Nino drought lasts about a year. \n",
        "extreme_weather_table.loc[31, 'End Month'] = 7 # Assuming Jun 2020 El flood lasts about a month. \n",
        "\n",
        "# Converting date columns into a single datetime column.\n",
        "extreme_weather_table['Start_Datetime'] = pd.to_datetime(extreme_weather_table['Start Year'].astype(str) + '-' +\n",
        "                                          extreme_weather_table['Month'].astype(int).astype(str) + '-' +\n",
        "                                          extreme_weather_table['Day'].astype(int).astype(str))\n",
        "\n",
        "extreme_weather_table['End_Datetime'] = pd.to_datetime(extreme_weather_table['End Year'].astype(str) + '-' +\n",
        "                                        extreme_weather_table['End Month'].astype(int).astype(str) + '-' +\n",
        "                                        extreme_weather_table['End Day'].astype(int).astype(str))\n",
        "\n",
        "extreme_weather_table[['Disaster', 'Start_Datetime', 'End_Datetime']]"
      ],
      "execution_count": 3,
      "outputs": [
        {
          "output_type": "execute_result",
          "data": {
            "text/html": [
              "<div>\n",
              "<style scoped>\n",
              "    .dataframe tbody tr th:only-of-type {\n",
              "        vertical-align: middle;\n",
              "    }\n",
              "\n",
              "    .dataframe tbody tr th {\n",
              "        vertical-align: top;\n",
              "    }\n",
              "\n",
              "    .dataframe thead th {\n",
              "        text-align: right;\n",
              "    }\n",
              "</style>\n",
              "<table border=\"1\" class=\"dataframe\">\n",
              "  <thead>\n",
              "    <tr style=\"text-align: right;\">\n",
              "      <th></th>\n",
              "      <th>Disaster</th>\n",
              "      <th>Start_Datetime</th>\n",
              "      <th>End_Datetime</th>\n",
              "    </tr>\n",
              "  </thead>\n",
              "  <tbody>\n",
              "    <tr>\n",
              "      <th>0</th>\n",
              "      <td>Drought</td>\n",
              "      <td>1998-01-01</td>\n",
              "      <td>1999-01-26</td>\n",
              "    </tr>\n",
              "    <tr>\n",
              "      <th>1</th>\n",
              "      <td>Earthquake</td>\n",
              "      <td>1999-01-25</td>\n",
              "      <td>1999-01-25</td>\n",
              "    </tr>\n",
              "    <tr>\n",
              "      <th>2</th>\n",
              "      <td>Flood</td>\n",
              "      <td>1999-01-10</td>\n",
              "      <td>1999-05-19</td>\n",
              "    </tr>\n",
              "    <tr>\n",
              "      <th>3</th>\n",
              "      <td>Flood</td>\n",
              "      <td>1999-10-28</td>\n",
              "      <td>1999-12-31</td>\n",
              "    </tr>\n",
              "    <tr>\n",
              "      <th>4</th>\n",
              "      <td>Flood</td>\n",
              "      <td>2000-05-18</td>\n",
              "      <td>2000-05-24</td>\n",
              "    </tr>\n",
              "    <tr>\n",
              "      <th>5</th>\n",
              "      <td>Wildfire</td>\n",
              "      <td>2001-08-01</td>\n",
              "      <td>2001-08-01</td>\n",
              "    </tr>\n",
              "    <tr>\n",
              "      <th>6</th>\n",
              "      <td>Drought</td>\n",
              "      <td>2002-01-01</td>\n",
              "      <td>2003-01-01</td>\n",
              "    </tr>\n",
              "    <tr>\n",
              "      <th>7</th>\n",
              "      <td>Flood</td>\n",
              "      <td>2002-04-24</td>\n",
              "      <td>2002-04-29</td>\n",
              "    </tr>\n",
              "    <tr>\n",
              "      <th>8</th>\n",
              "      <td>Flood</td>\n",
              "      <td>2003-08-01</td>\n",
              "      <td>2003-12-01</td>\n",
              "    </tr>\n",
              "    <tr>\n",
              "      <th>9</th>\n",
              "      <td>Flood</td>\n",
              "      <td>2004-01-01</td>\n",
              "      <td>2004-06-28</td>\n",
              "    </tr>\n",
              "    <tr>\n",
              "      <th>10</th>\n",
              "      <td>Drought</td>\n",
              "      <td>2004-01-01</td>\n",
              "      <td>2005-01-01</td>\n",
              "    </tr>\n",
              "    <tr>\n",
              "      <th>11</th>\n",
              "      <td>Flood</td>\n",
              "      <td>2005-04-12</td>\n",
              "      <td>2005-05-07</td>\n",
              "    </tr>\n",
              "    <tr>\n",
              "      <th>12</th>\n",
              "      <td>Flood</td>\n",
              "      <td>2005-09-15</td>\n",
              "      <td>2005-11-17</td>\n",
              "    </tr>\n",
              "    <tr>\n",
              "      <th>13</th>\n",
              "      <td>Flood</td>\n",
              "      <td>2006-01-01</td>\n",
              "      <td>2006-04-27</td>\n",
              "    </tr>\n",
              "    <tr>\n",
              "      <th>14</th>\n",
              "      <td>Drought</td>\n",
              "      <td>2006-01-01</td>\n",
              "      <td>2007-01-01</td>\n",
              "    </tr>\n",
              "    <tr>\n",
              "      <th>15</th>\n",
              "      <td>Flood</td>\n",
              "      <td>2007-10-20</td>\n",
              "      <td>2007-10-26</td>\n",
              "    </tr>\n",
              "    <tr>\n",
              "      <th>16</th>\n",
              "      <td>Flood</td>\n",
              "      <td>2008-01-01</td>\n",
              "      <td>2008-05-19</td>\n",
              "    </tr>\n",
              "    <tr>\n",
              "      <th>17</th>\n",
              "      <td>Flood</td>\n",
              "      <td>2008-11-16</td>\n",
              "      <td>2009-01-12</td>\n",
              "    </tr>\n",
              "    <tr>\n",
              "      <th>18</th>\n",
              "      <td>Wildfire</td>\n",
              "      <td>2010-01-01</td>\n",
              "      <td>2010-04-06</td>\n",
              "    </tr>\n",
              "    <tr>\n",
              "      <th>19</th>\n",
              "      <td>Flood</td>\n",
              "      <td>2010-10-30</td>\n",
              "      <td>2011-01-12</td>\n",
              "    </tr>\n",
              "    <tr>\n",
              "      <th>20</th>\n",
              "      <td>Flood</td>\n",
              "      <td>2011-02-10</td>\n",
              "      <td>2011-06-05</td>\n",
              "    </tr>\n",
              "    <tr>\n",
              "      <th>21</th>\n",
              "      <td>Flood</td>\n",
              "      <td>2011-09-01</td>\n",
              "      <td>2011-12-31</td>\n",
              "    </tr>\n",
              "    <tr>\n",
              "      <th>22</th>\n",
              "      <td>Flood</td>\n",
              "      <td>2012-03-15</td>\n",
              "      <td>2012-05-14</td>\n",
              "    </tr>\n",
              "    <tr>\n",
              "      <th>23</th>\n",
              "      <td>Flood</td>\n",
              "      <td>2013-09-15</td>\n",
              "      <td>2013-12-01</td>\n",
              "    </tr>\n",
              "    <tr>\n",
              "      <th>24</th>\n",
              "      <td>Earthquake</td>\n",
              "      <td>2013-02-09</td>\n",
              "      <td>2013-02-09</td>\n",
              "    </tr>\n",
              "    <tr>\n",
              "      <th>25</th>\n",
              "      <td>Drought</td>\n",
              "      <td>2015-08-01</td>\n",
              "      <td>2016-02-01</td>\n",
              "    </tr>\n",
              "    <tr>\n",
              "      <th>26</th>\n",
              "      <td>Storm</td>\n",
              "      <td>2016-09-20</td>\n",
              "      <td>2016-09-23</td>\n",
              "    </tr>\n",
              "    <tr>\n",
              "      <th>27</th>\n",
              "      <td>Flood</td>\n",
              "      <td>2017-03-17</td>\n",
              "      <td>2017-05-16</td>\n",
              "    </tr>\n",
              "    <tr>\n",
              "      <th>28</th>\n",
              "      <td>Flood</td>\n",
              "      <td>2017-12-01</td>\n",
              "      <td>2018-01-07</td>\n",
              "    </tr>\n",
              "    <tr>\n",
              "      <th>29</th>\n",
              "      <td>Drought</td>\n",
              "      <td>2018-01-01</td>\n",
              "      <td>2020-01-01</td>\n",
              "    </tr>\n",
              "    <tr>\n",
              "      <th>30</th>\n",
              "      <td>Flood</td>\n",
              "      <td>2019-02-20</td>\n",
              "      <td>2019-02-26</td>\n",
              "    </tr>\n",
              "    <tr>\n",
              "      <th>31</th>\n",
              "      <td>Flood</td>\n",
              "      <td>2020-06-10</td>\n",
              "      <td>2020-07-10</td>\n",
              "    </tr>\n",
              "  </tbody>\n",
              "</table>\n",
              "</div>"
            ],
            "text/plain": [
              "      Disaster Start_Datetime End_Datetime\n",
              "0      Drought     1998-01-01   1999-01-26\n",
              "1   Earthquake     1999-01-25   1999-01-25\n",
              "2        Flood     1999-01-10   1999-05-19\n",
              "3        Flood     1999-10-28   1999-12-31\n",
              "4        Flood     2000-05-18   2000-05-24\n",
              "5     Wildfire     2001-08-01   2001-08-01\n",
              "6      Drought     2002-01-01   2003-01-01\n",
              "7        Flood     2002-04-24   2002-04-29\n",
              "8        Flood     2003-08-01   2003-12-01\n",
              "9        Flood     2004-01-01   2004-06-28\n",
              "10     Drought     2004-01-01   2005-01-01\n",
              "11       Flood     2005-04-12   2005-05-07\n",
              "12       Flood     2005-09-15   2005-11-17\n",
              "13       Flood     2006-01-01   2006-04-27\n",
              "14     Drought     2006-01-01   2007-01-01\n",
              "15       Flood     2007-10-20   2007-10-26\n",
              "16       Flood     2008-01-01   2008-05-19\n",
              "17       Flood     2008-11-16   2009-01-12\n",
              "18    Wildfire     2010-01-01   2010-04-06\n",
              "19       Flood     2010-10-30   2011-01-12\n",
              "20       Flood     2011-02-10   2011-06-05\n",
              "21       Flood     2011-09-01   2011-12-31\n",
              "22       Flood     2012-03-15   2012-05-14\n",
              "23       Flood     2013-09-15   2013-12-01\n",
              "24  Earthquake     2013-02-09   2013-02-09\n",
              "25     Drought     2015-08-01   2016-02-01\n",
              "26       Storm     2016-09-20   2016-09-23\n",
              "27       Flood     2017-03-17   2017-05-16\n",
              "28       Flood     2017-12-01   2018-01-07\n",
              "29     Drought     2018-01-01   2020-01-01\n",
              "30       Flood     2019-02-20   2019-02-26\n",
              "31       Flood     2020-06-10   2020-07-10"
            ]
          },
          "metadata": {
            "tags": []
          },
          "execution_count": 3
        }
      ]
    },
    {
      "cell_type": "markdown",
      "metadata": {
        "id": "ZWdp81_IWnKE"
      },
      "source": [
        "## Define Import Functions for CSV Data\n",
        "\n",
        "A series of functions to import CSV data aquired from the [Colombia Farms Time Series Data](https://colab.research.google.com/drive/1-_YUqAHe102ILURNULWhR1eBCMyB050-?usp=sharing) IPython notebook. I haven't made a generalied import function as each the datasets are not formatted uniformly."
      ]
    },
    {
      "cell_type": "code",
      "metadata": {
        "id": "G7Lh7FTt7YfM"
      },
      "source": [
        "def import_MODIS_TERRA_AQUA(district, farm):\n",
        "    directory = f'/content/drive/Shared drives/Colombia SPRINT/Test Districts/{district}/Farms/CSV Data/{farm}'    \n",
        "    \n",
        "    # Imports and concatinates NDVI/EVI data for both the MODIS TERRA and AQUA\n",
        "    # satellites.\n",
        "    satellites = ['TERRA', 'AQUA']\n",
        "    df_list = [pd.read_csv(f'{directory}/{farm}_MODIS_16D_{satellite}_VEG.csv', index_col=0) for satellite in satellites]\n",
        "    df = pd.concat(df_list)\n",
        "\n",
        "    # Convert timestap to datetime object.\n",
        "    df['Timestamp'] = df['Timestamp'].apply(pd.to_datetime)\n",
        "\n",
        "    # Rescaling data columns from large integers to correct floating point value.\n",
        "    columns_of_interest = ['EVI_median', 'EVI_stdDev','NDVI_median', 'NDVI_stdDev']\n",
        "    df[columns_of_interest] *= 0.0001\n",
        "\n",
        "    df = calculate_time_series_derivative(df, 'median')\n",
        "    \n",
        "    return df\n",
        "\n",
        "def import_MODIS_COMBINED(district, farm):\n",
        "    directory = f'/content/drive/Shared drives/Colombia SPRINT/Test Districts/{district}/Farms/CSV Data/{farm}'\n",
        "    df = pd.read_csv(f'{directory}/{farm}_MODIS_16D_COMBINED_NDVI.csv', index_col=0)\n",
        "    \n",
        "    df['Timestamp'] = df['Timestamp'].apply(pd.to_datetime)\n",
        "    df.index = df['Timestamp']\n",
        "\n",
        "    df = calculate_time_series_derivative(df, 'median')\n",
        "    \n",
        "    return df\n",
        "\n",
        "\n",
        "def import_CHIRPS(district, farm):\n",
        "    directory = f'/content/drive/Shared drives/Colombia SPRINT/Test Districts/{district}/Farms/CSV Data/{farm}'\n",
        "\n",
        "    df = pd.read_csv(f'{directory}/{farm}_CHIRPS_DAILY.csv', index_col=0)\n",
        "    df['Timestamp'] = df['Timestamp'].apply(pd.to_datetime)\n",
        "    df.index = df['Timestamp']\n",
        "\n",
        "    df = calculate_time_series_derivative(df, 'median')\n",
        "    \n",
        "    return df\n",
        "\n",
        "def import_PERSIANN(district, farm):\n",
        "    directory = f'/content/drive/Shared drives/Colombia SPRINT/Test Districts/{district}/Farms/CSV Data/{farm}'\n",
        "\n",
        "    df = pd.read_csv(f'{directory}/{farm}_PERSIANN_DAILY.csv', index_col=0)\n",
        "    df['Timestamp'] = df['Timestamp'].apply(pd.to_datetime)\n",
        "    df.index = df['Timestamp']\n",
        "\n",
        "    df = calculate_time_series_derivative(df, 'median')\n",
        "    \n",
        "    return df\n",
        "\n",
        "def import_TerraClimate(district, farm):\n",
        "    directory = f'/content/drive/Shared drives/Colombia SPRINT/Test Districts/{district}/Farms/CSV Data/{farm}'\n",
        "\n",
        "    df = pd.read_csv(f'{directory}/{farm}_TERRA_CLIMATE_MONTHLY.csv', index_col=0)\n",
        "    df['Timestamp'] = df['Timestamp'].apply(pd.to_datetime)\n",
        "    df.index = df['Timestamp']\n",
        "\n",
        "    # Rescaling values from large integers into correct floating point values.\n",
        "    columns_1 = ['aet_median', 'aet_stdDev', \n",
        "                 'def_median', 'def_stdDev', \n",
        "                 'pet_median', 'pet_stdDev', \n",
        "                 'soil_median', 'soil_stdDev', \n",
        "                 'srad_median', 'srad_stdDev', \n",
        "                 'tmmn_median', 'tmmn_stdDev', \n",
        "                 'tmmx_median', 'tmmx_stdDev']\n",
        "    \n",
        "    df[columns_1] *= 0.1\n",
        "    \n",
        "    columns_2 = ['vpd_median', 'vpd_stdDev',\n",
        "                 'vs_median', 'vs_stdDev']\n",
        "    df[columns_2] *= 0.01\n",
        "\n",
        "    # In the documentation for TerraClimate monthly the pdsi scaling relation is\n",
        "    # given as 0.01, however this puts the min/max values to be between \n",
        "    # approximately -40 and 40 whereas is should be between -4 and 4. So have\n",
        "    # set the scaling factor to 0.001 instead.\n",
        "    columns_3 = ['pdsi_median', 'pdsi_stdDev',\n",
        "                 'vap_median', 'vap_stdDev']\n",
        "    df[columns_3] *= 0.001\n",
        "    \n",
        "    df = calculate_time_series_derivative(df, 'median')\n",
        "\n",
        "    return df\n",
        "\n",
        "def import_IMERG(district, farm):\n",
        "    directory = f'/content/drive/Shared drives/Colombia SPRINT/Test Districts/{district}/Farms/CSV Data/{farm}'\n",
        "\n",
        "    df = pd.read_csv(f'{directory}/{farm}_IMERG_MONTHLY.csv', index_col=0)\n",
        "    df['Timestamp'] = df['Timestamp'].apply(pd.to_datetime)\n",
        "    df.index = df['Timestamp']\n",
        "\n",
        "    df = calculate_time_series_derivative(df, 'median')\n",
        "\n",
        "    return df\n",
        "\n",
        "# Calculates the time derivative for an aggregated quantity.\n",
        "def calculate_time_series_derivative(dataframe, aggregation):\n",
        "    filtered = dataframe.filter(like=f'{aggregation}', axis=1)\n",
        "\n",
        "    for column_name, column_data in filtered.iteritems():\n",
        "        dataframe[f'{column_name}_dt'] = pd.Series(np.gradient(column_data.values), column_data.index, name='slope')\n",
        "\n",
        "    return dataframe"
      ],
      "execution_count": 9,
      "outputs": []
    },
    {
      "cell_type": "markdown",
      "metadata": {
        "id": "yfBONrt__2QH"
      },
      "source": [
        "## Define Timeseries Plotting Function"
      ]
    },
    {
      "cell_type": "code",
      "metadata": {
        "id": "esWPNBW89oDE"
      },
      "source": [
        "def plot_interactive_time_series(district, farm):\n",
        "    MODIS_AQUA_TERRA_df = import_MODIS_TERRA_AQUA(district, farm)\n",
        "    CHIRPS_df = import_CHIRPS(district, farm)\n",
        "    PERSIANN_df = import_PERSIANN(district, farm)\n",
        "    TerraClimate_df = import_TerraClimate(district, farm)\n",
        "\n",
        "    fig = make_subplots(rows=3, cols=1, \n",
        "                        shared_xaxes=True, \n",
        "                        vertical_spacing=0.02,\n",
        "                        y_title='$\\partial/\\partial t$')\n",
        "\n",
        "    ### Plotting MODIS 16D NDVI data ###\n",
        "    nameDict ={'MODIS_16D_AQUA_VEG': 'Modis Aqua 250m 16 Day NDVI',\n",
        "               'MODIS_16D_TERRA_VEG': 'Modis Terra 250m 16 Day NDVI'}\n",
        "\n",
        "    # Grouping NDVI data by satellitle (TERRA and AQUA) and plotting.\n",
        "    for collection_name, collection in MODIS_AQUA_TERRA_df.groupby('Image_Collection'):\n",
        "\n",
        "        # Create scatter plot.\n",
        "        NDVI_scatter = go.Scatter(\n",
        "                                  x=collection['Timestamp'], \n",
        "                                  y=collection['NDVI_median_dt'], \n",
        "                                  name=nameDict[collection_name], \n",
        "                                  mode='lines+markers'\n",
        "                                  )\n",
        "        # Add scatter plot to figure.\n",
        "        fig.add_trace(NDVI_scatter, row=1, col=1)\n",
        "\n",
        "    ### Plotting CHIRPS Precipitation data ###\n",
        "    CHIRPS_scatter = go.Scatter(\n",
        "                                x=CHIRPS_df['precipitation_median_dt'].resample('14D').median().index, \n",
        "                                y=CHIRPS_df['precipitation_median_dt'].resample('14D').median(), \n",
        "                                marker_color='green',\n",
        "                                name='CHIRPS Precipitation - 14 Day Rolling Median (mm)', \n",
        "                                mode='lines+markers'\n",
        "                                )\n",
        "\n",
        "    fig.add_trace(CHIRPS_scatter, row=2, col=1)\n",
        "\n",
        "    ### Plotting PERSIANN Precipitation data ###\n",
        "    PERSIANN_scatter = go.Scatter(\n",
        "                                  x=PERSIANN_df['precipitation_median_dt'].resample('14D').median().index, \n",
        "                                  y=PERSIANN_df['precipitation_median_dt'].resample('14D').median(), \n",
        "                                  marker_color='black',\n",
        "                                  name='PERSIANN Precipitation - 14 Day Rolling Median (mm)', \n",
        "                                  mode='lines+markers'\n",
        "                                  )\n",
        "  \n",
        "    fig.add_trace(PERSIANN_scatter, row=2, col=1)\n",
        "\n",
        "    ### Plotting TerraClimate PDSI data ###\n",
        "    TerraClimate_PDSI_Scatter = go.Scatter(\n",
        "                                           x=TerraClimate_df.index, \n",
        "                                           y=TerraClimate_df['pdsi_median_dt'], \n",
        "                                           marker_color='purple',\n",
        "                                           name='TerraClimate PDSI', \n",
        "                                           mode='lines+markers'\n",
        "                                          )\n",
        "  \n",
        "    fig.add_trace(TerraClimate_PDSI_Scatter, row=3, col=1)\n",
        "\n",
        "\n",
        "    ### Shading plot background to correspond to a disaster. ###\n",
        "    disasterColourDict = {'Drought': 'orange',\n",
        "                          'Earthquake': 'brown',\n",
        "                          'Flood': 'darkturquoise', \n",
        "                          'Wildfire': 'maroon',\n",
        "                          'Storm': 'grey'}\n",
        "    \n",
        "    # Generating a shape to be used as background shading for each disaster \n",
        "    # using list comprehension.\n",
        "    shapes=[\n",
        "            dict(type=\"rect\",\n",
        "                 yref=\"paper\",\n",
        "                 x0=disaster['Start_Datetime'].strftime('%Y-%m-%d'), \n",
        "                 y0=0,\n",
        "                 x1=disaster['End_Datetime'].strftime('%Y-%m-%d'),\n",
        "                 y1=1,\n",
        "                 fillcolor=disasterColourDict[disaster['Disaster']],\n",
        "                 opacity=1,\n",
        "                 layer=\"below\",\n",
        "                 line_width=0.2) \\\n",
        "                 for index, disaster in extreme_weather_table.iterrows()\n",
        "           ]\n",
        "    \n",
        "    # Add shapes to figure.\n",
        "    fig.update_layout(shapes=shapes)\n",
        "\n",
        "    ### Updating axes, title and legend. ###\n",
        "    # Fixing y-axis range.\n",
        "    fig.update_yaxes(fixedrange=True)  \n",
        "    # Adding title.\n",
        "    fig.update_layout(title=f'{district}')\n",
        "    # Updating legend layout.\n",
        "    fig.update_layout(legend=dict(\n",
        "                                  orientation=\"h\"\n",
        "                                 ))        \n",
        "\n",
        "    return fig"
      ],
      "execution_count": 7,
      "outputs": []
    },
    {
      "cell_type": "markdown",
      "metadata": {
        "id": "R4DXYt-MT1TG"
      },
      "source": [
        "## Creating a Test Interactive Plot using Plotly"
      ]
    },
    {
      "cell_type": "code",
      "metadata": {
        "id": "3KVFo6o9vfKO",
        "outputId": "4632ab63-d864-47ed-8008-231424b0cfdd",
        "colab": {
          "base_uri": "https://localhost:8080/",
          "height": 542
        }
      },
      "source": [
        "district = 'Dosquebradas'\n",
        "farm = 'Central_N_Farm_C'\n",
        "\n",
        "fig = plot_interactive_time_series(district, farm)\n",
        "fig"
      ],
      "execution_count": 10,
      "outputs": [
        {
          "output_type": "display_data",
          "data": {
            "text/html": [
              "<html>\n",
              "<head><meta charset=\"utf-8\" /></head>\n",
              "<body>\n",
              "    <div>            <script src=\"https://cdnjs.cloudflare.com/ajax/libs/mathjax/2.7.5/MathJax.js?config=TeX-AMS-MML_SVG\"></script><script type=\"text/javascript\">if (window.MathJax) {MathJax.Hub.Config({SVG: {font: \"STIX-Web\"}});}</script>                <script type=\"text/javascript\">window.PlotlyConfig = {MathJaxConfig: 'local'};</script>\n",
              "        <script src=\"https://cdn.plot.ly/plotly-latest.min.js\"></script>                <div id=\"2eb50972-6648-465e-a024-b69904ccc377\" class=\"plotly-graph-div\" style=\"height:525px; width:100%;\"></div>            <script type=\"text/javascript\">                                    window.PLOTLYENV=window.PLOTLYENV || {};                                    if (document.getElementById(\"2eb50972-6648-465e-a024-b69904ccc377\")) {                    Plotly.newPlot(                        \"2eb50972-6648-465e-a024-b69904ccc377\",                        [{\"mode\": \"lines+markers\", \"name\": \"Modis Aqua 250m 16 Day NDVI\", \"type\": \"scatter\", \"x\": [\"2002-07-04T00:00:00\", \"2002-07-20T00:00:00\", \"2002-08-05T00:00:00\", \"2002-08-21T00:00:00\", \"2002-09-06T00:00:00\", \"2002-09-22T00:00:00\", \"2002-10-08T00:00:00\", \"2002-10-24T00:00:00\", \"2002-11-09T00:00:00\", \"2002-11-25T00:00:00\", \"2002-12-11T00:00:00\", \"2002-12-27T00:00:00\", \"2003-01-09T00:00:00\", \"2003-01-25T00:00:00\", \"2003-02-10T00:00:00\", \"2003-02-26T00:00:00\", \"2003-03-14T00:00:00\", \"2003-03-30T00:00:00\", \"2003-04-15T00:00:00\", \"2003-05-01T00:00:00\", \"2003-05-17T00:00:00\", \"2003-06-02T00:00:00\", \"2003-06-18T00:00:00\", \"2003-07-04T00:00:00\", \"2003-07-20T00:00:00\", \"2003-08-05T00:00:00\", \"2003-08-21T00:00:00\", \"2003-09-06T00:00:00\", \"2003-09-22T00:00:00\", \"2003-10-08T00:00:00\", \"2003-10-24T00:00:00\", \"2003-11-09T00:00:00\", \"2003-11-25T00:00:00\", \"2003-12-11T00:00:00\", \"2004-01-09T00:00:00\", \"2004-01-25T00:00:00\", \"2004-02-10T00:00:00\", \"2004-02-26T00:00:00\", \"2004-03-13T00:00:00\", \"2004-03-29T00:00:00\", \"2004-04-14T00:00:00\", \"2004-04-30T00:00:00\", \"2004-05-16T00:00:00\", \"2004-06-01T00:00:00\", \"2004-06-17T00:00:00\", \"2004-07-03T00:00:00\", \"2004-07-19T00:00:00\", \"2004-08-04T00:00:00\", \"2004-08-20T00:00:00\", \"2004-09-05T00:00:00\", \"2004-09-21T00:00:00\", \"2004-10-07T00:00:00\", \"2004-10-23T00:00:00\", \"2004-11-08T00:00:00\", \"2004-11-24T00:00:00\", \"2004-12-10T00:00:00\", \"2004-12-26T00:00:00\", \"2005-01-09T00:00:00\", \"2005-01-25T00:00:00\", \"2005-02-10T00:00:00\", \"2005-02-26T00:00:00\", \"2005-03-14T00:00:00\", \"2005-03-30T00:00:00\", \"2005-04-15T00:00:00\", \"2005-05-01T00:00:00\", \"2005-05-17T00:00:00\", \"2005-06-02T00:00:00\", \"2005-06-18T00:00:00\", \"2005-07-04T00:00:00\", \"2005-07-20T00:00:00\", \"2005-08-05T00:00:00\", \"2005-08-21T00:00:00\", \"2005-09-06T00:00:00\", \"2005-09-22T00:00:00\", \"2005-10-08T00:00:00\", \"2005-10-24T00:00:00\", \"2005-11-09T00:00:00\", \"2005-11-25T00:00:00\", \"2005-12-11T00:00:00\", \"2005-12-27T00:00:00\", \"2006-01-09T00:00:00\", \"2006-01-25T00:00:00\", \"2006-02-10T00:00:00\", \"2006-02-26T00:00:00\", \"2006-03-14T00:00:00\", \"2006-03-30T00:00:00\", \"2006-04-15T00:00:00\", \"2006-05-01T00:00:00\", \"2006-05-17T00:00:00\", \"2006-06-02T00:00:00\", \"2006-06-18T00:00:00\", \"2006-07-04T00:00:00\", \"2006-07-20T00:00:00\", \"2006-08-05T00:00:00\", \"2006-08-21T00:00:00\", \"2006-09-06T00:00:00\", \"2006-09-22T00:00:00\", \"2006-10-08T00:00:00\", \"2006-10-24T00:00:00\", \"2006-11-09T00:00:00\", \"2006-11-25T00:00:00\", \"2006-12-11T00:00:00\", \"2006-12-27T00:00:00\", \"2007-01-09T00:00:00\", \"2007-01-25T00:00:00\", \"2007-02-10T00:00:00\", \"2007-02-26T00:00:00\", \"2007-03-14T00:00:00\", \"2007-03-30T00:00:00\", \"2007-04-15T00:00:00\", \"2007-05-01T00:00:00\", \"2007-05-17T00:00:00\", \"2007-06-02T00:00:00\", \"2007-06-18T00:00:00\", \"2007-07-04T00:00:00\", \"2007-07-20T00:00:00\", \"2007-08-05T00:00:00\", \"2007-08-21T00:00:00\", \"2007-09-06T00:00:00\", \"2007-09-22T00:00:00\", \"2007-10-08T00:00:00\", \"2007-10-24T00:00:00\", \"2007-11-09T00:00:00\", \"2007-11-25T00:00:00\", \"2007-12-11T00:00:00\", \"2007-12-27T00:00:00\", \"2008-01-09T00:00:00\", \"2008-01-25T00:00:00\", \"2008-02-10T00:00:00\", \"2008-02-26T00:00:00\", \"2008-03-13T00:00:00\", \"2008-03-29T00:00:00\", \"2008-04-14T00:00:00\", \"2008-04-30T00:00:00\", \"2008-05-16T00:00:00\", \"2008-06-01T00:00:00\", \"2008-06-17T00:00:00\", \"2008-07-03T00:00:00\", \"2008-07-19T00:00:00\", \"2008-08-04T00:00:00\", \"2008-08-20T00:00:00\", \"2008-09-05T00:00:00\", \"2008-09-21T00:00:00\", \"2008-10-07T00:00:00\", \"2008-10-23T00:00:00\", \"2008-11-08T00:00:00\", \"2008-11-24T00:00:00\", \"2008-12-10T00:00:00\", \"2008-12-26T00:00:00\", \"2009-01-09T00:00:00\", \"2009-01-25T00:00:00\", \"2009-02-10T00:00:00\", \"2009-02-26T00:00:00\", \"2009-03-14T00:00:00\", \"2009-03-30T00:00:00\", \"2009-04-15T00:00:00\", \"2009-05-01T00:00:00\", \"2009-05-17T00:00:00\", \"2009-06-02T00:00:00\", \"2009-06-18T00:00:00\", \"2009-07-04T00:00:00\", \"2009-07-20T00:00:00\", \"2009-08-05T00:00:00\", \"2009-08-21T00:00:00\", \"2009-09-06T00:00:00\", \"2009-09-22T00:00:00\", \"2009-10-08T00:00:00\", \"2009-10-24T00:00:00\", \"2009-11-09T00:00:00\", \"2009-11-25T00:00:00\", \"2009-12-11T00:00:00\", \"2009-12-27T00:00:00\", \"2010-01-09T00:00:00\", \"2010-01-25T00:00:00\", \"2010-02-10T00:00:00\", \"2010-02-26T00:00:00\", \"2010-03-14T00:00:00\", \"2010-03-30T00:00:00\", \"2010-04-15T00:00:00\", \"2010-05-01T00:00:00\", \"2010-05-17T00:00:00\", \"2010-06-02T00:00:00\", \"2010-06-18T00:00:00\", \"2010-07-04T00:00:00\", \"2010-07-20T00:00:00\", \"2010-08-05T00:00:00\", \"2010-08-21T00:00:00\", \"2010-09-06T00:00:00\", \"2010-09-22T00:00:00\", \"2010-10-08T00:00:00\", \"2010-10-24T00:00:00\", \"2010-11-09T00:00:00\", \"2010-11-25T00:00:00\", \"2010-12-11T00:00:00\", \"2010-12-27T00:00:00\", \"2011-01-09T00:00:00\", \"2011-01-25T00:00:00\", \"2011-02-10T00:00:00\", \"2011-02-26T00:00:00\", \"2011-03-14T00:00:00\", \"2011-03-30T00:00:00\", \"2011-04-15T00:00:00\", \"2011-05-01T00:00:00\", \"2011-05-17T00:00:00\", \"2011-06-02T00:00:00\", \"2011-06-18T00:00:00\", \"2011-07-04T00:00:00\", \"2011-07-20T00:00:00\", \"2011-08-05T00:00:00\", \"2011-08-21T00:00:00\", \"2011-09-06T00:00:00\", \"2011-09-22T00:00:00\", \"2011-10-08T00:00:00\", \"2011-10-24T00:00:00\", \"2011-11-09T00:00:00\", \"2011-11-25T00:00:00\", \"2011-12-11T00:00:00\", \"2011-12-27T00:00:00\", \"2012-01-09T00:00:00\", \"2012-01-25T00:00:00\", \"2012-02-10T00:00:00\", \"2012-02-26T00:00:00\", \"2012-03-13T00:00:00\", \"2012-03-29T00:00:00\", \"2012-04-14T00:00:00\", \"2012-04-30T00:00:00\", \"2012-05-16T00:00:00\", \"2012-06-01T00:00:00\", \"2012-06-17T00:00:00\", \"2012-07-03T00:00:00\", \"2012-07-19T00:00:00\", \"2012-08-04T00:00:00\", \"2012-08-20T00:00:00\", \"2012-09-05T00:00:00\", \"2012-09-21T00:00:00\", \"2012-10-07T00:00:00\", \"2012-10-23T00:00:00\", \"2012-11-08T00:00:00\", \"2012-11-24T00:00:00\", \"2012-12-10T00:00:00\", \"2012-12-26T00:00:00\", \"2013-01-09T00:00:00\", \"2013-01-25T00:00:00\", \"2013-02-10T00:00:00\", \"2013-02-26T00:00:00\", \"2013-03-14T00:00:00\", \"2013-03-30T00:00:00\", \"2013-04-15T00:00:00\", \"2013-05-01T00:00:00\", \"2013-05-17T00:00:00\", \"2013-06-02T00:00:00\", \"2013-06-18T00:00:00\", \"2013-07-04T00:00:00\", \"2013-07-20T00:00:00\", \"2013-08-05T00:00:00\", \"2013-08-21T00:00:00\", \"2013-09-06T00:00:00\", \"2013-09-22T00:00:00\", \"2013-10-08T00:00:00\", \"2013-10-24T00:00:00\", \"2013-11-09T00:00:00\", \"2013-11-25T00:00:00\", \"2013-12-11T00:00:00\", \"2013-12-27T00:00:00\", \"2014-01-09T00:00:00\", \"2014-01-25T00:00:00\", \"2014-02-10T00:00:00\", \"2014-02-26T00:00:00\", \"2014-03-14T00:00:00\", \"2014-03-30T00:00:00\", \"2014-04-15T00:00:00\", \"2014-05-01T00:00:00\", \"2014-05-17T00:00:00\", \"2014-06-02T00:00:00\", \"2014-06-18T00:00:00\", \"2014-07-04T00:00:00\", \"2014-07-20T00:00:00\", \"2014-08-05T00:00:00\", \"2014-08-21T00:00:00\", \"2014-09-06T00:00:00\", \"2014-09-22T00:00:00\", \"2014-10-08T00:00:00\", \"2014-10-24T00:00:00\", \"2014-11-09T00:00:00\", \"2014-11-25T00:00:00\", \"2014-12-11T00:00:00\", \"2014-12-27T00:00:00\", \"2015-01-09T00:00:00\", \"2015-01-25T00:00:00\", \"2015-02-10T00:00:00\", \"2015-02-26T00:00:00\", \"2015-03-14T00:00:00\", \"2015-03-30T00:00:00\", \"2015-04-15T00:00:00\", \"2015-05-01T00:00:00\", \"2015-05-17T00:00:00\", \"2015-06-02T00:00:00\", \"2015-06-18T00:00:00\", \"2015-07-04T00:00:00\", \"2015-07-20T00:00:00\", \"2015-08-05T00:00:00\", \"2015-08-21T00:00:00\", \"2015-09-06T00:00:00\", \"2015-09-22T00:00:00\", \"2015-10-08T00:00:00\", \"2015-10-24T00:00:00\", \"2015-11-09T00:00:00\", \"2015-11-25T00:00:00\", \"2015-12-11T00:00:00\", \"2015-12-27T00:00:00\", \"2016-01-09T00:00:00\", \"2016-01-25T00:00:00\", \"2016-02-10T00:00:00\", \"2016-02-26T00:00:00\", \"2016-03-13T00:00:00\", \"2016-03-29T00:00:00\", \"2016-04-14T00:00:00\", \"2016-04-30T00:00:00\", \"2016-05-16T00:00:00\", \"2016-06-01T00:00:00\", \"2016-06-17T00:00:00\", \"2016-07-03T00:00:00\", \"2016-07-19T00:00:00\", \"2016-08-04T00:00:00\", \"2016-08-20T00:00:00\", \"2016-09-05T00:00:00\", \"2016-09-21T00:00:00\", \"2016-10-07T00:00:00\", \"2016-10-23T00:00:00\", \"2016-11-08T00:00:00\", \"2016-11-24T00:00:00\", \"2016-12-10T00:00:00\", \"2016-12-26T00:00:00\", \"2017-01-09T00:00:00\", \"2017-01-25T00:00:00\", \"2017-02-10T00:00:00\", \"2017-02-26T00:00:00\", \"2017-03-14T00:00:00\", \"2017-03-30T00:00:00\", \"2017-04-15T00:00:00\", \"2017-05-01T00:00:00\", \"2017-05-17T00:00:00\", \"2017-06-02T00:00:00\", \"2017-06-18T00:00:00\", \"2017-07-04T00:00:00\", \"2017-07-20T00:00:00\", \"2017-08-05T00:00:00\", \"2017-08-21T00:00:00\", \"2017-09-06T00:00:00\", \"2017-09-22T00:00:00\", \"2017-10-08T00:00:00\", \"2017-10-24T00:00:00\", \"2017-11-09T00:00:00\", \"2017-11-25T00:00:00\", \"2017-12-11T00:00:00\", \"2017-12-27T00:00:00\", \"2018-01-09T00:00:00\", \"2018-01-25T00:00:00\", \"2018-02-10T00:00:00\", \"2018-02-26T00:00:00\", \"2018-03-14T00:00:00\", \"2018-03-30T00:00:00\", \"2018-04-15T00:00:00\", \"2018-05-01T00:00:00\", \"2018-05-17T00:00:00\", \"2018-06-02T00:00:00\", \"2018-06-18T00:00:00\", \"2018-07-04T00:00:00\", \"2018-07-20T00:00:00\", \"2018-08-05T00:00:00\", \"2018-08-21T00:00:00\", \"2018-09-06T00:00:00\", \"2018-09-22T00:00:00\", \"2018-10-08T00:00:00\", \"2018-10-24T00:00:00\", \"2018-11-09T00:00:00\", \"2018-11-25T00:00:00\", \"2018-12-11T00:00:00\", \"2018-12-27T00:00:00\", \"2019-01-09T00:00:00\", \"2019-01-25T00:00:00\", \"2019-02-10T00:00:00\", \"2019-02-26T00:00:00\", \"2019-03-14T00:00:00\", \"2019-03-30T00:00:00\", \"2019-04-15T00:00:00\", \"2019-05-01T00:00:00\", \"2019-05-17T00:00:00\", \"2019-06-02T00:00:00\", \"2019-06-18T00:00:00\", \"2019-07-04T00:00:00\", \"2019-07-20T00:00:00\", \"2019-08-05T00:00:00\", \"2019-08-21T00:00:00\", \"2019-09-06T00:00:00\", \"2019-09-22T00:00:00\", \"2019-10-08T00:00:00\", \"2019-10-24T00:00:00\", \"2019-11-09T00:00:00\", \"2019-11-25T00:00:00\", \"2019-12-11T00:00:00\", \"2019-12-27T00:00:00\", \"2020-01-09T00:00:00\", \"2020-01-25T00:00:00\", \"2020-02-10T00:00:00\", \"2020-02-26T00:00:00\", \"2020-03-13T00:00:00\", \"2020-03-29T00:00:00\", \"2020-04-14T00:00:00\", \"2020-04-30T00:00:00\", \"2020-05-16T00:00:00\", \"2020-06-01T00:00:00\", \"2020-06-17T00:00:00\", \"2020-07-03T00:00:00\", \"2020-07-19T00:00:00\", \"2020-08-04T00:00:00\", \"2020-08-20T00:00:00\", \"2020-09-05T00:00:00\", \"2020-09-21T00:00:00\"], \"xaxis\": \"x\", \"y\": [0.06724999999999998, 0.023150000000000004, -0.20165, -0.17450000000000002, -0.018199999999999994, 0.17120000000000005, -0.0007500000000000007, -0.10540000000000005, 0.07525000000000001, -0.045999999999999985, -0.06035, 0.1491, -0.03330000000000001, -0.0009000000000000119, 0.23975000000000002, 0.017699999999999994, -0.16685000000000003, -0.3701, -0.1478, 0.009450000000000007, 0.36465000000000003, 0.35430000000000006, -0.16525, -0.21405000000000002, -0.1583, -0.13080000000000003, 0.17445, 0.28955000000000003, -0.15615, -0.15505000000000002, 0.12485, 0.22515000000000002, 0.20705, -0.20775000000000002, -0.052549999999999986, -0.20045, -0.14885, 0.3598, -0.11100000000000002, -0.19210000000000002, 0.17485, -0.1069, 0.12285000000000001, 0.3244, 0.06495000000000001, -0.2271, -0.017600000000000005, -0.14, -0.3075, 0.34635, -0.06805, -0.0030000000000000027, 0.17235, -0.19799999999999998, -0.10400000000000001, 0.17339999999999997, -0.0537, -0.22769999999999999, 0.3016, -0.0349, 0.038000000000000034, 0.013749999999999998, -0.3955, -0.018100000000000005, 0.2268, 0.20345, -0.030299999999999994, -0.12304999999999999, -0.11875, 0.028850000000000015, 0.3222, 0.2144, -0.34075, -0.06040000000000001, 0.06765000000000002, 0.0509, 0.00655, -0.4038, 0.151, 0.3971, -0.26635000000000003, -0.10105000000000003, 0.36255000000000004, -0.23704999999999998, -0.19355, 0.08739999999999999, 0.17204999999999998, 0.18895, -0.25, 0.09840000000000004, 0.027650000000000008, -0.23345000000000005, 0.10475000000000001, 0.15115, 0.07355, -0.2442, 0.09425, 0.1195, -0.1918, 0.1752, -0.20470000000000002, -0.36775, 0.1335, 0.34740000000000004, 0.21355000000000002, -0.35425, -0.34465, 0.0877, 0.0891, -0.0727, -0.05585, -0.0037500000000000033, 0.3606, 0.35815, -0.10829999999999995, -0.32075, -0.15790000000000004, -0.020000000000000004, -0.09519999999999999, -0.0177, 0.277, 0.056600000000000004, -0.20120000000000002, -0.07415, -0.05645, 0.05755, 0.13285, -0.022099999999999995, 0.12995, 0.22860000000000003, -0.24925, -0.1327, 0.03920000000000001, 0.05050000000000002, 0.0232, -0.05225000000000002, -0.11625000000000002, -0.0012500000000000011, -0.019900000000000004, 0.11665, 0.08735000000000001, -0.21805, 0.21415000000000003, 0.36275, -0.11835000000000004, -0.14649999999999996, 0.08695, -0.16290000000000004, -0.1869, 0.05589999999999999, 0.046799999999999994, 0.060350000000000015, 0.188, -0.11935000000000001, -0.18009999999999998, -0.0017500000000000016, -0.12645, 0.31065, 0.338, -0.04039999999999999, 0.033399999999999985, 0.049350000000000005, 0.0242, -0.2245, -0.3139, 0.20935, 0.2797, -0.21270000000000003, -0.268, 0.06700000000000003, 0.27130000000000004, 0.06609999999999999, -0.005500000000000005, -0.19985000000000003, -0.24110000000000004, 0.16425, 0.03900000000000001, 0.0968, 0.03510000000000002, -0.25705, 0.18915, 0.23300000000000004, -0.22895000000000001, -0.13170000000000004, 0.2271, 0.06175000000000003, -0.3529, 0.11449999999999999, 0.08485000000000001, -0.06955, -0.07425, -0.30595, 0.12645, 0.12480000000000001, -0.04089999999999999, -0.1431, -0.028799999999999992, 0.392, -0.09855000000000003, -0.19465, 0.37535, -0.1491, -0.2994, 0.2545, 0.14659999999999998, 0.11045000000000005, -0.030349999999999988, -0.01645000000000002, -0.04815, -0.06314999999999998, 0.21385, 0.06409999999999999, -0.1991, 0.010699999999999987, -0.14540000000000003, -0.2406, 0.30065000000000003, 0.13699999999999998, -0.17745, -0.038449999999999984, 0.15134999999999998, 0.0045499999999999985, 0.08879999999999999, 0.13155, -0.39045, -0.26955, 0.40595000000000003, -0.015100000000000002, -0.0524, 0.01830000000000001, -0.023399999999999976, 0.26635, 0.044800000000000006, -0.27155, -0.15220000000000003, 0.09495, 0.06575, 0.17225000000000004, -0.022150000000000003, -0.09455000000000002, 0.007550000000000001, -0.13725, 0.11265000000000003, -0.06230000000000001, -0.17305000000000004, -0.015600000000000003, -0.20804999999999998, -0.06559999999999999, 0.23590000000000003, 0.37105, 0.13074999999999998, -0.015000000000000013, 0.044399999999999995, -0.19619999999999999, -0.3403, 0.19669999999999999, 0.13340000000000002, -0.1795, 0.14075000000000001, -0.1406, 0.02394999999999997, 0.18930000000000002, 0.02310000000000001, 0.005149999999999988, -0.1933, -0.02804999999999999, 0.1803, 0.044249999999999984, -0.26134999999999997, -0.12190000000000001, 0.16380000000000003, -0.1398, -0.14750000000000002, 0.0537, -0.04164999999999999, 0.15775, 0.05479999999999999, 0.18195000000000003, 0.0592, -0.030950000000000033, -0.1691, -0.1386, 0.22610000000000002, -0.03334999999999999, 0.1286, 0.1859, -0.25015, -0.3427, 0.15080000000000002, 0.1754, -0.26380000000000003, 0.02980000000000002, 0.015049999999999994, -0.08760000000000001, 0.33995000000000003, 0.08639999999999998, -0.004750000000000032, -0.25434999999999997, -0.0032999999999999696, 0.3967, -0.3493, -0.21285, 0.33115, -0.183, -0.22565000000000002, 0.2836, -0.07790000000000001, 0.07330000000000003, 0.34995000000000004, 0.034099999999999964, -0.0907, -0.08289999999999997, -0.16075, 0.04009999999999997, 0.25315, -0.35409999999999997, -0.40535, 0.22680000000000003, 0.3789, 0.17704999999999999, 0.01679999999999998, -0.010199999999999987, 0.012649999999999995, 0.019600000000000006, -0.25534999999999997, -0.012550000000000006, -0.050350000000000006, -0.14845000000000003, 0.28945, 0.07915, -0.10954999999999998, -0.28545, -0.07135000000000002, 0.24559999999999998, 0.16360000000000002, -0.21034999999999998, -0.3551, 0.1024, 0.33155, 0.2294, 0.05175000000000002, -0.15559999999999996, -0.18855000000000002, 0.17374999999999996, -0.09245, -0.389, 0.11695, 0.24420000000000003, -0.01999999999999999, -0.24245, 0.07685, 0.1401, 0.07419999999999999, 0.21944999999999998, -0.06714999999999999, -0.2968, -0.17020000000000002, 0.30115000000000003, 0.022199999999999998, -0.33495, 0.22510000000000002, 0.13505, -0.27215, -0.13030000000000003, -0.034000000000000016, 0.3594, 0.1085, -0.11304999999999998, 0.18815, -0.004400000000000015, 0.011149999999999993, 0.01319999999999999, -0.24710000000000001, 0.08584999999999998, 0.11550000000000002, -0.268, 0.008649999999999991, 0.27580000000000005, 0.12470000000000003, -0.18280000000000002, -0.021100000000000008, 0.0028000000000000247, -0.3164, -0.07470000000000002, 0.33435, 0.004750000000000004, -0.35645, -0.14945000000000003, 0.03600000000000001, 0.3996, 0.32010000000000005, -0.10335, -0.0887, 0.10625000000000001, -0.21280000000000004, -0.4121, 0.31660000000000005, 0.4041, -0.05560000000000004, -0.08710000000000001, 0.049949999999999994, 0.07080000000000003, -0.014849999999999974, -0.02150000000000002, -0.30665000000000003, 0.028000000000000025, 0.29955000000000004, -0.011699999999999988, -0.2906, -0.3274, -0.01634999999999999, 0.2892, 0.36735, -0.25880000000000003, -0.10670000000000002, 0.1195, 0.005599999999999994, -0.1345, -0.5198], \"yaxis\": \"y\"}, {\"mode\": \"lines+markers\", \"name\": \"Modis Terra 250m 16 Day NDVI\", \"type\": \"scatter\", \"x\": [\"2000-02-18T00:00:00\", \"2000-03-05T00:00:00\", \"2000-03-21T00:00:00\", \"2000-04-06T00:00:00\", \"2000-04-22T00:00:00\", \"2000-05-08T00:00:00\", \"2000-05-24T00:00:00\", \"2000-06-09T00:00:00\", \"2000-06-25T00:00:00\", \"2000-07-11T00:00:00\", \"2000-07-27T00:00:00\", \"2000-08-12T00:00:00\", \"2000-08-28T00:00:00\", \"2000-09-13T00:00:00\", \"2000-09-29T00:00:00\", \"2000-10-15T00:00:00\", \"2000-10-31T00:00:00\", \"2000-11-16T00:00:00\", \"2000-12-02T00:00:00\", \"2000-12-18T00:00:00\", \"2001-01-01T00:00:00\", \"2001-01-17T00:00:00\", \"2001-02-02T00:00:00\", \"2001-02-18T00:00:00\", \"2001-03-06T00:00:00\", \"2001-03-22T00:00:00\", \"2001-04-07T00:00:00\", \"2001-04-23T00:00:00\", \"2001-05-09T00:00:00\", \"2001-05-25T00:00:00\", \"2001-06-10T00:00:00\", \"2001-06-26T00:00:00\", \"2001-07-12T00:00:00\", \"2001-07-28T00:00:00\", \"2001-08-13T00:00:00\", \"2001-08-29T00:00:00\", \"2001-09-14T00:00:00\", \"2001-09-30T00:00:00\", \"2001-10-16T00:00:00\", \"2001-11-01T00:00:00\", \"2001-11-17T00:00:00\", \"2001-12-03T00:00:00\", \"2001-12-19T00:00:00\", \"2002-01-01T00:00:00\", \"2002-01-17T00:00:00\", \"2002-02-02T00:00:00\", \"2002-02-18T00:00:00\", \"2002-03-06T00:00:00\", \"2002-03-22T00:00:00\", \"2002-04-07T00:00:00\", \"2002-04-23T00:00:00\", \"2002-05-09T00:00:00\", \"2002-05-25T00:00:00\", \"2002-06-10T00:00:00\", \"2002-06-26T00:00:00\", \"2002-07-12T00:00:00\", \"2002-07-28T00:00:00\", \"2002-08-13T00:00:00\", \"2002-08-29T00:00:00\", \"2002-09-14T00:00:00\", \"2002-09-30T00:00:00\", \"2002-10-16T00:00:00\", \"2002-11-01T00:00:00\", \"2002-11-17T00:00:00\", \"2002-12-03T00:00:00\", \"2002-12-19T00:00:00\", \"2003-01-01T00:00:00\", \"2003-01-17T00:00:00\", \"2003-02-02T00:00:00\", \"2003-02-18T00:00:00\", \"2003-03-06T00:00:00\", \"2003-03-22T00:00:00\", \"2003-04-07T00:00:00\", \"2003-04-23T00:00:00\", \"2003-05-09T00:00:00\", \"2003-05-25T00:00:00\", \"2003-06-10T00:00:00\", \"2003-06-26T00:00:00\", \"2003-07-12T00:00:00\", \"2003-07-28T00:00:00\", \"2003-08-13T00:00:00\", \"2003-08-29T00:00:00\", \"2003-09-14T00:00:00\", \"2003-09-30T00:00:00\", \"2003-10-16T00:00:00\", \"2003-11-01T00:00:00\", \"2003-11-17T00:00:00\", \"2003-12-03T00:00:00\", \"2003-12-19T00:00:00\", \"2004-01-01T00:00:00\", \"2004-01-17T00:00:00\", \"2004-02-02T00:00:00\", \"2004-02-18T00:00:00\", \"2004-03-05T00:00:00\", \"2004-03-21T00:00:00\", \"2004-04-06T00:00:00\", \"2004-04-22T00:00:00\", \"2004-05-08T00:00:00\", \"2004-05-24T00:00:00\", \"2004-06-09T00:00:00\", \"2004-06-25T00:00:00\", \"2004-07-11T00:00:00\", \"2004-07-27T00:00:00\", \"2004-08-12T00:00:00\", \"2004-08-28T00:00:00\", \"2004-09-13T00:00:00\", \"2004-09-29T00:00:00\", \"2004-10-15T00:00:00\", \"2004-10-31T00:00:00\", \"2004-11-16T00:00:00\", \"2004-12-02T00:00:00\", \"2004-12-18T00:00:00\", \"2005-01-01T00:00:00\", \"2005-01-17T00:00:00\", \"2005-02-02T00:00:00\", \"2005-02-18T00:00:00\", \"2005-03-06T00:00:00\", \"2005-03-22T00:00:00\", \"2005-04-07T00:00:00\", \"2005-04-23T00:00:00\", \"2005-05-09T00:00:00\", \"2005-05-25T00:00:00\", \"2005-06-10T00:00:00\", \"2005-06-26T00:00:00\", \"2005-07-12T00:00:00\", \"2005-07-28T00:00:00\", \"2005-08-13T00:00:00\", \"2005-08-29T00:00:00\", \"2005-09-14T00:00:00\", \"2005-09-30T00:00:00\", \"2005-10-16T00:00:00\", \"2005-11-01T00:00:00\", \"2005-11-17T00:00:00\", \"2005-12-03T00:00:00\", \"2005-12-19T00:00:00\", \"2006-01-01T00:00:00\", \"2006-01-17T00:00:00\", \"2006-02-02T00:00:00\", \"2006-02-18T00:00:00\", \"2006-03-06T00:00:00\", \"2006-03-22T00:00:00\", \"2006-04-07T00:00:00\", \"2006-04-23T00:00:00\", \"2006-05-09T00:00:00\", \"2006-05-25T00:00:00\", \"2006-06-10T00:00:00\", \"2006-06-26T00:00:00\", \"2006-07-12T00:00:00\", \"2006-07-28T00:00:00\", \"2006-08-13T00:00:00\", \"2006-08-29T00:00:00\", \"2006-09-14T00:00:00\", \"2006-09-30T00:00:00\", \"2006-10-16T00:00:00\", \"2006-11-01T00:00:00\", \"2006-11-17T00:00:00\", \"2006-12-03T00:00:00\", \"2006-12-19T00:00:00\", \"2007-01-01T00:00:00\", \"2007-01-17T00:00:00\", \"2007-02-02T00:00:00\", \"2007-02-18T00:00:00\", \"2007-03-06T00:00:00\", \"2007-03-22T00:00:00\", \"2007-04-07T00:00:00\", \"2007-04-23T00:00:00\", \"2007-05-09T00:00:00\", \"2007-05-25T00:00:00\", \"2007-06-10T00:00:00\", \"2007-06-26T00:00:00\", \"2007-07-12T00:00:00\", \"2007-07-28T00:00:00\", \"2007-08-13T00:00:00\", \"2007-08-29T00:00:00\", \"2007-09-14T00:00:00\", \"2007-09-30T00:00:00\", \"2007-10-16T00:00:00\", \"2007-11-01T00:00:00\", \"2007-11-17T00:00:00\", \"2007-12-03T00:00:00\", \"2007-12-19T00:00:00\", \"2008-01-01T00:00:00\", \"2008-01-17T00:00:00\", \"2008-02-02T00:00:00\", \"2008-02-18T00:00:00\", \"2008-03-05T00:00:00\", \"2008-03-21T00:00:00\", \"2008-04-06T00:00:00\", \"2008-04-22T00:00:00\", \"2008-05-08T00:00:00\", \"2008-05-24T00:00:00\", \"2008-06-09T00:00:00\", \"2008-06-25T00:00:00\", \"2008-07-11T00:00:00\", \"2008-07-27T00:00:00\", \"2008-08-12T00:00:00\", \"2008-08-28T00:00:00\", \"2008-09-13T00:00:00\", \"2008-09-29T00:00:00\", \"2008-10-15T00:00:00\", \"2008-10-31T00:00:00\", \"2008-11-16T00:00:00\", \"2008-12-02T00:00:00\", \"2008-12-18T00:00:00\", \"2009-01-01T00:00:00\", \"2009-01-17T00:00:00\", \"2009-02-02T00:00:00\", \"2009-02-18T00:00:00\", \"2009-03-06T00:00:00\", \"2009-03-22T00:00:00\", \"2009-04-07T00:00:00\", \"2009-04-23T00:00:00\", \"2009-05-09T00:00:00\", \"2009-05-25T00:00:00\", \"2009-06-10T00:00:00\", \"2009-06-26T00:00:00\", \"2009-07-12T00:00:00\", \"2009-07-28T00:00:00\", \"2009-08-13T00:00:00\", \"2009-08-29T00:00:00\", \"2009-09-14T00:00:00\", \"2009-09-30T00:00:00\", \"2009-10-16T00:00:00\", \"2009-11-01T00:00:00\", \"2009-11-17T00:00:00\", \"2009-12-03T00:00:00\", \"2009-12-19T00:00:00\", \"2010-01-01T00:00:00\", \"2010-01-17T00:00:00\", \"2010-02-02T00:00:00\", \"2010-02-18T00:00:00\", \"2010-03-06T00:00:00\", \"2010-03-22T00:00:00\", \"2010-04-07T00:00:00\", \"2010-04-23T00:00:00\", \"2010-05-09T00:00:00\", \"2010-05-25T00:00:00\", \"2010-06-10T00:00:00\", \"2010-06-26T00:00:00\", \"2010-07-12T00:00:00\", \"2010-07-28T00:00:00\", \"2010-08-13T00:00:00\", \"2010-08-29T00:00:00\", \"2010-09-14T00:00:00\", \"2010-09-30T00:00:00\", \"2010-10-16T00:00:00\", \"2010-11-01T00:00:00\", \"2010-11-17T00:00:00\", \"2010-12-03T00:00:00\", \"2010-12-19T00:00:00\", \"2011-01-01T00:00:00\", \"2011-01-17T00:00:00\", \"2011-02-02T00:00:00\", \"2011-02-18T00:00:00\", \"2011-03-06T00:00:00\", \"2011-03-22T00:00:00\", \"2011-04-07T00:00:00\", \"2011-04-23T00:00:00\", \"2011-05-09T00:00:00\", \"2011-05-25T00:00:00\", \"2011-06-10T00:00:00\", \"2011-06-26T00:00:00\", \"2011-07-12T00:00:00\", \"2011-07-28T00:00:00\", \"2011-08-13T00:00:00\", \"2011-08-29T00:00:00\", \"2011-09-14T00:00:00\", \"2011-09-30T00:00:00\", \"2011-10-16T00:00:00\", \"2011-11-01T00:00:00\", \"2011-11-17T00:00:00\", \"2011-12-03T00:00:00\", \"2011-12-19T00:00:00\", \"2012-01-01T00:00:00\", \"2012-01-17T00:00:00\", \"2012-02-02T00:00:00\", \"2012-02-18T00:00:00\", \"2012-03-05T00:00:00\", \"2012-03-21T00:00:00\", \"2012-04-06T00:00:00\", \"2012-04-22T00:00:00\", \"2012-05-08T00:00:00\", \"2012-05-24T00:00:00\", \"2012-06-09T00:00:00\", \"2012-06-25T00:00:00\", \"2012-07-11T00:00:00\", \"2012-07-27T00:00:00\", \"2012-08-12T00:00:00\", \"2012-08-28T00:00:00\", \"2012-09-13T00:00:00\", \"2012-09-29T00:00:00\", \"2012-10-15T00:00:00\", \"2012-10-31T00:00:00\", \"2012-11-16T00:00:00\", \"2012-12-02T00:00:00\", \"2012-12-18T00:00:00\", \"2013-01-01T00:00:00\", \"2013-01-17T00:00:00\", \"2013-02-02T00:00:00\", \"2013-02-18T00:00:00\", \"2013-03-06T00:00:00\", \"2013-03-22T00:00:00\", \"2013-04-07T00:00:00\", \"2013-04-23T00:00:00\", \"2013-05-09T00:00:00\", \"2013-05-25T00:00:00\", \"2013-06-10T00:00:00\", \"2013-06-26T00:00:00\", \"2013-07-12T00:00:00\", \"2013-07-28T00:00:00\", \"2013-08-13T00:00:00\", \"2013-08-29T00:00:00\", \"2013-09-14T00:00:00\", \"2013-09-30T00:00:00\", \"2013-10-16T00:00:00\", \"2013-11-01T00:00:00\", \"2013-11-17T00:00:00\", \"2013-12-03T00:00:00\", \"2013-12-19T00:00:00\", \"2014-01-01T00:00:00\", \"2014-01-17T00:00:00\", \"2014-02-02T00:00:00\", \"2014-02-18T00:00:00\", \"2014-03-06T00:00:00\", \"2014-03-22T00:00:00\", \"2014-04-07T00:00:00\", \"2014-04-23T00:00:00\", \"2014-05-09T00:00:00\", \"2014-05-25T00:00:00\", \"2014-06-10T00:00:00\", \"2014-06-26T00:00:00\", \"2014-07-12T00:00:00\", \"2014-07-28T00:00:00\", \"2014-08-13T00:00:00\", \"2014-08-29T00:00:00\", \"2014-09-14T00:00:00\", \"2014-09-30T00:00:00\", \"2014-10-16T00:00:00\", \"2014-11-01T00:00:00\", \"2014-11-17T00:00:00\", \"2014-12-03T00:00:00\", \"2014-12-19T00:00:00\", \"2015-01-01T00:00:00\", \"2015-01-17T00:00:00\", \"2015-02-02T00:00:00\", \"2015-02-18T00:00:00\", \"2015-03-06T00:00:00\", \"2015-03-22T00:00:00\", \"2015-04-07T00:00:00\", \"2015-04-23T00:00:00\", \"2015-05-09T00:00:00\", \"2015-05-25T00:00:00\", \"2015-06-10T00:00:00\", \"2015-06-26T00:00:00\", \"2015-07-12T00:00:00\", \"2015-07-28T00:00:00\", \"2015-08-13T00:00:00\", \"2015-08-29T00:00:00\", \"2015-09-14T00:00:00\", \"2015-09-30T00:00:00\", \"2015-10-16T00:00:00\", \"2015-11-01T00:00:00\", \"2015-11-17T00:00:00\", \"2015-12-03T00:00:00\", \"2015-12-19T00:00:00\", \"2016-01-01T00:00:00\", \"2016-01-17T00:00:00\", \"2016-02-02T00:00:00\", \"2016-02-18T00:00:00\", \"2016-03-05T00:00:00\", \"2016-03-21T00:00:00\", \"2016-04-06T00:00:00\", \"2016-04-22T00:00:00\", \"2016-05-08T00:00:00\", \"2016-05-24T00:00:00\", \"2016-06-09T00:00:00\", \"2016-06-25T00:00:00\", \"2016-07-11T00:00:00\", \"2016-07-27T00:00:00\", \"2016-08-12T00:00:00\", \"2016-08-28T00:00:00\", \"2016-09-13T00:00:00\", \"2016-09-29T00:00:00\", \"2016-10-15T00:00:00\", \"2016-10-31T00:00:00\", \"2016-11-16T00:00:00\", \"2016-12-02T00:00:00\", \"2016-12-18T00:00:00\", \"2017-01-01T00:00:00\", \"2017-01-17T00:00:00\", \"2017-02-02T00:00:00\", \"2017-02-18T00:00:00\", \"2017-03-06T00:00:00\", \"2017-03-22T00:00:00\", \"2017-04-07T00:00:00\", \"2017-04-23T00:00:00\", \"2017-05-09T00:00:00\", \"2017-05-25T00:00:00\", \"2017-06-10T00:00:00\", \"2017-06-26T00:00:00\", \"2017-07-12T00:00:00\", \"2017-07-28T00:00:00\", \"2017-08-13T00:00:00\", \"2017-08-29T00:00:00\", \"2017-09-14T00:00:00\", \"2017-09-30T00:00:00\", \"2017-10-16T00:00:00\", \"2017-11-01T00:00:00\", \"2017-11-17T00:00:00\", \"2017-12-03T00:00:00\", \"2017-12-19T00:00:00\", \"2018-01-01T00:00:00\", \"2018-01-17T00:00:00\", \"2018-02-02T00:00:00\", \"2018-02-18T00:00:00\", \"2018-03-06T00:00:00\", \"2018-03-22T00:00:00\", \"2018-04-07T00:00:00\", \"2018-04-23T00:00:00\", \"2018-05-09T00:00:00\", \"2018-05-25T00:00:00\", \"2018-06-10T00:00:00\", \"2018-06-26T00:00:00\", \"2018-07-12T00:00:00\", \"2018-07-28T00:00:00\", \"2018-08-13T00:00:00\", \"2018-08-29T00:00:00\", \"2018-09-14T00:00:00\", \"2018-09-30T00:00:00\", \"2018-10-16T00:00:00\", \"2018-11-01T00:00:00\", \"2018-11-17T00:00:00\", \"2018-12-03T00:00:00\", \"2018-12-19T00:00:00\", \"2019-01-01T00:00:00\", \"2019-01-17T00:00:00\", \"2019-02-02T00:00:00\", \"2019-02-18T00:00:00\", \"2019-03-06T00:00:00\", \"2019-03-22T00:00:00\", \"2019-04-07T00:00:00\", \"2019-04-23T00:00:00\", \"2019-05-09T00:00:00\", \"2019-05-25T00:00:00\", \"2019-06-10T00:00:00\", \"2019-06-26T00:00:00\", \"2019-07-12T00:00:00\", \"2019-07-28T00:00:00\", \"2019-08-13T00:00:00\", \"2019-08-29T00:00:00\", \"2019-09-14T00:00:00\", \"2019-09-30T00:00:00\", \"2019-10-16T00:00:00\", \"2019-11-01T00:00:00\", \"2019-11-17T00:00:00\", \"2019-12-03T00:00:00\", \"2019-12-19T00:00:00\", \"2020-01-01T00:00:00\", \"2020-01-17T00:00:00\", \"2020-02-02T00:00:00\", \"2020-02-18T00:00:00\", \"2020-03-05T00:00:00\", \"2020-03-21T00:00:00\", \"2020-04-06T00:00:00\", \"2020-04-22T00:00:00\", \"2020-05-08T00:00:00\", \"2020-05-24T00:00:00\", \"2020-06-09T00:00:00\", \"2020-06-25T00:00:00\", \"2020-07-11T00:00:00\", \"2020-07-27T00:00:00\", \"2020-08-12T00:00:00\", \"2020-08-28T00:00:00\", \"2020-09-13T00:00:00\", \"2020-09-29T00:00:00\"], \"xaxis\": \"x\", \"y\": [0.3580000000000001, -0.0363, -0.21960000000000002, -0.014950000000000005, -0.018100000000000005, 0.0673, 0.37045, 0.27630000000000005, -0.2928, -0.3668, 0.23370000000000002, 0.2472, -0.08335000000000004, 0.06364999999999998, -0.22865, -0.2123, 0.37355000000000005, -0.11395, -0.38915, 0.1957, 0.07595, 0.18039999999999998, 0.2654, -0.26844999999999997, 0.03649999999999998, 0.11285, -0.13334999999999997, -0.05560000000000001, 0.1568, 0.10535, -0.31635, 0.09790000000000004, 0.18295, -0.008099999999999996, 0.12885000000000002, -0.02685000000000004, -0.10065000000000002, 0.06880000000000003, -0.09955, -0.15000000000000002, 0.19335, 0.13630000000000003, -0.035699999999999954, 0.013649999999999995, -0.04735, -0.2652, -0.07745000000000002, 0.09095, -0.03545000000000001, -0.07950000000000002, 0.18865, -0.1023, 0.02729999999999999, 0.09645000000000001, -0.03589999999999999, 0.23130000000000003, -0.0013500000000000179, -0.001050000000000051, -0.010299999999999976, 0.031200000000000006, -0.25065000000000004, -0.25175000000000003, 0.06395, 0.023450000000000026, 0.21705000000000002, 0.22490000000000002, -0.05954999999999999, -0.00605, -0.04700000000000004, -0.048150000000000026, 0.08040000000000003, 0.06509999999999999, 0.02090000000000003, -0.35005, -0.25140000000000007, -0.01895, 0.0373, 0.11455000000000001, -0.04615, 0.24655000000000002, 0.24415000000000003, -0.35345000000000004, -0.11325000000000002, 0.14515, 0.03849999999999998, -0.019049999999999984, -0.03265000000000001, 0.22230000000000003, 0.11950000000000005, -0.06370000000000003, -0.0343, 0.035150000000000015, 0.04844999999999999, -0.0044500000000000095, -0.19490000000000002, -0.15275, -0.06770000000000001, 0.1352, 0.25660000000000005, 0.009099999999999997, -0.27440000000000003, 0.04980000000000001, 0.2561, -0.29895, -0.05109999999999998, 0.07144999999999999, -0.06969999999999998, 0.03295000000000001, -0.13670000000000002, -0.14085, 0.26470000000000005, 0.32410000000000005, -0.1235, -0.0023000000000000242, -0.22400000000000003, 0.014500000000000013, 0.03175, -0.037949999999999984, 0.2808, 0.04394999999999999, -0.14514999999999997, -0.27525, 0.19015, 0.25434999999999997, -0.11280000000000001, -0.14794999999999997, -0.09385000000000002, 0.1134, 0.2191, -0.11730000000000002, -0.39355, -0.21135, -0.0156, 0.37660000000000005, 0.278, -0.06114999999999998, 0.09765000000000001, -0.0024000000000000132, -0.1079, -0.13775, 0.013649999999999995, -0.10310000000000001, 0.10794999999999999, 0.19955, -0.3829, 0.07400000000000001, 0.22575, 0.006849999999999967, 0.15055000000000002, -0.14899999999999997, -0.012450000000000017, -0.20945000000000003, -0.006099999999999994, 0.23075, -0.032399999999999984, -0.1713, -0.05795, 0.2541, 0.12204999999999999, -0.22735, -0.16315000000000002, 0.25285, -0.2066, -0.045499999999999985, 0.2775, -0.29640000000000005, 0.08190000000000003, 0.27145, 0.0020499999999999963, 0.10055000000000003, 0.01034999999999997, -0.07720000000000005, -0.013450000000000017, 0.06860000000000005, -0.18585, -0.26520000000000005, -0.16535, 0.09310000000000002, 0.1408, 0.19035000000000002, -0.131, -0.26385000000000003, 0.16215000000000002, 0.09970000000000001, 0.19400000000000003, 0.03925000000000001, -0.04810000000000003, -0.22665000000000002, -0.3188, 0.07175000000000001, 0.1617, 0.25365000000000004, 0.19355000000000003, 0.022199999999999998, -0.32595, -0.031450000000000033, 0.2836, -0.04454999999999998, -0.25270000000000004, -0.08584999999999998, -0.0005000000000000004, -0.01990000000000003, 0.19965, -0.16615000000000002, -0.15245, 0.333, 0.035150000000000015, -0.35860000000000003, 0.2235, 0.09360000000000002, -0.0007499999999999729, 0.26134999999999997, -0.09325000000000006, -0.363, -0.09779999999999997, 0.34295, 0.12565, -0.05519999999999997, 0.05385000000000001, 0.01849999999999996, -0.022800000000000042, 0.07765000000000005, 0.04560000000000003, -0.25630000000000003, -0.1174, 0.24695, -0.12595, -0.03255000000000002, 0.22194999999999998, -0.25065, 0.04535, 0.039599999999999996, -0.14084999999999998, -0.0012000000000000066, 0.10965000000000003, 0.15315, -0.32725000000000004, -0.23415000000000002, -0.005500000000000005, -0.0647, -0.0007500000000000007, 0.0835, 0.3087, 0.30345, -0.33865, -0.32985000000000003, 0.006100000000000008, 0.12969999999999998, 0.29850000000000004, 0.16325000000000003, -0.28905000000000003, -0.010649999999999993, 0.09065000000000001, 0.003049999999999997, 0.23675000000000002, -0.06060000000000004, -0.3693, -0.07715, 0.22960000000000003, 0.01645000000000002, 0.06779999999999997, 0.07979999999999998, -0.017500000000000016, -0.1707, 0.05365000000000003, 0.016649999999999998, -0.07590000000000002, 0.25129999999999997, 0.044399999999999995, -0.11604999999999999, -0.24595, -0.07925000000000001, 0.1467, 0.12885, 0.06339999999999998, -0.08529999999999999, 0.10544999999999999, 0.0247, -0.36419999999999997, 0.07175000000000004, 0.07680000000000001, 0.010499999999999954, 0.3184, 0.03655000000000003, -0.17304999999999998, -0.06355, 0.03325, 0.044300000000000006, 0.09939999999999999, -0.2984, 0.016849999999999976, 0.30779999999999996, -0.40795, -0.11785000000000001, 0.40465, 0.11855000000000004, -0.23175000000000004, -0.3693, 0.20185, 0.1204, -0.00039999999999995595, 0.07895000000000002, -0.08905000000000002, -0.11180000000000001, -0.12005000000000002, 0.29785000000000006, 0.26865000000000006, -0.27225, -0.17400000000000004, 0.18439999999999998, -0.0986, 0.07585000000000003, 0.1716, -0.03265000000000001, -0.17129999999999998, 0.06064999999999998, -0.029700000000000004, -0.008399999999999963, 0.17445000000000002, -0.14600000000000002, -0.02190000000000003, -0.06390000000000001, -0.14679999999999999, 0.17685, 0.291, -0.1764, -0.032799999999999996, -0.055499999999999994, -0.08529999999999999, 0.26, 0.08729999999999999, 0.008199999999999985, -0.06695000000000001, -0.041800000000000004, 0.09075, -0.2379, -0.2814, 0.1745, -0.017000000000000015, -0.2787, 0.28265, 0.3723, -0.32205, -0.05885000000000001, 0.2494, 0.064, -0.10855000000000001, -0.17614999999999997, 0.1453, -0.11365000000000003, -0.06914999999999999, 0.2862, 0.11209999999999998, -0.29610000000000003, -0.010099999999999998, 0.31755, -0.003149999999999986, -0.015050000000000008, -0.3144, -0.0006999999999999784, 0.3411, -0.28190000000000004, -0.2446, 0.26105, 0.2336, -0.25865, -0.010199999999999987, 0.040449999999999986, -0.3015, 0.16110000000000002, -0.027350000000000013, -0.3169, 0.008500000000000008, -0.0011999999999999997, 0.24220000000000003, 0.38245000000000007, 0.055400000000000005, -0.15215, -0.0862, 0.06264999999999998, 0.034499999999999975, -0.26035, -0.2814, 0.24315000000000003, 0.36265000000000003, 0.009550000000000003, -0.24025, -0.06710000000000002, 0.23900000000000002, -0.04435, -0.17300000000000001, -0.04444999999999999, -0.15215, -0.03370000000000001, 0.26225, 0.10220000000000001, -0.2552, 0.21795, -0.024250000000000008, -0.10215000000000002, 0.10375000000000002, 0.059650000000000036, 0.24125, -0.31490000000000007, 0.06764999999999999, 0.04394999999999999, -0.24334999999999998, 0.23865, 0.0471, 0.01915, 0.13395, -0.015600000000000003, -0.1376, -0.21375, 0.10475000000000001, 0.18835000000000002, 0.031399999999999983, -0.11665, -0.019550000000000012, 0.04874999999999999, -0.13019999999999998, 0.14815, 0.16364999999999996, -0.013399999999999967, -0.11954999999999999, -0.11710000000000004, 0.0822, -0.2233, -0.19895, -0.030749999999999993, 0.11984999999999998, 0.17805, 0.0973, 0.20199999999999999, 0.005250000000000032, -0.10114999999999996, -0.39970000000000006, 0.013949999999999962, 0.2821, -0.09519999999999998, -0.13759999999999997, -0.16565000000000002, 0.04974999999999999, 0.18595000000000003, 0.1976, 0.04635, 0.0005000000000000004, -0.055499999999999994, -0.009399999999999964, -0.035550000000000026, -0.28900000000000003, 0.20495000000000002, 0.2528, -0.35295000000000004, -0.10660000000000003, 0.18820000000000003, 0.14235000000000003, 0.1553, -0.01419999999999999, -0.005199999999999982, 0.05934999999999996, 0.031299999999999994, -0.19984999999999997, -0.3015, -0.01905000000000001, 0.0637, -0.009950000000000014, 0.24070000000000003, 0.09195000000000003, -0.07245000000000001, -0.13740000000000002, -0.043200000000000016, -0.04135, -0.062, 0.2571], \"yaxis\": \"y\"}, {\"marker\": {\"color\": \"green\"}, \"mode\": \"lines+markers\", \"name\": \"CHIRPS Precipitation - 14 Day Rolling Median (mm)\", \"type\": \"scatter\", \"x\": [\"1997-01-01T00:00:00\", \"1997-01-15T00:00:00\", \"1997-01-29T00:00:00\", \"1997-02-12T00:00:00\", \"1997-02-26T00:00:00\", \"1997-03-12T00:00:00\", \"1997-03-26T00:00:00\", \"1997-04-09T00:00:00\", \"1997-04-23T00:00:00\", \"1997-05-07T00:00:00\", \"1997-05-21T00:00:00\", \"1997-06-04T00:00:00\", \"1997-06-18T00:00:00\", \"1997-07-02T00:00:00\", \"1997-07-16T00:00:00\", \"1997-07-30T00:00:00\", \"1997-08-13T00:00:00\", \"1997-08-27T00:00:00\", \"1997-09-10T00:00:00\", \"1997-09-24T00:00:00\", \"1997-10-08T00:00:00\", \"1997-10-22T00:00:00\", \"1997-11-05T00:00:00\", \"1997-11-19T00:00:00\", \"1997-12-03T00:00:00\", \"1997-12-17T00:00:00\", \"1997-12-31T00:00:00\", \"1998-01-14T00:00:00\", \"1998-01-28T00:00:00\", \"1998-02-11T00:00:00\", \"1998-02-25T00:00:00\", \"1998-03-11T00:00:00\", \"1998-03-25T00:00:00\", \"1998-04-08T00:00:00\", \"1998-04-22T00:00:00\", \"1998-05-06T00:00:00\", \"1998-05-20T00:00:00\", \"1998-06-03T00:00:00\", \"1998-06-17T00:00:00\", \"1998-07-01T00:00:00\", \"1998-07-15T00:00:00\", \"1998-07-29T00:00:00\", \"1998-08-12T00:00:00\", \"1998-08-26T00:00:00\", \"1998-09-09T00:00:00\", \"1998-09-23T00:00:00\", \"1998-10-07T00:00:00\", \"1998-10-21T00:00:00\", \"1998-11-04T00:00:00\", \"1998-11-18T00:00:00\", \"1998-12-02T00:00:00\", \"1998-12-16T00:00:00\", \"1998-12-30T00:00:00\", \"1999-01-13T00:00:00\", \"1999-01-27T00:00:00\", \"1999-02-10T00:00:00\", \"1999-02-24T00:00:00\", \"1999-03-10T00:00:00\", \"1999-03-24T00:00:00\", \"1999-04-07T00:00:00\", \"1999-04-21T00:00:00\", \"1999-05-05T00:00:00\", \"1999-05-19T00:00:00\", \"1999-06-02T00:00:00\", \"1999-06-16T00:00:00\", \"1999-06-30T00:00:00\", \"1999-07-14T00:00:00\", \"1999-07-28T00:00:00\", \"1999-08-11T00:00:00\", \"1999-08-25T00:00:00\", \"1999-09-08T00:00:00\", \"1999-09-22T00:00:00\", \"1999-10-06T00:00:00\", \"1999-10-20T00:00:00\", \"1999-11-03T00:00:00\", \"1999-11-17T00:00:00\", \"1999-12-01T00:00:00\", \"1999-12-15T00:00:00\", \"1999-12-29T00:00:00\", \"2000-01-12T00:00:00\", \"2000-01-26T00:00:00\", \"2000-02-09T00:00:00\", \"2000-02-23T00:00:00\", \"2000-03-08T00:00:00\", \"2000-03-22T00:00:00\", \"2000-04-05T00:00:00\", \"2000-04-19T00:00:00\", \"2000-05-03T00:00:00\", \"2000-05-17T00:00:00\", \"2000-05-31T00:00:00\", \"2000-06-14T00:00:00\", \"2000-06-28T00:00:00\", \"2000-07-12T00:00:00\", \"2000-07-26T00:00:00\", \"2000-08-09T00:00:00\", \"2000-08-23T00:00:00\", \"2000-09-06T00:00:00\", \"2000-09-20T00:00:00\", \"2000-10-04T00:00:00\", \"2000-10-18T00:00:00\", \"2000-11-01T00:00:00\", \"2000-11-15T00:00:00\", \"2000-11-29T00:00:00\", \"2000-12-13T00:00:00\", \"2000-12-27T00:00:00\", \"2001-01-10T00:00:00\", \"2001-01-24T00:00:00\", \"2001-02-07T00:00:00\", \"2001-02-21T00:00:00\", \"2001-03-07T00:00:00\", \"2001-03-21T00:00:00\", \"2001-04-04T00:00:00\", \"2001-04-18T00:00:00\", \"2001-05-02T00:00:00\", \"2001-05-16T00:00:00\", \"2001-05-30T00:00:00\", \"2001-06-13T00:00:00\", \"2001-06-27T00:00:00\", \"2001-07-11T00:00:00\", \"2001-07-25T00:00:00\", \"2001-08-08T00:00:00\", \"2001-08-22T00:00:00\", \"2001-09-05T00:00:00\", \"2001-09-19T00:00:00\", \"2001-10-03T00:00:00\", \"2001-10-17T00:00:00\", \"2001-10-31T00:00:00\", \"2001-11-14T00:00:00\", \"2001-11-28T00:00:00\", \"2001-12-12T00:00:00\", \"2001-12-26T00:00:00\", \"2002-01-09T00:00:00\", \"2002-01-23T00:00:00\", \"2002-02-06T00:00:00\", \"2002-02-20T00:00:00\", \"2002-03-06T00:00:00\", \"2002-03-20T00:00:00\", \"2002-04-03T00:00:00\", \"2002-04-17T00:00:00\", \"2002-05-01T00:00:00\", \"2002-05-15T00:00:00\", \"2002-05-29T00:00:00\", \"2002-06-12T00:00:00\", \"2002-06-26T00:00:00\", \"2002-07-10T00:00:00\", \"2002-07-24T00:00:00\", \"2002-08-07T00:00:00\", \"2002-08-21T00:00:00\", \"2002-09-04T00:00:00\", \"2002-09-18T00:00:00\", \"2002-10-02T00:00:00\", \"2002-10-16T00:00:00\", \"2002-10-30T00:00:00\", \"2002-11-13T00:00:00\", \"2002-11-27T00:00:00\", \"2002-12-11T00:00:00\", \"2002-12-25T00:00:00\", \"2003-01-08T00:00:00\", \"2003-01-22T00:00:00\", \"2003-02-05T00:00:00\", \"2003-02-19T00:00:00\", \"2003-03-05T00:00:00\", \"2003-03-19T00:00:00\", \"2003-04-02T00:00:00\", \"2003-04-16T00:00:00\", \"2003-04-30T00:00:00\", \"2003-05-14T00:00:00\", \"2003-05-28T00:00:00\", \"2003-06-11T00:00:00\", \"2003-06-25T00:00:00\", \"2003-07-09T00:00:00\", \"2003-07-23T00:00:00\", \"2003-08-06T00:00:00\", \"2003-08-20T00:00:00\", \"2003-09-03T00:00:00\", \"2003-09-17T00:00:00\", \"2003-10-01T00:00:00\", \"2003-10-15T00:00:00\", \"2003-10-29T00:00:00\", \"2003-11-12T00:00:00\", \"2003-11-26T00:00:00\", \"2003-12-10T00:00:00\", \"2003-12-24T00:00:00\", \"2004-01-07T00:00:00\", \"2004-01-21T00:00:00\", \"2004-02-04T00:00:00\", \"2004-02-18T00:00:00\", \"2004-03-03T00:00:00\", \"2004-03-17T00:00:00\", \"2004-03-31T00:00:00\", \"2004-04-14T00:00:00\", \"2004-04-28T00:00:00\", \"2004-05-12T00:00:00\", \"2004-05-26T00:00:00\", \"2004-06-09T00:00:00\", \"2004-06-23T00:00:00\", \"2004-07-07T00:00:00\", \"2004-07-21T00:00:00\", \"2004-08-04T00:00:00\", \"2004-08-18T00:00:00\", \"2004-09-01T00:00:00\", \"2004-09-15T00:00:00\", \"2004-09-29T00:00:00\", \"2004-10-13T00:00:00\", \"2004-10-27T00:00:00\", \"2004-11-10T00:00:00\", \"2004-11-24T00:00:00\", \"2004-12-08T00:00:00\", \"2004-12-22T00:00:00\", \"2005-01-05T00:00:00\", \"2005-01-19T00:00:00\", \"2005-02-02T00:00:00\", \"2005-02-16T00:00:00\", \"2005-03-02T00:00:00\", \"2005-03-16T00:00:00\", \"2005-03-30T00:00:00\", \"2005-04-13T00:00:00\", \"2005-04-27T00:00:00\", \"2005-05-11T00:00:00\", \"2005-05-25T00:00:00\", \"2005-06-08T00:00:00\", \"2005-06-22T00:00:00\", \"2005-07-06T00:00:00\", \"2005-07-20T00:00:00\", \"2005-08-03T00:00:00\", \"2005-08-17T00:00:00\", \"2005-08-31T00:00:00\", \"2005-09-14T00:00:00\", \"2005-09-28T00:00:00\", \"2005-10-12T00:00:00\", \"2005-10-26T00:00:00\", \"2005-11-09T00:00:00\", \"2005-11-23T00:00:00\", \"2005-12-07T00:00:00\", \"2005-12-21T00:00:00\", \"2006-01-04T00:00:00\", \"2006-01-18T00:00:00\", \"2006-02-01T00:00:00\", \"2006-02-15T00:00:00\", \"2006-03-01T00:00:00\", \"2006-03-15T00:00:00\", \"2006-03-29T00:00:00\", \"2006-04-12T00:00:00\", \"2006-04-26T00:00:00\", \"2006-05-10T00:00:00\", \"2006-05-24T00:00:00\", \"2006-06-07T00:00:00\", \"2006-06-21T00:00:00\", \"2006-07-05T00:00:00\", \"2006-07-19T00:00:00\", \"2006-08-02T00:00:00\", \"2006-08-16T00:00:00\", \"2006-08-30T00:00:00\", \"2006-09-13T00:00:00\", \"2006-09-27T00:00:00\", \"2006-10-11T00:00:00\", \"2006-10-25T00:00:00\", \"2006-11-08T00:00:00\", \"2006-11-22T00:00:00\", \"2006-12-06T00:00:00\", \"2006-12-20T00:00:00\", \"2007-01-03T00:00:00\", \"2007-01-17T00:00:00\", \"2007-01-31T00:00:00\", \"2007-02-14T00:00:00\", \"2007-02-28T00:00:00\", \"2007-03-14T00:00:00\", \"2007-03-28T00:00:00\", \"2007-04-11T00:00:00\", \"2007-04-25T00:00:00\", \"2007-05-09T00:00:00\", \"2007-05-23T00:00:00\", \"2007-06-06T00:00:00\", \"2007-06-20T00:00:00\", \"2007-07-04T00:00:00\", \"2007-07-18T00:00:00\", \"2007-08-01T00:00:00\", \"2007-08-15T00:00:00\", \"2007-08-29T00:00:00\", \"2007-09-12T00:00:00\", \"2007-09-26T00:00:00\", \"2007-10-10T00:00:00\", \"2007-10-24T00:00:00\", \"2007-11-07T00:00:00\", \"2007-11-21T00:00:00\", \"2007-12-05T00:00:00\", \"2007-12-19T00:00:00\", \"2008-01-02T00:00:00\", \"2008-01-16T00:00:00\", \"2008-01-30T00:00:00\", \"2008-02-13T00:00:00\", \"2008-02-27T00:00:00\", \"2008-03-12T00:00:00\", \"2008-03-26T00:00:00\", \"2008-04-09T00:00:00\", \"2008-04-23T00:00:00\", \"2008-05-07T00:00:00\", \"2008-05-21T00:00:00\", \"2008-06-04T00:00:00\", \"2008-06-18T00:00:00\", \"2008-07-02T00:00:00\", \"2008-07-16T00:00:00\", \"2008-07-30T00:00:00\", \"2008-08-13T00:00:00\", \"2008-08-27T00:00:00\", \"2008-09-10T00:00:00\", \"2008-09-24T00:00:00\", \"2008-10-08T00:00:00\", \"2008-10-22T00:00:00\", \"2008-11-05T00:00:00\", \"2008-11-19T00:00:00\", \"2008-12-03T00:00:00\", \"2008-12-17T00:00:00\", \"2008-12-31T00:00:00\", \"2009-01-14T00:00:00\", \"2009-01-28T00:00:00\", \"2009-02-11T00:00:00\", \"2009-02-25T00:00:00\", \"2009-03-11T00:00:00\", \"2009-03-25T00:00:00\", \"2009-04-08T00:00:00\", \"2009-04-22T00:00:00\", \"2009-05-06T00:00:00\", \"2009-05-20T00:00:00\", \"2009-06-03T00:00:00\", \"2009-06-17T00:00:00\", \"2009-07-01T00:00:00\", \"2009-07-15T00:00:00\", \"2009-07-29T00:00:00\", \"2009-08-12T00:00:00\", \"2009-08-26T00:00:00\", \"2009-09-09T00:00:00\", \"2009-09-23T00:00:00\", \"2009-10-07T00:00:00\", \"2009-10-21T00:00:00\", \"2009-11-04T00:00:00\", \"2009-11-18T00:00:00\", \"2009-12-02T00:00:00\", \"2009-12-16T00:00:00\", \"2009-12-30T00:00:00\", \"2010-01-13T00:00:00\", \"2010-01-27T00:00:00\", \"2010-02-10T00:00:00\", \"2010-02-24T00:00:00\", \"2010-03-10T00:00:00\", \"2010-03-24T00:00:00\", \"2010-04-07T00:00:00\", \"2010-04-21T00:00:00\", \"2010-05-05T00:00:00\", \"2010-05-19T00:00:00\", \"2010-06-02T00:00:00\", \"2010-06-16T00:00:00\", \"2010-06-30T00:00:00\", \"2010-07-14T00:00:00\", \"2010-07-28T00:00:00\", \"2010-08-11T00:00:00\", \"2010-08-25T00:00:00\", \"2010-09-08T00:00:00\", \"2010-09-22T00:00:00\", \"2010-10-06T00:00:00\", \"2010-10-20T00:00:00\", \"2010-11-03T00:00:00\", \"2010-11-17T00:00:00\", \"2010-12-01T00:00:00\", \"2010-12-15T00:00:00\", \"2010-12-29T00:00:00\", \"2011-01-12T00:00:00\", \"2011-01-26T00:00:00\", \"2011-02-09T00:00:00\", \"2011-02-23T00:00:00\", \"2011-03-09T00:00:00\", \"2011-03-23T00:00:00\", \"2011-04-06T00:00:00\", \"2011-04-20T00:00:00\", \"2011-05-04T00:00:00\", \"2011-05-18T00:00:00\", \"2011-06-01T00:00:00\", \"2011-06-15T00:00:00\", \"2011-06-29T00:00:00\", \"2011-07-13T00:00:00\", \"2011-07-27T00:00:00\", \"2011-08-10T00:00:00\", \"2011-08-24T00:00:00\", \"2011-09-07T00:00:00\", \"2011-09-21T00:00:00\", \"2011-10-05T00:00:00\", \"2011-10-19T00:00:00\", \"2011-11-02T00:00:00\", \"2011-11-16T00:00:00\", \"2011-11-30T00:00:00\", \"2011-12-14T00:00:00\", \"2011-12-28T00:00:00\", \"2012-01-11T00:00:00\", \"2012-01-25T00:00:00\", \"2012-02-08T00:00:00\", \"2012-02-22T00:00:00\", \"2012-03-07T00:00:00\", \"2012-03-21T00:00:00\", \"2012-04-04T00:00:00\", \"2012-04-18T00:00:00\", \"2012-05-02T00:00:00\", \"2012-05-16T00:00:00\", \"2012-05-30T00:00:00\", \"2012-06-13T00:00:00\", \"2012-06-27T00:00:00\", \"2012-07-11T00:00:00\", \"2012-07-25T00:00:00\", \"2012-08-08T00:00:00\", \"2012-08-22T00:00:00\", \"2012-09-05T00:00:00\", \"2012-09-19T00:00:00\", \"2012-10-03T00:00:00\", \"2012-10-17T00:00:00\", \"2012-10-31T00:00:00\", \"2012-11-14T00:00:00\", \"2012-11-28T00:00:00\", \"2012-12-12T00:00:00\", \"2012-12-26T00:00:00\", \"2013-01-09T00:00:00\", \"2013-01-23T00:00:00\", \"2013-02-06T00:00:00\", \"2013-02-20T00:00:00\", \"2013-03-06T00:00:00\", \"2013-03-20T00:00:00\", \"2013-04-03T00:00:00\", \"2013-04-17T00:00:00\", \"2013-05-01T00:00:00\", \"2013-05-15T00:00:00\", \"2013-05-29T00:00:00\", \"2013-06-12T00:00:00\", \"2013-06-26T00:00:00\", \"2013-07-10T00:00:00\", \"2013-07-24T00:00:00\", \"2013-08-07T00:00:00\", \"2013-08-21T00:00:00\", \"2013-09-04T00:00:00\", \"2013-09-18T00:00:00\", \"2013-10-02T00:00:00\", \"2013-10-16T00:00:00\", \"2013-10-30T00:00:00\", \"2013-11-13T00:00:00\", \"2013-11-27T00:00:00\", \"2013-12-11T00:00:00\", \"2013-12-25T00:00:00\", \"2014-01-08T00:00:00\", \"2014-01-22T00:00:00\", \"2014-02-05T00:00:00\", \"2014-02-19T00:00:00\", \"2014-03-05T00:00:00\", \"2014-03-19T00:00:00\", \"2014-04-02T00:00:00\", \"2014-04-16T00:00:00\", \"2014-04-30T00:00:00\", \"2014-05-14T00:00:00\", \"2014-05-28T00:00:00\", \"2014-06-11T00:00:00\", \"2014-06-25T00:00:00\", \"2014-07-09T00:00:00\", \"2014-07-23T00:00:00\", \"2014-08-06T00:00:00\", \"2014-08-20T00:00:00\", \"2014-09-03T00:00:00\", \"2014-09-17T00:00:00\", \"2014-10-01T00:00:00\", \"2014-10-15T00:00:00\", \"2014-10-29T00:00:00\", \"2014-11-12T00:00:00\", \"2014-11-26T00:00:00\", \"2014-12-10T00:00:00\", \"2014-12-24T00:00:00\", \"2015-01-07T00:00:00\", \"2015-01-21T00:00:00\", \"2015-02-04T00:00:00\", \"2015-02-18T00:00:00\", \"2015-03-04T00:00:00\", \"2015-03-18T00:00:00\", \"2015-04-01T00:00:00\", \"2015-04-15T00:00:00\", \"2015-04-29T00:00:00\", \"2015-05-13T00:00:00\", \"2015-05-27T00:00:00\", \"2015-06-10T00:00:00\", \"2015-06-24T00:00:00\", \"2015-07-08T00:00:00\", \"2015-07-22T00:00:00\", \"2015-08-05T00:00:00\", \"2015-08-19T00:00:00\", \"2015-09-02T00:00:00\", \"2015-09-16T00:00:00\", \"2015-09-30T00:00:00\", \"2015-10-14T00:00:00\", \"2015-10-28T00:00:00\", \"2015-11-11T00:00:00\", \"2015-11-25T00:00:00\", \"2015-12-09T00:00:00\", \"2015-12-23T00:00:00\", \"2016-01-06T00:00:00\", \"2016-01-20T00:00:00\", \"2016-02-03T00:00:00\", \"2016-02-17T00:00:00\", \"2016-03-02T00:00:00\", \"2016-03-16T00:00:00\", \"2016-03-30T00:00:00\", \"2016-04-13T00:00:00\", \"2016-04-27T00:00:00\", \"2016-05-11T00:00:00\", \"2016-05-25T00:00:00\", \"2016-06-08T00:00:00\", \"2016-06-22T00:00:00\", \"2016-07-06T00:00:00\", \"2016-07-20T00:00:00\", \"2016-08-03T00:00:00\", \"2016-08-17T00:00:00\", \"2016-08-31T00:00:00\", \"2016-09-14T00:00:00\", \"2016-09-28T00:00:00\", \"2016-10-12T00:00:00\", \"2016-10-26T00:00:00\", \"2016-11-09T00:00:00\", \"2016-11-23T00:00:00\", \"2016-12-07T00:00:00\", \"2016-12-21T00:00:00\", \"2017-01-04T00:00:00\", \"2017-01-18T00:00:00\", \"2017-02-01T00:00:00\", \"2017-02-15T00:00:00\", \"2017-03-01T00:00:00\", \"2017-03-15T00:00:00\", \"2017-03-29T00:00:00\", \"2017-04-12T00:00:00\", \"2017-04-26T00:00:00\", \"2017-05-10T00:00:00\", \"2017-05-24T00:00:00\", \"2017-06-07T00:00:00\", \"2017-06-21T00:00:00\", \"2017-07-05T00:00:00\", \"2017-07-19T00:00:00\", \"2017-08-02T00:00:00\", \"2017-08-16T00:00:00\", \"2017-08-30T00:00:00\", \"2017-09-13T00:00:00\", \"2017-09-27T00:00:00\", \"2017-10-11T00:00:00\", \"2017-10-25T00:00:00\", \"2017-11-08T00:00:00\", \"2017-11-22T00:00:00\", \"2017-12-06T00:00:00\", \"2017-12-20T00:00:00\", \"2018-01-03T00:00:00\", \"2018-01-17T00:00:00\", \"2018-01-31T00:00:00\", \"2018-02-14T00:00:00\", \"2018-02-28T00:00:00\", \"2018-03-14T00:00:00\", \"2018-03-28T00:00:00\", \"2018-04-11T00:00:00\", \"2018-04-25T00:00:00\", \"2018-05-09T00:00:00\", \"2018-05-23T00:00:00\", \"2018-06-06T00:00:00\", \"2018-06-20T00:00:00\", \"2018-07-04T00:00:00\", \"2018-07-18T00:00:00\", \"2018-08-01T00:00:00\", \"2018-08-15T00:00:00\", \"2018-08-29T00:00:00\", \"2018-09-12T00:00:00\", \"2018-09-26T00:00:00\", \"2018-10-10T00:00:00\", \"2018-10-24T00:00:00\", \"2018-11-07T00:00:00\", \"2018-11-21T00:00:00\", \"2018-12-05T00:00:00\", \"2018-12-19T00:00:00\", \"2019-01-02T00:00:00\", \"2019-01-16T00:00:00\", \"2019-01-30T00:00:00\", \"2019-02-13T00:00:00\", \"2019-02-27T00:00:00\", \"2019-03-13T00:00:00\", \"2019-03-27T00:00:00\", \"2019-04-10T00:00:00\", \"2019-04-24T00:00:00\", \"2019-05-08T00:00:00\", \"2019-05-22T00:00:00\", \"2019-06-05T00:00:00\", \"2019-06-19T00:00:00\", \"2019-07-03T00:00:00\", \"2019-07-17T00:00:00\", \"2019-07-31T00:00:00\", \"2019-08-14T00:00:00\", \"2019-08-28T00:00:00\", \"2019-09-11T00:00:00\", \"2019-09-25T00:00:00\", \"2019-10-09T00:00:00\", \"2019-10-23T00:00:00\", \"2019-11-06T00:00:00\", \"2019-11-20T00:00:00\", \"2019-12-04T00:00:00\", \"2019-12-18T00:00:00\", \"2020-01-01T00:00:00\", \"2020-01-15T00:00:00\", \"2020-01-29T00:00:00\", \"2020-02-12T00:00:00\", \"2020-02-26T00:00:00\", \"2020-03-11T00:00:00\", \"2020-03-25T00:00:00\", \"2020-04-08T00:00:00\", \"2020-04-22T00:00:00\", \"2020-05-06T00:00:00\", \"2020-05-20T00:00:00\", \"2020-06-03T00:00:00\", \"2020-06-17T00:00:00\", \"2020-07-01T00:00:00\", \"2020-07-15T00:00:00\", \"2020-07-29T00:00:00\", \"2020-08-12T00:00:00\", \"2020-08-26T00:00:00\"], \"xaxis\": \"x2\", \"y\": [0.0, 0.0, 0.0, 0.0, 0.0, 0.0, 0.0, -0.20169329643249512, 0.0, 0.0, -0.3618313074111936, -0.21735942363739014, 0.0, 0.0, 0.0, 0.0, 0.0, 0.0, -0.4163767099380491, 0.8186809420585632, 0.5795085430145261, 0.0, 0.0, 0.0, 0.0, 0.0, 0.0, 0.0, 0.0, 0.0, 0.0, 0.0, 0.410083532333374, -3.9252569675445557, 0.0, 0.0, -0.7025572061538696, 0.0, 0.0, 0.0, 0.0, 0.0, 0.0, 0.0, 0.0, 0.0, 0.0, 0.0, 0.0, 0.0, 0.0, -0.3172446489334111, 0.0, 0.0, 0.0, 0.0, 0.9270087480545046, -2.295713186264038, -0.2410428524017334, 0.0, 0.0, 0.0, 0.0, 0.0, 0.0, 0.0, 0.0, 0.0, 0.0, -0.15366029739379883, 0.0, 0.0, -0.14357638359069846, 0.0, 0.0, 0.0, -3.2571330070495605, 0.0, 0.0, 0.0, 0.0, 0.0, 0.0, 0.0, 0.0, 0.0, 0.0, 0.0, 0.0, -2.5298247337341304, 1.6745035648345947, 0.0, 0.0, 0.0, 0.0, 1.643462896347046, 0.0, 0.0, 0.0, 0.0, 0.0, 0.0, 0.0, 0.0, 0.0, 0.0, 0.0, 0.0, 0.0, 0.0, 0.0, 0.0, 0.0, -0.43407583236694336, -0.8900012969970699, 0.0, 0.0, 0.0, 0.0, 0.0, 0.0, 0.0, 0.0, 0.0, 0.0, 0.0, 0.0, 3.9398268461227413, 0.0, 0.0, 0.0, 0.0, 0.0, 0.0, 0.0, 0.0, -0.5050768852233887, 0.0, -1.3102943897247314, 0.0, -0.7829463481903076, 0.0, 0.0, 0.0, 0.0, 0.0, 0.0, 0.0, 0.0, 0.0, 0.0, 1.23839282989502, 0.0, 0.0, 0.0, 0.0, 0.0, 0.0, 0.0, 0.0, 0.0, 0.0, 0.0, 0.0, 0.0, 0.6730635166168217, 0.0, 0.0, 0.0, 0.0, 0.0, 0.0, 0.0, 0.0, 0.0, 0.0, 2.47394061088562, 0.0, -1.4101219177246094, 0.0, 0.0, 0.0, 0.0, 0.0, 0.0, 0.0, 0.0, 0.0, 0.0, 0.0, 0.8282651901245117, -0.4358403682708738, 0.0, 0.0, 0.0, 0.0, 0.261181116104126, 0.0, 0.0, 0.0, 0.38518214225769043, -0.1732020378112793, 0.0, 0.0, 0.0, 0.0, 0.0, 0.0, 0.0, 0.0, 0.0, 0.0, 0.0, 0.0, 0.0, 0.0, 0.0, 0.0, -1.250413119792938, 0.0, -0.929097592830658, 0.0, 0.0, 0.0, 0.0, 0.0, 0.0, 0.0, 0.0, 0.0, 0.0, 0.0, 0.0, 0.0, 0.0, 0.0, 0.0, 0.0, 0.0, 0.0, 0.0, 0.0, -0.18066811561584495, -1.649763822555542, -2.6513153314590454, 0.0, 0.0, 0.0, 0.0, 0.0, 0.0, 0.0, 0.0, 0.0, 0.0, 0.0, 0.0, 0.0, 0.0, 0.0, 0.0, 0.0, 0.0, 0.0, 0.0, 0.8444596529006958, 1.0902538299560547, 0.0, 0.0, 0.0, -0.1471858024597168, 0.0, 0.0, 0.0, 0.0, 0.0, 0.0, -1.6783199310302734, 0.0, 0.0, 0.0, 0.0, 0.0, 0.0, 0.0, 0.0, 0.0, 0.0, 0.0, 0.0, 0.0, 0.0, 0.0, 4.027819633483887, -1.3313486576080322, -2.194725275039673, 0.0, -3.7238035202026367, 0.0, 1.232601523399353, 0.0, 0.0, 0.0, 0.0, -1.0109810829162595, 0.3302590847015381, 0.0, 0.0, 0.0, 0.0, 0.0, 0.0, 0.0, 0.0, 0.0, 0.4952158927917485, -1.178494691848755, 0.0, 0.0, -1.583839297294617, 0.0, 0.0, 0.0, 0.0, 0.0, 0.0, 0.0, 0.0, 0.0, 0.0, 0.0, 0.0, 0.0, 0.0, 0.0, 0.0, 0.0, 0.0, -2.0371587872505192, 0.0, 0.0, 0.0, 0.0, 0.0, 0.0, 1.3646893501281747, -0.7175048589706421, 0.0, 0.0, 0.0, 0.0, 0.0, 2.2360682487487793, 0.0, 0.0, 0.0, 0.0, 0.0, 0.0, 0.0, 0.0, 0.0, 0.0, 0.0, 0.0, 0.0, 0.0, 0.0, 0.0, 0.0, 0.0, 0.0, 0.0, 0.5607514381408693, 0.4215888977050781, 0.0, 0.0, 0.0, 0.0, 0.0, 0.0, 0.0, 0.0, 0.0, 0.0, -2.2109286785125732, 0.0, 0.0, 0.0, 0.0, 0.0, 0.0, 0.0, 0.0, 0.0, 0.0, -0.7265362739562988, 0.0, -0.5578575134277344, 0.0, 0.0, -1.50190007686615, 0.0, 0.0, 0.0, 0.0, 0.0, 0.0, 0.0, 0.0, -1.163264393806458, 0.0, 0.0, 0.0, 0.0, 0.0, 0.0, 0.0, 0.0, 0.0, 0.0, 0.0, 0.0, -1.0145243406295779, 0.0, 0.0, 0.0, 0.6363693475723267, 0.0, 0.0, -0.8156817555427551, 0.0, 0.0, -1.2606531381607056, 0.0, 0.0, -2.5266789197921753, 0.0, 0.0, 0.0, 0.0, 0.0, 0.0, 0.0, 0.0, 0.0, 0.0, -0.03057694435119629, 1.985735893249512, 0.0, 0.0, 0.0, 0.0, 0.0, 0.0, 0.0, 0.0, 0.0, 0.0, 0.0, 0.0, 0.0, 0.0, 0.0, 0.0, 1.0184473991394043, 0.0, 0.0, 0.0, 0.0, 0.0, 0.0, 0.0, 0.0, 0.0, 0.0, 1.1099933385849, 0.0, 0.0, 0.067268967628479, 0.0, 0.0, 0.0, 0.0, 0.0, 0.0, 0.0, 0.0, 0.40015923976898193, 0.0, 0.0, -1.6817954778671265, 0.0, 0.0, 0.0, 0.0, 0.0, 0.0, 0.0, 0.0, -0.4659881591796875, 0.0, 0.0, 0.0, 0.0, 0.0, 0.0, 0.0, 0.0, 0.0, 0.0, 0.0, 0.0, 0.0, 0.5193536281585693, -1.9826093912124636, 0.0, -4.672920227050781, 0.0, 0.0, 0.0, 0.0, 0.0, 0.0, 0.0, 0.0, 0.0, 0.0, 0.0, 0.0, -3.53006386756897, 0.0, 0.0, 0.0, 0.0, 0.0, 0.0, 0.0, 0.0, 0.0, 0.532177209854126, 0.0, 0.0, 0.05017900466918945, 0.0, 0.0, 0.0, 0.0, 0.0, 0.0, 0.0, 0.0, 0.0, 0.0, 0.2948682308197026, 0.0, 0.33654356002807617, 0.0, 0.0, 0.0, 0.0, 0.0, 0.0, 0.0, -0.19297365844249725, 0.0, 0.0, 0.0, 1.0499596595764165, 0.0, 0.22320032119750977, 0.0, 0.0, 0.0, 0.0, 0.0, 0.0, 0.0, -0.6439476013183594, 0.0, 0.0, 0.040354013442993164, -1.3207889199256897, 0.0, 1.617342472076416, 0.0, 0.0, 0.0, 0.0, 0.0, 0.0, 0.0, 0.0, 0.0, 0.0, 0.0, 0.10564947128295898, 0.0, 0.0, 1.53918194770813, 0.0, 0.0, 0.0, 0.0, 0.0, 0.0, 0.0, 0.0, -3.4978339672088614, 0.0, 0.12611550092697144, -0.28118157386779785, 0.0, 1.8123395442962646, -0.02951371297240257, 0.0, 0.0, -3.8092923164367676], \"yaxis\": \"y2\"}, {\"marker\": {\"color\": \"black\"}, \"mode\": \"lines+markers\", \"name\": \"PERSIANN Precipitation - 14 Day Rolling Median (mm)\", \"type\": \"scatter\", \"x\": [\"1997-01-01T00:00:00\", \"1997-01-15T00:00:00\", \"1997-01-29T00:00:00\", \"1997-02-12T00:00:00\", \"1997-02-26T00:00:00\", \"1997-03-12T00:00:00\", \"1997-03-26T00:00:00\", \"1997-04-09T00:00:00\", \"1997-04-23T00:00:00\", \"1997-05-07T00:00:00\", \"1997-05-21T00:00:00\", \"1997-06-04T00:00:00\", \"1997-06-18T00:00:00\", \"1997-07-02T00:00:00\", \"1997-07-16T00:00:00\", \"1997-07-30T00:00:00\", \"1997-08-13T00:00:00\", \"1997-08-27T00:00:00\", \"1997-09-10T00:00:00\", \"1997-09-24T00:00:00\", \"1997-10-08T00:00:00\", \"1997-10-22T00:00:00\", \"1997-11-05T00:00:00\", \"1997-11-19T00:00:00\", \"1997-12-03T00:00:00\", \"1997-12-17T00:00:00\", \"1997-12-31T00:00:00\", \"1998-01-14T00:00:00\", \"1998-01-28T00:00:00\", \"1998-02-11T00:00:00\", \"1998-02-25T00:00:00\", \"1998-03-11T00:00:00\", \"1998-03-25T00:00:00\", \"1998-04-08T00:00:00\", \"1998-04-22T00:00:00\", \"1998-05-06T00:00:00\", \"1998-05-20T00:00:00\", \"1998-06-03T00:00:00\", \"1998-06-17T00:00:00\", \"1998-07-01T00:00:00\", \"1998-07-15T00:00:00\", \"1998-07-29T00:00:00\", \"1998-08-12T00:00:00\", \"1998-08-26T00:00:00\", \"1998-09-09T00:00:00\", \"1998-09-23T00:00:00\", \"1998-10-07T00:00:00\", \"1998-10-21T00:00:00\", \"1998-11-04T00:00:00\", \"1998-11-18T00:00:00\", \"1998-12-02T00:00:00\", \"1998-12-16T00:00:00\", \"1998-12-30T00:00:00\", \"1999-01-13T00:00:00\", \"1999-01-27T00:00:00\", \"1999-02-10T00:00:00\", \"1999-02-24T00:00:00\", \"1999-03-10T00:00:00\", \"1999-03-24T00:00:00\", \"1999-04-07T00:00:00\", \"1999-04-21T00:00:00\", \"1999-05-05T00:00:00\", \"1999-05-19T00:00:00\", \"1999-06-02T00:00:00\", \"1999-06-16T00:00:00\", \"1999-06-30T00:00:00\", \"1999-07-14T00:00:00\", \"1999-07-28T00:00:00\", \"1999-08-11T00:00:00\", \"1999-08-25T00:00:00\", \"1999-09-08T00:00:00\", \"1999-09-22T00:00:00\", \"1999-10-06T00:00:00\", \"1999-10-20T00:00:00\", \"1999-11-03T00:00:00\", \"1999-11-17T00:00:00\", \"1999-12-01T00:00:00\", \"1999-12-15T00:00:00\", \"1999-12-29T00:00:00\", \"2000-01-12T00:00:00\", \"2000-01-26T00:00:00\", \"2000-02-09T00:00:00\", \"2000-02-23T00:00:00\", \"2000-03-08T00:00:00\", \"2000-03-22T00:00:00\", \"2000-04-05T00:00:00\", \"2000-04-19T00:00:00\", \"2000-05-03T00:00:00\", \"2000-05-17T00:00:00\", \"2000-05-31T00:00:00\", \"2000-06-14T00:00:00\", \"2000-06-28T00:00:00\", \"2000-07-12T00:00:00\", \"2000-07-26T00:00:00\", \"2000-08-09T00:00:00\", \"2000-08-23T00:00:00\", \"2000-09-06T00:00:00\", \"2000-09-20T00:00:00\", \"2000-10-04T00:00:00\", \"2000-10-18T00:00:00\", \"2000-11-01T00:00:00\", \"2000-11-15T00:00:00\", \"2000-11-29T00:00:00\", \"2000-12-13T00:00:00\", \"2000-12-27T00:00:00\", \"2001-01-10T00:00:00\", \"2001-01-24T00:00:00\", \"2001-02-07T00:00:00\", \"2001-02-21T00:00:00\", \"2001-03-07T00:00:00\", \"2001-03-21T00:00:00\", \"2001-04-04T00:00:00\", \"2001-04-18T00:00:00\", \"2001-05-02T00:00:00\", \"2001-05-16T00:00:00\", \"2001-05-30T00:00:00\", \"2001-06-13T00:00:00\", \"2001-06-27T00:00:00\", \"2001-07-11T00:00:00\", \"2001-07-25T00:00:00\", \"2001-08-08T00:00:00\", \"2001-08-22T00:00:00\", \"2001-09-05T00:00:00\", \"2001-09-19T00:00:00\", \"2001-10-03T00:00:00\", \"2001-10-17T00:00:00\", \"2001-10-31T00:00:00\", \"2001-11-14T00:00:00\", \"2001-11-28T00:00:00\", \"2001-12-12T00:00:00\", \"2001-12-26T00:00:00\", \"2002-01-09T00:00:00\", \"2002-01-23T00:00:00\", \"2002-02-06T00:00:00\", \"2002-02-20T00:00:00\", \"2002-03-06T00:00:00\", \"2002-03-20T00:00:00\", \"2002-04-03T00:00:00\", \"2002-04-17T00:00:00\", \"2002-05-01T00:00:00\", \"2002-05-15T00:00:00\", \"2002-05-29T00:00:00\", \"2002-06-12T00:00:00\", \"2002-06-26T00:00:00\", \"2002-07-10T00:00:00\", \"2002-07-24T00:00:00\", \"2002-08-07T00:00:00\", \"2002-08-21T00:00:00\", \"2002-09-04T00:00:00\", \"2002-09-18T00:00:00\", \"2002-10-02T00:00:00\", \"2002-10-16T00:00:00\", \"2002-10-30T00:00:00\", \"2002-11-13T00:00:00\", \"2002-11-27T00:00:00\", \"2002-12-11T00:00:00\", \"2002-12-25T00:00:00\", \"2003-01-08T00:00:00\", \"2003-01-22T00:00:00\", \"2003-02-05T00:00:00\", \"2003-02-19T00:00:00\", \"2003-03-05T00:00:00\", \"2003-03-19T00:00:00\", \"2003-04-02T00:00:00\", \"2003-04-16T00:00:00\", \"2003-04-30T00:00:00\", \"2003-05-14T00:00:00\", \"2003-05-28T00:00:00\", \"2003-06-11T00:00:00\", \"2003-06-25T00:00:00\", \"2003-07-09T00:00:00\", \"2003-07-23T00:00:00\", \"2003-08-06T00:00:00\", \"2003-08-20T00:00:00\", \"2003-09-03T00:00:00\", \"2003-09-17T00:00:00\", \"2003-10-01T00:00:00\", \"2003-10-15T00:00:00\", \"2003-10-29T00:00:00\", \"2003-11-12T00:00:00\", \"2003-11-26T00:00:00\", \"2003-12-10T00:00:00\", \"2003-12-24T00:00:00\", \"2004-01-07T00:00:00\", \"2004-01-21T00:00:00\", \"2004-02-04T00:00:00\", \"2004-02-18T00:00:00\", \"2004-03-03T00:00:00\", \"2004-03-17T00:00:00\", \"2004-03-31T00:00:00\", \"2004-04-14T00:00:00\", \"2004-04-28T00:00:00\", \"2004-05-12T00:00:00\", \"2004-05-26T00:00:00\", \"2004-06-09T00:00:00\", \"2004-06-23T00:00:00\", \"2004-07-07T00:00:00\", \"2004-07-21T00:00:00\", \"2004-08-04T00:00:00\", \"2004-08-18T00:00:00\", \"2004-09-01T00:00:00\", \"2004-09-15T00:00:00\", \"2004-09-29T00:00:00\", \"2004-10-13T00:00:00\", \"2004-10-27T00:00:00\", \"2004-11-10T00:00:00\", \"2004-11-24T00:00:00\", \"2004-12-08T00:00:00\", \"2004-12-22T00:00:00\", \"2005-01-05T00:00:00\", \"2005-01-19T00:00:00\", \"2005-02-02T00:00:00\", \"2005-02-16T00:00:00\", \"2005-03-02T00:00:00\", \"2005-03-16T00:00:00\", \"2005-03-30T00:00:00\", \"2005-04-13T00:00:00\", \"2005-04-27T00:00:00\", \"2005-05-11T00:00:00\", \"2005-05-25T00:00:00\", \"2005-06-08T00:00:00\", \"2005-06-22T00:00:00\", \"2005-07-06T00:00:00\", \"2005-07-20T00:00:00\", \"2005-08-03T00:00:00\", \"2005-08-17T00:00:00\", \"2005-08-31T00:00:00\", \"2005-09-14T00:00:00\", \"2005-09-28T00:00:00\", \"2005-10-12T00:00:00\", \"2005-10-26T00:00:00\", \"2005-11-09T00:00:00\", \"2005-11-23T00:00:00\", \"2005-12-07T00:00:00\", \"2005-12-21T00:00:00\", \"2006-01-04T00:00:00\", \"2006-01-18T00:00:00\", \"2006-02-01T00:00:00\", \"2006-02-15T00:00:00\", \"2006-03-01T00:00:00\", \"2006-03-15T00:00:00\", \"2006-03-29T00:00:00\", \"2006-04-12T00:00:00\", \"2006-04-26T00:00:00\", \"2006-05-10T00:00:00\", \"2006-05-24T00:00:00\", \"2006-06-07T00:00:00\", \"2006-06-21T00:00:00\", \"2006-07-05T00:00:00\", \"2006-07-19T00:00:00\", \"2006-08-02T00:00:00\", \"2006-08-16T00:00:00\", \"2006-08-30T00:00:00\", \"2006-09-13T00:00:00\", \"2006-09-27T00:00:00\", \"2006-10-11T00:00:00\", \"2006-10-25T00:00:00\", \"2006-11-08T00:00:00\", \"2006-11-22T00:00:00\", \"2006-12-06T00:00:00\", \"2006-12-20T00:00:00\", \"2007-01-03T00:00:00\", \"2007-01-17T00:00:00\", \"2007-01-31T00:00:00\", \"2007-02-14T00:00:00\", \"2007-02-28T00:00:00\", \"2007-03-14T00:00:00\", \"2007-03-28T00:00:00\", \"2007-04-11T00:00:00\", \"2007-04-25T00:00:00\", \"2007-05-09T00:00:00\", \"2007-05-23T00:00:00\", \"2007-06-06T00:00:00\", \"2007-06-20T00:00:00\", \"2007-07-04T00:00:00\", \"2007-07-18T00:00:00\", \"2007-08-01T00:00:00\", \"2007-08-15T00:00:00\", \"2007-08-29T00:00:00\", \"2007-09-12T00:00:00\", \"2007-09-26T00:00:00\", \"2007-10-10T00:00:00\", \"2007-10-24T00:00:00\", \"2007-11-07T00:00:00\", \"2007-11-21T00:00:00\", \"2007-12-05T00:00:00\", \"2007-12-19T00:00:00\", \"2008-01-02T00:00:00\", \"2008-01-16T00:00:00\", \"2008-01-30T00:00:00\", \"2008-02-13T00:00:00\", \"2008-02-27T00:00:00\", \"2008-03-12T00:00:00\", \"2008-03-26T00:00:00\", \"2008-04-09T00:00:00\", \"2008-04-23T00:00:00\", \"2008-05-07T00:00:00\", \"2008-05-21T00:00:00\", \"2008-06-04T00:00:00\", \"2008-06-18T00:00:00\", \"2008-07-02T00:00:00\", \"2008-07-16T00:00:00\", \"2008-07-30T00:00:00\", \"2008-08-13T00:00:00\", \"2008-08-27T00:00:00\", \"2008-09-10T00:00:00\", \"2008-09-24T00:00:00\", \"2008-10-08T00:00:00\", \"2008-10-22T00:00:00\", \"2008-11-05T00:00:00\", \"2008-11-19T00:00:00\", \"2008-12-03T00:00:00\", \"2008-12-17T00:00:00\", \"2008-12-31T00:00:00\", \"2009-01-14T00:00:00\", \"2009-01-28T00:00:00\", \"2009-02-11T00:00:00\", \"2009-02-25T00:00:00\", \"2009-03-11T00:00:00\", \"2009-03-25T00:00:00\", \"2009-04-08T00:00:00\", \"2009-04-22T00:00:00\", \"2009-05-06T00:00:00\", \"2009-05-20T00:00:00\", \"2009-06-03T00:00:00\", \"2009-06-17T00:00:00\", \"2009-07-01T00:00:00\", \"2009-07-15T00:00:00\", \"2009-07-29T00:00:00\", \"2009-08-12T00:00:00\", \"2009-08-26T00:00:00\", \"2009-09-09T00:00:00\", \"2009-09-23T00:00:00\", \"2009-10-07T00:00:00\", \"2009-10-21T00:00:00\", \"2009-11-04T00:00:00\", \"2009-11-18T00:00:00\", \"2009-12-02T00:00:00\", \"2009-12-16T00:00:00\", \"2009-12-30T00:00:00\", \"2010-01-13T00:00:00\", \"2010-01-27T00:00:00\", \"2010-02-10T00:00:00\", \"2010-02-24T00:00:00\", \"2010-03-10T00:00:00\", \"2010-03-24T00:00:00\", \"2010-04-07T00:00:00\", \"2010-04-21T00:00:00\", \"2010-05-05T00:00:00\", \"2010-05-19T00:00:00\", \"2010-06-02T00:00:00\", \"2010-06-16T00:00:00\", \"2010-06-30T00:00:00\", \"2010-07-14T00:00:00\", \"2010-07-28T00:00:00\", \"2010-08-11T00:00:00\", \"2010-08-25T00:00:00\", \"2010-09-08T00:00:00\", \"2010-09-22T00:00:00\", \"2010-10-06T00:00:00\", \"2010-10-20T00:00:00\", \"2010-11-03T00:00:00\", \"2010-11-17T00:00:00\", \"2010-12-01T00:00:00\", \"2010-12-15T00:00:00\", \"2010-12-29T00:00:00\", \"2011-01-12T00:00:00\", \"2011-01-26T00:00:00\", \"2011-02-09T00:00:00\", \"2011-02-23T00:00:00\", \"2011-03-09T00:00:00\", \"2011-03-23T00:00:00\", \"2011-04-06T00:00:00\", \"2011-04-20T00:00:00\", \"2011-05-04T00:00:00\", \"2011-05-18T00:00:00\", \"2011-06-01T00:00:00\", \"2011-06-15T00:00:00\", \"2011-06-29T00:00:00\", \"2011-07-13T00:00:00\", \"2011-07-27T00:00:00\", \"2011-08-10T00:00:00\", \"2011-08-24T00:00:00\", \"2011-09-07T00:00:00\", \"2011-09-21T00:00:00\", \"2011-10-05T00:00:00\", \"2011-10-19T00:00:00\", \"2011-11-02T00:00:00\", \"2011-11-16T00:00:00\", \"2011-11-30T00:00:00\", \"2011-12-14T00:00:00\", \"2011-12-28T00:00:00\", \"2012-01-11T00:00:00\", \"2012-01-25T00:00:00\", \"2012-02-08T00:00:00\", \"2012-02-22T00:00:00\", \"2012-03-07T00:00:00\", \"2012-03-21T00:00:00\", \"2012-04-04T00:00:00\", \"2012-04-18T00:00:00\", \"2012-05-02T00:00:00\", \"2012-05-16T00:00:00\", \"2012-05-30T00:00:00\", \"2012-06-13T00:00:00\", \"2012-06-27T00:00:00\", \"2012-07-11T00:00:00\", \"2012-07-25T00:00:00\", \"2012-08-08T00:00:00\", \"2012-08-22T00:00:00\", \"2012-09-05T00:00:00\", \"2012-09-19T00:00:00\", \"2012-10-03T00:00:00\", \"2012-10-17T00:00:00\", \"2012-10-31T00:00:00\", \"2012-11-14T00:00:00\", \"2012-11-28T00:00:00\", \"2012-12-12T00:00:00\", \"2012-12-26T00:00:00\", \"2013-01-09T00:00:00\", \"2013-01-23T00:00:00\", \"2013-02-06T00:00:00\", \"2013-02-20T00:00:00\", \"2013-03-06T00:00:00\", \"2013-03-20T00:00:00\", \"2013-04-03T00:00:00\", \"2013-04-17T00:00:00\", \"2013-05-01T00:00:00\", \"2013-05-15T00:00:00\", \"2013-05-29T00:00:00\", \"2013-06-12T00:00:00\", \"2013-06-26T00:00:00\", \"2013-07-10T00:00:00\", \"2013-07-24T00:00:00\", \"2013-08-07T00:00:00\", \"2013-08-21T00:00:00\", \"2013-09-04T00:00:00\", \"2013-09-18T00:00:00\", \"2013-10-02T00:00:00\", \"2013-10-16T00:00:00\", \"2013-10-30T00:00:00\", \"2013-11-13T00:00:00\", \"2013-11-27T00:00:00\", \"2013-12-11T00:00:00\", \"2013-12-25T00:00:00\", \"2014-01-08T00:00:00\", \"2014-01-22T00:00:00\", \"2014-02-05T00:00:00\", \"2014-02-19T00:00:00\", \"2014-03-05T00:00:00\", \"2014-03-19T00:00:00\", \"2014-04-02T00:00:00\", \"2014-04-16T00:00:00\", \"2014-04-30T00:00:00\", \"2014-05-14T00:00:00\", \"2014-05-28T00:00:00\", \"2014-06-11T00:00:00\", \"2014-06-25T00:00:00\", \"2014-07-09T00:00:00\", \"2014-07-23T00:00:00\", \"2014-08-06T00:00:00\", \"2014-08-20T00:00:00\", \"2014-09-03T00:00:00\", \"2014-09-17T00:00:00\", \"2014-10-01T00:00:00\", \"2014-10-15T00:00:00\", \"2014-10-29T00:00:00\", \"2014-11-12T00:00:00\", \"2014-11-26T00:00:00\", \"2014-12-10T00:00:00\", \"2014-12-24T00:00:00\", \"2015-01-07T00:00:00\", \"2015-01-21T00:00:00\", \"2015-02-04T00:00:00\", \"2015-02-18T00:00:00\", \"2015-03-04T00:00:00\", \"2015-03-18T00:00:00\", \"2015-04-01T00:00:00\", \"2015-04-15T00:00:00\", \"2015-04-29T00:00:00\", \"2015-05-13T00:00:00\", \"2015-05-27T00:00:00\", \"2015-06-10T00:00:00\", \"2015-06-24T00:00:00\", \"2015-07-08T00:00:00\", \"2015-07-22T00:00:00\", \"2015-08-05T00:00:00\", \"2015-08-19T00:00:00\", \"2015-09-02T00:00:00\", \"2015-09-16T00:00:00\", \"2015-09-30T00:00:00\", \"2015-10-14T00:00:00\", \"2015-10-28T00:00:00\", \"2015-11-11T00:00:00\", \"2015-11-25T00:00:00\", \"2015-12-09T00:00:00\", \"2015-12-23T00:00:00\", \"2016-01-06T00:00:00\", \"2016-01-20T00:00:00\", \"2016-02-03T00:00:00\", \"2016-02-17T00:00:00\", \"2016-03-02T00:00:00\", \"2016-03-16T00:00:00\", \"2016-03-30T00:00:00\", \"2016-04-13T00:00:00\", \"2016-04-27T00:00:00\", \"2016-05-11T00:00:00\", \"2016-05-25T00:00:00\", \"2016-06-08T00:00:00\", \"2016-06-22T00:00:00\", \"2016-07-06T00:00:00\", \"2016-07-20T00:00:00\", \"2016-08-03T00:00:00\", \"2016-08-17T00:00:00\", \"2016-08-31T00:00:00\", \"2016-09-14T00:00:00\", \"2016-09-28T00:00:00\", \"2016-10-12T00:00:00\", \"2016-10-26T00:00:00\", \"2016-11-09T00:00:00\", \"2016-11-23T00:00:00\", \"2016-12-07T00:00:00\", \"2016-12-21T00:00:00\", \"2017-01-04T00:00:00\", \"2017-01-18T00:00:00\", \"2017-02-01T00:00:00\", \"2017-02-15T00:00:00\", \"2017-03-01T00:00:00\", \"2017-03-15T00:00:00\", \"2017-03-29T00:00:00\", \"2017-04-12T00:00:00\", \"2017-04-26T00:00:00\", \"2017-05-10T00:00:00\", \"2017-05-24T00:00:00\", \"2017-06-07T00:00:00\", \"2017-06-21T00:00:00\", \"2017-07-05T00:00:00\", \"2017-07-19T00:00:00\", \"2017-08-02T00:00:00\", \"2017-08-16T00:00:00\", \"2017-08-30T00:00:00\", \"2017-09-13T00:00:00\", \"2017-09-27T00:00:00\", \"2017-10-11T00:00:00\", \"2017-10-25T00:00:00\", \"2017-11-08T00:00:00\", \"2017-11-22T00:00:00\", \"2017-12-06T00:00:00\", \"2017-12-20T00:00:00\", \"2018-01-03T00:00:00\", \"2018-01-17T00:00:00\", \"2018-01-31T00:00:00\", \"2018-02-14T00:00:00\", \"2018-02-28T00:00:00\", \"2018-03-14T00:00:00\", \"2018-03-28T00:00:00\", \"2018-04-11T00:00:00\", \"2018-04-25T00:00:00\", \"2018-05-09T00:00:00\", \"2018-05-23T00:00:00\", \"2018-06-06T00:00:00\", \"2018-06-20T00:00:00\", \"2018-07-04T00:00:00\", \"2018-07-18T00:00:00\", \"2018-08-01T00:00:00\", \"2018-08-15T00:00:00\", \"2018-08-29T00:00:00\", \"2018-09-12T00:00:00\", \"2018-09-26T00:00:00\", \"2018-10-10T00:00:00\", \"2018-10-24T00:00:00\", \"2018-11-07T00:00:00\", \"2018-11-21T00:00:00\", \"2018-12-05T00:00:00\", \"2018-12-19T00:00:00\", \"2019-01-02T00:00:00\", \"2019-01-16T00:00:00\", \"2019-01-30T00:00:00\", \"2019-02-13T00:00:00\", \"2019-02-27T00:00:00\", \"2019-03-13T00:00:00\", \"2019-03-27T00:00:00\", \"2019-04-10T00:00:00\", \"2019-04-24T00:00:00\", \"2019-05-08T00:00:00\", \"2019-05-22T00:00:00\", \"2019-06-05T00:00:00\", \"2019-06-19T00:00:00\"], \"xaxis\": \"x2\", \"y\": [0.4561354517936706, 0.6600753664970396, 0.9284676313400266, -0.7380894720554352, 0.48968416452407837, -0.2357128411531448, 0.0, -0.712361097335815, 0.16117048263549805, -0.8766141682863235, 0.3409457206726074, 1.1329843997955322, -0.34810352325439464, 0.012154877185821533, -0.18480928242206573, -0.409488320350647, -0.0095244571566582, -0.3939487636089324, -0.5758193135261536, 1.2108640372753143, -1.2694001048803334, 0.47010213136672974, -0.20455873012542725, -0.4060679078102112, 0.0, 0.0, 0.0, 0.0, -0.03331789374351496, -0.3841090649366378, -0.14943309128284465, 0.8415367603302002, -0.41924309730529796, 0.07337415218353271, 0.6265847682952878, -0.11432445049285889, -1.7958397567272186, -0.4761250019073485, -0.4693581461906432, -0.8526495099067679, 0.3795932084321978, -1.8125431537628174, -0.22175607085227922, -0.560952231287956, 0.2606368064880369, 0.38482582569122314, -1.114589661359787, -0.18659019470214866, 1.3578639030456543, -1.391903042793274, 1.0920365452766416, -0.2881997823715208, -0.8898947238922118, 0.0, 0.3933091163635254, -0.49338078498840376, -0.5653367266058917, -0.4001206159591677, 0.833979606628418, -0.3167066574096684, -1.3601461052894592, -0.5818665027618408, 0.23528099060058616, -0.1331652104854587, 0.7618114948272705, -0.6431611180305481, 0.7173585891723633, 0.21295431256294262, 2.2209392786026, -1.1230387091636658, -0.6139958798885345, 0.4821230173110962, -1.2358026504516606, -0.253185510635376, -3.152840316295624, -1.3070502281188965, -0.6682461500167848, -0.48910430073738104, 0.0, 0.936253011226654, 0.07208728790283203, 0.3016042709350585, 1.1965429186820984, 0.23618030548095714, -0.7584447562694558, -0.9079980850219722, -0.10787093639373779, 0.4480547308921814, 0.639575183391571, -0.480823397636414, 0.46376585960388206, 0.5867082998156545, 0.5894035100936887, -0.9912552833557124, -0.40537983179092424, 1.8814855217933655, 0.9535971879959103, -0.6634619235992432, -1.0283487439155579, 0.8999636173248287, 0.17858044803142548, 0.14992517232894897, -0.21145796775817882, -0.08275574445724487, -0.13027819991111733, 0.2408885359764099, -0.32469260692596436, 3.2055690586566925, 0.05193181335926034, -0.10650011897087097, -0.40747135877609253, 1.17314875125885, -1.0577406883239746, -0.1811174154281625, -1.7071373462676993, 0.6646262407302855, -0.295275092124939, 0.12978321313858032, -0.685588002204895, -0.11378228664398193, 0.06404846906661987, -0.9529831409454347, 0.058391928672790305, -0.5356968641281128, 0.011899709701537975, -0.7030738592147827, -0.1273107528686523, -1.4611022472381594, -0.08543062210083008, 0.04370296001434282, 0.22834642231464386, -0.24182137846946722, 0.24582737684249878, -0.14838354289531708, -0.2657723426818848, 1.5668976306915283, -1.4532415270805357, 0.18485961854457855, 0.17574939131736755, 0.06610620021820113, -1.403335452079773, 0.7610679268836973, -0.2829791903495788, 0.658845588564873, -0.9405876696109772, 0.2245831191539765, -0.02168129384517667, 1.4965356141328812, -0.1322897896170614, -0.21541327238082897, 0.1925349533557883, 1.9063715934753427, -1.2185791432857513, 0.4093965291976929, 0.7112503051757812, -1.2464878559112549, -0.28229500353336334, 0.0, 0.0, 1.2256163656711578, 0.3938662111759186, 0.07965168356895447, -0.15496206283569336, 1.037166565656662, -1.0165398120880127, 1.0506921112537384, -1.4887033700942993, -0.5762130618095399, 0.49875742197036743, -0.12296700477600109, 0.6772617995738983, -0.9255319237709045, 1.1058973670005798, -0.4241259098052978, 0.4568384885787964, -0.9610879421234149, -0.3545548915863037, 0.4198939651250835, -0.20133808255195595, 0.59530246257782, -1.5762913227081299, -0.27596235275268555, 0.0, -0.2828105688095093, 0.0, 0.07982096076011658, 0.21316534280776978, -0.17474520206451416, -0.3957779109477997, 0.5391739010810852, 0.3142352104187016, 1.1030699014663687, -1.1153839826583865, -1.812486410140992, -0.3313254714012147, -0.06884813308715831, 0.5051591619849205, -1.8997893035411835, 0.47489888966083527, -0.020167410373687633, -0.10756790637969882, -0.4835050106048585, 0.6425634324550629, -0.042472660541534424, -0.16227293014526367, 0.7624512314796448, 0.6840837001800537, -0.6403732895851126, -0.24760505557060242, -0.3279738426208494, 0.5730688571929932, -0.3315398693084717, 0.0, 0.3129906952381136, -0.042230039834976196, -0.7883965522050858, 0.4162418842315676, -1.7339226007461546, -1.5003990530967712, 0.683370947837829, -1.9220438003540035, 0.5582452267408371, 0.0840984582901001, -0.1668565273284912, 0.4791249334812165, 0.375841647386551, -0.4999103546142578, 0.3606112599372864, -0.8174667358398438, -0.7425951957702636, 1.0909349918365479, 0.9824570417404175, -0.10332933068275452, -0.6526343822479248, 0.0, 0.10311156511306763, 0.0, 0.20546460151672363, 0.20666617155075073, 0.9820618629455566, -0.3883245587348937, -0.4358158707618711, 0.355529487133026, -0.4141290187835689, -3.5092418193817148, 2.0902339220046997, 0.5684555172920227, -0.46477800607681274, 0.3074224591255188, -0.7259181216359138, 0.35573160648345953, -1.1684351563453677, 0.29529741406440735, -0.9865863174200058, 1.4163702726364136, -0.4938817620277405, 0.8786829710006713, 0.02058506011962913, 0.28832072019577015, -0.18186569213867182, -1.2437567710876458, 0.22147759795188887, 0.0, 0.0, 0.0, 1.4772939980030062, -0.32016137242317244, 0.4573089182376857, -0.9100303649902326, -0.5181419253349306, -0.6936570405960083, 0.16906756162643455, 0.4921534210443494, -0.20410016179084778, 0.21306903660297372, 0.8051320910453795, -0.6865858137607574, -0.7680585384368899, -0.4793813228607178, 1.3237903118133538, -0.16942799091339134, -0.6028738021850586, -0.07946050167083751, 0.8909636586904526, -0.6186191141605359, 0.11833775043487549, -0.7705219984054565, 0.0, 0.2582458853721619, 0.0, -0.5954422354698181, 0.0, 0.45421874523162864, 0.3480397090315819, 0.10640645027160656, -0.7433419227600095, 1.2001224160194397, -1.9754328131675716, -0.20648813247680708, 0.27122402191162065, 1.0971035957336426, -1.4763338565826416, -0.4633802026510239, -0.8409325182437897, -1.2510754466056824, 0.3554675877094269, 0.8315032720565796, -0.3255279064178471, -0.28252774477005005, 1.151601791381836, 1.765167474746705, -2.1973944902420044, 0.0, 0.0, -0.37590938806533813, 1.9656834602355957, -1.2255914211273193, -0.6851503849029542, 0.38819167017936684, -0.50556480884552, 0.5177188515663148, -0.2491307258605957, 0.28983843326568604, 0.13692593574523948, 0.06154286861419678, -0.8204731941223145, 0.3215951323509215, 0.6220472455024719, 0.2649032771587372, -1.0458547472953796, 1.03334940969944, 0.06934440135955777, 0.13850416243076324, -0.07992005348205566, -0.09133490920066833, 0.12628126144409202, -0.24996215105056796, 0.05708244442939758, -0.04017770290374745, 0.0, 0.0, -0.12420579046010972, -0.2164435088634491, 0.7251819074153898, -0.5087938606739044, 0.37243640422821045, -1.6892893314361572, 0.3565121591091156, 0.42317192256450653, 0.09412467479705855, 0.14021605253219593, -0.2795417159795761, -0.20418095588684104, -0.44715860486030584, -1.662455141544342, 0.22588732838630665, 1.98801851272583, -0.39512367546558375, 0.2794610857963561, -0.4208906292915345, -0.3324698805809022, 0.49815833568572987, 0.3334532827138901, 0.526043266057968, -0.012476831674575473, 0.42216753959655773, 0.1889767348766327, 0.3960483148694039, 0.10005748271942139, 0.1237167790532112, 0.0, -0.04073715209960915, 1.5265070199966433, 1.1471201181411745, -0.3408063054084779, -0.4004962444305421, 0.24467733502388006, 0.21707409620285023, 0.3273952603340149, -0.5692011117935181, -0.015568122267723541, 1.6182640194892886, -0.13896751403808594, 1.079899251461029, 0.009743452072143999, -0.25056999921798717, -0.7463481724262238, 0.7431393861770627, -0.8184938430786142, 0.6764422655105593, 0.0, 0.4684795439243317, 0.5321071147918705, 0.17071843147277832, 0.0, 0.12160611152648881, -1.293597221374511, -0.13452875614166282, -1.1356216669082646, 0.037628769874572754, -1.015282869338989, -0.8445965498685836, 0.10645246505737305, -0.20527933537960052, 0.4580504596233368, 0.8331038355827333, -0.27132327854633354, -0.5564929842948914, -0.11641250550746918, 0.08585967123508452, 0.7846732139587403, -0.04432773590087846, -1.3792096227407455, 0.7544618844985962, -0.010390356183052035, 0.2618779689073562, 0.06630018353462219, -0.3518667668104172, 0.0, 0.0, -0.29247927665710494, -0.15108288824558233, -0.006588667631149292, 0.788423664867878, -1.1787142753601074, 0.8483821153640749, 0.07789069414138788, 0.2682852745056148, -0.3850933238863945, -0.723153829574585, -0.6055127680301664, 0.719586610794068, -0.30869127810001373, 0.07944965362548762, 0.490431398153305, 2.0845914483070374, -0.8773975521326067, 0.46450111269950956, -0.04215615987777699, -0.8109157383441923, -0.1587628126144408, -1.0381901860237122, 0.0, 0.14678213000297546, 0.548162430524826, -0.1381145715713501, 0.5774598717689513, -0.6979610919952393, -0.519599974155426, -0.8154187500476839, 0.23836946487426736, 0.2962557077407839, 1.1900195479393005, -1.0304912924766536, 0.10347795486450195, 0.8823250532150269, -0.7233439683914181, -0.9282262176275253, 0.15792614221572876, -0.1114673987030983, 0.2720886170864105, -0.1581689715385437, -0.5949594974517822, 0.258534133434296, -0.3352004289627075, 1.5795930624008179, -0.05401849746704129, 1.4215551018714905, -1.1652625799179077, 0.0, 0.0, -0.08184877038002014, 0.30316877365112305, -0.25421349704265594, 0.1643762141466141, 0.5401450991630554, 0.48263418674468916, -1.6469159126281736, 0.2348954677581787, -0.5932913124561311, 0.220892071723938, -0.07835245132446289, 0.4052409529685974, -0.4333747327327728, -0.4262959063053132, -0.21417450904846191, -0.12811180949211126, 0.11947059631347651, 0.9311096668243408, -0.2301366925239563, -0.15792779624462128, -0.44648666679859167, 1.1278098970651627, -0.4354958534240722, 1.1788423657417297, 0.0, -0.46477746963501, 0.0, 0.541872799396515, 1.5471493005752563, -1.8083565235137937, 0.2162747085094452, 2.3776804208755493, 3.0309624671936035, -1.2608399391174316, 0.4293454289436341, 0.08603166043758395, -0.28188955783843983, -0.8023003339767457, -0.9684369564056395, -0.49375170469284085, 0.19820207357406616, 0.2599648535251615, -0.21515297889709517, 0.5302142500877381, -0.3540138006210326, -0.7311974763870235, -2.968102872371674, 1.1754867732524872, 0.34999150037765514, -0.7239420413970948, -0.0017516613006591797, -0.8771539926528936, 0.0, -0.552883207798004, 0.2703344821929935, -0.07653033733367942, 0.991576761007309, -0.6849727630615234, -1.8666159510612483, -4.652743339538572, -1.972677350044251, 0.5889706015586853, 0.6511893272399898, 0.0031233131885528564, 0.6302022337913511, -0.10270889103412623, 0.42558562755584717, 0.022398948669433705, -0.2820336818695066, -1.7905632257461548, 2.106998085975648, 0.119294211268425, -1.7923324257135391, -1.7038041800260544, 0.40406332910060927, 0.0, 0.3105543851852417, -0.09384748339653026, 0.5646410286426544, 0.0, 0.3095593452453613, 0.0, -0.20806321501731884, 0.13171708583831787, 0.9228494763374329, -0.6312870979309089, 0.7524408698081967, -1.0225559771060944, -0.4947989583015443, -0.1350182294845581, -0.22301176190376276, 0.14205554127693176, 0.003379642963409424, -0.40409304946660995, 0.39006006717681885, -0.4195480942726135, -0.42053520679473877, -0.10347497463226302, -0.968576490879059, 0.4967479109764099, -0.1528691053390503, -0.3258336782455447, -0.2622792720794678, 0.23322921991348272, -0.34504902362823486, 0.19523730874061562, 0.5228343009948739, 0.13165885210037187, 0.3680799007415772, 0.8305506408214571, 0.6570626497268679, 1.0536240935325623, 0.06031221151351929, 2.122933030128479, -0.8667553067207338, 0.09865665435790971], \"yaxis\": \"y2\"}, {\"marker\": {\"color\": \"purple\"}, \"mode\": \"lines+markers\", \"name\": \"TerraClimate PDSI\", \"type\": \"scatter\", \"x\": [\"1997-01-01T00:00:00\", \"1997-02-01T00:00:00\", \"1997-03-01T00:00:00\", \"1997-04-01T00:00:00\", \"1997-05-01T00:00:00\", \"1997-06-01T00:00:00\", \"1997-07-01T00:00:00\", \"1997-08-01T00:00:00\", \"1997-09-01T00:00:00\", \"1997-10-01T00:00:00\", \"1997-11-01T00:00:00\", \"1997-12-01T00:00:00\", \"1998-01-01T00:00:00\", \"1998-02-01T00:00:00\", \"1998-03-01T00:00:00\", \"1998-04-01T00:00:00\", \"1998-05-01T00:00:00\", \"1998-06-01T00:00:00\", \"1998-07-01T00:00:00\", \"1998-08-01T00:00:00\", \"1998-09-01T00:00:00\", \"1998-10-01T00:00:00\", \"1998-11-01T00:00:00\", \"1998-12-01T00:00:00\", \"1999-01-01T00:00:00\", \"1999-02-01T00:00:00\", \"1999-03-01T00:00:00\", \"1999-04-01T00:00:00\", \"1999-05-01T00:00:00\", \"1999-06-01T00:00:00\", \"1999-07-01T00:00:00\", \"1999-08-01T00:00:00\", \"1999-09-01T00:00:00\", \"1999-10-01T00:00:00\", \"1999-11-01T00:00:00\", \"1999-12-01T00:00:00\", \"2000-01-01T00:00:00\", \"2000-02-01T00:00:00\", \"2000-03-01T00:00:00\", \"2000-04-01T00:00:00\", \"2000-05-01T00:00:00\", \"2000-06-01T00:00:00\", \"2000-07-01T00:00:00\", \"2000-08-01T00:00:00\", \"2000-09-01T00:00:00\", \"2000-10-01T00:00:00\", \"2000-11-01T00:00:00\", \"2000-12-01T00:00:00\", \"2001-01-01T00:00:00\", \"2001-02-01T00:00:00\", \"2001-03-01T00:00:00\", \"2001-04-01T00:00:00\", \"2001-05-01T00:00:00\", \"2001-06-01T00:00:00\", \"2001-07-01T00:00:00\", \"2001-08-01T00:00:00\", \"2001-09-01T00:00:00\", \"2001-10-01T00:00:00\", \"2001-11-01T00:00:00\", \"2001-12-01T00:00:00\", \"2002-01-01T00:00:00\", \"2002-02-01T00:00:00\", \"2002-03-01T00:00:00\", \"2002-04-01T00:00:00\", \"2002-05-01T00:00:00\", \"2002-06-01T00:00:00\", \"2002-07-01T00:00:00\", \"2002-08-01T00:00:00\", \"2002-09-01T00:00:00\", \"2002-10-01T00:00:00\", \"2002-11-01T00:00:00\", \"2002-12-01T00:00:00\", \"2003-01-01T00:00:00\", \"2003-02-01T00:00:00\", \"2003-03-01T00:00:00\", \"2003-04-01T00:00:00\", \"2003-05-01T00:00:00\", \"2003-06-01T00:00:00\", \"2003-07-01T00:00:00\", \"2003-08-01T00:00:00\", \"2003-09-01T00:00:00\", \"2003-10-01T00:00:00\", \"2003-11-01T00:00:00\", \"2003-12-01T00:00:00\", \"2004-01-01T00:00:00\", \"2004-02-01T00:00:00\", \"2004-03-01T00:00:00\", \"2004-04-01T00:00:00\", \"2004-05-01T00:00:00\", \"2004-06-01T00:00:00\", \"2004-07-01T00:00:00\", \"2004-08-01T00:00:00\", \"2004-09-01T00:00:00\", \"2004-10-01T00:00:00\", \"2004-11-01T00:00:00\", \"2004-12-01T00:00:00\", \"2005-01-01T00:00:00\", \"2005-02-01T00:00:00\", \"2005-03-01T00:00:00\", \"2005-04-01T00:00:00\", \"2005-05-01T00:00:00\", \"2005-06-01T00:00:00\", \"2005-07-01T00:00:00\", \"2005-08-01T00:00:00\", \"2005-09-01T00:00:00\", \"2005-10-01T00:00:00\", \"2005-11-01T00:00:00\", \"2005-12-01T00:00:00\", \"2006-01-01T00:00:00\", \"2006-02-01T00:00:00\", \"2006-03-01T00:00:00\", \"2006-04-01T00:00:00\", \"2006-05-01T00:00:00\", \"2006-06-01T00:00:00\", \"2006-07-01T00:00:00\", \"2006-08-01T00:00:00\", \"2006-09-01T00:00:00\", \"2006-10-01T00:00:00\", \"2006-11-01T00:00:00\", \"2006-12-01T00:00:00\", \"2007-01-01T00:00:00\", \"2007-02-01T00:00:00\", \"2007-03-01T00:00:00\", \"2007-04-01T00:00:00\", \"2007-05-01T00:00:00\", \"2007-06-01T00:00:00\", \"2007-07-01T00:00:00\", \"2007-08-01T00:00:00\", \"2007-09-01T00:00:00\", \"2007-10-01T00:00:00\", \"2007-11-01T00:00:00\", \"2007-12-01T00:00:00\", \"2008-01-01T00:00:00\", \"2008-02-01T00:00:00\", \"2008-03-01T00:00:00\", \"2008-04-01T00:00:00\", \"2008-05-01T00:00:00\", \"2008-06-01T00:00:00\", \"2008-07-01T00:00:00\", \"2008-08-01T00:00:00\", \"2008-09-01T00:00:00\", \"2008-10-01T00:00:00\", \"2008-11-01T00:00:00\", \"2008-12-01T00:00:00\", \"2009-01-01T00:00:00\", \"2009-02-01T00:00:00\", \"2009-03-01T00:00:00\", \"2009-04-01T00:00:00\", \"2009-05-01T00:00:00\", \"2009-06-01T00:00:00\", \"2009-07-01T00:00:00\", \"2009-08-01T00:00:00\", \"2009-09-01T00:00:00\", \"2009-10-01T00:00:00\", \"2009-11-01T00:00:00\", \"2009-12-01T00:00:00\", \"2010-01-01T00:00:00\", \"2010-02-01T00:00:00\", \"2010-03-01T00:00:00\", \"2010-04-01T00:00:00\", \"2010-05-01T00:00:00\", \"2010-06-01T00:00:00\", \"2010-07-01T00:00:00\", \"2010-08-01T00:00:00\", \"2010-09-01T00:00:00\", \"2010-10-01T00:00:00\", \"2010-11-01T00:00:00\", \"2010-12-01T00:00:00\", \"2011-01-01T00:00:00\", \"2011-02-01T00:00:00\", \"2011-03-01T00:00:00\", \"2011-04-01T00:00:00\", \"2011-05-01T00:00:00\", \"2011-06-01T00:00:00\", \"2011-07-01T00:00:00\", \"2011-08-01T00:00:00\", \"2011-09-01T00:00:00\", \"2011-10-01T00:00:00\", \"2011-11-01T00:00:00\", \"2011-12-01T00:00:00\", \"2012-01-01T00:00:00\", \"2012-02-01T00:00:00\", \"2012-03-01T00:00:00\", \"2012-04-01T00:00:00\", \"2012-05-01T00:00:00\", \"2012-06-01T00:00:00\", \"2012-07-01T00:00:00\", \"2012-08-01T00:00:00\", \"2012-09-01T00:00:00\", \"2012-10-01T00:00:00\", \"2012-11-01T00:00:00\", \"2012-12-01T00:00:00\", \"2013-01-01T00:00:00\", \"2013-02-01T00:00:00\", \"2013-03-01T00:00:00\", \"2013-04-01T00:00:00\", \"2013-05-01T00:00:00\", \"2013-06-01T00:00:00\", \"2013-07-01T00:00:00\", \"2013-08-01T00:00:00\", \"2013-09-01T00:00:00\", \"2013-10-01T00:00:00\", \"2013-11-01T00:00:00\", \"2013-12-01T00:00:00\", \"2014-01-01T00:00:00\", \"2014-02-01T00:00:00\", \"2014-03-01T00:00:00\", \"2014-04-01T00:00:00\", \"2014-05-01T00:00:00\", \"2014-06-01T00:00:00\", \"2014-07-01T00:00:00\", \"2014-08-01T00:00:00\", \"2014-09-01T00:00:00\", \"2014-10-01T00:00:00\", \"2014-11-01T00:00:00\", \"2014-12-01T00:00:00\", \"2015-01-01T00:00:00\", \"2015-02-01T00:00:00\", \"2015-03-01T00:00:00\", \"2015-04-01T00:00:00\", \"2015-05-01T00:00:00\", \"2015-06-01T00:00:00\", \"2015-07-01T00:00:00\", \"2015-08-01T00:00:00\", \"2015-09-01T00:00:00\", \"2015-10-01T00:00:00\", \"2015-11-01T00:00:00\", \"2015-12-01T00:00:00\", \"2016-01-01T00:00:00\", \"2016-02-01T00:00:00\", \"2016-03-01T00:00:00\", \"2016-04-01T00:00:00\", \"2016-05-01T00:00:00\", \"2016-06-01T00:00:00\", \"2016-07-01T00:00:00\", \"2016-08-01T00:00:00\", \"2016-09-01T00:00:00\", \"2016-10-01T00:00:00\", \"2016-11-01T00:00:00\", \"2016-12-01T00:00:00\", \"2017-01-01T00:00:00\", \"2017-02-01T00:00:00\", \"2017-03-01T00:00:00\", \"2017-04-01T00:00:00\", \"2017-05-01T00:00:00\", \"2017-06-01T00:00:00\", \"2017-07-01T00:00:00\", \"2017-08-01T00:00:00\", \"2017-09-01T00:00:00\", \"2017-10-01T00:00:00\", \"2017-11-01T00:00:00\", \"2017-12-01T00:00:00\", \"2018-01-01T00:00:00\", \"2018-02-01T00:00:00\", \"2018-03-01T00:00:00\", \"2018-04-01T00:00:00\", \"2018-05-01T00:00:00\", \"2018-06-01T00:00:00\", \"2018-07-01T00:00:00\", \"2018-08-01T00:00:00\", \"2018-09-01T00:00:00\", \"2018-10-01T00:00:00\", \"2018-11-01T00:00:00\", \"2018-12-01T00:00:00\", \"2019-01-01T00:00:00\", \"2019-02-01T00:00:00\", \"2019-03-01T00:00:00\", \"2019-04-01T00:00:00\", \"2019-05-01T00:00:00\", \"2019-06-01T00:00:00\", \"2019-07-01T00:00:00\", \"2019-08-01T00:00:00\", \"2019-09-01T00:00:00\", \"2019-10-01T00:00:00\", \"2019-11-01T00:00:00\", \"2019-12-01T00:00:00\"], \"xaxis\": \"x3\", \"y\": [-0.06699999999999998, -0.04349999999999998, -0.012499999999999997, -0.04850000000000001, -0.013499999999999998, -0.108, -0.21350000000000002, -0.091, -0.088, -0.05550000000000002, -0.0030000000000000027, -0.055499999999999994, -0.017500000000000016, 0.025999999999999995, 0.03900000000000001, 0.093, 0.05349999999999999, 0.0675, 0.09850000000000002, 0.1945, 0.1815, 0.028999999999999998, 0.05199999999999999, 0.057999999999999996, 0.1195, 0.07999999999999999, -0.03149999999999997, -0.07949999999999999, -0.046500000000000014, -0.016999999999999987, -0.059, 0.07450000000000001, 0.096, 0.019499999999999962, 0.04999999999999999, 0.0040000000000000036, 0.03999999999999998, 0.07850000000000001, -0.024999999999999967, -0.02999999999999997, 0.009500000000000008, 0.026499999999999968, -0.01150000000000001, -0.008500000000000008, -0.039000000000000035, -0.09999999999999998, -0.05649999999999997, -0.049500000000000016, -0.05700000000000002, 0.01100000000000001, 0.009500000000000008, -0.058499999999999996, -0.04350000000000001, -0.027499999999999997, -0.06349999999999999, -0.0665, -0.011499999999999996, -0.016500000000000008, 0.026999999999999996, 0.011500000000000003, -0.159, -0.1245, 0.109, 0.1045, 0.036500000000000005, 0.0335, -0.0335, -0.014499999999999999, -0.0075, -0.122, -0.0785, -0.016999999999999994, -0.0405, -0.005500000000000005, 0.011499999999999996, -0.026499999999999996, 0.162, 0.178, -0.05, -0.02550000000000001, 0.009500000000000001, 0.043, 0.011500000000000003, -0.025499999999999995, -0.011500000000000003, -0.0905, -0.0465, -0.0034999999999999996, -0.074, -0.0165, -0.007500000000000007, -0.012499999999999997, 0.023000000000000007, 0.093, 0.0945, 0.010000000000000002, 0.006000000000000005, 0.0355, -0.009500000000000001, -0.0235, -0.0020000000000000018, -0.0255, 0.004499999999999997, 0.007000000000000003, 0.033, 0.040499999999999994, 0.022500000000000006, 0.0805, 0.066, 0.08499999999999999, 0.08149999999999999, 0.030500000000000027, 0.0645, 0.03749999999999998, -0.062, -0.12, -0.0905, -0.021999999999999992, 0.04400000000000001, 0.0015000000000000013, -0.08150000000000002, -0.038000000000000006, 0.066, 0.056499999999999995, -0.03950000000000001, 0.006500000000000006, 0.05400000000000002, -0.02149999999999999, -0.04000000000000001, 0.0010000000000000009, 0.05199999999999999, 0.022999999999999993, -0.0010000000000000009, 0.009000000000000008, -0.0040000000000000036, 0.1975, 0.17900000000000002, 0.044999999999999984, 0.07, -0.03799999999999998, -0.10050000000000003, -0.03650000000000003, 0.051000000000000045, 0.026500000000000024, -0.029000000000000026, 0.023499999999999965, -0.024500000000000022, -0.13, -0.08449999999999996, -0.07299999999999998, -0.037000000000000005, -0.04300000000000001, -0.064, -0.059999999999999984, -0.0675, -0.07650000000000001, -0.21100000000000002, -0.162, 0.056999999999999995, 0.214, 0.1655, 0.05449999999999999, 0.008499999999999994, -0.023999999999999994, -0.01899999999999999, 0.087, 0.1685, 0.038500000000000006, 0.04049999999999998, 0.07400000000000001, 0.118, 0.05349999999999999, -0.055499999999999994, -0.0020000000000000018, -0.05099999999999999, -0.07750000000000001, 0.020000000000000018, 0.08350000000000002, 0.126, 0.08600000000000002, -0.049500000000000044, -0.04300000000000004, -0.00599999999999995, -0.057999999999999996, -0.11900000000000005, -0.11199999999999999, -0.08499999999999999, -0.10800000000000001, -0.07049999999999998, -0.024499999999999994, 0.0025000000000000022, -0.023499999999999993, 0.005999999999999978, 0.069, -0.030499999999999985, 0.0005000000000000004, 0.013499999999999998, -0.081, -0.033, 0.007999999999999993, 0.007499999999999993, 0.011499999999999996, 0.02700000000000001, 0.004500000000000004, 0.0020000000000000018, 0.051000000000000004, 0.031, -0.0315, -0.084, -0.093, -0.177, -0.154, -0.008500000000000008, 0.04350000000000001, 0.04250000000000001, 0.005499999999999991, -0.0010000000000000009, 0.10900000000000001, 0.03, -0.1345, -0.101, -0.035, 0.004500000000000004, -0.021999999999999992, -0.038000000000000006, -0.0335, -0.03900000000000001, -0.020500000000000018, 0.012500000000000011, 0.014000000000000012, 0.015000000000000013, 0.008000000000000007, -0.012500000000000011, 0.04849999999999999, 0.0645, 0.006500000000000006, 0.0015000000000000013, -0.015500000000000014, 0.006999999999999992, 0.046500000000000014, 0.01200000000000001, 0.016, 0.007999999999999993, -0.018000000000000002, 0.0415, 0.0555, 0.07150000000000001, 0.08650000000000001, -0.0535, -0.098, -0.029000000000000005, 0.10450000000000001, 0.117, -0.0050000000000000044, 0.0049999999999999975, 0.05, 0.034999999999999996, -0.0050000000000000044, -0.015, 0.0050000000000000044, 0.0050000000000000044, 0.0050000000000000044, -0.03, -0.07, -0.020000000000000004, 0.0, 0.020000000000000004, 0.06, 0.05, 0.0050000000000000044, -0.035, -0.15, 0.0050000000000000044, 0.1, 0.039999999999999994, 0.13], \"yaxis\": \"y3\"}],                        {\"annotations\": [{\"font\": {\"size\": 16}, \"showarrow\": false, \"text\": \"$\\\\partial/\\\\partial t$\", \"textangle\": -90, \"x\": 0, \"xanchor\": \"right\", \"xref\": \"paper\", \"xshift\": -40, \"y\": 0.5, \"yanchor\": \"middle\", \"yref\": \"paper\"}], \"legend\": {\"orientation\": \"h\"}, \"shapes\": [{\"fillcolor\": \"orange\", \"layer\": \"below\", \"line\": {\"width\": 0.2}, \"opacity\": 1, \"type\": \"rect\", \"x0\": \"1998-01-01\", \"x1\": \"1999-01-26\", \"y0\": 0, \"y1\": 1, \"yref\": \"paper\"}, {\"fillcolor\": \"brown\", \"layer\": \"below\", \"line\": {\"width\": 0.2}, \"opacity\": 1, \"type\": \"rect\", \"x0\": \"1999-01-25\", \"x1\": \"1999-01-25\", \"y0\": 0, \"y1\": 1, \"yref\": \"paper\"}, {\"fillcolor\": \"darkturquoise\", \"layer\": \"below\", \"line\": {\"width\": 0.2}, \"opacity\": 1, \"type\": \"rect\", \"x0\": \"1999-01-10\", \"x1\": \"1999-05-19\", \"y0\": 0, \"y1\": 1, \"yref\": \"paper\"}, {\"fillcolor\": \"darkturquoise\", \"layer\": \"below\", \"line\": {\"width\": 0.2}, \"opacity\": 1, \"type\": \"rect\", \"x0\": \"1999-10-28\", \"x1\": \"1999-12-31\", \"y0\": 0, \"y1\": 1, \"yref\": \"paper\"}, {\"fillcolor\": \"darkturquoise\", \"layer\": \"below\", \"line\": {\"width\": 0.2}, \"opacity\": 1, \"type\": \"rect\", \"x0\": \"2000-05-18\", \"x1\": \"2000-05-24\", \"y0\": 0, \"y1\": 1, \"yref\": \"paper\"}, {\"fillcolor\": \"maroon\", \"layer\": \"below\", \"line\": {\"width\": 0.2}, \"opacity\": 1, \"type\": \"rect\", \"x0\": \"2001-08-01\", \"x1\": \"2001-08-01\", \"y0\": 0, \"y1\": 1, \"yref\": \"paper\"}, {\"fillcolor\": \"orange\", \"layer\": \"below\", \"line\": {\"width\": 0.2}, \"opacity\": 1, \"type\": \"rect\", \"x0\": \"2002-01-01\", \"x1\": \"2003-01-01\", \"y0\": 0, \"y1\": 1, \"yref\": \"paper\"}, {\"fillcolor\": \"darkturquoise\", \"layer\": \"below\", \"line\": {\"width\": 0.2}, \"opacity\": 1, \"type\": \"rect\", \"x0\": \"2002-04-24\", \"x1\": \"2002-04-29\", \"y0\": 0, \"y1\": 1, \"yref\": \"paper\"}, {\"fillcolor\": \"darkturquoise\", \"layer\": \"below\", \"line\": {\"width\": 0.2}, \"opacity\": 1, \"type\": \"rect\", \"x0\": \"2003-08-01\", \"x1\": \"2003-12-01\", \"y0\": 0, \"y1\": 1, \"yref\": \"paper\"}, {\"fillcolor\": \"darkturquoise\", \"layer\": \"below\", \"line\": {\"width\": 0.2}, \"opacity\": 1, \"type\": \"rect\", \"x0\": \"2004-01-01\", \"x1\": \"2004-06-28\", \"y0\": 0, \"y1\": 1, \"yref\": \"paper\"}, {\"fillcolor\": \"orange\", \"layer\": \"below\", \"line\": {\"width\": 0.2}, \"opacity\": 1, \"type\": \"rect\", \"x0\": \"2004-01-01\", \"x1\": \"2005-01-01\", \"y0\": 0, \"y1\": 1, \"yref\": \"paper\"}, {\"fillcolor\": \"darkturquoise\", \"layer\": \"below\", \"line\": {\"width\": 0.2}, \"opacity\": 1, \"type\": \"rect\", \"x0\": \"2005-04-12\", \"x1\": \"2005-05-07\", \"y0\": 0, \"y1\": 1, \"yref\": \"paper\"}, {\"fillcolor\": \"darkturquoise\", \"layer\": \"below\", \"line\": {\"width\": 0.2}, \"opacity\": 1, \"type\": \"rect\", \"x0\": \"2005-09-15\", \"x1\": \"2005-11-17\", \"y0\": 0, \"y1\": 1, \"yref\": \"paper\"}, {\"fillcolor\": \"darkturquoise\", \"layer\": \"below\", \"line\": {\"width\": 0.2}, \"opacity\": 1, \"type\": \"rect\", \"x0\": \"2006-01-01\", \"x1\": \"2006-04-27\", \"y0\": 0, \"y1\": 1, \"yref\": \"paper\"}, {\"fillcolor\": \"orange\", \"layer\": \"below\", \"line\": {\"width\": 0.2}, \"opacity\": 1, \"type\": \"rect\", \"x0\": \"2006-01-01\", \"x1\": \"2007-01-01\", \"y0\": 0, \"y1\": 1, \"yref\": \"paper\"}, {\"fillcolor\": \"darkturquoise\", \"layer\": \"below\", \"line\": {\"width\": 0.2}, \"opacity\": 1, \"type\": \"rect\", \"x0\": \"2007-10-20\", \"x1\": \"2007-10-26\", \"y0\": 0, \"y1\": 1, \"yref\": \"paper\"}, {\"fillcolor\": \"darkturquoise\", \"layer\": \"below\", \"line\": {\"width\": 0.2}, \"opacity\": 1, \"type\": \"rect\", \"x0\": \"2008-01-01\", \"x1\": \"2008-05-19\", \"y0\": 0, \"y1\": 1, \"yref\": \"paper\"}, {\"fillcolor\": \"darkturquoise\", \"layer\": \"below\", \"line\": {\"width\": 0.2}, \"opacity\": 1, \"type\": \"rect\", \"x0\": \"2008-11-16\", \"x1\": \"2009-01-12\", \"y0\": 0, \"y1\": 1, \"yref\": \"paper\"}, {\"fillcolor\": \"maroon\", \"layer\": \"below\", \"line\": {\"width\": 0.2}, \"opacity\": 1, \"type\": \"rect\", \"x0\": \"2010-01-01\", \"x1\": \"2010-04-06\", \"y0\": 0, \"y1\": 1, \"yref\": \"paper\"}, {\"fillcolor\": \"darkturquoise\", \"layer\": \"below\", \"line\": {\"width\": 0.2}, \"opacity\": 1, \"type\": \"rect\", \"x0\": \"2010-10-30\", \"x1\": \"2011-01-12\", \"y0\": 0, \"y1\": 1, \"yref\": \"paper\"}, {\"fillcolor\": \"darkturquoise\", \"layer\": \"below\", \"line\": {\"width\": 0.2}, \"opacity\": 1, \"type\": \"rect\", \"x0\": \"2011-02-10\", \"x1\": \"2011-06-05\", \"y0\": 0, \"y1\": 1, \"yref\": \"paper\"}, {\"fillcolor\": \"darkturquoise\", \"layer\": \"below\", \"line\": {\"width\": 0.2}, \"opacity\": 1, \"type\": \"rect\", \"x0\": \"2011-09-01\", \"x1\": \"2011-12-31\", \"y0\": 0, \"y1\": 1, \"yref\": \"paper\"}, {\"fillcolor\": \"darkturquoise\", \"layer\": \"below\", \"line\": {\"width\": 0.2}, \"opacity\": 1, \"type\": \"rect\", \"x0\": \"2012-03-15\", \"x1\": \"2012-05-14\", \"y0\": 0, \"y1\": 1, \"yref\": \"paper\"}, {\"fillcolor\": \"darkturquoise\", \"layer\": \"below\", \"line\": {\"width\": 0.2}, \"opacity\": 1, \"type\": \"rect\", \"x0\": \"2013-09-15\", \"x1\": \"2013-12-01\", \"y0\": 0, \"y1\": 1, \"yref\": \"paper\"}, {\"fillcolor\": \"brown\", \"layer\": \"below\", \"line\": {\"width\": 0.2}, \"opacity\": 1, \"type\": \"rect\", \"x0\": \"2013-02-09\", \"x1\": \"2013-02-09\", \"y0\": 0, \"y1\": 1, \"yref\": \"paper\"}, {\"fillcolor\": \"orange\", \"layer\": \"below\", \"line\": {\"width\": 0.2}, \"opacity\": 1, \"type\": \"rect\", \"x0\": \"2015-08-01\", \"x1\": \"2016-02-01\", \"y0\": 0, \"y1\": 1, \"yref\": \"paper\"}, {\"fillcolor\": \"grey\", \"layer\": \"below\", \"line\": {\"width\": 0.2}, \"opacity\": 1, \"type\": \"rect\", \"x0\": \"2016-09-20\", \"x1\": \"2016-09-23\", \"y0\": 0, \"y1\": 1, \"yref\": \"paper\"}, {\"fillcolor\": \"darkturquoise\", \"layer\": \"below\", \"line\": {\"width\": 0.2}, \"opacity\": 1, \"type\": \"rect\", \"x0\": \"2017-03-17\", \"x1\": \"2017-05-16\", \"y0\": 0, \"y1\": 1, \"yref\": \"paper\"}, {\"fillcolor\": \"darkturquoise\", \"layer\": \"below\", \"line\": {\"width\": 0.2}, \"opacity\": 1, \"type\": \"rect\", \"x0\": \"2017-12-01\", \"x1\": \"2018-01-07\", \"y0\": 0, \"y1\": 1, \"yref\": \"paper\"}, {\"fillcolor\": \"orange\", \"layer\": \"below\", \"line\": {\"width\": 0.2}, \"opacity\": 1, \"type\": \"rect\", \"x0\": \"2018-01-01\", \"x1\": \"2020-01-01\", \"y0\": 0, \"y1\": 1, \"yref\": \"paper\"}, {\"fillcolor\": \"darkturquoise\", \"layer\": \"below\", \"line\": {\"width\": 0.2}, \"opacity\": 1, \"type\": \"rect\", \"x0\": \"2019-02-20\", \"x1\": \"2019-02-26\", \"y0\": 0, \"y1\": 1, \"yref\": \"paper\"}, {\"fillcolor\": \"darkturquoise\", \"layer\": \"below\", \"line\": {\"width\": 0.2}, \"opacity\": 1, \"type\": \"rect\", \"x0\": \"2020-06-10\", \"x1\": \"2020-07-10\", \"y0\": 0, \"y1\": 1, \"yref\": \"paper\"}], \"template\": {\"data\": {\"bar\": [{\"error_x\": {\"color\": \"#2a3f5f\"}, \"error_y\": {\"color\": \"#2a3f5f\"}, \"marker\": {\"line\": {\"color\": \"#E5ECF6\", \"width\": 0.5}}, \"type\": \"bar\"}], \"barpolar\": [{\"marker\": {\"line\": {\"color\": \"#E5ECF6\", \"width\": 0.5}}, \"type\": \"barpolar\"}], \"carpet\": [{\"aaxis\": {\"endlinecolor\": \"#2a3f5f\", \"gridcolor\": \"white\", \"linecolor\": \"white\", \"minorgridcolor\": \"white\", \"startlinecolor\": \"#2a3f5f\"}, \"baxis\": {\"endlinecolor\": \"#2a3f5f\", \"gridcolor\": \"white\", \"linecolor\": \"white\", \"minorgridcolor\": \"white\", \"startlinecolor\": \"#2a3f5f\"}, \"type\": \"carpet\"}], \"choropleth\": [{\"colorbar\": {\"outlinewidth\": 0, \"ticks\": \"\"}, \"type\": \"choropleth\"}], \"contour\": [{\"colorbar\": {\"outlinewidth\": 0, \"ticks\": \"\"}, \"colorscale\": [[0.0, \"#0d0887\"], [0.1111111111111111, \"#46039f\"], [0.2222222222222222, \"#7201a8\"], [0.3333333333333333, \"#9c179e\"], [0.4444444444444444, \"#bd3786\"], [0.5555555555555556, \"#d8576b\"], [0.6666666666666666, \"#ed7953\"], [0.7777777777777778, \"#fb9f3a\"], [0.8888888888888888, \"#fdca26\"], [1.0, \"#f0f921\"]], \"type\": \"contour\"}], \"contourcarpet\": [{\"colorbar\": {\"outlinewidth\": 0, \"ticks\": \"\"}, \"type\": \"contourcarpet\"}], \"heatmap\": [{\"colorbar\": {\"outlinewidth\": 0, \"ticks\": \"\"}, \"colorscale\": [[0.0, \"#0d0887\"], [0.1111111111111111, \"#46039f\"], [0.2222222222222222, \"#7201a8\"], [0.3333333333333333, \"#9c179e\"], [0.4444444444444444, \"#bd3786\"], [0.5555555555555556, \"#d8576b\"], [0.6666666666666666, \"#ed7953\"], [0.7777777777777778, \"#fb9f3a\"], [0.8888888888888888, \"#fdca26\"], [1.0, \"#f0f921\"]], \"type\": \"heatmap\"}], \"heatmapgl\": [{\"colorbar\": {\"outlinewidth\": 0, \"ticks\": \"\"}, \"colorscale\": [[0.0, \"#0d0887\"], [0.1111111111111111, \"#46039f\"], [0.2222222222222222, \"#7201a8\"], [0.3333333333333333, \"#9c179e\"], [0.4444444444444444, \"#bd3786\"], [0.5555555555555556, \"#d8576b\"], [0.6666666666666666, \"#ed7953\"], [0.7777777777777778, \"#fb9f3a\"], [0.8888888888888888, \"#fdca26\"], [1.0, \"#f0f921\"]], \"type\": \"heatmapgl\"}], \"histogram\": [{\"marker\": {\"colorbar\": {\"outlinewidth\": 0, \"ticks\": \"\"}}, \"type\": \"histogram\"}], \"histogram2d\": [{\"colorbar\": {\"outlinewidth\": 0, \"ticks\": \"\"}, \"colorscale\": [[0.0, \"#0d0887\"], [0.1111111111111111, \"#46039f\"], [0.2222222222222222, \"#7201a8\"], [0.3333333333333333, \"#9c179e\"], [0.4444444444444444, \"#bd3786\"], [0.5555555555555556, \"#d8576b\"], [0.6666666666666666, \"#ed7953\"], [0.7777777777777778, \"#fb9f3a\"], [0.8888888888888888, \"#fdca26\"], [1.0, \"#f0f921\"]], \"type\": \"histogram2d\"}], \"histogram2dcontour\": [{\"colorbar\": {\"outlinewidth\": 0, \"ticks\": \"\"}, \"colorscale\": [[0.0, \"#0d0887\"], [0.1111111111111111, \"#46039f\"], [0.2222222222222222, \"#7201a8\"], [0.3333333333333333, \"#9c179e\"], [0.4444444444444444, \"#bd3786\"], [0.5555555555555556, \"#d8576b\"], [0.6666666666666666, \"#ed7953\"], [0.7777777777777778, \"#fb9f3a\"], [0.8888888888888888, \"#fdca26\"], [1.0, \"#f0f921\"]], \"type\": \"histogram2dcontour\"}], \"mesh3d\": [{\"colorbar\": {\"outlinewidth\": 0, \"ticks\": \"\"}, \"type\": \"mesh3d\"}], \"parcoords\": [{\"line\": {\"colorbar\": {\"outlinewidth\": 0, \"ticks\": \"\"}}, \"type\": \"parcoords\"}], \"pie\": [{\"automargin\": true, \"type\": \"pie\"}], \"scatter\": [{\"marker\": {\"colorbar\": {\"outlinewidth\": 0, \"ticks\": \"\"}}, \"type\": \"scatter\"}], \"scatter3d\": [{\"line\": {\"colorbar\": {\"outlinewidth\": 0, \"ticks\": \"\"}}, \"marker\": {\"colorbar\": {\"outlinewidth\": 0, \"ticks\": \"\"}}, \"type\": \"scatter3d\"}], \"scattercarpet\": [{\"marker\": {\"colorbar\": {\"outlinewidth\": 0, \"ticks\": \"\"}}, \"type\": \"scattercarpet\"}], \"scattergeo\": [{\"marker\": {\"colorbar\": {\"outlinewidth\": 0, \"ticks\": \"\"}}, \"type\": \"scattergeo\"}], \"scattergl\": [{\"marker\": {\"colorbar\": {\"outlinewidth\": 0, \"ticks\": \"\"}}, \"type\": \"scattergl\"}], \"scattermapbox\": [{\"marker\": {\"colorbar\": {\"outlinewidth\": 0, \"ticks\": \"\"}}, \"type\": \"scattermapbox\"}], \"scatterpolar\": [{\"marker\": {\"colorbar\": {\"outlinewidth\": 0, \"ticks\": \"\"}}, \"type\": \"scatterpolar\"}], \"scatterpolargl\": [{\"marker\": {\"colorbar\": {\"outlinewidth\": 0, \"ticks\": \"\"}}, \"type\": \"scatterpolargl\"}], \"scatterternary\": [{\"marker\": {\"colorbar\": {\"outlinewidth\": 0, \"ticks\": \"\"}}, \"type\": \"scatterternary\"}], \"surface\": [{\"colorbar\": {\"outlinewidth\": 0, \"ticks\": \"\"}, \"colorscale\": [[0.0, \"#0d0887\"], [0.1111111111111111, \"#46039f\"], [0.2222222222222222, \"#7201a8\"], [0.3333333333333333, \"#9c179e\"], [0.4444444444444444, \"#bd3786\"], [0.5555555555555556, \"#d8576b\"], [0.6666666666666666, \"#ed7953\"], [0.7777777777777778, \"#fb9f3a\"], [0.8888888888888888, \"#fdca26\"], [1.0, \"#f0f921\"]], \"type\": \"surface\"}], \"table\": [{\"cells\": {\"fill\": {\"color\": \"#EBF0F8\"}, \"line\": {\"color\": \"white\"}}, \"header\": {\"fill\": {\"color\": \"#C8D4E3\"}, \"line\": {\"color\": \"white\"}}, \"type\": \"table\"}]}, \"layout\": {\"annotationdefaults\": {\"arrowcolor\": \"#2a3f5f\", \"arrowhead\": 0, \"arrowwidth\": 1}, \"coloraxis\": {\"colorbar\": {\"outlinewidth\": 0, \"ticks\": \"\"}}, \"colorscale\": {\"diverging\": [[0, \"#8e0152\"], [0.1, \"#c51b7d\"], [0.2, \"#de77ae\"], [0.3, \"#f1b6da\"], [0.4, \"#fde0ef\"], [0.5, \"#f7f7f7\"], [0.6, \"#e6f5d0\"], [0.7, \"#b8e186\"], [0.8, \"#7fbc41\"], [0.9, \"#4d9221\"], [1, \"#276419\"]], \"sequential\": [[0.0, \"#0d0887\"], [0.1111111111111111, \"#46039f\"], [0.2222222222222222, \"#7201a8\"], [0.3333333333333333, \"#9c179e\"], [0.4444444444444444, \"#bd3786\"], [0.5555555555555556, \"#d8576b\"], [0.6666666666666666, \"#ed7953\"], [0.7777777777777778, \"#fb9f3a\"], [0.8888888888888888, \"#fdca26\"], [1.0, \"#f0f921\"]], \"sequentialminus\": [[0.0, \"#0d0887\"], [0.1111111111111111, \"#46039f\"], [0.2222222222222222, \"#7201a8\"], [0.3333333333333333, \"#9c179e\"], [0.4444444444444444, \"#bd3786\"], [0.5555555555555556, \"#d8576b\"], [0.6666666666666666, \"#ed7953\"], [0.7777777777777778, \"#fb9f3a\"], [0.8888888888888888, \"#fdca26\"], [1.0, \"#f0f921\"]]}, \"colorway\": [\"#636efa\", \"#EF553B\", \"#00cc96\", \"#ab63fa\", \"#FFA15A\", \"#19d3f3\", \"#FF6692\", \"#B6E880\", \"#FF97FF\", \"#FECB52\"], \"font\": {\"color\": \"#2a3f5f\"}, \"geo\": {\"bgcolor\": \"white\", \"lakecolor\": \"white\", \"landcolor\": \"#E5ECF6\", \"showlakes\": true, \"showland\": true, \"subunitcolor\": \"white\"}, \"hoverlabel\": {\"align\": \"left\"}, \"hovermode\": \"closest\", \"mapbox\": {\"style\": \"light\"}, \"paper_bgcolor\": \"white\", \"plot_bgcolor\": \"#E5ECF6\", \"polar\": {\"angularaxis\": {\"gridcolor\": \"white\", \"linecolor\": \"white\", \"ticks\": \"\"}, \"bgcolor\": \"#E5ECF6\", \"radialaxis\": {\"gridcolor\": \"white\", \"linecolor\": \"white\", \"ticks\": \"\"}}, \"scene\": {\"xaxis\": {\"backgroundcolor\": \"#E5ECF6\", \"gridcolor\": \"white\", \"gridwidth\": 2, \"linecolor\": \"white\", \"showbackground\": true, \"ticks\": \"\", \"zerolinecolor\": \"white\"}, \"yaxis\": {\"backgroundcolor\": \"#E5ECF6\", \"gridcolor\": \"white\", \"gridwidth\": 2, \"linecolor\": \"white\", \"showbackground\": true, \"ticks\": \"\", \"zerolinecolor\": \"white\"}, \"zaxis\": {\"backgroundcolor\": \"#E5ECF6\", \"gridcolor\": \"white\", \"gridwidth\": 2, \"linecolor\": \"white\", \"showbackground\": true, \"ticks\": \"\", \"zerolinecolor\": \"white\"}}, \"shapedefaults\": {\"line\": {\"color\": \"#2a3f5f\"}}, \"ternary\": {\"aaxis\": {\"gridcolor\": \"white\", \"linecolor\": \"white\", \"ticks\": \"\"}, \"baxis\": {\"gridcolor\": \"white\", \"linecolor\": \"white\", \"ticks\": \"\"}, \"bgcolor\": \"#E5ECF6\", \"caxis\": {\"gridcolor\": \"white\", \"linecolor\": \"white\", \"ticks\": \"\"}}, \"title\": {\"x\": 0.05}, \"xaxis\": {\"automargin\": true, \"gridcolor\": \"white\", \"linecolor\": \"white\", \"ticks\": \"\", \"title\": {\"standoff\": 15}, \"zerolinecolor\": \"white\", \"zerolinewidth\": 2}, \"yaxis\": {\"automargin\": true, \"gridcolor\": \"white\", \"linecolor\": \"white\", \"ticks\": \"\", \"title\": {\"standoff\": 15}, \"zerolinecolor\": \"white\", \"zerolinewidth\": 2}}}, \"title\": {\"text\": \"Dosquebradas\"}, \"xaxis\": {\"anchor\": \"y\", \"domain\": [0.0, 1.0], \"matches\": \"x3\", \"showticklabels\": false}, \"xaxis2\": {\"anchor\": \"y2\", \"domain\": [0.0, 1.0], \"matches\": \"x3\", \"showticklabels\": false}, \"xaxis3\": {\"anchor\": \"y3\", \"domain\": [0.0, 1.0]}, \"yaxis\": {\"anchor\": \"x\", \"domain\": [0.68, 1.0], \"fixedrange\": true}, \"yaxis2\": {\"anchor\": \"x2\", \"domain\": [0.34, 0.66], \"fixedrange\": true}, \"yaxis3\": {\"anchor\": \"x3\", \"domain\": [0.0, 0.32], \"fixedrange\": true}},                        {\"responsive\": true}                    ).then(function(){\n",
              "                            \n",
              "var gd = document.getElementById('2eb50972-6648-465e-a024-b69904ccc377');\n",
              "var x = new MutationObserver(function (mutations, observer) {{\n",
              "        var display = window.getComputedStyle(gd).display;\n",
              "        if (!display || display === 'none') {{\n",
              "            console.log([gd, 'removed!']);\n",
              "            Plotly.purge(gd);\n",
              "            observer.disconnect();\n",
              "        }}\n",
              "}});\n",
              "\n",
              "// Listen for the removal of the full notebook cells\n",
              "var notebookContainer = gd.closest('#notebook-container');\n",
              "if (notebookContainer) {{\n",
              "    x.observe(notebookContainer, {childList: true});\n",
              "}}\n",
              "\n",
              "// Listen for the clearing of the current output cell\n",
              "var outputEl = gd.closest('.output');\n",
              "if (outputEl) {{\n",
              "    x.observe(outputEl, {childList: true});\n",
              "}}\n",
              "\n",
              "                        })                };                            </script>        </div>\n",
              "</body>\n",
              "</html>"
            ]
          },
          "metadata": {
            "tags": []
          }
        }
      ]
    },
    {
      "cell_type": "markdown",
      "metadata": {
        "id": "S2ybqpnmT4HO"
      },
      "source": [
        "## Creating Interactive Time Series Visualisations for Each Farm\n"
      ]
    },
    {
      "cell_type": "code",
      "metadata": {
        "id": "iw9rBO4LUbxx"
      },
      "source": [
        "farm_list = [\n",
        "             'Dosquebradas_Central_N_Farm_C', \n",
        "             'Dosquebradas_Dos_Cosechas_C',\n",
        "             'Dosquebradas_Fincas_campesinas_C',\n",
        "             'Dosquebradas_La_Union_C',\n",
        "             'Dosquebradas_Las_Camillas_C',\n",
        "             'Dosquebradas_Minas_del_Socorro_C',\n",
        "             'Dosquebradas_NE_area_C',\n",
        "             'Dosquebradas_N_Farm_C',\n",
        "             'Dosquebradas_New_coffee_farm_C',\n",
        "             'Dosquebradas_Santa_Ana_Alto_C',\n",
        "             'Dosquebradas_Santa_Ana_Bajo_La_Union_C',\n",
        "             'Versailles_Barcelona',\n",
        "             'Versailles_El_Chalet',\n",
        "             'Versailles_Guyabel',\n",
        "             'Versailles_La_Primavera',\n",
        "             'Versailles_La_Rivera',\n",
        "             'Versailles_Miraflores',\n",
        "             'Versailles_Predio_Valery',\n",
        "             'Versailles_Roberto',\n",
        "             'Versailles_San_Fernando',\n",
        "             'Versailles_Villa_Emanuel'\n",
        "            ]"
      ],
      "execution_count": 11,
      "outputs": []
    },
    {
      "cell_type": "code",
      "metadata": {
        "id": "N3oVwDja-LBd"
      },
      "source": [
        "for farm in farm_list:\n",
        "    district_name = farm.partition('_')[0]\n",
        "    farm_name = farm.partition('_')[-1]\n",
        "\n",
        "    fig = plot_interactive_time_series(district_name, farm_name)\n",
        "\n",
        "    fig.write_html(f'/content/drive/Shared drives/Colombia SPRINT/Test Districts/{district_name}/Farms/Interactive Plots/{farm_name}_gradient.html')"
      ],
      "execution_count": 12,
      "outputs": []
    },
    {
      "cell_type": "markdown",
      "metadata": {
        "id": "0_gJj2lB5B1q"
      },
      "source": [
        "## Creating Static Plots for Each Farm By Year"
      ]
    },
    {
      "cell_type": "code",
      "metadata": {
        "id": "E1uoJC7x5fTp",
        "outputId": "69db4370-7d00-413d-f9f2-13793b594a7b",
        "colab": {
          "base_uri": "https://localhost:8080/",
          "height": 395
        }
      },
      "source": [
        "years = np.arange(2000, 2021)\n",
        "\n",
        "for farm in farm_list:\n",
        "    district_name = farm.partition('_')[0]\n",
        "    farm_name = farm.partition('_')[-1]\n",
        "\n",
        "    display(farm)\n",
        "    \n",
        "    fig = plot_interactive_time_series(district_name, farm_name)\n",
        "\n",
        "    for year in years:\n",
        "        fig.update_xaxes(\n",
        "                         range=[f'{year}-01-01',f'{year+1}-01-01'],  # sets the range of xaxis\n",
        "                         constrain=\"domain\",  # meanwhile compresses the xaxis by decreasing its \"domain\"\n",
        "                        )\n",
        "\n",
        "        filepath = f'/content/drive/Shared drives/Colombia SPRINT/Test Districts/{district_name}/Farms/Yearly Static Plots/{farm_name}/{farm_name}_{year}_gradient.png'\n",
        "\n",
        "        fig.write_image(filepath)"
      ],
      "execution_count": 14,
      "outputs": [
        {
          "output_type": "display_data",
          "data": {
            "application/vnd.google.colaboratory.intrinsic+json": {
              "type": "string"
            },
            "text/plain": [
              "'Dosquebradas_Central_N_Farm_C'"
            ]
          },
          "metadata": {
            "tags": []
          }
        },
        {
          "output_type": "display_data",
          "data": {
            "application/vnd.google.colaboratory.intrinsic+json": {
              "type": "string"
            },
            "text/plain": [
              "'Dosquebradas_Dos_Cosechas_C'"
            ]
          },
          "metadata": {
            "tags": []
          }
        },
        {
          "output_type": "display_data",
          "data": {
            "application/vnd.google.colaboratory.intrinsic+json": {
              "type": "string"
            },
            "text/plain": [
              "'Dosquebradas_Fincas_campesinas_C'"
            ]
          },
          "metadata": {
            "tags": []
          }
        },
        {
          "output_type": "display_data",
          "data": {
            "application/vnd.google.colaboratory.intrinsic+json": {
              "type": "string"
            },
            "text/plain": [
              "'Dosquebradas_La_Union_C'"
            ]
          },
          "metadata": {
            "tags": []
          }
        },
        {
          "output_type": "display_data",
          "data": {
            "application/vnd.google.colaboratory.intrinsic+json": {
              "type": "string"
            },
            "text/plain": [
              "'Dosquebradas_Las_Camillas_C'"
            ]
          },
          "metadata": {
            "tags": []
          }
        },
        {
          "output_type": "display_data",
          "data": {
            "application/vnd.google.colaboratory.intrinsic+json": {
              "type": "string"
            },
            "text/plain": [
              "'Dosquebradas_Minas_del_Socorro_C'"
            ]
          },
          "metadata": {
            "tags": []
          }
        },
        {
          "output_type": "display_data",
          "data": {
            "application/vnd.google.colaboratory.intrinsic+json": {
              "type": "string"
            },
            "text/plain": [
              "'Dosquebradas_NE_area_C'"
            ]
          },
          "metadata": {
            "tags": []
          }
        },
        {
          "output_type": "display_data",
          "data": {
            "application/vnd.google.colaboratory.intrinsic+json": {
              "type": "string"
            },
            "text/plain": [
              "'Dosquebradas_N_Farm_C'"
            ]
          },
          "metadata": {
            "tags": []
          }
        },
        {
          "output_type": "display_data",
          "data": {
            "application/vnd.google.colaboratory.intrinsic+json": {
              "type": "string"
            },
            "text/plain": [
              "'Dosquebradas_New_coffee_farm_C'"
            ]
          },
          "metadata": {
            "tags": []
          }
        },
        {
          "output_type": "display_data",
          "data": {
            "application/vnd.google.colaboratory.intrinsic+json": {
              "type": "string"
            },
            "text/plain": [
              "'Dosquebradas_Santa_Ana_Alto_C'"
            ]
          },
          "metadata": {
            "tags": []
          }
        },
        {
          "output_type": "display_data",
          "data": {
            "application/vnd.google.colaboratory.intrinsic+json": {
              "type": "string"
            },
            "text/plain": [
              "'Dosquebradas_Santa_Ana_Bajo_La_Union_C'"
            ]
          },
          "metadata": {
            "tags": []
          }
        },
        {
          "output_type": "display_data",
          "data": {
            "application/vnd.google.colaboratory.intrinsic+json": {
              "type": "string"
            },
            "text/plain": [
              "'Versailles_Barcelona'"
            ]
          },
          "metadata": {
            "tags": []
          }
        },
        {
          "output_type": "display_data",
          "data": {
            "application/vnd.google.colaboratory.intrinsic+json": {
              "type": "string"
            },
            "text/plain": [
              "'Versailles_El_Chalet'"
            ]
          },
          "metadata": {
            "tags": []
          }
        },
        {
          "output_type": "display_data",
          "data": {
            "application/vnd.google.colaboratory.intrinsic+json": {
              "type": "string"
            },
            "text/plain": [
              "'Versailles_Guyabel'"
            ]
          },
          "metadata": {
            "tags": []
          }
        },
        {
          "output_type": "display_data",
          "data": {
            "application/vnd.google.colaboratory.intrinsic+json": {
              "type": "string"
            },
            "text/plain": [
              "'Versailles_La_Primavera'"
            ]
          },
          "metadata": {
            "tags": []
          }
        },
        {
          "output_type": "display_data",
          "data": {
            "application/vnd.google.colaboratory.intrinsic+json": {
              "type": "string"
            },
            "text/plain": [
              "'Versailles_La_Rivera'"
            ]
          },
          "metadata": {
            "tags": []
          }
        },
        {
          "output_type": "display_data",
          "data": {
            "application/vnd.google.colaboratory.intrinsic+json": {
              "type": "string"
            },
            "text/plain": [
              "'Versailles_Miraflores'"
            ]
          },
          "metadata": {
            "tags": []
          }
        },
        {
          "output_type": "display_data",
          "data": {
            "application/vnd.google.colaboratory.intrinsic+json": {
              "type": "string"
            },
            "text/plain": [
              "'Versailles_Predio_Valery'"
            ]
          },
          "metadata": {
            "tags": []
          }
        },
        {
          "output_type": "display_data",
          "data": {
            "application/vnd.google.colaboratory.intrinsic+json": {
              "type": "string"
            },
            "text/plain": [
              "'Versailles_Roberto'"
            ]
          },
          "metadata": {
            "tags": []
          }
        },
        {
          "output_type": "display_data",
          "data": {
            "application/vnd.google.colaboratory.intrinsic+json": {
              "type": "string"
            },
            "text/plain": [
              "'Versailles_San_Fernando'"
            ]
          },
          "metadata": {
            "tags": []
          }
        },
        {
          "output_type": "display_data",
          "data": {
            "application/vnd.google.colaboratory.intrinsic+json": {
              "type": "string"
            },
            "text/plain": [
              "'Versailles_Villa_Emanuel'"
            ]
          },
          "metadata": {
            "tags": []
          }
        }
      ]
    }
  ]
}