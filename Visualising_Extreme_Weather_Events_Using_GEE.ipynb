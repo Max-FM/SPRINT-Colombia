{
  "nbformat": 4,
  "nbformat_minor": 0,
  "metadata": {
    "colab": {
      "name": "Visualising_Extreme_Weather_Events_Using_GEE.ipynb",
      "provenance": [],
      "mount_file_id": "1ciOku4CWQyNhworME6I_mugkQqFn_-35",
      "authorship_tag": "ABX9TyP64X5OnWfGMkRouCFUJU7r",
      "include_colab_link": true
    },
    "kernelspec": {
      "name": "python3",
      "display_name": "Python 3"
    }
  },
  "cells": [
    {
      "cell_type": "markdown",
      "metadata": {
        "id": "view-in-github",
        "colab_type": "text"
      },
      "source": [
        "<a href=\"https://colab.research.google.com/github/Max-FM/SPRINT-Colombia/blob/main/Visualising_Extreme_Weather_Events_Using_GEE.ipynb\" target=\"_parent\"><img src=\"https://colab.research.google.com/assets/colab-badge.svg\" alt=\"Open In Colab\"/></a>"
      ]
    },
    {
      "cell_type": "markdown",
      "metadata": {
        "id": "ruk4Ycv3XHvS"
      },
      "source": [
        "#Visualising Extreme Weather Events Using Google Earth Engine "
      ]
    },
    {
      "cell_type": "markdown",
      "metadata": {
        "id": "FkPRsp6S3WlQ"
      },
      "source": [
        "##Install required packages"
      ]
    },
    {
      "cell_type": "code",
      "metadata": {
        "id": "454blhwhof-f"
      },
      "source": [
        "%%capture\n",
        "\n",
        "!pip install geemap\n",
        "!pip install branca"
      ],
      "execution_count": 5,
      "outputs": []
    },
    {
      "cell_type": "markdown",
      "metadata": {
        "id": "68_R807C3qLZ"
      },
      "source": [
        "##Import required packages"
      ]
    },
    {
      "cell_type": "code",
      "metadata": {
        "id": "i9FdeMqVZCYU"
      },
      "source": [
        "import ee\n",
        "import folium\n",
        "import pandas as pd\n",
        "import branca.colormap as cm\n",
        "import geemap.eefolium as emap"
      ],
      "execution_count": 17,
      "outputs": []
    },
    {
      "cell_type": "markdown",
      "metadata": {
        "id": "tubT3goC3ua3"
      },
      "source": [
        "##Authenticate Google Earth Engine\n",
        "\n",
        "To access the Google Earth Engine API you require an account. To request access, go to [https://signup.earthengine.google.com](https://signup.earthengine.google.com/). You may have to wait up to a day or so to be granted access and it's possible you will not recieve any email communication. To manually check whether you have access, try to log into [https://code.earthengine.google.com](https://code.earthengine.google.com/), or attempt to run the next cell and follow the instructions provided in the output cell."
      ]
    },
    {
      "cell_type": "code",
      "metadata": {
        "id": "F-uLIrdLZRoc",
        "outputId": "b1514b69-c3b8-41f2-d0a7-d3f8fb4a9bd5",
        "colab": {
          "base_uri": "https://localhost:8080/"
        }
      },
      "source": [
        "# Trigger the authentication flow.\n",
        "ee.Authenticate()\n",
        "\n",
        "# Initialize the library.\n",
        "ee.Initialize()"
      ],
      "execution_count": 7,
      "outputs": [
        {
          "output_type": "stream",
          "text": [
            "To authorize access needed by Earth Engine, open the following URL in a web browser and follow the instructions. If the web browser does not start automatically, please manually browse the URL below.\n",
            "\n",
            "    https://accounts.google.com/o/oauth2/auth?client_id=517222506229-vsmmajv00ul0bs7p89v5m89qs8eb9359.apps.googleusercontent.com&scope=https%3A%2F%2Fwww.googleapis.com%2Fauth%2Fearthengine+https%3A%2F%2Fwww.googleapis.com%2Fauth%2Fdevstorage.full_control&redirect_uri=urn%3Aietf%3Awg%3Aoauth%3A2.0%3Aoob&response_type=code&code_challenge=8HrHNzU62glwR_PoVsS9152pjrAQuvDh869howD0xGo&code_challenge_method=S256\n",
            "\n",
            "The authorization workflow will generate a code, which you should paste in the box below. \n",
            "Enter verification code: 4/5wEdb9ukzQeN9JHmzk4qpQBmQ933Ec7fL9iUUbXE2qJSxvfTiTu05l8\n",
            "\n",
            "Successfully saved authorization token.\n"
          ],
          "name": "stdout"
        }
      ]
    },
    {
      "cell_type": "markdown",
      "metadata": {
        "id": "WGrgSnJuXmk6"
      },
      "source": [
        "##Define Request Function"
      ]
    },
    {
      "cell_type": "code",
      "metadata": {
        "id": "iDmWaq6BXybF"
      },
      "source": [
        "def obtain_data(region, start_date, end_date, months_either_side=0, max_cloud_cover=80):\n",
        "    start_date = ee.Date(start_date)\n",
        "    start_date = start_date.advance(-months_either_side, 'month')\n",
        "\n",
        "    end_date = ee.Date(end_date)\n",
        "    end_date = end_date.advance(months_either_side, 'month')\n",
        "    \n",
        "    # Filter input collections by desired date range, region and cloud coverage.\n",
        "    criteria  = ee.Filter.And(ee.Filter.geometry(region), \n",
        "                              ee.Filter.date(start_date, end_date))\n",
        "    \n",
        "    Sentinel_2_SR = ee.ImageCollection('COPERNICUS/S2_SR') \\\n",
        "                      .filter(criteria) \\\n",
        "                      .filter(ee.Filter.lt('CLOUDY_PIXEL_PERCENTAGE', max_cloud_cover)) \\\n",
        "                      .select(['B4', 'B3', 'B2', 'B8'])\n",
        "\n",
        "    Landsat_8_T1_SR = ee.ImageCollection(\"LANDSAT/LC08/C01/T1_SR\") \\\n",
        "                        .filter(criteria) \\\n",
        "                        .filter(ee.Filter.lt('CLOUD_COVER', max_cloud_cover)) \\\n",
        "                        .select(['B4', 'B3', 'B2', 'B5'])\n",
        "\n",
        "    Landsat_7_T1_SR = ee.ImageCollection(\"LANDSAT/LE07/C01/T1_SR\") \\\n",
        "                        .filter(criteria) \\\n",
        "                        .filter(ee.Filter.lt('CLOUD_COVER', max_cloud_cover)) \\\n",
        "                        .select(['B3', 'B2', 'B1', 'B4'])\n",
        "\n",
        "    Landsat_5_T1_SR = ee.ImageCollection(\"LANDSAT/LT05/C01/T1_SR\") \\\n",
        "                        .filter(criteria) \\\n",
        "                        .filter(ee.Filter.lt('CLOUD_COVER', max_cloud_cover)) \\\n",
        "                        .select(['B3', 'B2', 'B1', 'B4'])\n",
        "\n",
        "    MODIS_16D_NDVI = ee.ImageCollection(\"MODIS/006/MOD13Q1\") \\\n",
        "                       .filter(criteria) \\\n",
        "                       .select('NDVI')\n",
        "\n",
        "    image_collections = {'Sentinel_2_SR': Sentinel_2_SR,\n",
        "                         'Landsat_8_T1_SR': Landsat_8_T1_SR,\n",
        "                         'Landsat_7_T1_SR': Landsat_7_T1_SR,\n",
        "                         'Landsat_5_T1_SR': Landsat_5_T1_SR,\n",
        "                         'MODIS_16D_NDVI': MODIS_16D_NDVI}\n",
        "\n",
        "    return image_collections"
      ],
      "execution_count": 8,
      "outputs": []
    },
    {
      "cell_type": "markdown",
      "metadata": {
        "id": "euNNcpD3m56Y"
      },
      "source": [
        "## Importing Table of Disaster Dates"
      ]
    },
    {
      "cell_type": "code",
      "metadata": {
        "id": "NfFQ1PA_Atsl",
        "outputId": "8696023b-227f-44e1-dd93-5eb4f607bd1b",
        "colab": {
          "base_uri": "https://localhost:8080/",
          "height": 1000
        }
      },
      "source": [
        "disaster_dates = pd.read_csv('/content/drive/Shared drives/Colombia SPRINT/Test Districts/disaster_dates.csv', index_col=0)\n",
        "\n",
        "disaster_dates"
      ],
      "execution_count": 18,
      "outputs": [
        {
          "output_type": "execute_result",
          "data": {
            "text/html": [
              "<div>\n",
              "<style scoped>\n",
              "    .dataframe tbody tr th:only-of-type {\n",
              "        vertical-align: middle;\n",
              "    }\n",
              "\n",
              "    .dataframe tbody tr th {\n",
              "        vertical-align: top;\n",
              "    }\n",
              "\n",
              "    .dataframe thead th {\n",
              "        text-align: right;\n",
              "    }\n",
              "</style>\n",
              "<table border=\"1\" class=\"dataframe\">\n",
              "  <thead>\n",
              "    <tr style=\"text-align: right;\">\n",
              "      <th></th>\n",
              "      <th>Disaster</th>\n",
              "      <th>Start_Datetime</th>\n",
              "      <th>End_Datetime</th>\n",
              "    </tr>\n",
              "  </thead>\n",
              "  <tbody>\n",
              "    <tr>\n",
              "      <th>0</th>\n",
              "      <td>Drought</td>\n",
              "      <td>1998-01-01</td>\n",
              "      <td>1999-01-01</td>\n",
              "    </tr>\n",
              "    <tr>\n",
              "      <th>1</th>\n",
              "      <td>Flood</td>\n",
              "      <td>1999-01-10</td>\n",
              "      <td>1999-05-19</td>\n",
              "    </tr>\n",
              "    <tr>\n",
              "      <th>2</th>\n",
              "      <td>Earthquake</td>\n",
              "      <td>1999-01-25</td>\n",
              "      <td>1999-01-26</td>\n",
              "    </tr>\n",
              "    <tr>\n",
              "      <th>3</th>\n",
              "      <td>Flood</td>\n",
              "      <td>1999-10-28</td>\n",
              "      <td>1999-12-31</td>\n",
              "    </tr>\n",
              "    <tr>\n",
              "      <th>4</th>\n",
              "      <td>Flood</td>\n",
              "      <td>2000-05-18</td>\n",
              "      <td>2000-05-24</td>\n",
              "    </tr>\n",
              "    <tr>\n",
              "      <th>5</th>\n",
              "      <td>Wildfire</td>\n",
              "      <td>2001-08-01</td>\n",
              "      <td>2001-09-01</td>\n",
              "    </tr>\n",
              "    <tr>\n",
              "      <th>6</th>\n",
              "      <td>Drought</td>\n",
              "      <td>2002-01-01</td>\n",
              "      <td>2003-01-01</td>\n",
              "    </tr>\n",
              "    <tr>\n",
              "      <th>7</th>\n",
              "      <td>Flood</td>\n",
              "      <td>2002-04-24</td>\n",
              "      <td>2002-04-29</td>\n",
              "    </tr>\n",
              "    <tr>\n",
              "      <th>8</th>\n",
              "      <td>Flood</td>\n",
              "      <td>2003-08-01</td>\n",
              "      <td>2003-12-01</td>\n",
              "    </tr>\n",
              "    <tr>\n",
              "      <th>9</th>\n",
              "      <td>Flood</td>\n",
              "      <td>2004-01-01</td>\n",
              "      <td>2004-06-28</td>\n",
              "    </tr>\n",
              "    <tr>\n",
              "      <th>10</th>\n",
              "      <td>Drought</td>\n",
              "      <td>2004-01-01</td>\n",
              "      <td>2005-01-01</td>\n",
              "    </tr>\n",
              "    <tr>\n",
              "      <th>11</th>\n",
              "      <td>Flood</td>\n",
              "      <td>2005-04-12</td>\n",
              "      <td>2005-05-07</td>\n",
              "    </tr>\n",
              "    <tr>\n",
              "      <th>12</th>\n",
              "      <td>Flood</td>\n",
              "      <td>2005-09-15</td>\n",
              "      <td>2005-11-17</td>\n",
              "    </tr>\n",
              "    <tr>\n",
              "      <th>13</th>\n",
              "      <td>Flood</td>\n",
              "      <td>2006-01-01</td>\n",
              "      <td>2006-04-27</td>\n",
              "    </tr>\n",
              "    <tr>\n",
              "      <th>14</th>\n",
              "      <td>Drought</td>\n",
              "      <td>2006-01-01</td>\n",
              "      <td>2007-01-01</td>\n",
              "    </tr>\n",
              "    <tr>\n",
              "      <th>15</th>\n",
              "      <td>Flood</td>\n",
              "      <td>2007-10-20</td>\n",
              "      <td>2007-10-26</td>\n",
              "    </tr>\n",
              "    <tr>\n",
              "      <th>16</th>\n",
              "      <td>Flood</td>\n",
              "      <td>2008-01-01</td>\n",
              "      <td>2008-05-19</td>\n",
              "    </tr>\n",
              "    <tr>\n",
              "      <th>17</th>\n",
              "      <td>Flood</td>\n",
              "      <td>2008-11-16</td>\n",
              "      <td>2009-01-12</td>\n",
              "    </tr>\n",
              "    <tr>\n",
              "      <th>18</th>\n",
              "      <td>Drought</td>\n",
              "      <td>2009-01-01</td>\n",
              "      <td>2010-01-01</td>\n",
              "    </tr>\n",
              "    <tr>\n",
              "      <th>19</th>\n",
              "      <td>Wildfire</td>\n",
              "      <td>2010-01-01</td>\n",
              "      <td>2010-04-06</td>\n",
              "    </tr>\n",
              "    <tr>\n",
              "      <th>20</th>\n",
              "      <td>Flood</td>\n",
              "      <td>2010-10-30</td>\n",
              "      <td>2011-01-12</td>\n",
              "    </tr>\n",
              "    <tr>\n",
              "      <th>21</th>\n",
              "      <td>Flood</td>\n",
              "      <td>2011-02-10</td>\n",
              "      <td>2011-06-05</td>\n",
              "    </tr>\n",
              "    <tr>\n",
              "      <th>22</th>\n",
              "      <td>Flood</td>\n",
              "      <td>2011-09-01</td>\n",
              "      <td>2011-12-31</td>\n",
              "    </tr>\n",
              "    <tr>\n",
              "      <th>23</th>\n",
              "      <td>Flood</td>\n",
              "      <td>2012-03-15</td>\n",
              "      <td>2012-05-14</td>\n",
              "    </tr>\n",
              "    <tr>\n",
              "      <th>24</th>\n",
              "      <td>Earthquake</td>\n",
              "      <td>2013-02-09</td>\n",
              "      <td>2013-02-09</td>\n",
              "    </tr>\n",
              "    <tr>\n",
              "      <th>25</th>\n",
              "      <td>Flood</td>\n",
              "      <td>2013-09-15</td>\n",
              "      <td>2013-12-01</td>\n",
              "    </tr>\n",
              "    <tr>\n",
              "      <th>26</th>\n",
              "      <td>Drought</td>\n",
              "      <td>2015-08-01</td>\n",
              "      <td>2016-02-01</td>\n",
              "    </tr>\n",
              "    <tr>\n",
              "      <th>27</th>\n",
              "      <td>Storm</td>\n",
              "      <td>2016-09-20</td>\n",
              "      <td>2016-09-23</td>\n",
              "    </tr>\n",
              "    <tr>\n",
              "      <th>28</th>\n",
              "      <td>Flood</td>\n",
              "      <td>2017-03-17</td>\n",
              "      <td>2017-05-16</td>\n",
              "    </tr>\n",
              "    <tr>\n",
              "      <th>29</th>\n",
              "      <td>Flood</td>\n",
              "      <td>2017-12-01</td>\n",
              "      <td>2018-01-07</td>\n",
              "    </tr>\n",
              "    <tr>\n",
              "      <th>30</th>\n",
              "      <td>Drought</td>\n",
              "      <td>2018-01-01</td>\n",
              "      <td>2020-01-01</td>\n",
              "    </tr>\n",
              "    <tr>\n",
              "      <th>31</th>\n",
              "      <td>Flood</td>\n",
              "      <td>2019-02-20</td>\n",
              "      <td>2019-02-26</td>\n",
              "    </tr>\n",
              "    <tr>\n",
              "      <th>32</th>\n",
              "      <td>Flood</td>\n",
              "      <td>2020-06-10</td>\n",
              "      <td>2020-07-10</td>\n",
              "    </tr>\n",
              "  </tbody>\n",
              "</table>\n",
              "</div>"
            ],
            "text/plain": [
              "      Disaster Start_Datetime End_Datetime\n",
              "0      Drought     1998-01-01   1999-01-01\n",
              "1        Flood     1999-01-10   1999-05-19\n",
              "2   Earthquake     1999-01-25   1999-01-26\n",
              "3        Flood     1999-10-28   1999-12-31\n",
              "4        Flood     2000-05-18   2000-05-24\n",
              "5     Wildfire     2001-08-01   2001-09-01\n",
              "6      Drought     2002-01-01   2003-01-01\n",
              "7        Flood     2002-04-24   2002-04-29\n",
              "8        Flood     2003-08-01   2003-12-01\n",
              "9        Flood     2004-01-01   2004-06-28\n",
              "10     Drought     2004-01-01   2005-01-01\n",
              "11       Flood     2005-04-12   2005-05-07\n",
              "12       Flood     2005-09-15   2005-11-17\n",
              "13       Flood     2006-01-01   2006-04-27\n",
              "14     Drought     2006-01-01   2007-01-01\n",
              "15       Flood     2007-10-20   2007-10-26\n",
              "16       Flood     2008-01-01   2008-05-19\n",
              "17       Flood     2008-11-16   2009-01-12\n",
              "18     Drought     2009-01-01   2010-01-01\n",
              "19    Wildfire     2010-01-01   2010-04-06\n",
              "20       Flood     2010-10-30   2011-01-12\n",
              "21       Flood     2011-02-10   2011-06-05\n",
              "22       Flood     2011-09-01   2011-12-31\n",
              "23       Flood     2012-03-15   2012-05-14\n",
              "24  Earthquake     2013-02-09   2013-02-09\n",
              "25       Flood     2013-09-15   2013-12-01\n",
              "26     Drought     2015-08-01   2016-02-01\n",
              "27       Storm     2016-09-20   2016-09-23\n",
              "28       Flood     2017-03-17   2017-05-16\n",
              "29       Flood     2017-12-01   2018-01-07\n",
              "30     Drought     2018-01-01   2020-01-01\n",
              "31       Flood     2019-02-20   2019-02-26\n",
              "32       Flood     2020-06-10   2020-07-10"
            ]
          },
          "metadata": {
            "tags": []
          },
          "execution_count": 18
        }
      ]
    },
    {
      "cell_type": "markdown",
      "metadata": {
        "id": "heXTfEEOEmZ0"
      },
      "source": [
        "##Visualise Imaging for All Events"
      ]
    },
    {
      "cell_type": "code",
      "metadata": {
        "id": "Db98zNMvD3B2"
      },
      "source": [
        "test_districts = {'Dosquebradas': ee.FeatureCollection('users/maxfoxley-marrable/SPRINT/Dosquebradas'),\n",
        "                  'Versailles': ee.FeatureCollection('users/maxfoxley-marrable/SPRINT/Versailles')}\n",
        "\n",
        "scale_dict = {'Sentinel_2_SR': 10,\n",
        "              'Sentinel_1_SAR_GRD_C_BAND': 10,\n",
        "              'Landsat_8_T1_SR': 30,\n",
        "              'Landsat_7_T1_SR': 30,\n",
        "              'Landsat_5_T1_SR': 30,\n",
        "              'MODIS_16D_NDVI': 250}\n",
        "\n",
        "bands_dict = {'Sentinel_2_SR': ['B4', 'B3', 'B2'], \n",
        "              'Landsat_8_T1_SR': ['B4', 'B3', 'B2'],\n",
        "              'Landsat_7_T1_SR': ['B3', 'B2', 'B1'],\n",
        "              'Landsat_5_T1_SR': ['B3', 'B2', 'B1'],\n",
        "              'MODIS_16D_NDVI': 'NDVI'} "
      ],
      "execution_count": 25,
      "outputs": []
    },
    {
      "cell_type": "markdown",
      "metadata": {
        "id": "IuLZwA9ksKy3"
      },
      "source": [
        "##Testing the Code for the Latest Event"
      ]
    },
    {
      "cell_type": "code",
      "metadata": {
        "id": "Wjo_oZPtsH0L",
        "outputId": "b2c080bf-4113-43c8-b1e9-407cca69e50d",
        "colab": {
          "base_uri": "https://localhost:8080/",
          "height": 781
        }
      },
      "source": [
        "districts = ee.Geometry.Rectangle([[-75.63431636299883,4.546918365359551],\n",
        "                                   [-76.23856440987383,4.905496619857987]])\n",
        "\n",
        "desired_collections = None\n",
        "\n",
        "disaster = disaster_dates.iloc[19]\n",
        "\n",
        "disaster_type = disaster['Disaster']\n",
        "start_date = disaster['Start_Datetime']\n",
        "end_date = disaster['End_Datetime']\n",
        "\n",
        "display(f'{disaster_type}: {start_date} - {end_date}')\n",
        "\n",
        "Map = emap.Map()\n",
        "Map.center_object(districts, zoom=11)\n",
        "\n",
        "image_collections = obtain_data(districts, \n",
        "                                start_date, \n",
        "                                end_date,\n",
        "                                months_either_side=2,\n",
        "                                max_cloud_cover=80)\n",
        "\n",
        "if disaster_type == 'Drought':\n",
        "    # Probably only want MODIS 16D imagery for El Nino droughts.\n",
        "    image_collections = {'MODIS_16D_NDVI': image_collections['MODIS_16D_NDVI']}\n",
        "        \n",
        "# Filters out unwanted collections if defined above.\n",
        "elif desired_collections:\n",
        "    image_collections = {collection: image_collections[collection] \\\n",
        "                            for collection in desired_collections} \n",
        "\n",
        "for collection_name, collection in image_collections.items():\n",
        "\n",
        "    if collection.size().getInfo() == 0:\n",
        "        continue\n",
        "\n",
        "    collectionList = collection.toList(collection.size())\n",
        "    collectionSize = collectionList.size().getInfo()\n",
        "    \n",
        "    if collection_name == 'MODIS_16D_NDVI':\n",
        "        vis_params = {'min': 0,\n",
        "                        'max': 8000,\n",
        "                        'palette': ['FFFFFF', 'CE7E45', 'DF923D', 'F1B555', 'FCD163', '99B718', '74A901',\n",
        "                                    '66A000', '529400', '3E8601', '207401', '056201', '004C00', '023B01',\n",
        "                                    '012E01', '011D01', '011301']}\n",
        "    else:\n",
        "        vis_params = {'min': 0, 'max': 3000, 'bands': bands_dict[collection_name]}\n",
        "\n",
        "    for i in range(collectionSize):\n",
        "        image = ee.Image(collectionList.get(i))\n",
        "        time = ee.Date(image.get('system:time_start')).format('YYYY-MM-dd').getInfo()\n",
        "        Map.addLayer(image, name=f'{collection_name} ({time})', vis_params=vis_params, shown=False)\n",
        "\n",
        "Map.addLayer(test_districts['Dosquebradas'], name='Dosquebradas', vis_params={'color':'red'})\n",
        "Map.addLayer(test_districts['Versailles'], name='Versailles', vis_params={'color':'red'})\n",
        "Map.add_layer_control()\n",
        "\n",
        "colours = ['#FFFFFF', '#CE7E45', '#DF923D', '#F1B555', '#FCD163', '#99B718', \n",
        "            '#74A901', '#66A000', '#529400', '#3E8601', '#207401', '#056201', \n",
        "            '#004C00', '#023B01', '#012E01', '#011D01', '#011301']\n",
        "\n",
        "colourbar = cm.LinearColormap(colours, vmin=0, vmax=0.8, caption='NDVI')\n",
        "Map.add_child(colourbar, name='NDVI')\n",
        "\n",
        "display(Map)"
      ],
      "execution_count": 26,
      "outputs": [
        {
          "output_type": "display_data",
          "data": {
            "application/vnd.google.colaboratory.intrinsic+json": {
              "type": "string"
            },
            "text/plain": [
              "'Wildfire: 2010-01-01 - 2010-04-06'"
            ]
          },
          "metadata": {
            "tags": []
          }
        },
        {
          "output_type": "display_data",
          "data": {
            "text/html": [
              "<div style=\"width:100%;\"><div style=\"position:relative;width:100%;height:0;padding-bottom:60%;\"><span style=\"color:#565656\">Make this Notebook Trusted to load map: File -> Trust Notebook</span><iframe src=\"about:blank\" style=\"position:absolute;width:100%;height:100%;left:0;top:0;border:none !important;\" data-html=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 onload=\"this.contentDocument.open();this.contentDocument.write(atob(this.getAttribute('data-html')));this.contentDocument.close();\" allowfullscreen webkitallowfullscreen mozallowfullscreen></iframe></div></div>"
            ],
            "text/plain": [
              "<geemap.eefolium.Map at 0x7f688dc22128>"
            ]
          },
          "metadata": {
            "tags": []
          }
        }
      ]
    },
    {
      "cell_type": "markdown",
      "metadata": {
        "id": "Sn1fWNS2J0aV"
      },
      "source": [
        "## Creating and Exporting Interactive Maps for Chosen Weather Events\n",
        "\n",
        "Exported interactive maps unfortunately expire after few days, this is due to an authentication issue with Google Earth Engine. This requires fixing for the interactive maps to work permenantley."
      ]
    },
    {
      "cell_type": "code",
      "metadata": {
        "id": "RFbSaJW73lFM",
        "outputId": "629bfaa9-39b0-4fd0-e81c-2116496a63f1",
        "colab": {
          "base_uri": "https://localhost:8080/",
          "height": 611
        }
      },
      "source": [
        "from IPython.display import Javascript\n",
        "display(Javascript('''google.colab.output.setIframeHeight(0, true, {maxHeight: 20000})'''))\n",
        "\n",
        "districts = ee.Geometry.Rectangle([[-75.63431636299883,4.546918365359551],\n",
        "                                   [-76.23856440987383,4.905496619857987]])\n",
        "\n",
        "desired_collections = None\n",
        "\n",
        "for index, disaster in disaster_dates.iterrows():\n",
        "\n",
        "    disaster_type = disaster['Disaster']\n",
        "    start_date = disaster['Start_Datetime']\n",
        "    end_date = disaster['End_Datetime']\n",
        "\n",
        "    display(f'{disaster_type}: {start_date} - {end_date}')\n",
        "\n",
        "    Map = emap.Map()\n",
        "    Map.center_object(districts, zoom=11)\n",
        "\n",
        "    image_collections = obtain_data(districts, \n",
        "                                    start_date, \n",
        "                                    end_date,\n",
        "                                    months_either_side=2,\n",
        "                                    max_cloud_cover=80)\n",
        "    \n",
        "    if disaster_type == 'Drought':\n",
        "        # Probably only want MODIS 16D imagery for El Nino droughts.\n",
        "        image_collections = {'MODIS_16D_NDVI': image_collections['MODIS_16D_NDVI']}\n",
        "        \n",
        "    # Filters out unwanted collections if defined above.\n",
        "    elif desired_collections:\n",
        "        image_collections = {collection: image_collections[collection] \\\n",
        "                                for collection in desired_collections} \n",
        "\n",
        "    for collection_name, collection in image_collections.items():\n",
        "\n",
        "        if collection.size().getInfo() == 0:\n",
        "            continue\n",
        "\n",
        "        collectionList = collection.toList(collection.size())\n",
        "        collectionSize = collectionList.size().getInfo()\n",
        "        \n",
        "        if collection_name == 'MODIS_16D_NDVI':\n",
        "            vis_params = {'min': 0,\n",
        "                          'max': 8000,\n",
        "                          'palette': ['FFFFFF', 'CE7E45', 'DF923D', 'F1B555', 'FCD163', '99B718', '74A901',\n",
        "                                      '66A000', '529400', '3E8601', '207401', '056201', '004C00', '023B01',\n",
        "                                      '012E01', '011D01', '011301']}\n",
        "        else:\n",
        "            vis_params = {'min': 0, 'max': 3000, 'bands': bands_dict[collection_name]}\n",
        "\n",
        "        for i in range(collectionSize):\n",
        "            image = ee.Image(collectionList.get(i))\n",
        "            time = ee.Date(image.get('system:time_start')).format('YYYY-MM-dd').getInfo()\n",
        "            Map.addLayer(image, name=f'{collection_name} ({time})', vis_params=vis_params, shown=False)\n",
        "\n",
        "    Map.addLayer(test_districts['Dosquebradas'], name='Dosquebradas', vis_params={'color':'red'})\n",
        "    Map.addLayer(test_districts['Versailles'], name='Versailles', vis_params={'color':'red'})\n",
        "    Map.add_layer_control()\n",
        "\n",
        "    colours = ['#FFFFFF', '#CE7E45', '#DF923D', '#F1B555', '#FCD163', '#99B718', \n",
        "               '#74A901', '#66A000', '#529400', '#3E8601', '#207401', '#056201', \n",
        "               '#004C00', '#023B01', '#012E01', '#011D01', '#011301']\n",
        "\n",
        "    colourbar = cm.LinearColormap(colours, vmin=0, vmax=0.8, caption='NDVI')\n",
        "    Map.add_child(colourbar, name='NDVI')\n",
        "\n",
        "    # display(Map)\n",
        "    \n",
        "    Map.save(f'/content/drive/Shared drives/Colombia SPRINT/Test Districts/Interactive Maps/{disaster_type}_{start_date}_{end_date}.html')"
      ],
      "execution_count": 29,
      "outputs": [
        {
          "output_type": "display_data",
          "data": {
            "application/javascript": [
              "google.colab.output.setIframeHeight(0, true, {maxHeight: 20000})"
            ],
            "text/plain": [
              "<IPython.core.display.Javascript object>"
            ]
          },
          "metadata": {
            "tags": []
          }
        },
        {
          "output_type": "display_data",
          "data": {
            "application/vnd.google.colaboratory.intrinsic+json": {
              "type": "string"
            },
            "text/plain": [
              "'Drought: 1998-01-01 - 1999-01-01'"
            ]
          },
          "metadata": {
            "tags": []
          }
        },
        {
          "output_type": "display_data",
          "data": {
            "application/vnd.google.colaboratory.intrinsic+json": {
              "type": "string"
            },
            "text/plain": [
              "'Flood: 1999-01-10 - 1999-05-19'"
            ]
          },
          "metadata": {
            "tags": []
          }
        },
        {
          "output_type": "display_data",
          "data": {
            "application/vnd.google.colaboratory.intrinsic+json": {
              "type": "string"
            },
            "text/plain": [
              "'Earthquake: 1999-01-25 - 1999-01-26'"
            ]
          },
          "metadata": {
            "tags": []
          }
        },
        {
          "output_type": "display_data",
          "data": {
            "application/vnd.google.colaboratory.intrinsic+json": {
              "type": "string"
            },
            "text/plain": [
              "'Flood: 1999-10-28 - 1999-12-31'"
            ]
          },
          "metadata": {
            "tags": []
          }
        },
        {
          "output_type": "display_data",
          "data": {
            "application/vnd.google.colaboratory.intrinsic+json": {
              "type": "string"
            },
            "text/plain": [
              "'Flood: 2000-05-18 - 2000-05-24'"
            ]
          },
          "metadata": {
            "tags": []
          }
        },
        {
          "output_type": "display_data",
          "data": {
            "application/vnd.google.colaboratory.intrinsic+json": {
              "type": "string"
            },
            "text/plain": [
              "'Wildfire: 2001-08-01 - 2001-09-01'"
            ]
          },
          "metadata": {
            "tags": []
          }
        },
        {
          "output_type": "display_data",
          "data": {
            "application/vnd.google.colaboratory.intrinsic+json": {
              "type": "string"
            },
            "text/plain": [
              "'Drought: 2002-01-01 - 2003-01-01'"
            ]
          },
          "metadata": {
            "tags": []
          }
        },
        {
          "output_type": "display_data",
          "data": {
            "application/vnd.google.colaboratory.intrinsic+json": {
              "type": "string"
            },
            "text/plain": [
              "'Flood: 2002-04-24 - 2002-04-29'"
            ]
          },
          "metadata": {
            "tags": []
          }
        },
        {
          "output_type": "display_data",
          "data": {
            "application/vnd.google.colaboratory.intrinsic+json": {
              "type": "string"
            },
            "text/plain": [
              "'Flood: 2003-08-01 - 2003-12-01'"
            ]
          },
          "metadata": {
            "tags": []
          }
        },
        {
          "output_type": "display_data",
          "data": {
            "application/vnd.google.colaboratory.intrinsic+json": {
              "type": "string"
            },
            "text/plain": [
              "'Flood: 2004-01-01 - 2004-06-28'"
            ]
          },
          "metadata": {
            "tags": []
          }
        },
        {
          "output_type": "display_data",
          "data": {
            "application/vnd.google.colaboratory.intrinsic+json": {
              "type": "string"
            },
            "text/plain": [
              "'Drought: 2004-01-01 - 2005-01-01'"
            ]
          },
          "metadata": {
            "tags": []
          }
        },
        {
          "output_type": "display_data",
          "data": {
            "application/vnd.google.colaboratory.intrinsic+json": {
              "type": "string"
            },
            "text/plain": [
              "'Flood: 2005-04-12 - 2005-05-07'"
            ]
          },
          "metadata": {
            "tags": []
          }
        },
        {
          "output_type": "display_data",
          "data": {
            "application/vnd.google.colaboratory.intrinsic+json": {
              "type": "string"
            },
            "text/plain": [
              "'Flood: 2005-09-15 - 2005-11-17'"
            ]
          },
          "metadata": {
            "tags": []
          }
        },
        {
          "output_type": "display_data",
          "data": {
            "application/vnd.google.colaboratory.intrinsic+json": {
              "type": "string"
            },
            "text/plain": [
              "'Flood: 2006-01-01 - 2006-04-27'"
            ]
          },
          "metadata": {
            "tags": []
          }
        },
        {
          "output_type": "display_data",
          "data": {
            "application/vnd.google.colaboratory.intrinsic+json": {
              "type": "string"
            },
            "text/plain": [
              "'Drought: 2006-01-01 - 2007-01-01'"
            ]
          },
          "metadata": {
            "tags": []
          }
        },
        {
          "output_type": "display_data",
          "data": {
            "application/vnd.google.colaboratory.intrinsic+json": {
              "type": "string"
            },
            "text/plain": [
              "'Flood: 2007-10-20 - 2007-10-26'"
            ]
          },
          "metadata": {
            "tags": []
          }
        },
        {
          "output_type": "display_data",
          "data": {
            "application/vnd.google.colaboratory.intrinsic+json": {
              "type": "string"
            },
            "text/plain": [
              "'Flood: 2008-01-01 - 2008-05-19'"
            ]
          },
          "metadata": {
            "tags": []
          }
        },
        {
          "output_type": "display_data",
          "data": {
            "application/vnd.google.colaboratory.intrinsic+json": {
              "type": "string"
            },
            "text/plain": [
              "'Flood: 2008-11-16 - 2009-01-12'"
            ]
          },
          "metadata": {
            "tags": []
          }
        },
        {
          "output_type": "display_data",
          "data": {
            "application/vnd.google.colaboratory.intrinsic+json": {
              "type": "string"
            },
            "text/plain": [
              "'Drought: 2009-01-01 - 2010-01-01'"
            ]
          },
          "metadata": {
            "tags": []
          }
        },
        {
          "output_type": "display_data",
          "data": {
            "application/vnd.google.colaboratory.intrinsic+json": {
              "type": "string"
            },
            "text/plain": [
              "'Wildfire: 2010-01-01 - 2010-04-06'"
            ]
          },
          "metadata": {
            "tags": []
          }
        },
        {
          "output_type": "display_data",
          "data": {
            "application/vnd.google.colaboratory.intrinsic+json": {
              "type": "string"
            },
            "text/plain": [
              "'Flood: 2010-10-30 - 2011-01-12'"
            ]
          },
          "metadata": {
            "tags": []
          }
        },
        {
          "output_type": "display_data",
          "data": {
            "application/vnd.google.colaboratory.intrinsic+json": {
              "type": "string"
            },
            "text/plain": [
              "'Flood: 2011-02-10 - 2011-06-05'"
            ]
          },
          "metadata": {
            "tags": []
          }
        },
        {
          "output_type": "display_data",
          "data": {
            "application/vnd.google.colaboratory.intrinsic+json": {
              "type": "string"
            },
            "text/plain": [
              "'Flood: 2011-09-01 - 2011-12-31'"
            ]
          },
          "metadata": {
            "tags": []
          }
        },
        {
          "output_type": "display_data",
          "data": {
            "application/vnd.google.colaboratory.intrinsic+json": {
              "type": "string"
            },
            "text/plain": [
              "'Flood: 2012-03-15 - 2012-05-14'"
            ]
          },
          "metadata": {
            "tags": []
          }
        },
        {
          "output_type": "display_data",
          "data": {
            "application/vnd.google.colaboratory.intrinsic+json": {
              "type": "string"
            },
            "text/plain": [
              "'Earthquake: 2013-02-09 - 2013-02-09'"
            ]
          },
          "metadata": {
            "tags": []
          }
        },
        {
          "output_type": "display_data",
          "data": {
            "application/vnd.google.colaboratory.intrinsic+json": {
              "type": "string"
            },
            "text/plain": [
              "'Flood: 2013-09-15 - 2013-12-01'"
            ]
          },
          "metadata": {
            "tags": []
          }
        },
        {
          "output_type": "display_data",
          "data": {
            "application/vnd.google.colaboratory.intrinsic+json": {
              "type": "string"
            },
            "text/plain": [
              "'Drought: 2015-08-01 - 2016-02-01'"
            ]
          },
          "metadata": {
            "tags": []
          }
        },
        {
          "output_type": "display_data",
          "data": {
            "application/vnd.google.colaboratory.intrinsic+json": {
              "type": "string"
            },
            "text/plain": [
              "'Storm: 2016-09-20 - 2016-09-23'"
            ]
          },
          "metadata": {
            "tags": []
          }
        },
        {
          "output_type": "display_data",
          "data": {
            "application/vnd.google.colaboratory.intrinsic+json": {
              "type": "string"
            },
            "text/plain": [
              "'Flood: 2017-03-17 - 2017-05-16'"
            ]
          },
          "metadata": {
            "tags": []
          }
        },
        {
          "output_type": "display_data",
          "data": {
            "application/vnd.google.colaboratory.intrinsic+json": {
              "type": "string"
            },
            "text/plain": [
              "'Flood: 2017-12-01 - 2018-01-07'"
            ]
          },
          "metadata": {
            "tags": []
          }
        },
        {
          "output_type": "display_data",
          "data": {
            "application/vnd.google.colaboratory.intrinsic+json": {
              "type": "string"
            },
            "text/plain": [
              "'Drought: 2018-01-01 - 2020-01-01'"
            ]
          },
          "metadata": {
            "tags": []
          }
        },
        {
          "output_type": "display_data",
          "data": {
            "application/vnd.google.colaboratory.intrinsic+json": {
              "type": "string"
            },
            "text/plain": [
              "'Flood: 2019-02-20 - 2019-02-26'"
            ]
          },
          "metadata": {
            "tags": []
          }
        },
        {
          "output_type": "display_data",
          "data": {
            "application/vnd.google.colaboratory.intrinsic+json": {
              "type": "string"
            },
            "text/plain": [
              "'Flood: 2020-06-10 - 2020-07-10'"
            ]
          },
          "metadata": {
            "tags": []
          }
        }
      ]
    }
  ]
}
